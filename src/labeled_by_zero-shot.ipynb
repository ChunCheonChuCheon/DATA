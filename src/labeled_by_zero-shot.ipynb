{
  "cells": [
    {
      "cell_type": "code",
      "execution_count": 3,
      "metadata": {
        "colab": {
          "base_uri": "https://localhost:8080/"
        },
        "id": "RmAHRn2W6xgJ",
        "outputId": "a4f00327-7f2c-4486-dabe-19d2afc1555d"
      },
      "outputs": [
        {
          "output_type": "stream",
          "name": "stdout",
          "text": [
            "Requirement already satisfied: transformers in /usr/local/lib/python3.10/dist-packages (4.35.2)\n",
            "Requirement already satisfied: filelock in /usr/local/lib/python3.10/dist-packages (from transformers) (3.13.1)\n",
            "Requirement already satisfied: huggingface-hub<1.0,>=0.16.4 in /usr/local/lib/python3.10/dist-packages (from transformers) (0.19.4)\n",
            "Requirement already satisfied: numpy>=1.17 in /usr/local/lib/python3.10/dist-packages (from transformers) (1.23.5)\n",
            "Requirement already satisfied: packaging>=20.0 in /usr/local/lib/python3.10/dist-packages (from transformers) (23.2)\n",
            "Requirement already satisfied: pyyaml>=5.1 in /usr/local/lib/python3.10/dist-packages (from transformers) (6.0.1)\n",
            "Requirement already satisfied: regex!=2019.12.17 in /usr/local/lib/python3.10/dist-packages (from transformers) (2023.6.3)\n",
            "Requirement already satisfied: requests in /usr/local/lib/python3.10/dist-packages (from transformers) (2.31.0)\n",
            "Requirement already satisfied: tokenizers<0.19,>=0.14 in /usr/local/lib/python3.10/dist-packages (from transformers) (0.15.0)\n",
            "Requirement already satisfied: safetensors>=0.3.1 in /usr/local/lib/python3.10/dist-packages (from transformers) (0.4.1)\n",
            "Requirement already satisfied: tqdm>=4.27 in /usr/local/lib/python3.10/dist-packages (from transformers) (4.66.1)\n",
            "Requirement already satisfied: fsspec>=2023.5.0 in /usr/local/lib/python3.10/dist-packages (from huggingface-hub<1.0,>=0.16.4->transformers) (2023.6.0)\n",
            "Requirement already satisfied: typing-extensions>=3.7.4.3 in /usr/local/lib/python3.10/dist-packages (from huggingface-hub<1.0,>=0.16.4->transformers) (4.5.0)\n",
            "Requirement already satisfied: charset-normalizer<4,>=2 in /usr/local/lib/python3.10/dist-packages (from requests->transformers) (3.3.2)\n",
            "Requirement already satisfied: idna<4,>=2.5 in /usr/local/lib/python3.10/dist-packages (from requests->transformers) (3.6)\n",
            "Requirement already satisfied: urllib3<3,>=1.21.1 in /usr/local/lib/python3.10/dist-packages (from requests->transformers) (2.0.7)\n",
            "Requirement already satisfied: certifi>=2017.4.17 in /usr/local/lib/python3.10/dist-packages (from requests->transformers) (2023.11.17)\n"
          ]
        }
      ],
      "source": [
        "# 필요한 라이브러리 설치\n",
        "!pip install transformers"
      ]
    },
    {
      "cell_type": "code",
      "execution_count": 4,
      "metadata": {
        "id": "AQpQieFc6y6G",
        "colab": {
          "base_uri": "https://localhost:8080/",
          "height": 209,
          "referenced_widgets": [
            "9b32927329c44adca592c0fa153a8b72",
            "83e4fad5db8141adb5bd0f5840139945",
            "5e88ff41b37742fc85719785d7245855",
            "1330c7d48778482ca931c2abeb7cb98f",
            "22d2529f854145d7b96db96bdb5ab6e7",
            "ea82796e5136413b9ec02f32f9ebcb40",
            "4a71ca1f582a41c689b9f5f22733b9f0",
            "87f7c0357ffa4d1088debc27b3e5b06d",
            "a1759f1036a54a34bef63ef7aee455a0",
            "e4e0c28d82d4409690127f7606d86250",
            "263c71e4d8cb4c8cb8c4aca80f239957",
            "26b0c89e9f814fd89a4c115725dcee3a",
            "ce3d75b813564816aebd6454023a47b4",
            "ba95ae46da5240c88330f3f60e3075b3",
            "95cadf6d099848008c00cc0c9195232e",
            "0d45896d0b654d37aa00dfe1e202b0ec",
            "4e63cace242e4a05b1357f91127a1fe5",
            "b09b9fe074324036b432e5c1c299cd3b",
            "c147466d4e3f45619d13b680d07d8cc9",
            "bc2607938bcc472dbd4838d8f487b554",
            "eb9f52cf4d854cc5ade6222ddf051c36",
            "64480997d4384c99aa51b3dab3700567",
            "a7e0a504be814262a5f184965c8d24c7",
            "1a6ed244906c43028307f22476ff4dc0",
            "24ef1fc10a0c4148ab7db8be5e7f95cf",
            "4b286d17c0a84bb99f97c32000fbdb4b",
            "871f260239174ff6a7458509dacccc9f",
            "cd5814f4bc5241e3b50a82a27da1c7ba",
            "908a65c5ccbc478a81ebae9b45d61435",
            "a850074b3c1b4922b094370e6b7a43ff",
            "d9ecb3d69fec48b8ace82d77b5f0b1b4",
            "2e38a1c5d99d48b88ad05444bfd49e94",
            "580881ff5e6c4e4185d2d92897c909a3",
            "458c95a38d074d28a80d31ee3c0700c0",
            "3a2bd2fbf8224e73a4668767f44e14f1",
            "fa08b69ea51c427cad818896df13a13e",
            "c87c05551c53463dba724b1a93665e9c",
            "aa18a003a7de4761ba434554b3db71ef",
            "cae9650d6f4c4152b84490b253bec469",
            "664ddb38d8964a26be0f6de092d00ca3",
            "ed945c27272540e28a190ceb20fc37a5",
            "e0d2e052f6db45ccbcb27208bc0153b6",
            "f02c0e35d853423bb33601e28417369f",
            "4fb7078f7c4248c991895876ef23844f",
            "11c00e6683f74e16b95fa6772b0a7b83",
            "ba4ea6abb4ef469483e1e968bc88612f",
            "986f12aa5e594db48555e41d9137388c",
            "998ff50bdc414e36a2b44df6b1faf808",
            "86e629fb44c2415995f534d825669ec0",
            "8a3bd061de4e4f3ba3404ce375738ecf",
            "25afc8ca3e014358939010e98d7250fc",
            "e5db38b475a4484abeb0b0f91b1132e6",
            "a60db52a6ed4445e849a85bbcd978dea",
            "ad7112b403d94a64bdc87fa5484ad415",
            "c118f470a8f2490a8172134ce8497d9f",
            "680cc4684bf14b8f99c91132003d1fa9",
            "7225caf2ebb142dc85d7bca2539d776f",
            "f697dfabe71c4d66bfc9af4838645510",
            "4a89f99a63164ba68590404b557342cf",
            "8c434478e8934eafb81c4138e2b9705d",
            "95925537f5014d53a1fc30a4dac74eda",
            "5ea3159474a14f7a95fcb5869266c52a",
            "bd14069a47a741809479790e8d246933",
            "ac6d881dac04453c8fb12edd34bb0bf2",
            "c146cde4d01444a0b2684f7ab8d64584",
            "d02727cd4755448aa4b0eb324a3af5a1"
          ]
        },
        "outputId": "a3f77d48-4ddb-4f12-d03c-2675a18e0bfa"
      },
      "outputs": [
        {
          "output_type": "display_data",
          "data": {
            "text/plain": [
              "config.json:   0%|          | 0.00/985 [00:00<?, ?B/s]"
            ],
            "application/vnd.jupyter.widget-view+json": {
              "version_major": 2,
              "version_minor": 0,
              "model_id": "9b32927329c44adca592c0fa153a8b72"
            }
          },
          "metadata": {}
        },
        {
          "output_type": "display_data",
          "data": {
            "text/plain": [
              "pytorch_model.bin:   0%|          | 0.00/443M [00:00<?, ?B/s]"
            ],
            "application/vnd.jupyter.widget-view+json": {
              "version_major": 2,
              "version_minor": 0,
              "model_id": "26b0c89e9f814fd89a4c115725dcee3a"
            }
          },
          "metadata": {}
        },
        {
          "output_type": "display_data",
          "data": {
            "text/plain": [
              "tokenizer_config.json:   0%|          | 0.00/415 [00:00<?, ?B/s]"
            ],
            "application/vnd.jupyter.widget-view+json": {
              "version_major": 2,
              "version_minor": 0,
              "model_id": "a7e0a504be814262a5f184965c8d24c7"
            }
          },
          "metadata": {}
        },
        {
          "output_type": "display_data",
          "data": {
            "text/plain": [
              "vocab.txt:   0%|          | 0.00/248k [00:00<?, ?B/s]"
            ],
            "application/vnd.jupyter.widget-view+json": {
              "version_major": 2,
              "version_minor": 0,
              "model_id": "458c95a38d074d28a80d31ee3c0700c0"
            }
          },
          "metadata": {}
        },
        {
          "output_type": "display_data",
          "data": {
            "text/plain": [
              "tokenizer.json:   0%|          | 0.00/752k [00:00<?, ?B/s]"
            ],
            "application/vnd.jupyter.widget-view+json": {
              "version_major": 2,
              "version_minor": 0,
              "model_id": "11c00e6683f74e16b95fa6772b0a7b83"
            }
          },
          "metadata": {}
        },
        {
          "output_type": "display_data",
          "data": {
            "text/plain": [
              "special_tokens_map.json:   0%|          | 0.00/173 [00:00<?, ?B/s]"
            ],
            "application/vnd.jupyter.widget-view+json": {
              "version_major": 2,
              "version_minor": 0,
              "model_id": "680cc4684bf14b8f99c91132003d1fa9"
            }
          },
          "metadata": {}
        }
      ],
      "source": [
        "# transformers 라이브러리에서 필요한 모듈 임포트\n",
        "from transformers import AutoModelForSequenceClassification, AutoTokenizer, pipeline\n",
        "\n",
        "# 모델과 토크나이저 로드\n",
        "model_name = \"pongjin/roberta_with_kornli\"\n",
        "model = AutoModelForSequenceClassification.from_pretrained(model_name)\n",
        "tokenizer = AutoTokenizer.from_pretrained(model_name)"
      ]
    },
    {
      "cell_type": "code",
      "execution_count": 5,
      "metadata": {
        "id": "0jEecIo_6t23"
      },
      "outputs": [],
      "source": [
        "# 파이프라인 생성\n",
        "nli_pipeline = pipeline(\"text-classification\", model=model, tokenizer=tokenizer)"
      ]
    },
    {
      "cell_type": "code",
      "execution_count": 6,
      "metadata": {
        "colab": {
          "base_uri": "https://localhost:8080/"
        },
        "id": "UKDPn-MV6_sD",
        "outputId": "924723a1-65a5-406b-b516-2f4a83bf83a5"
      },
      "outputs": [
        {
          "output_type": "stream",
          "name": "stdout",
          "text": [
            "[{'label': 'entailment', 'score': 0.9272531270980835}]\n"
          ]
        }
      ],
      "source": [
        "# 파이프라인 사용 예시\n",
        "text = \"여기가 정말 좋아요!\"\n",
        "result = nli_pipeline(text)\n",
        "print(result)"
      ]
    },
    {
      "cell_type": "code",
      "execution_count": 7,
      "metadata": {
        "id": "d78Gk1wE644w"
      },
      "outputs": [],
      "source": [
        "class ArgumentHandler():\n",
        "    \"\"\"\n",
        "    Base interface for handling arguments for each :class:`~transformers.pipelines.Pipeline`.\n",
        "    \"\"\"\n",
        "    def __call__(self, *args, **kwargs):\n",
        "        raise NotImplementedError()\n",
        "\n",
        "\n",
        "class CustomZeroShotClassificationArgumentHandler(ArgumentHandler):\n",
        "    \"\"\"\n",
        "    Handles arguments for zero-shot for text classification by turning each possible label into an NLI\n",
        "    premise/hypothesis pair.\n",
        "    \"\"\"\n",
        "\n",
        "    def _parse_labels(self, labels):\n",
        "        if isinstance(labels, str):\n",
        "            labels = [label.strip() for label in labels.split(\",\")]\n",
        "        return labels\n",
        "\n",
        "    def __call__(self, sequences, labels, hypothesis_template):\n",
        "        if len(labels) == 0 or len(sequences) == 0:\n",
        "            raise ValueError(\"You must include at least one label and at least one sequence.\")\n",
        "        if hypothesis_template.format(labels[0]) == hypothesis_template:\n",
        "            raise ValueError(\n",
        "                (\n",
        "                    'The provided hypothesis_template \"{}\" was not able to be formatted with the target labels. '\n",
        "                    \"Make sure the passed template includes formatting syntax such as {{}} where the label should go.\"\n",
        "                ).format(hypothesis_template)\n",
        "            )\n",
        "\n",
        "        if isinstance(sequences, str):\n",
        "            sequences = [sequences]\n",
        "        labels = self._parse_labels(labels)\n",
        "\n",
        "        sequence_pairs = []\n",
        "        for label in labels:\n",
        "            # 수정부: 두 문장을 페어로 입력했을 때, `token_type_ids`가 자동으로 붙는 문제를 방지하기 위해 미리 두 문장을 `sep_token` 기준으로 이어주도록 함\n",
        "            sequence_pairs.append(f\"{sequences} {tokenizer.sep_token} {hypothesis_template.format(label)}\")\n",
        "\n",
        "        return sequence_pairs, sequences\n"
      ]
    },
    {
      "cell_type": "code",
      "execution_count": 8,
      "metadata": {
        "id": "NfZLSlsP7GoG"
      },
      "outputs": [],
      "source": [
        "classifier = pipeline(\n",
        "    \"zero-shot-classification\",\n",
        "    args_parser=CustomZeroShotClassificationArgumentHandler(),\n",
        "    model=\"pongjin/roberta_with_kornli\"\n",
        ")\n"
      ]
    },
    {
      "cell_type": "code",
      "execution_count": 9,
      "metadata": {
        "colab": {
          "base_uri": "https://localhost:8080/"
        },
        "id": "KhabseGd7RB8",
        "outputId": "e2f24bf2-425d-41e8-c11c-2744ef9cd5e3"
      },
      "outputs": [
        {
          "output_type": "execute_result",
          "data": {
            "text/plain": [
              "{'sequence': '배당락 D-1 코스피, 2330선 상승세...외인·기관 사자',\n",
              " 'labels': ['주식', '금융', '경제', '외환', '환율', '부동산'],\n",
              " 'scores': [0.5052875876426697,\n",
              "  0.17972509562969208,\n",
              "  0.1385297030210495,\n",
              "  0.09460819512605667,\n",
              "  0.04294908419251442,\n",
              "  0.03890027105808258]}"
            ]
          },
          "metadata": {},
          "execution_count": 9
        }
      ],
      "source": [
        "sequence = \"배당락 D-1 코스피, 2330선 상승세...외인·기관 사자\"\n",
        "candidate_labels =[\"외환\",'환율', \"경제\", \"금융\", \"부동산\",\"주식\"]\n",
        "\n",
        "classifier(\n",
        "    sequence,\n",
        "    candidate_labels,\n",
        "    hypothesis_template='이는 {}에 관한 것이다.',\n",
        ")"
      ]
    },
    {
      "cell_type": "code",
      "execution_count": 10,
      "metadata": {
        "id": "gULtmpCT7Rlj",
        "scrolled": true
      },
      "outputs": [],
      "source": [
        "sequence = \"바질파스타 쉬림프알리오올리오\"\n",
        "candidate_labels = [\n",
        "    \"족발/보쌈\",'돈까스', \"회\", '백반', \"죽\", \"국수\",\n",
        "    \"버거\", \"분식\", \"국밥\", \"일식\", \"고기/구이\",\"피자\",\n",
        "    '치킨', \"찜/탕/찌개\", \"양식\", \"중식\", \"아시안\"\n",
        "    ]\n",
        "\n",
        "text = classifier(\n",
        "    sequence,\n",
        "    candidate_labels,\n",
        "    hypothesis_template='이는 {}에 관한 것이다.',\n",
        ")"
      ]
    },
    {
      "cell_type": "code",
      "execution_count": 11,
      "metadata": {
        "colab": {
          "base_uri": "https://localhost:8080/"
        },
        "id": "JRbVFjcRKd1h",
        "outputId": "f27a4c5f-2ac6-470f-add5-e5b5be126f3b"
      },
      "outputs": [
        {
          "output_type": "execute_result",
          "data": {
            "text/plain": [
              "<transformers.pipelines.zero_shot_classification.ZeroShotClassificationPipeline at 0x7a02cfc73340>"
            ]
          },
          "metadata": {},
          "execution_count": 11
        }
      ],
      "source": [
        "classifier"
      ]
    },
    {
      "cell_type": "code",
      "execution_count": 12,
      "metadata": {
        "id": "yioL7u49Kgxi"
      },
      "outputs": [],
      "source": [
        "def getLabel(dish_name) :\n",
        "    sequence = dish_name\n",
        "    candidate_labels = [\n",
        "        \"족발/보쌈\",'돈까스', \"회\", '백반', \"죽\", \"국수\",\n",
        "        \"버거\", \"분식\", \"국밥\", \"일식\", \"고기/구이\",\"피자\",\n",
        "        '치킨', \"찜/탕/찌개\", \"양식\", \"중식\", \"아시안\"\n",
        "        ]\n",
        "\n",
        "    text = classifier(\n",
        "        sequence,\n",
        "        candidate_labels,\n",
        "        hypothesis_template='이는 {}에 관한 것이다.',\n",
        "    )\n",
        "\n",
        "    return text['labels'][0]"
      ]
    },
    {
      "cell_type": "code",
      "execution_count": 13,
      "metadata": {
        "colab": {
          "base_uri": "https://localhost:8080/",
          "height": 35
        },
        "id": "8YNnTcmdM72z",
        "outputId": "d2420e04-f18c-49ae-c71e-267520afce84"
      },
      "outputs": [
        {
          "output_type": "execute_result",
          "data": {
            "text/plain": [
              "'피자'"
            ],
            "application/vnd.google.colaboratory.intrinsic+json": {
              "type": "string"
            }
          },
          "metadata": {},
          "execution_count": 13
        }
      ],
      "source": [
        "getLabel(\"피시프레시\")"
      ]
    },
    {
      "cell_type": "code",
      "source": [
        "# 테스트 끝 본 코드 시작"
      ],
      "metadata": {
        "id": "uQZDbrTlcZIt"
      },
      "execution_count": 14,
      "outputs": []
    },
    {
      "cell_type": "code",
      "source": [
        "import pandas as pd\n",
        "from tqdm import tqdm"
      ],
      "metadata": {
        "id": "tjiTNTKSdAI1"
      },
      "execution_count": 15,
      "outputs": []
    },
    {
      "cell_type": "code",
      "source": [
        "# CSV 파일 읽기\n",
        "df = pd.read_csv('/content/c4_general_cafeteria_chuncheon_opened_SS-HJ_addLatiLongti_menu-price_addedLabel_v2.csv', encoding='utf-8')\n",
        "\n",
        "labels = [] # 새로운 열을 저장할 리스트"
      ],
      "metadata": {
        "id": "Qe_DwuKVdA67"
      },
      "execution_count": 20,
      "outputs": []
    },
    {
      "cell_type": "code",
      "source": [
        "df"
      ],
      "metadata": {
        "colab": {
          "base_uri": "https://localhost:8080/",
          "height": 1000
        },
        "id": "yIpuurn6dF2Z",
        "outputId": "7cc8d29c-e145-49be-889a-6c577d082eeb"
      },
      "execution_count": 17,
      "outputs": [
        {
          "output_type": "execute_result",
          "data": {
            "text/plain": [
              "     index_cafeteria       인허가일자  영업상태구분코드                 소재지전체주소   Latitude  \\\n",
              "0               7502  2023-08-16         1  강원특별자치도 춘천시 석사동 654-19  37.859445   \n",
              "1               7519  2023-08-09         1   강원특별자치도 춘천시 석사동 885-3  37.852339   \n",
              "2               7523  2023-08-11         1  강원특별자치도 춘천시 효자동 590-48  37.869167   \n",
              "3               7524  2023-08-11         1   강원특별자치도 춘천시 효자동 652-3  37.875470   \n",
              "4               7526  2023-08-04         1  강원특별자치도 춘천시 효자동 305-46  37.864947   \n",
              "..               ...         ...       ...                     ...        ...   \n",
              "847            11264  2016-05-03         1  강원특별자치도 춘천시 효자동 618-10  37.874145   \n",
              "848            11266  2016-08-24         1   강원특별자치도 춘천시 석사동 888-5  37.851051   \n",
              "849            11271  2019-05-22         1     강원특별자치도 춘천시 효자동 547  37.871544   \n",
              "850            11278  2021-08-26         1     강원특별자치도 춘천시 효자동 693  37.868983   \n",
              "851            11282  2021-12-15         1   강원특별자치도 춘천시 효자동 223-1  37.862848   \n",
              "\n",
              "      Longitude cafeteria_name     업태구분명   시설총규모               최종수정시점  \\\n",
              "0    127.740166          백돈춘천점        기타   86.13  2023-08-16 14:35:53   \n",
              "1    127.745196          야미마라탕       중국식   96.00  2023-08-11 16:34:22   \n",
              "2    127.725577         곰소젓갈밥상        한식   87.84  2023-08-11 16:26:26   \n",
              "3    127.735500            호앤호        기타  112.00  2023-08-21 16:31:40   \n",
              "4    127.734955     넘버25호텔남춘천점        기타   53.04   2023-08-07 8:58:17   \n",
              "..          ...            ...       ...     ...                  ...   \n",
              "847  127.741954        돌다리야채곱창        기타   95.00  2022-01-20 17:34:08   \n",
              "848  127.745225         유명한맛돼지  식육(숯불구이)  142.55  2022-02-07 17:33:22   \n",
              "849  127.726458         남부옛날통닭     호프/통닭   21.46  2019-06-04 14:39:14   \n",
              "850  127.729208       순살만공격춘천점     호프/통닭   28.50  2022-01-20 11:43:44   \n",
              "851  127.739890   한방전주콩나물국밥효자점        한식  135.00  2022-01-20 17:45:28   \n",
              "\n",
              "         시/도  구/군  동/면    상세주소  \\\n",
              "0    강원특별자치도  춘천시  석사동  654-19   \n",
              "1    강원특별자치도  춘천시  석사동   885-3   \n",
              "2    강원특별자치도  춘천시  효자동  590-48   \n",
              "3    강원특별자치도  춘천시  효자동   652-3   \n",
              "4    강원특별자치도  춘천시  효자동  305-46   \n",
              "..       ...  ...  ...     ...   \n",
              "847  강원특별자치도  춘천시  효자동  618-10   \n",
              "848  강원특별자치도  춘천시  석사동   888-5   \n",
              "849  강원특별자치도  춘천시  효자동     547   \n",
              "850  강원특별자치도  춘천시  효자동     693   \n",
              "851  강원특별자치도  춘천시  효자동   223-1   \n",
              "\n",
              "                                          menu_name  \\\n",
              "0                                                []   \n",
              "1                         ['꿔바로우소', '새우볶음밥', '마라탕']   \n",
              "2                                                []   \n",
              "3                                                []   \n",
              "4                                                []   \n",
              "..                                              ...   \n",
              "847                    ['야채곱창', '흑미순대볶음', '흑미순대곱창']   \n",
              "848                         ['특목살', '생삼겹살', '가브리살']   \n",
              "849                                              []   \n",
              "850  ['닭다리 순살만 4가지맛 세트', '페퍼로니 피자&치킨 세트', '치파포 V5']   \n",
              "851                  ['콩나물국밥', '황태콩나물국밥', '콩나물비빔밥']   \n",
              "\n",
              "                                            menu_price                   label  \n",
              "0                                                   []                      []  \n",
              "1                                                   []  ['중식', '찜/탕/찌개', '중식']  \n",
              "2                                                   []                      []  \n",
              "3                                                   []                      []  \n",
              "4                                                   []                      []  \n",
              "..                                                 ...                     ...  \n",
              "847  ['10,000                            ', '12,000...   ['분식', '고기/구이', '분식']  \n",
              "848                                                 []    ['고기/구이', '양식', '회']  \n",
              "849                                                 []                      []  \n",
              "850                                                 []   ['고기/구이', '피자', '치킨']  \n",
              "851  ['5,500                            ', '7,500  ...      ['국밥', '국밥', '국밥']  \n",
              "\n",
              "[852 rows x 17 columns]"
            ],
            "text/html": [
              "\n",
              "  <div id=\"df-957d1997-b74f-48b0-8bd1-b079b8b538fe\" class=\"colab-df-container\">\n",
              "    <div>\n",
              "<style scoped>\n",
              "    .dataframe tbody tr th:only-of-type {\n",
              "        vertical-align: middle;\n",
              "    }\n",
              "\n",
              "    .dataframe tbody tr th {\n",
              "        vertical-align: top;\n",
              "    }\n",
              "\n",
              "    .dataframe thead th {\n",
              "        text-align: right;\n",
              "    }\n",
              "</style>\n",
              "<table border=\"1\" class=\"dataframe\">\n",
              "  <thead>\n",
              "    <tr style=\"text-align: right;\">\n",
              "      <th></th>\n",
              "      <th>index_cafeteria</th>\n",
              "      <th>인허가일자</th>\n",
              "      <th>영업상태구분코드</th>\n",
              "      <th>소재지전체주소</th>\n",
              "      <th>Latitude</th>\n",
              "      <th>Longitude</th>\n",
              "      <th>cafeteria_name</th>\n",
              "      <th>업태구분명</th>\n",
              "      <th>시설총규모</th>\n",
              "      <th>최종수정시점</th>\n",
              "      <th>시/도</th>\n",
              "      <th>구/군</th>\n",
              "      <th>동/면</th>\n",
              "      <th>상세주소</th>\n",
              "      <th>menu_name</th>\n",
              "      <th>menu_price</th>\n",
              "      <th>label</th>\n",
              "    </tr>\n",
              "  </thead>\n",
              "  <tbody>\n",
              "    <tr>\n",
              "      <th>0</th>\n",
              "      <td>7502</td>\n",
              "      <td>2023-08-16</td>\n",
              "      <td>1</td>\n",
              "      <td>강원특별자치도 춘천시 석사동 654-19</td>\n",
              "      <td>37.859445</td>\n",
              "      <td>127.740166</td>\n",
              "      <td>백돈춘천점</td>\n",
              "      <td>기타</td>\n",
              "      <td>86.13</td>\n",
              "      <td>2023-08-16 14:35:53</td>\n",
              "      <td>강원특별자치도</td>\n",
              "      <td>춘천시</td>\n",
              "      <td>석사동</td>\n",
              "      <td>654-19</td>\n",
              "      <td>[]</td>\n",
              "      <td>[]</td>\n",
              "      <td>[]</td>\n",
              "    </tr>\n",
              "    <tr>\n",
              "      <th>1</th>\n",
              "      <td>7519</td>\n",
              "      <td>2023-08-09</td>\n",
              "      <td>1</td>\n",
              "      <td>강원특별자치도 춘천시 석사동 885-3</td>\n",
              "      <td>37.852339</td>\n",
              "      <td>127.745196</td>\n",
              "      <td>야미마라탕</td>\n",
              "      <td>중국식</td>\n",
              "      <td>96.00</td>\n",
              "      <td>2023-08-11 16:34:22</td>\n",
              "      <td>강원특별자치도</td>\n",
              "      <td>춘천시</td>\n",
              "      <td>석사동</td>\n",
              "      <td>885-3</td>\n",
              "      <td>['꿔바로우소', '새우볶음밥', '마라탕']</td>\n",
              "      <td>[]</td>\n",
              "      <td>['중식', '찜/탕/찌개', '중식']</td>\n",
              "    </tr>\n",
              "    <tr>\n",
              "      <th>2</th>\n",
              "      <td>7523</td>\n",
              "      <td>2023-08-11</td>\n",
              "      <td>1</td>\n",
              "      <td>강원특별자치도 춘천시 효자동 590-48</td>\n",
              "      <td>37.869167</td>\n",
              "      <td>127.725577</td>\n",
              "      <td>곰소젓갈밥상</td>\n",
              "      <td>한식</td>\n",
              "      <td>87.84</td>\n",
              "      <td>2023-08-11 16:26:26</td>\n",
              "      <td>강원특별자치도</td>\n",
              "      <td>춘천시</td>\n",
              "      <td>효자동</td>\n",
              "      <td>590-48</td>\n",
              "      <td>[]</td>\n",
              "      <td>[]</td>\n",
              "      <td>[]</td>\n",
              "    </tr>\n",
              "    <tr>\n",
              "      <th>3</th>\n",
              "      <td>7524</td>\n",
              "      <td>2023-08-11</td>\n",
              "      <td>1</td>\n",
              "      <td>강원특별자치도 춘천시 효자동 652-3</td>\n",
              "      <td>37.875470</td>\n",
              "      <td>127.735500</td>\n",
              "      <td>호앤호</td>\n",
              "      <td>기타</td>\n",
              "      <td>112.00</td>\n",
              "      <td>2023-08-21 16:31:40</td>\n",
              "      <td>강원특별자치도</td>\n",
              "      <td>춘천시</td>\n",
              "      <td>효자동</td>\n",
              "      <td>652-3</td>\n",
              "      <td>[]</td>\n",
              "      <td>[]</td>\n",
              "      <td>[]</td>\n",
              "    </tr>\n",
              "    <tr>\n",
              "      <th>4</th>\n",
              "      <td>7526</td>\n",
              "      <td>2023-08-04</td>\n",
              "      <td>1</td>\n",
              "      <td>강원특별자치도 춘천시 효자동 305-46</td>\n",
              "      <td>37.864947</td>\n",
              "      <td>127.734955</td>\n",
              "      <td>넘버25호텔남춘천점</td>\n",
              "      <td>기타</td>\n",
              "      <td>53.04</td>\n",
              "      <td>2023-08-07 8:58:17</td>\n",
              "      <td>강원특별자치도</td>\n",
              "      <td>춘천시</td>\n",
              "      <td>효자동</td>\n",
              "      <td>305-46</td>\n",
              "      <td>[]</td>\n",
              "      <td>[]</td>\n",
              "      <td>[]</td>\n",
              "    </tr>\n",
              "    <tr>\n",
              "      <th>...</th>\n",
              "      <td>...</td>\n",
              "      <td>...</td>\n",
              "      <td>...</td>\n",
              "      <td>...</td>\n",
              "      <td>...</td>\n",
              "      <td>...</td>\n",
              "      <td>...</td>\n",
              "      <td>...</td>\n",
              "      <td>...</td>\n",
              "      <td>...</td>\n",
              "      <td>...</td>\n",
              "      <td>...</td>\n",
              "      <td>...</td>\n",
              "      <td>...</td>\n",
              "      <td>...</td>\n",
              "      <td>...</td>\n",
              "      <td>...</td>\n",
              "    </tr>\n",
              "    <tr>\n",
              "      <th>847</th>\n",
              "      <td>11264</td>\n",
              "      <td>2016-05-03</td>\n",
              "      <td>1</td>\n",
              "      <td>강원특별자치도 춘천시 효자동 618-10</td>\n",
              "      <td>37.874145</td>\n",
              "      <td>127.741954</td>\n",
              "      <td>돌다리야채곱창</td>\n",
              "      <td>기타</td>\n",
              "      <td>95.00</td>\n",
              "      <td>2022-01-20 17:34:08</td>\n",
              "      <td>강원특별자치도</td>\n",
              "      <td>춘천시</td>\n",
              "      <td>효자동</td>\n",
              "      <td>618-10</td>\n",
              "      <td>['야채곱창', '흑미순대볶음', '흑미순대곱창']</td>\n",
              "      <td>['10,000                            ', '12,000...</td>\n",
              "      <td>['분식', '고기/구이', '분식']</td>\n",
              "    </tr>\n",
              "    <tr>\n",
              "      <th>848</th>\n",
              "      <td>11266</td>\n",
              "      <td>2016-08-24</td>\n",
              "      <td>1</td>\n",
              "      <td>강원특별자치도 춘천시 석사동 888-5</td>\n",
              "      <td>37.851051</td>\n",
              "      <td>127.745225</td>\n",
              "      <td>유명한맛돼지</td>\n",
              "      <td>식육(숯불구이)</td>\n",
              "      <td>142.55</td>\n",
              "      <td>2022-02-07 17:33:22</td>\n",
              "      <td>강원특별자치도</td>\n",
              "      <td>춘천시</td>\n",
              "      <td>석사동</td>\n",
              "      <td>888-5</td>\n",
              "      <td>['특목살', '생삼겹살', '가브리살']</td>\n",
              "      <td>[]</td>\n",
              "      <td>['고기/구이', '양식', '회']</td>\n",
              "    </tr>\n",
              "    <tr>\n",
              "      <th>849</th>\n",
              "      <td>11271</td>\n",
              "      <td>2019-05-22</td>\n",
              "      <td>1</td>\n",
              "      <td>강원특별자치도 춘천시 효자동 547</td>\n",
              "      <td>37.871544</td>\n",
              "      <td>127.726458</td>\n",
              "      <td>남부옛날통닭</td>\n",
              "      <td>호프/통닭</td>\n",
              "      <td>21.46</td>\n",
              "      <td>2019-06-04 14:39:14</td>\n",
              "      <td>강원특별자치도</td>\n",
              "      <td>춘천시</td>\n",
              "      <td>효자동</td>\n",
              "      <td>547</td>\n",
              "      <td>[]</td>\n",
              "      <td>[]</td>\n",
              "      <td>[]</td>\n",
              "    </tr>\n",
              "    <tr>\n",
              "      <th>850</th>\n",
              "      <td>11278</td>\n",
              "      <td>2021-08-26</td>\n",
              "      <td>1</td>\n",
              "      <td>강원특별자치도 춘천시 효자동 693</td>\n",
              "      <td>37.868983</td>\n",
              "      <td>127.729208</td>\n",
              "      <td>순살만공격춘천점</td>\n",
              "      <td>호프/통닭</td>\n",
              "      <td>28.50</td>\n",
              "      <td>2022-01-20 11:43:44</td>\n",
              "      <td>강원특별자치도</td>\n",
              "      <td>춘천시</td>\n",
              "      <td>효자동</td>\n",
              "      <td>693</td>\n",
              "      <td>['닭다리 순살만 4가지맛 세트', '페퍼로니 피자&amp;치킨 세트', '치파포 V5']</td>\n",
              "      <td>[]</td>\n",
              "      <td>['고기/구이', '피자', '치킨']</td>\n",
              "    </tr>\n",
              "    <tr>\n",
              "      <th>851</th>\n",
              "      <td>11282</td>\n",
              "      <td>2021-12-15</td>\n",
              "      <td>1</td>\n",
              "      <td>강원특별자치도 춘천시 효자동 223-1</td>\n",
              "      <td>37.862848</td>\n",
              "      <td>127.739890</td>\n",
              "      <td>한방전주콩나물국밥효자점</td>\n",
              "      <td>한식</td>\n",
              "      <td>135.00</td>\n",
              "      <td>2022-01-20 17:45:28</td>\n",
              "      <td>강원특별자치도</td>\n",
              "      <td>춘천시</td>\n",
              "      <td>효자동</td>\n",
              "      <td>223-1</td>\n",
              "      <td>['콩나물국밥', '황태콩나물국밥', '콩나물비빔밥']</td>\n",
              "      <td>['5,500                            ', '7,500  ...</td>\n",
              "      <td>['국밥', '국밥', '국밥']</td>\n",
              "    </tr>\n",
              "  </tbody>\n",
              "</table>\n",
              "<p>852 rows × 17 columns</p>\n",
              "</div>\n",
              "    <div class=\"colab-df-buttons\">\n",
              "\n",
              "  <div class=\"colab-df-container\">\n",
              "    <button class=\"colab-df-convert\" onclick=\"convertToInteractive('df-957d1997-b74f-48b0-8bd1-b079b8b538fe')\"\n",
              "            title=\"Convert this dataframe to an interactive table.\"\n",
              "            style=\"display:none;\">\n",
              "\n",
              "  <svg xmlns=\"http://www.w3.org/2000/svg\" height=\"24px\" viewBox=\"0 -960 960 960\">\n",
              "    <path d=\"M120-120v-720h720v720H120Zm60-500h600v-160H180v160Zm220 220h160v-160H400v160Zm0 220h160v-160H400v160ZM180-400h160v-160H180v160Zm440 0h160v-160H620v160ZM180-180h160v-160H180v160Zm440 0h160v-160H620v160Z\"/>\n",
              "  </svg>\n",
              "    </button>\n",
              "\n",
              "  <style>\n",
              "    .colab-df-container {\n",
              "      display:flex;\n",
              "      gap: 12px;\n",
              "    }\n",
              "\n",
              "    .colab-df-convert {\n",
              "      background-color: #E8F0FE;\n",
              "      border: none;\n",
              "      border-radius: 50%;\n",
              "      cursor: pointer;\n",
              "      display: none;\n",
              "      fill: #1967D2;\n",
              "      height: 32px;\n",
              "      padding: 0 0 0 0;\n",
              "      width: 32px;\n",
              "    }\n",
              "\n",
              "    .colab-df-convert:hover {\n",
              "      background-color: #E2EBFA;\n",
              "      box-shadow: 0px 1px 2px rgba(60, 64, 67, 0.3), 0px 1px 3px 1px rgba(60, 64, 67, 0.15);\n",
              "      fill: #174EA6;\n",
              "    }\n",
              "\n",
              "    .colab-df-buttons div {\n",
              "      margin-bottom: 4px;\n",
              "    }\n",
              "\n",
              "    [theme=dark] .colab-df-convert {\n",
              "      background-color: #3B4455;\n",
              "      fill: #D2E3FC;\n",
              "    }\n",
              "\n",
              "    [theme=dark] .colab-df-convert:hover {\n",
              "      background-color: #434B5C;\n",
              "      box-shadow: 0px 1px 3px 1px rgba(0, 0, 0, 0.15);\n",
              "      filter: drop-shadow(0px 1px 2px rgba(0, 0, 0, 0.3));\n",
              "      fill: #FFFFFF;\n",
              "    }\n",
              "  </style>\n",
              "\n",
              "    <script>\n",
              "      const buttonEl =\n",
              "        document.querySelector('#df-957d1997-b74f-48b0-8bd1-b079b8b538fe button.colab-df-convert');\n",
              "      buttonEl.style.display =\n",
              "        google.colab.kernel.accessAllowed ? 'block' : 'none';\n",
              "\n",
              "      async function convertToInteractive(key) {\n",
              "        const element = document.querySelector('#df-957d1997-b74f-48b0-8bd1-b079b8b538fe');\n",
              "        const dataTable =\n",
              "          await google.colab.kernel.invokeFunction('convertToInteractive',\n",
              "                                                    [key], {});\n",
              "        if (!dataTable) return;\n",
              "\n",
              "        const docLinkHtml = 'Like what you see? Visit the ' +\n",
              "          '<a target=\"_blank\" href=https://colab.research.google.com/notebooks/data_table.ipynb>data table notebook</a>'\n",
              "          + ' to learn more about interactive tables.';\n",
              "        element.innerHTML = '';\n",
              "        dataTable['output_type'] = 'display_data';\n",
              "        await google.colab.output.renderOutput(dataTable, element);\n",
              "        const docLink = document.createElement('div');\n",
              "        docLink.innerHTML = docLinkHtml;\n",
              "        element.appendChild(docLink);\n",
              "      }\n",
              "    </script>\n",
              "  </div>\n",
              "\n",
              "\n",
              "<div id=\"df-070756ac-b8b1-450d-85f7-25ef5b0ea9fd\">\n",
              "  <button class=\"colab-df-quickchart\" onclick=\"quickchart('df-070756ac-b8b1-450d-85f7-25ef5b0ea9fd')\"\n",
              "            title=\"Suggest charts\"\n",
              "            style=\"display:none;\">\n",
              "\n",
              "<svg xmlns=\"http://www.w3.org/2000/svg\" height=\"24px\"viewBox=\"0 0 24 24\"\n",
              "     width=\"24px\">\n",
              "    <g>\n",
              "        <path d=\"M19 3H5c-1.1 0-2 .9-2 2v14c0 1.1.9 2 2 2h14c1.1 0 2-.9 2-2V5c0-1.1-.9-2-2-2zM9 17H7v-7h2v7zm4 0h-2V7h2v10zm4 0h-2v-4h2v4z\"/>\n",
              "    </g>\n",
              "</svg>\n",
              "  </button>\n",
              "\n",
              "<style>\n",
              "  .colab-df-quickchart {\n",
              "      --bg-color: #E8F0FE;\n",
              "      --fill-color: #1967D2;\n",
              "      --hover-bg-color: #E2EBFA;\n",
              "      --hover-fill-color: #174EA6;\n",
              "      --disabled-fill-color: #AAA;\n",
              "      --disabled-bg-color: #DDD;\n",
              "  }\n",
              "\n",
              "  [theme=dark] .colab-df-quickchart {\n",
              "      --bg-color: #3B4455;\n",
              "      --fill-color: #D2E3FC;\n",
              "      --hover-bg-color: #434B5C;\n",
              "      --hover-fill-color: #FFFFFF;\n",
              "      --disabled-bg-color: #3B4455;\n",
              "      --disabled-fill-color: #666;\n",
              "  }\n",
              "\n",
              "  .colab-df-quickchart {\n",
              "    background-color: var(--bg-color);\n",
              "    border: none;\n",
              "    border-radius: 50%;\n",
              "    cursor: pointer;\n",
              "    display: none;\n",
              "    fill: var(--fill-color);\n",
              "    height: 32px;\n",
              "    padding: 0;\n",
              "    width: 32px;\n",
              "  }\n",
              "\n",
              "  .colab-df-quickchart:hover {\n",
              "    background-color: var(--hover-bg-color);\n",
              "    box-shadow: 0 1px 2px rgba(60, 64, 67, 0.3), 0 1px 3px 1px rgba(60, 64, 67, 0.15);\n",
              "    fill: var(--button-hover-fill-color);\n",
              "  }\n",
              "\n",
              "  .colab-df-quickchart-complete:disabled,\n",
              "  .colab-df-quickchart-complete:disabled:hover {\n",
              "    background-color: var(--disabled-bg-color);\n",
              "    fill: var(--disabled-fill-color);\n",
              "    box-shadow: none;\n",
              "  }\n",
              "\n",
              "  .colab-df-spinner {\n",
              "    border: 2px solid var(--fill-color);\n",
              "    border-color: transparent;\n",
              "    border-bottom-color: var(--fill-color);\n",
              "    animation:\n",
              "      spin 1s steps(1) infinite;\n",
              "  }\n",
              "\n",
              "  @keyframes spin {\n",
              "    0% {\n",
              "      border-color: transparent;\n",
              "      border-bottom-color: var(--fill-color);\n",
              "      border-left-color: var(--fill-color);\n",
              "    }\n",
              "    20% {\n",
              "      border-color: transparent;\n",
              "      border-left-color: var(--fill-color);\n",
              "      border-top-color: var(--fill-color);\n",
              "    }\n",
              "    30% {\n",
              "      border-color: transparent;\n",
              "      border-left-color: var(--fill-color);\n",
              "      border-top-color: var(--fill-color);\n",
              "      border-right-color: var(--fill-color);\n",
              "    }\n",
              "    40% {\n",
              "      border-color: transparent;\n",
              "      border-right-color: var(--fill-color);\n",
              "      border-top-color: var(--fill-color);\n",
              "    }\n",
              "    60% {\n",
              "      border-color: transparent;\n",
              "      border-right-color: var(--fill-color);\n",
              "    }\n",
              "    80% {\n",
              "      border-color: transparent;\n",
              "      border-right-color: var(--fill-color);\n",
              "      border-bottom-color: var(--fill-color);\n",
              "    }\n",
              "    90% {\n",
              "      border-color: transparent;\n",
              "      border-bottom-color: var(--fill-color);\n",
              "    }\n",
              "  }\n",
              "</style>\n",
              "\n",
              "  <script>\n",
              "    async function quickchart(key) {\n",
              "      const quickchartButtonEl =\n",
              "        document.querySelector('#' + key + ' button');\n",
              "      quickchartButtonEl.disabled = true;  // To prevent multiple clicks.\n",
              "      quickchartButtonEl.classList.add('colab-df-spinner');\n",
              "      try {\n",
              "        const charts = await google.colab.kernel.invokeFunction(\n",
              "            'suggestCharts', [key], {});\n",
              "      } catch (error) {\n",
              "        console.error('Error during call to suggestCharts:', error);\n",
              "      }\n",
              "      quickchartButtonEl.classList.remove('colab-df-spinner');\n",
              "      quickchartButtonEl.classList.add('colab-df-quickchart-complete');\n",
              "    }\n",
              "    (() => {\n",
              "      let quickchartButtonEl =\n",
              "        document.querySelector('#df-070756ac-b8b1-450d-85f7-25ef5b0ea9fd button');\n",
              "      quickchartButtonEl.style.display =\n",
              "        google.colab.kernel.accessAllowed ? 'block' : 'none';\n",
              "    })();\n",
              "  </script>\n",
              "</div>\n",
              "    </div>\n",
              "  </div>\n"
            ]
          },
          "metadata": {},
          "execution_count": 17
        }
      ]
    },
    {
      "cell_type": "code",
      "source": [
        "# 테스트\n",
        "i = 1\n",
        "text = df['menu_name'][i]+\" \"+df['업태구분명'][i]+\" \"+df['cafeteria_name'][i]\n",
        "print(\"input_text : \", text)\n",
        "label = getLabel(text)\n",
        "print(\"output_result : \", label)"
      ],
      "metadata": {
        "colab": {
          "base_uri": "https://localhost:8080/"
        },
        "id": "oOWpEK1sdLxC",
        "outputId": "8630560c-7f95-4a73-a417-8d7098520bb5"
      },
      "execution_count": 18,
      "outputs": [
        {
          "output_type": "stream",
          "name": "stdout",
          "text": [
            "input_text :  ['꿔바로우소', '새우볶음밥', '마라탕'] 중국식 야미마라탕\n",
            "output_result :  찜/탕/찌개\n"
          ]
        }
      ]
    },
    {
      "cell_type": "code",
      "execution_count": 21,
      "metadata": {
        "colab": {
          "base_uri": "https://localhost:8080/"
        },
        "id": "npwWnj_0M720",
        "outputId": "ce4db5b2-041d-4f2c-b340-9acc15595a15"
      },
      "outputs": [
        {
          "metadata": {
            "tags": null
          },
          "name": "stderr",
          "output_type": "stream",
          "text": [
            "  0%|          | 1/852 [00:02<35:35,  2.51s/it]"
          ]
        },
        {
          "metadata": {
            "tags": null
          },
          "name": "stdout",
          "output_type": "stream",
          "text": [
            "\n",
            "input_text :  [] 기타 백돈춘천점\n",
            "output_result :  백반\n"
          ]
        },
        {
          "metadata": {
            "tags": null
          },
          "name": "stderr",
          "output_type": "stream",
          "text": [
            "\r  0%|          | 2/852 [00:05<43:16,  3.05s/it]"
          ]
        },
        {
          "metadata": {
            "tags": null
          },
          "name": "stdout",
          "output_type": "stream",
          "text": [
            "\n",
            "input_text :  ['꿔바로우소', '새우볶음밥', '마라탕'] 중국식 야미마라탕\n",
            "output_result :  찜/탕/찌개\n"
          ]
        },
        {
          "metadata": {
            "tags": null
          },
          "name": "stderr",
          "output_type": "stream",
          "text": [
            "\r  0%|          | 3/852 [00:09<44:01,  3.11s/it]"
          ]
        },
        {
          "metadata": {
            "tags": null
          },
          "name": "stdout",
          "output_type": "stream",
          "text": [
            "\n",
            "input_text :  [] 한식 곰소젓갈밥상\n",
            "output_result :  분식\n"
          ]
        },
        {
          "metadata": {
            "tags": null
          },
          "name": "stderr",
          "output_type": "stream",
          "text": [
            "\r  0%|          | 4/852 [00:12<44:47,  3.17s/it]"
          ]
        },
        {
          "metadata": {
            "tags": null
          },
          "name": "stdout",
          "output_type": "stream",
          "text": [
            "\n",
            "input_text :  [] 기타 호앤호\n",
            "output_result :  회\n"
          ]
        },
        {
          "metadata": {
            "tags": null
          },
          "name": "stderr",
          "output_type": "stream",
          "text": [
            "\r  1%|          | 5/852 [00:14<41:54,  2.97s/it]"
          ]
        },
        {
          "metadata": {
            "tags": null
          },
          "name": "stdout",
          "output_type": "stream",
          "text": [
            "\n",
            "input_text :  [] 기타 넘버25호텔남춘천점\n",
            "output_result :  중식\n"
          ]
        },
        {
          "metadata": {
            "tags": null
          },
          "name": "stderr",
          "output_type": "stream",
          "text": [
            "\r  1%|          | 6/852 [00:18<43:41,  3.10s/it]"
          ]
        },
        {
          "metadata": {
            "tags": null
          },
          "name": "stdout",
          "output_type": "stream",
          "text": [
            "\n",
            "input_text :  ['물회', '회덮밥', '노르웨이 자반1손'] 기타 피시프레시\n",
            "output_result :  양식\n"
          ]
        },
        {
          "metadata": {
            "tags": null
          },
          "name": "stderr",
          "output_type": "stream",
          "text": [
            "\r  1%|          | 7/852 [00:20<40:30,  2.88s/it]"
          ]
        },
        {
          "metadata": {
            "tags": null
          },
          "name": "stdout",
          "output_type": "stream",
          "text": [
            "\n",
            "input_text :  [] 한식 못생긴핫도그\n",
            "output_result :  양식\n"
          ]
        },
        {
          "metadata": {
            "tags": null
          },
          "name": "stderr",
          "output_type": "stream",
          "text": [
            "\r  1%|          | 8/852 [00:25<50:24,  3.58s/it]"
          ]
        },
        {
          "metadata": {
            "tags": null
          },
          "name": "stdout",
          "output_type": "stream",
          "text": [
            "\n",
            "input_text :  ['먹태', '감자튀김', '간사이오뎅탕'] 한식 베러인타임(better in time)\n",
            "output_result :  찜/탕/찌개\n"
          ]
        },
        {
          "metadata": {
            "tags": null
          },
          "name": "stderr",
          "output_type": "stream",
          "text": [
            "\r  1%|          | 9/852 [00:31<57:38,  4.10s/it]"
          ]
        },
        {
          "metadata": {
            "tags": null
          },
          "name": "stdout",
          "output_type": "stream",
          "text": [
            "\n",
            "input_text :  ['숯불돼지갈비', '쌈싸먹는 김치찌개(찜)', '고기주는 냉면(물,비빔)'] 식육(숯불구이) 명륜진사갈비춘천효자점\n",
            "output_result :  고기/구이\n"
          ]
        },
        {
          "metadata": {
            "tags": null
          },
          "name": "stderr",
          "output_type": "stream",
          "text": [
            "\r  1%|          | 10/852 [00:33<51:12,  3.65s/it]"
          ]
        },
        {
          "metadata": {
            "tags": null
          },
          "name": "stdout",
          "output_type": "stream",
          "text": [
            "\n",
            "input_text :  [] 기타 왕가탕후루 강원대점\n",
            "output_result :  찜/탕/찌개\n"
          ]
        },
        {
          "metadata": {
            "tags": null
          },
          "name": "stderr",
          "output_type": "stream",
          "text": [
            "\r  1%|▏         | 11/852 [00:37<53:08,  3.79s/it]"
          ]
        },
        {
          "metadata": {
            "tags": null
          },
          "name": "stdout",
          "output_type": "stream",
          "text": [
            "\n",
            "input_text :  ['세이몬드크림라떼', '레몬파운드', '플레인스콘'] 기타 세이(Say)\n",
            "output_result :  회\n"
          ]
        },
        {
          "metadata": {
            "tags": null
          },
          "name": "stderr",
          "output_type": "stream",
          "text": [
            "\r  1%|▏         | 12/852 [00:41<51:25,  3.67s/it]"
          ]
        },
        {
          "metadata": {
            "tags": null
          },
          "name": "stdout",
          "output_type": "stream",
          "text": [
            "\n",
            "input_text :  [] 기타 젤리통통\n",
            "output_result :  양식\n"
          ]
        },
        {
          "metadata": {
            "tags": null
          },
          "name": "stderr",
          "output_type": "stream",
          "text": [
            "\r  2%|▏         | 13/852 [00:44<49:36,  3.55s/it]"
          ]
        },
        {
          "metadata": {
            "tags": null
          },
          "name": "stdout",
          "output_type": "stream",
          "text": [
            "\n",
            "input_text :  ['쥐포', '한입노가리', '바베큐 오징어구이'] 기타 무지개맥주\n",
            "output_result :  고기/구이\n"
          ]
        },
        {
          "metadata": {
            "tags": null
          },
          "name": "stderr",
          "output_type": "stream",
          "text": [
            "\r  2%|▏         | 14/852 [00:47<49:02,  3.51s/it]"
          ]
        },
        {
          "metadata": {
            "tags": null
          },
          "name": "stdout",
          "output_type": "stream",
          "text": [
            "\n",
            "input_text :  ['석화', '바질파스타', '쉬림프알리오올리오'] 기타 피콜로\n",
            "output_result :  피자\n"
          ]
        },
        {
          "metadata": {
            "tags": null
          },
          "name": "stderr",
          "output_type": "stream",
          "text": [
            "\r  2%|▏         | 15/852 [00:50<44:48,  3.21s/it]"
          ]
        },
        {
          "metadata": {
            "tags": null
          },
          "name": "stdout",
          "output_type": "stream",
          "text": [
            "\n",
            "input_text :  [] 기타 미사옥춘천엔타\n",
            "output_result :  중식\n"
          ]
        },
        {
          "metadata": {
            "tags": null
          },
          "name": "stderr",
          "output_type": "stream",
          "text": [
            "\r  2%|▏         | 16/852 [00:56<57:01,  4.09s/it]"
          ]
        },
        {
          "metadata": {
            "tags": null
          },
          "name": "stdout",
          "output_type": "stream",
          "text": [
            "\n",
            "input_text :  ['반반치킨', '후라이드', '마늘범벅치킨'] 찌웅이네숯불두마리치킨춘천점 찌웅이네숯불두마리치킨춘천점\n",
            "output_result :  고기/구이\n"
          ]
        },
        {
          "metadata": {
            "tags": null
          },
          "name": "stderr",
          "output_type": "stream",
          "text": [
            "\r  2%|▏         | 17/852 [00:59<50:25,  3.62s/it]"
          ]
        },
        {
          "metadata": {
            "tags": null
          },
          "name": "stdout",
          "output_type": "stream",
          "text": [
            "\n",
            "input_text :  [] 호프/통닭 왕천파닭\n",
            "output_result :  치킨\n"
          ]
        },
        {
          "metadata": {
            "tags": null
          },
          "name": "stderr",
          "output_type": "stream",
          "text": [
            "\r  2%|▏         | 18/852 [01:02<50:13,  3.61s/it]"
          ]
        },
        {
          "metadata": {
            "tags": null
          },
          "name": "stdout",
          "output_type": "stream",
          "text": [
            "\n",
            "input_text :  ['뼈닭발구이', '뼈없는닭발구이', '국물닭발'] 한식 신닭발\n",
            "output_result :  고기/구이\n"
          ]
        },
        {
          "metadata": {
            "tags": null
          },
          "name": "stderr",
          "output_type": "stream",
          "text": [
            "\r  2%|▏         | 19/852 [01:05<45:18,  3.26s/it]"
          ]
        },
        {
          "metadata": {
            "tags": null
          },
          "name": "stdout",
          "output_type": "stream",
          "text": [
            "\n",
            "input_text :  [] 한식 온'S푸드\n",
            "output_result :  양식\n"
          ]
        },
        {
          "metadata": {
            "tags": null
          },
          "name": "stderr",
          "output_type": "stream",
          "text": [
            "\r  2%|▏         | 20/852 [01:09<50:43,  3.66s/it]"
          ]
        },
        {
          "metadata": {
            "tags": null
          },
          "name": "stdout",
          "output_type": "stream",
          "text": [
            "\n",
            "input_text :  ['부대찌개', '제육볶음', '떡만둣국'] 한식 오공부대찌개\n",
            "output_result :  찜/탕/찌개\n"
          ]
        },
        {
          "metadata": {
            "tags": null
          },
          "name": "stderr",
          "output_type": "stream",
          "text": [
            "\r  2%|▏         | 21/852 [01:13<49:18,  3.56s/it]"
          ]
        },
        {
          "metadata": {
            "tags": null
          },
          "name": "stdout",
          "output_type": "stream",
          "text": [
            "\n",
            "input_text :  [] 분식 김밥나라애막골점\n",
            "output_result :  양식\n"
          ]
        },
        {
          "metadata": {
            "tags": null
          },
          "name": "stderr",
          "output_type": "stream",
          "text": [
            "\r  3%|▎         | 22/852 [01:17<51:22,  3.71s/it]"
          ]
        },
        {
          "metadata": {
            "tags": null
          },
          "name": "stdout",
          "output_type": "stream",
          "text": [
            "\n",
            "input_text :  ['규돈', '부타돈', '신기돈'] 기타 리네\n",
            "output_result :  고기/구이\n"
          ]
        },
        {
          "metadata": {
            "tags": null
          },
          "name": "stderr",
          "output_type": "stream",
          "text": [
            "\r  3%|▎         | 23/852 [01:21<54:03,  3.91s/it]"
          ]
        },
        {
          "metadata": {
            "tags": null
          },
          "name": "stdout",
          "output_type": "stream",
          "text": [
            "\n",
            "input_text :  ['제육쌈밥 정식', '자반 고등어 구이', '제육백반'] 식육(숯불구이) 한아름밥상\n",
            "output_result :  고기/구이\n"
          ]
        },
        {
          "metadata": {
            "tags": null
          },
          "name": "stderr",
          "output_type": "stream",
          "text": [
            "\r  3%|▎         | 24/852 [01:26<56:42,  4.11s/it]"
          ]
        },
        {
          "metadata": {
            "tags": null
          },
          "name": "stdout",
          "output_type": "stream",
          "text": [
            "\n",
            "input_text :  ['에스프레소', '아메리카노', '더치커피'] 기타 60주년기념관카페마운틴\n",
            "output_result :  양식\n"
          ]
        },
        {
          "metadata": {
            "tags": null
          },
          "name": "stderr",
          "output_type": "stream",
          "text": [
            "\r  3%|▎         | 25/852 [01:28<49:32,  3.59s/it]"
          ]
        },
        {
          "metadata": {
            "tags": null
          },
          "name": "stdout",
          "output_type": "stream",
          "text": [
            "\n",
            "input_text :  [] 호프/통닭 메이\n",
            "output_result :  치킨\n"
          ]
        },
        {
          "metadata": {
            "tags": null
          },
          "name": "stderr",
          "output_type": "stream",
          "text": [
            "\r  3%|▎         | 26/852 [01:32<51:17,  3.73s/it]"
          ]
        },
        {
          "metadata": {
            "tags": null
          },
          "name": "stdout",
          "output_type": "stream",
          "text": [
            "\n",
            "input_text :  ['치킨가라아게', '모듬초밥(12pcs)', '라온초밥(15pcs)'] 일식 라온스시\n",
            "output_result :  일식\n"
          ]
        },
        {
          "metadata": {
            "tags": null
          },
          "name": "stderr",
          "output_type": "stream",
          "text": [
            "\r  3%|▎         | 27/852 [01:35<47:51,  3.48s/it]"
          ]
        },
        {
          "metadata": {
            "tags": null
          },
          "name": "stdout",
          "output_type": "stream",
          "text": [
            "\n",
            "input_text :  [] 식육(숯불구이) 도깨비밥상\n",
            "output_result :  고기/구이\n"
          ]
        },
        {
          "metadata": {
            "tags": null
          },
          "name": "stderr",
          "output_type": "stream",
          "text": [
            "\r  3%|▎         | 28/852 [01:40<53:39,  3.91s/it]"
          ]
        },
        {
          "metadata": {
            "tags": null
          },
          "name": "stdout",
          "output_type": "stream",
          "text": [
            "\n",
            "input_text :  ['생삼겹살', '항정살', '된장찌개'] 식육(숯불구이) 착한복돼지\n",
            "output_result :  고기/구이\n"
          ]
        },
        {
          "metadata": {
            "tags": null
          },
          "name": "stderr",
          "output_type": "stream",
          "text": [
            "\r  3%|▎         | 29/852 [01:45<56:59,  4.15s/it]"
          ]
        },
        {
          "metadata": {
            "tags": null
          },
          "name": "stdout",
          "output_type": "stream",
          "text": [
            "\n",
            "input_text :  ['김치찌개', '된장찌개', '두부찌개'] 한식 원조신토불이\n",
            "output_result :  찜/탕/찌개\n"
          ]
        },
        {
          "metadata": {
            "tags": null
          },
          "name": "stderr",
          "output_type": "stream",
          "text": [
            "\r  4%|▎         | 30/852 [01:48<54:50,  4.00s/it]"
          ]
        },
        {
          "metadata": {
            "tags": null
          },
          "name": "stdout",
          "output_type": "stream",
          "text": [
            "\n",
            "input_text :  ['동파육', '양장피', '마파두부'] 정종/대포집/소주방 대주객\n",
            "output_result :  고기/구이\n"
          ]
        },
        {
          "metadata": {
            "tags": null
          },
          "name": "stderr",
          "output_type": "stream",
          "text": [
            "\r  4%|▎         | 31/852 [01:52<52:13,  3.82s/it]"
          ]
        },
        {
          "metadata": {
            "tags": null
          },
          "name": "stdout",
          "output_type": "stream",
          "text": [
            "\n",
            "input_text :  [] 경양식 잭밀러\n",
            "output_result :  분식\n"
          ]
        },
        {
          "metadata": {
            "tags": null
          },
          "name": "stderr",
          "output_type": "stream",
          "text": [
            "\r  4%|▍         | 32/852 [01:56<55:28,  4.06s/it]"
          ]
        },
        {
          "metadata": {
            "tags": null
          },
          "name": "stdout",
          "output_type": "stream",
          "text": [
            "\n",
            "input_text :  ['점보현미바삭', '마라바삭', '달콘바삭'] 호프/통닭 바른치킨춘천석사점\n",
            "output_result :  중식\n"
          ]
        },
        {
          "metadata": {
            "tags": null
          },
          "name": "stderr",
          "output_type": "stream",
          "text": [
            "\r  4%|▍         | 33/852 [02:00<55:46,  4.09s/it]"
          ]
        },
        {
          "metadata": {
            "tags": null
          },
          "name": "stdout",
          "output_type": "stream",
          "text": [
            "\n",
            "input_text :  ['한우갈비살 150g', '한우특수부위 150g', '한우특수부위 모듬A 350g'] 호프/통닭 석수한우\n",
            "output_result :  고기/구이\n"
          ]
        },
        {
          "metadata": {
            "tags": null
          },
          "name": "stderr",
          "output_type": "stream",
          "text": [
            "\r  4%|▍         | 34/852 [02:03<50:00,  3.67s/it]"
          ]
        },
        {
          "metadata": {
            "tags": null
          },
          "name": "stdout",
          "output_type": "stream",
          "text": [
            "\n",
            "input_text :  [] 식육(숯불구이) 삼삼구이\n",
            "output_result :  고기/구이\n"
          ]
        },
        {
          "metadata": {
            "tags": null
          },
          "name": "stderr",
          "output_type": "stream",
          "text": [
            "\r  4%|▍         | 35/852 [02:08<57:01,  4.19s/it]"
          ]
        },
        {
          "metadata": {
            "tags": null
          },
          "name": "stdout",
          "output_type": "stream",
          "text": [
            "\n",
            "input_text :  ['곤드레비빔밥', '낙지김치죽', '녹두죽'] 기타 본죽&비빔밥 춘천석사에버빌점\n",
            "output_result :  양식\n"
          ]
        },
        {
          "metadata": {
            "tags": null
          },
          "name": "stderr",
          "output_type": "stream",
          "text": [
            "\r  4%|▍         | 36/852 [02:11<50:35,  3.72s/it]"
          ]
        },
        {
          "metadata": {
            "tags": null
          },
          "name": "stdout",
          "output_type": "stream",
          "text": [
            "\n",
            "input_text :  [] 호프/통닭 청파동강대점\n",
            "output_result :  고기/구이\n"
          ]
        },
        {
          "metadata": {
            "tags": null
          },
          "name": "stderr",
          "output_type": "stream",
          "text": [
            "\r  4%|▍         | 37/852 [02:14<48:18,  3.56s/it]"
          ]
        },
        {
          "metadata": {
            "tags": null
          },
          "name": "stdout",
          "output_type": "stream",
          "text": [
            "\n",
            "input_text :  [] 식육(숯불구이) 달맞이\n",
            "output_result :  고기/구이\n"
          ]
        },
        {
          "metadata": {
            "tags": null
          },
          "name": "stderr",
          "output_type": "stream",
          "text": [
            "\r  4%|▍         | 38/852 [02:18<50:01,  3.69s/it]"
          ]
        },
        {
          "metadata": {
            "tags": null
          },
          "name": "stdout",
          "output_type": "stream",
          "text": [
            "\n",
            "input_text :  ['감자옹심이만', '옹심이칼국수', '메밀칼국수'] 한식 메밀밭감자옹심이메밀칼국수\n",
            "output_result :  국수\n"
          ]
        },
        {
          "metadata": {
            "tags": null
          },
          "name": "stderr",
          "output_type": "stream",
          "text": [
            "\r  5%|▍         | 39/852 [02:22<49:17,  3.64s/it]"
          ]
        },
        {
          "metadata": {
            "tags": null
          },
          "name": "stdout",
          "output_type": "stream",
          "text": [
            "\n",
            "input_text :  [] 한식 형제식당\n",
            "output_result :  백반\n"
          ]
        },
        {
          "metadata": {
            "tags": null
          },
          "name": "stderr",
          "output_type": "stream",
          "text": [
            "\r  5%|▍         | 40/852 [02:24<45:29,  3.36s/it]"
          ]
        },
        {
          "metadata": {
            "tags": null
          },
          "name": "stdout",
          "output_type": "stream",
          "text": [
            "\n",
            "input_text :  [] 분식 식향\n",
            "output_result :  양식\n"
          ]
        },
        {
          "metadata": {
            "tags": null
          },
          "name": "stderr",
          "output_type": "stream",
          "text": [
            "\r  5%|▍         | 41/852 [02:28<45:32,  3.37s/it]"
          ]
        },
        {
          "metadata": {
            "tags": null
          },
          "name": "stdout",
          "output_type": "stream",
          "text": [
            "\n",
            "input_text :  ['골드 메달리스트', '키위상큼', '파인땡큐'] 감성주점 쉐도우\n",
            "output_result :  양식\n"
          ]
        },
        {
          "metadata": {
            "tags": null
          },
          "name": "stderr",
          "output_type": "stream",
          "text": [
            "\r  5%|▍         | 42/852 [02:30<42:00,  3.11s/it]"
          ]
        },
        {
          "metadata": {
            "tags": null
          },
          "name": "stdout",
          "output_type": "stream",
          "text": [
            "\n",
            "input_text :  [] 뷔페식 주현출장부페\n",
            "output_result :  양식\n"
          ]
        },
        {
          "metadata": {
            "tags": null
          },
          "name": "stderr",
          "output_type": "stream",
          "text": [
            "\r  5%|▌         | 43/852 [02:34<45:24,  3.37s/it]"
          ]
        },
        {
          "metadata": {
            "tags": null
          },
          "name": "stdout",
          "output_type": "stream",
          "text": [
            "\n",
            "input_text :  ['유우동', '튀김우동', '수제 등심 돈까스'] 한식 유우동\n",
            "output_result :  돈까스\n"
          ]
        },
        {
          "metadata": {
            "tags": null
          },
          "name": "stderr",
          "output_type": "stream",
          "text": [
            "\r  5%|▌         | 44/852 [02:39<51:01,  3.79s/it]"
          ]
        },
        {
          "metadata": {
            "tags": null
          },
          "name": "stdout",
          "output_type": "stream",
          "text": [
            "\n",
            "input_text :  ['모듬', '특수부위', '한우모듬주물럭'] 식육(숯불구이) 꽃등심삼겹살\n",
            "output_result :  고기/구이\n"
          ]
        },
        {
          "metadata": {
            "tags": null
          },
          "name": "stderr",
          "output_type": "stream",
          "text": [
            "\r  5%|▌         | 45/852 [02:42<45:17,  3.37s/it]"
          ]
        },
        {
          "metadata": {
            "tags": null
          },
          "name": "stdout",
          "output_type": "stream",
          "text": [
            "\n",
            "input_text :  [] 호프/통닭 프라하\n",
            "output_result :  고기/구이\n"
          ]
        },
        {
          "metadata": {
            "tags": null
          },
          "name": "stderr",
          "output_type": "stream",
          "text": [
            "\r  5%|▌         | 46/852 [02:45<47:19,  3.52s/it]"
          ]
        },
        {
          "metadata": {
            "tags": null
          },
          "name": "stdout",
          "output_type": "stream",
          "text": [
            "\n",
            "input_text :  ['돼지 한마리(1kg)', '소 한마리(1kg)', '삼겹살(200g)'] 한식 고신\n",
            "output_result :  고기/구이\n"
          ]
        },
        {
          "metadata": {
            "tags": null
          },
          "name": "stderr",
          "output_type": "stream",
          "text": [
            "\r  6%|▌         | 47/852 [02:48<43:45,  3.26s/it]"
          ]
        },
        {
          "metadata": {
            "tags": null
          },
          "name": "stdout",
          "output_type": "stream",
          "text": [
            "\n",
            "input_text :  [] 호프/통닭 휴정\n",
            "output_result :  치킨\n"
          ]
        },
        {
          "metadata": {
            "tags": null
          },
          "name": "stderr",
          "output_type": "stream",
          "text": [
            "\r  6%|▌         | 48/852 [02:53<50:50,  3.79s/it]"
          ]
        },
        {
          "metadata": {
            "tags": null
          },
          "name": "stdout",
          "output_type": "stream",
          "text": [
            "\n",
            "input_text :  ['황태구이정식', '더덕구이정식', '황태낙지전골 (대)'] 한식 효자황태구이\n",
            "output_result :  고기/구이\n"
          ]
        },
        {
          "metadata": {
            "tags": null
          },
          "name": "stderr",
          "output_type": "stream",
          "text": [
            "\r  6%|▌         | 49/852 [02:57<50:34,  3.78s/it]"
          ]
        },
        {
          "metadata": {
            "tags": null
          },
          "name": "stdout",
          "output_type": "stream",
          "text": [
            "\n",
            "input_text :  ['딥치즈버거', '싸이버거', '디럭스불고기버거'] 호프/통닭 맘스터치강대효자점\n",
            "output_result :  고기/구이\n"
          ]
        },
        {
          "metadata": {
            "tags": null
          },
          "name": "stderr",
          "output_type": "stream",
          "text": [
            "\r  6%|▌         | 50/852 [03:00<49:34,  3.71s/it]"
          ]
        },
        {
          "metadata": {
            "tags": null
          },
          "name": "stdout",
          "output_type": "stream",
          "text": [
            "\n",
            "input_text :  ['오삼불고기', '두부김치', '고추장찌개'] 정종/대포집/소주방 공동주택\n",
            "output_result :  고기/구이\n"
          ]
        },
        {
          "metadata": {
            "tags": null
          },
          "name": "stderr",
          "output_type": "stream",
          "text": [
            "\r  6%|▌         | 51/852 [03:06<55:13,  4.14s/it]"
          ]
        },
        {
          "metadata": {
            "tags": null
          },
          "name": "stdout",
          "output_type": "stream",
          "text": [
            "\n",
            "input_text :  ['기본해물칼국수', '바지락 칼국수', '낙지해물칼국수'] 분식 보영이네해물칼국수(별관)\n",
            "output_result :  국수\n"
          ]
        },
        {
          "metadata": {
            "tags": null
          },
          "name": "stderr",
          "output_type": "stream",
          "text": [
            "\r  6%|▌         | 52/852 [03:10<54:46,  4.11s/it]"
          ]
        },
        {
          "metadata": {
            "tags": null
          },
          "name": "stdout",
          "output_type": "stream",
          "text": [
            "\n",
            "input_text :  ['칠리새우', '크림새우', '매콤감바스'] 한식 인생건어물 춘천스무숲점\n",
            "output_result :  찜/탕/찌개\n"
          ]
        },
        {
          "metadata": {
            "tags": null
          },
          "name": "stderr",
          "output_type": "stream",
          "text": [
            "\r  6%|▌         | 53/852 [03:14<54:41,  4.11s/it]"
          ]
        },
        {
          "metadata": {
            "tags": null
          },
          "name": "stdout",
          "output_type": "stream",
          "text": [
            "\n",
            "input_text :  ['간장치킨', '땡초불꽃치킨', '매운간장치킨'] 통닭(치킨) 호식이두마리치킨(석사점)\n",
            "output_result :  치킨\n"
          ]
        },
        {
          "metadata": {
            "tags": null
          },
          "name": "stderr",
          "output_type": "stream",
          "text": [
            "\r  6%|▋         | 54/852 [03:20<1:03:19,  4.76s/it]"
          ]
        },
        {
          "metadata": {
            "tags": null
          },
          "name": "stdout",
          "output_type": "stream",
          "text": [
            "\n",
            "input_text :  ['A세트숙주국물뼈닭발세트', 'B세트숙주국물무뼈닭발세트', '오돌이세트1'] 호프/통닭 오돌이닭발\n",
            "output_result :  고기/구이\n"
          ]
        },
        {
          "metadata": {
            "tags": null
          },
          "name": "stderr",
          "output_type": "stream",
          "text": [
            "\r  6%|▋         | 55/852 [03:23<58:05,  4.37s/it]  "
          ]
        },
        {
          "metadata": {
            "tags": null
          },
          "name": "stdout",
          "output_type": "stream",
          "text": [
            "\n",
            "input_text :  [] 호프/통닭 코리엔탈깻잎두마리치킨춘천점\n",
            "output_result :  치킨\n"
          ]
        },
        {
          "metadata": {
            "tags": null
          },
          "name": "stderr",
          "output_type": "stream",
          "text": [
            "\r  7%|▋         | 56/852 [03:26<50:12,  3.79s/it]"
          ]
        },
        {
          "metadata": {
            "tags": null
          },
          "name": "stdout",
          "output_type": "stream",
          "text": [
            "\n",
            "input_text :  [] 중국식 대박탕수육\n",
            "output_result :  분식\n"
          ]
        },
        {
          "metadata": {
            "tags": null
          },
          "name": "stderr",
          "output_type": "stream",
          "text": [
            "\r  7%|▋         | 57/852 [03:29<48:04,  3.63s/it]"
          ]
        },
        {
          "metadata": {
            "tags": null
          },
          "name": "stdout",
          "output_type": "stream",
          "text": [
            "\n",
            "input_text :  [] 정종/대포집/소주방 타프로스터스\n",
            "output_result :  회\n"
          ]
        },
        {
          "metadata": {
            "tags": null
          },
          "name": "stderr",
          "output_type": "stream",
          "text": [
            "\r  7%|▋         | 58/852 [03:32<45:27,  3.44s/it]"
          ]
        },
        {
          "metadata": {
            "tags": null
          },
          "name": "stdout",
          "output_type": "stream",
          "text": [
            "\n",
            "input_text :  [] 탕류(보신용) 효자골영양탕\n",
            "output_result :  백반\n"
          ]
        },
        {
          "metadata": {
            "tags": null
          },
          "name": "stderr",
          "output_type": "stream",
          "text": [
            "\r  7%|▋         | 59/852 [03:37<51:24,  3.89s/it]"
          ]
        },
        {
          "metadata": {
            "tags": null
          },
          "name": "stdout",
          "output_type": "stream",
          "text": [
            "\n",
            "input_text :  ['플랫호두파이', '두툼호두파이', '트리플파이(모듬파이)'] 호프/통닭 제이\n",
            "output_result :  고기/구이\n"
          ]
        },
        {
          "metadata": {
            "tags": null
          },
          "name": "stderr",
          "output_type": "stream",
          "text": [
            "\r  7%|▋         | 60/852 [03:39<45:19,  3.43s/it]"
          ]
        },
        {
          "metadata": {
            "tags": null
          },
          "name": "stdout",
          "output_type": "stream",
          "text": [
            "\n",
            "input_text :  [] 중국식 일박이일\n",
            "output_result :  중식\n"
          ]
        },
        {
          "metadata": {
            "tags": null
          },
          "name": "stderr",
          "output_type": "stream",
          "text": [
            "\r  7%|▋         | 61/852 [03:42<42:23,  3.21s/it]"
          ]
        },
        {
          "metadata": {
            "tags": null
          },
          "name": "stdout",
          "output_type": "stream",
          "text": [
            "\n",
            "input_text :  [] 정종/대포집/소주방 구라주점\n",
            "output_result :  양식\n"
          ]
        },
        {
          "metadata": {
            "tags": null
          },
          "name": "stderr",
          "output_type": "stream",
          "text": [
            "\r  7%|▋         | 62/852 [03:45<42:51,  3.26s/it]"
          ]
        },
        {
          "metadata": {
            "tags": null
          },
          "name": "stdout",
          "output_type": "stream",
          "text": [
            "\n",
            "input_text :  ['뚝배기짬뽕', '뚝배기짜장', '볶음밥'] 한식 도원뚝배기짬뽕\n",
            "output_result :  국밥\n"
          ]
        },
        {
          "metadata": {
            "tags": null
          },
          "name": "stderr",
          "output_type": "stream",
          "text": [
            "\r  7%|▋         | 63/852 [03:49<43:26,  3.30s/it]"
          ]
        },
        {
          "metadata": {
            "tags": null
          },
          "name": "stdout",
          "output_type": "stream",
          "text": [
            "\n",
            "input_text :  [] 호프/통닭 로즈\n",
            "output_result :  치킨\n"
          ]
        },
        {
          "metadata": {
            "tags": null
          },
          "name": "stderr",
          "output_type": "stream",
          "text": [
            "\r  8%|▊         | 64/852 [03:53<46:05,  3.51s/it]"
          ]
        },
        {
          "metadata": {
            "tags": null
          },
          "name": "stdout",
          "output_type": "stream",
          "text": [
            "\n",
            "input_text :  ['삼겹살(200g)', '닭볶음탕', '오삼불고기'] 분식 친구친구\n",
            "output_result :  고기/구이\n"
          ]
        },
        {
          "metadata": {
            "tags": null
          },
          "name": "stderr",
          "output_type": "stream",
          "text": [
            "\r  8%|▊         | 65/852 [03:56<43:16,  3.30s/it]"
          ]
        },
        {
          "metadata": {
            "tags": null
          },
          "name": "stdout",
          "output_type": "stream",
          "text": [
            "\n",
            "input_text :  [] 호프/통닭 닥엔돈스춘천효자점\n",
            "output_result :  고기/구이\n"
          ]
        },
        {
          "metadata": {
            "tags": null
          },
          "name": "stderr",
          "output_type": "stream",
          "text": [
            "\r  8%|▊         | 66/852 [03:59<45:01,  3.44s/it]"
          ]
        },
        {
          "metadata": {
            "tags": null
          },
          "name": "stdout",
          "output_type": "stream",
          "text": [
            "\n",
            "input_text :  ['수제햄 부대찌개', '박가 부대찌개', '오리지널 부대찌개'] 탕류(보신용) 박가부대춘천강대점\n",
            "output_result :  찜/탕/찌개\n"
          ]
        },
        {
          "metadata": {
            "tags": null
          },
          "name": "stderr",
          "output_type": "stream",
          "text": [
            "\r  8%|▊         | 67/852 [04:04<49:27,  3.78s/it]"
          ]
        },
        {
          "metadata": {
            "tags": null
          },
          "name": "stdout",
          "output_type": "stream",
          "text": [
            "\n",
            "input_text :  ['미니갈비찜', '매운갈비찜', '짜글이찌개'] 분식 집밥\n",
            "output_result :  찜/탕/찌개\n"
          ]
        },
        {
          "metadata": {
            "tags": null
          },
          "name": "stderr",
          "output_type": "stream",
          "text": [
            "\r  8%|▊         | 68/852 [04:08<49:26,  3.78s/it]"
          ]
        },
        {
          "metadata": {
            "tags": null
          },
          "name": "stdout",
          "output_type": "stream",
          "text": [
            "\n",
            "input_text :  ['모듬숯불구이', '갈비살', '차돌박이'] 식육(숯불구이) 우물정\n",
            "output_result :  고기/구이\n"
          ]
        },
        {
          "metadata": {
            "tags": null
          },
          "name": "stderr",
          "output_type": "stream",
          "text": [
            "\r  8%|▊         | 69/852 [04:12<50:39,  3.88s/it]"
          ]
        },
        {
          "metadata": {
            "tags": null
          },
          "name": "stdout",
          "output_type": "stream",
          "text": [
            "\n",
            "input_text :  ['훈제오리', '오리탕', '훈제한마리'] 식육(숯불구이) 원조퇴골집오리숯불구이서면본점막내아들\n",
            "output_result :  고기/구이\n"
          ]
        },
        {
          "metadata": {
            "tags": null
          },
          "name": "stderr",
          "output_type": "stream",
          "text": [
            "\r  8%|▊         | 70/852 [04:15<47:45,  3.66s/it]"
          ]
        },
        {
          "metadata": {
            "tags": null
          },
          "name": "stdout",
          "output_type": "stream",
          "text": [
            "\n",
            "input_text :  ['짬뽕밥', '잡탕밥', '짜장면'] 횟집 행복반점\n",
            "output_result :  찜/탕/찌개\n"
          ]
        },
        {
          "metadata": {
            "tags": null
          },
          "name": "stderr",
          "output_type": "stream",
          "text": [
            "\r  8%|▊         | 71/852 [04:21<55:01,  4.23s/it]"
          ]
        },
        {
          "metadata": {
            "tags": null
          },
          "name": "stdout",
          "output_type": "stream",
          "text": [
            "\n",
            "input_text :  ['후라이드', '양념치킨', '마늘간장치킨'] 호프/통닭 꾸브라꼬숯불두마리치킨석사점\n",
            "output_result :  고기/구이\n"
          ]
        },
        {
          "metadata": {
            "tags": null
          },
          "name": "stderr",
          "output_type": "stream",
          "text": [
            "\r  8%|▊         | 72/852 [04:24<52:32,  4.04s/it]"
          ]
        },
        {
          "metadata": {
            "tags": null
          },
          "name": "stdout",
          "output_type": "stream",
          "text": [
            "\n",
            "input_text :  ['자장면', '짬뽕밥', '자장밥'] 정종/대포집/소주방 도원뚝배기짬뽕본점\n",
            "output_result :  중식\n"
          ]
        },
        {
          "metadata": {
            "tags": null
          },
          "name": "stderr",
          "output_type": "stream",
          "text": [
            "\r  9%|▊         | 73/852 [04:27<45:41,  3.52s/it]"
          ]
        },
        {
          "metadata": {
            "tags": null
          },
          "name": "stdout",
          "output_type": "stream",
          "text": [
            "\n",
            "input_text :  [] 까페 안\n",
            "output_result :  양식\n"
          ]
        },
        {
          "metadata": {
            "tags": null
          },
          "name": "stderr",
          "output_type": "stream",
          "text": [
            "\r  9%|▊         | 74/852 [04:29<41:48,  3.22s/it]"
          ]
        },
        {
          "metadata": {
            "tags": null
          },
          "name": "stdout",
          "output_type": "stream",
          "text": [
            "\n",
            "input_text :  [] 한식 통큰무한삼겹\n",
            "output_result :  고기/구이\n"
          ]
        },
        {
          "metadata": {
            "tags": null
          },
          "name": "stderr",
          "output_type": "stream",
          "text": [
            "\r  9%|▉         | 75/852 [04:33<44:32,  3.44s/it]"
          ]
        },
        {
          "metadata": {
            "tags": null
          },
          "name": "stdout",
          "output_type": "stream",
          "text": [
            "\n",
            "input_text :  [] 정종/대포집/소주방 팔팔포장마차\n",
            "output_result :  양식\n"
          ]
        },
        {
          "metadata": {
            "tags": null
          },
          "name": "stderr",
          "output_type": "stream",
          "text": [
            "\r  9%|▉         | 76/852 [04:36<42:03,  3.25s/it]"
          ]
        },
        {
          "metadata": {
            "tags": null
          },
          "name": "stdout",
          "output_type": "stream",
          "text": [
            "\n",
            "input_text :  [] 분식 미화네떡볶이\n",
            "output_result :  분식\n"
          ]
        },
        {
          "metadata": {
            "tags": null
          },
          "name": "stderr",
          "output_type": "stream",
          "text": [
            "\r  9%|▉         | 77/852 [04:40<44:59,  3.48s/it]"
          ]
        },
        {
          "metadata": {
            "tags": null
          },
          "name": "stdout",
          "output_type": "stream",
          "text": [
            "\n",
            "input_text :  ['생삼겹살 (1인분)', '차돌박이 (1인분)', '버터대하구이 (8마리)'] 한식 양철집\n",
            "output_result :  고기/구이\n"
          ]
        },
        {
          "metadata": {
            "tags": null
          },
          "name": "stderr",
          "output_type": "stream",
          "text": [
            "\r  9%|▉         | 78/852 [04:44<47:01,  3.65s/it]"
          ]
        },
        {
          "metadata": {
            "tags": null
          },
          "name": "stdout",
          "output_type": "stream",
          "text": [
            "\n",
            "input_text :  ['고추장찜닭', '금계찜닭', '로제 찜닭'] 식육(숯불구이) 일미리금계찜닭강대후문점\n",
            "output_result :  고기/구이\n"
          ]
        },
        {
          "metadata": {
            "tags": null
          },
          "name": "stderr",
          "output_type": "stream",
          "text": [
            "\r  9%|▉         | 79/852 [04:49<51:45,  4.02s/it]"
          ]
        },
        {
          "metadata": {
            "tags": null
          },
          "name": "stdout",
          "output_type": "stream",
          "text": [
            "\n",
            "input_text :  ['홍합탕', '나가사키짬뽕', '제육볶음'] 감성주점 리얼콜\n",
            "output_result :  찜/탕/찌개\n"
          ]
        },
        {
          "metadata": {
            "tags": null
          },
          "name": "stderr",
          "output_type": "stream",
          "text": [
            "\r  9%|▉         | 80/852 [04:51<45:31,  3.54s/it]"
          ]
        },
        {
          "metadata": {
            "tags": null
          },
          "name": "stdout",
          "output_type": "stream",
          "text": [
            "\n",
            "input_text :  [] 기타 짱인\n",
            "output_result :  회\n"
          ]
        },
        {
          "metadata": {
            "tags": null
          },
          "name": "stderr",
          "output_type": "stream",
          "text": [
            "\r 10%|▉         | 81/852 [04:54<43:47,  3.41s/it]"
          ]
        },
        {
          "metadata": {
            "tags": null
          },
          "name": "stdout",
          "output_type": "stream",
          "text": [
            "\n",
            "input_text :  ['된장찌개', '두부찌개', '돼지김치찌개'] 분식 미미한식\n",
            "output_result :  분식\n"
          ]
        },
        {
          "metadata": {
            "tags": null
          },
          "name": "stderr",
          "output_type": "stream",
          "text": [
            "\r 10%|▉         | 82/852 [04:57<40:50,  3.18s/it]"
          ]
        },
        {
          "metadata": {
            "tags": null
          },
          "name": "stdout",
          "output_type": "stream",
          "text": [
            "\n",
            "input_text :  [] 정종/대포집/소주방 위푸드\n",
            "output_result :  양식\n"
          ]
        },
        {
          "metadata": {
            "tags": null
          },
          "name": "stderr",
          "output_type": "stream",
          "text": [
            "\r 10%|▉         | 83/852 [05:02<48:44,  3.80s/it]"
          ]
        },
        {
          "metadata": {
            "tags": null
          },
          "name": "stdout",
          "output_type": "stream",
          "text": [
            "\n",
            "input_text :  ['모듬수육 (소)', '소내장전골 (소)', '술국 (소)'] 한식 석사소머리국밥전문점\n",
            "output_result :  고기/구이\n"
          ]
        },
        {
          "metadata": {
            "tags": null
          },
          "name": "stderr",
          "output_type": "stream",
          "text": [
            "\r 10%|▉         | 84/852 [05:05<45:44,  3.57s/it]"
          ]
        },
        {
          "metadata": {
            "tags": null
          },
          "name": "stdout",
          "output_type": "stream",
          "text": [
            "\n",
            "input_text :  [] 한식 대감족발꼬꼬닭발\n",
            "output_result :  양식\n"
          ]
        },
        {
          "metadata": {
            "tags": null
          },
          "name": "stderr",
          "output_type": "stream",
          "text": [
            "\r 10%|▉         | 85/852 [05:08<40:47,  3.19s/it]"
          ]
        },
        {
          "metadata": {
            "tags": null
          },
          "name": "stdout",
          "output_type": "stream",
          "text": [
            "\n",
            "input_text :  [] 까페 틸\n",
            "output_result :  회\n"
          ]
        },
        {
          "metadata": {
            "tags": null
          },
          "name": "stderr",
          "output_type": "stream",
          "text": [
            "\r 10%|█         | 86/852 [05:12<44:44,  3.50s/it]"
          ]
        },
        {
          "metadata": {
            "tags": null
          },
          "name": "stdout",
          "output_type": "stream",
          "text": [
            "\n",
            "input_text :  ['숯불삼.오겹살 (200g)', '양념돼지갈비 (300g)', '김치찌게'] 식육(숯불구이) 또보기목장\n",
            "output_result :  고기/구이\n"
          ]
        },
        {
          "metadata": {
            "tags": null
          },
          "name": "stderr",
          "output_type": "stream",
          "text": [
            "\r 10%|█         | 87/852 [05:16<48:27,  3.80s/it]"
          ]
        },
        {
          "metadata": {
            "tags": null
          },
          "name": "stdout",
          "output_type": "stream",
          "text": [
            "\n",
            "input_text :  ['된장찌개', '양념삼겹살', '갈매기살국내산'] 한식 오필승닭발석사점\n",
            "output_result :  고기/구이\n"
          ]
        },
        {
          "metadata": {
            "tags": null
          },
          "name": "stderr",
          "output_type": "stream",
          "text": [
            "\r 10%|█         | 88/852 [05:21<50:46,  3.99s/it]"
          ]
        },
        {
          "metadata": {
            "tags": null
          },
          "name": "stdout",
          "output_type": "stream",
          "text": [
            "\n",
            "input_text :  ['크림새우', '멘보샤', '칠리새우'] 기타 마라홀릭마라탕퇴계석사점\n",
            "output_result :  찜/탕/찌개\n"
          ]
        },
        {
          "metadata": {
            "tags": null
          },
          "name": "stderr",
          "output_type": "stream",
          "text": [
            "\r 10%|█         | 89/852 [05:25<50:28,  3.97s/it]"
          ]
        },
        {
          "metadata": {
            "tags": null
          },
          "name": "stdout",
          "output_type": "stream",
          "text": [
            "\n",
            "input_text :  ['흑염소탕', '흑염소얼큰탕', '흑염소전골 (1인분)'] 한식 산촌흑염소\n",
            "output_result :  찜/탕/찌개\n"
          ]
        },
        {
          "metadata": {
            "tags": null
          },
          "name": "stderr",
          "output_type": "stream",
          "text": [
            "\r 11%|█         | 90/852 [05:28<47:39,  3.75s/it]"
          ]
        },
        {
          "metadata": {
            "tags": null
          },
          "name": "stdout",
          "output_type": "stream",
          "text": [
            "\n",
            "input_text :  ['짜장면', '짬뽕', '탕수육(소)'] 중국식 롱타우객잔\n",
            "output_result :  중식\n"
          ]
        },
        {
          "metadata": {
            "tags": null
          },
          "name": "stderr",
          "output_type": "stream",
          "text": [
            "\r 11%|█         | 91/852 [05:33<52:40,  4.15s/it]"
          ]
        },
        {
          "metadata": {
            "tags": null
          },
          "name": "stdout",
          "output_type": "stream",
          "text": [
            "\n",
            "input_text :  ['닭삼겹(1인분)', '볶음밥', '공기밥'] 한식 청미래닭갈비\n",
            "output_result :  고기/구이\n"
          ]
        },
        {
          "metadata": {
            "tags": null
          },
          "name": "stderr",
          "output_type": "stream",
          "text": [
            "\r 11%|█         | 92/852 [05:36<46:56,  3.71s/it]"
          ]
        },
        {
          "metadata": {
            "tags": null
          },
          "name": "stdout",
          "output_type": "stream",
          "text": [
            "\n",
            "input_text :  [] 식육(숯불구이) 황토영광장어\n",
            "output_result :  고기/구이\n"
          ]
        },
        {
          "metadata": {
            "tags": null
          },
          "name": "stderr",
          "output_type": "stream",
          "text": [
            "\r 11%|█         | 93/852 [05:40<48:34,  3.84s/it]"
          ]
        },
        {
          "metadata": {
            "tags": null
          },
          "name": "stdout",
          "output_type": "stream",
          "text": [
            "\n",
            "input_text :  ['생연어 (중)', '참치스페셜(중)', '생연어&타다키 (중)'] 기타 셰프의연어\n",
            "output_result :  일식\n"
          ]
        },
        {
          "metadata": {
            "tags": null
          },
          "name": "stderr",
          "output_type": "stream",
          "text": [
            "\r 11%|█         | 94/852 [05:46<56:42,  4.49s/it]"
          ]
        },
        {
          "metadata": {
            "tags": null
          },
          "name": "stdout",
          "output_type": "stream",
          "text": [
            "\n",
            "input_text :  ['륭림닭발 (1인분)', '륭림똥집 (1인분)', '뼈없는닭발 (1인분)'] 한식 륭림닭발\n",
            "output_result :  족발/보쌈\n"
          ]
        },
        {
          "metadata": {
            "tags": null
          },
          "name": "stderr",
          "output_type": "stream",
          "text": [
            "\r 11%|█         | 95/852 [05:49<50:26,  4.00s/it]"
          ]
        },
        {
          "metadata": {
            "tags": null
          },
          "name": "stdout",
          "output_type": "stream",
          "text": [
            "\n",
            "input_text :  [] 한식 황토집\n",
            "output_result :  백반\n"
          ]
        },
        {
          "metadata": {
            "tags": null
          },
          "name": "stderr",
          "output_type": "stream",
          "text": [
            "\r 11%|█▏        | 96/852 [05:52<47:28,  3.77s/it]"
          ]
        },
        {
          "metadata": {
            "tags": null
          },
          "name": "stdout",
          "output_type": "stream",
          "text": [
            "\n",
            "input_text :  ['모듬곱창', '국수', '볶음밥'] 호프/통닭 곱창이야기\n",
            "output_result :  고기/구이\n"
          ]
        },
        {
          "metadata": {
            "tags": null
          },
          "name": "stderr",
          "output_type": "stream",
          "text": [
            "\r 11%|█▏        | 97/852 [05:55<44:40,  3.55s/it]"
          ]
        },
        {
          "metadata": {
            "tags": null
          },
          "name": "stdout",
          "output_type": "stream",
          "text": [
            "\n",
            "input_text :  ['회정식', '생우럭탕', '물회'] 한식 등대\n",
            "output_result :  찜/탕/찌개\n"
          ]
        },
        {
          "metadata": {
            "tags": null
          },
          "name": "stderr",
          "output_type": "stream",
          "text": [
            "\r 12%|█▏        | 98/852 [05:59<47:33,  3.78s/it]"
          ]
        },
        {
          "metadata": {
            "tags": null
          },
          "name": "stdout",
          "output_type": "stream",
          "text": [
            "\n",
            "input_text :  ['갈매기살(150g)', '등갈비(250g)', '막창(200g)'] 한식 박대감\n",
            "output_result :  고기/구이\n"
          ]
        },
        {
          "metadata": {
            "tags": null
          },
          "name": "stderr",
          "output_type": "stream",
          "text": [
            "\r 12%|█▏        | 99/852 [06:04<50:57,  4.06s/it]"
          ]
        },
        {
          "metadata": {
            "tags": null
          },
          "name": "stdout",
          "output_type": "stream",
          "text": [
            "\n",
            "input_text :  ['계란찜', '구이가 벌집', '구이가불삼겹살'] 식육(숯불구이) 구이가(강원대점)\n",
            "output_result :  고기/구이\n"
          ]
        },
        {
          "metadata": {
            "tags": null
          },
          "name": "stderr",
          "output_type": "stream",
          "text": [
            "\r 12%|█▏        | 100/852 [06:07<47:06,  3.76s/it]"
          ]
        },
        {
          "metadata": {
            "tags": null
          },
          "name": "stdout",
          "output_type": "stream",
          "text": [
            "\n",
            "input_text :  ['에스프레소', '아메리카노', '카푸치노'] 기타 예그리나\n",
            "output_result :  양식\n"
          ]
        },
        {
          "metadata": {
            "tags": null
          },
          "name": "stderr",
          "output_type": "stream",
          "text": [
            "\r 12%|█▏        | 101/852 [06:11<47:57,  3.83s/it]"
          ]
        },
        {
          "metadata": {
            "tags": null
          },
          "name": "stdout",
          "output_type": "stream",
          "text": [
            "\n",
            "input_text :  ['돼지갈비 (250g)', '소갈비살 (200g)', '된장소면'] 식육(숯불구이) 미도숯불갈비\n",
            "output_result :  고기/구이\n"
          ]
        },
        {
          "metadata": {
            "tags": null
          },
          "name": "stderr",
          "output_type": "stream",
          "text": [
            "\r 12%|█▏        | 102/852 [06:14<45:55,  3.67s/it]"
          ]
        },
        {
          "metadata": {
            "tags": null
          },
          "name": "stdout",
          "output_type": "stream",
          "text": [
            "\n",
            "input_text :  [] 김밥(도시락) 오늘김밥\n",
            "output_result :  양식\n"
          ]
        },
        {
          "metadata": {
            "tags": null
          },
          "name": "stderr",
          "output_type": "stream",
          "text": [
            "\r 12%|█▏        | 103/852 [06:17<43:53,  3.52s/it]"
          ]
        },
        {
          "metadata": {
            "tags": null
          },
          "name": "stdout",
          "output_type": "stream",
          "text": [
            "\n",
            "input_text :  [] 경양식 식당브아\n",
            "output_result :  양식\n"
          ]
        },
        {
          "metadata": {
            "tags": null
          },
          "name": "stderr",
          "output_type": "stream",
          "text": [
            "\r 12%|█▏        | 104/852 [06:21<44:18,  3.55s/it]"
          ]
        },
        {
          "metadata": {
            "tags": null
          },
          "name": "stdout",
          "output_type": "stream",
          "text": [
            "\n",
            "input_text :  ['등심 (200g)', '갈비살 (150g)', '육회'] 식육(숯불구이) 소림생고기\n",
            "output_result :  고기/구이\n"
          ]
        },
        {
          "metadata": {
            "tags": null
          },
          "name": "stderr",
          "output_type": "stream",
          "text": [
            "\r 12%|█▏        | 105/852 [06:25<46:14,  3.71s/it]"
          ]
        },
        {
          "metadata": {
            "tags": null
          },
          "name": "stdout",
          "output_type": "stream",
          "text": [
            "\n",
            "input_text :  ['제주생삼겹살 (180g)', '제주생오겹살 (180g)', '제주생목살 (180g)'] 한식 제주돈통\n",
            "output_result :  고기/구이\n"
          ]
        },
        {
          "metadata": {
            "tags": null
          },
          "name": "stderr",
          "output_type": "stream",
          "text": [
            "\r 12%|█▏        | 106/852 [06:30<48:48,  3.93s/it]"
          ]
        },
        {
          "metadata": {
            "tags": null
          },
          "name": "stdout",
          "output_type": "stream",
          "text": [
            "\n",
            "input_text :  ['급냉삼겹살', '차돌박이', '차돌순두부찌개'] 한식 호호식당\n",
            "output_result :  고기/구이\n"
          ]
        },
        {
          "metadata": {
            "tags": null
          },
          "name": "stderr",
          "output_type": "stream",
          "text": [
            "\r 13%|█▎        | 107/852 [06:34<48:48,  3.93s/it]"
          ]
        },
        {
          "metadata": {
            "tags": null
          },
          "name": "stdout",
          "output_type": "stream",
          "text": [
            "\n",
            "input_text :  ['불고기더블버거', '더블버거', '모짜치즈돈가스버거'] 패스트푸드 송탄햄버거\n",
            "output_result :  고기/구이\n"
          ]
        },
        {
          "metadata": {
            "tags": null
          },
          "name": "stderr",
          "output_type": "stream",
          "text": [
            "\r 13%|█▎        | 108/852 [06:37<46:01,  3.71s/it]"
          ]
        },
        {
          "metadata": {
            "tags": null
          },
          "name": "stdout",
          "output_type": "stream",
          "text": [
            "\n",
            "input_text :  ['명품등심', '명품안심', '갈빗살'] 한식 한우가\n",
            "output_result :  고기/구이\n"
          ]
        },
        {
          "metadata": {
            "tags": null
          },
          "name": "stderr",
          "output_type": "stream",
          "text": [
            "\r 13%|█▎        | 109/852 [06:40<44:26,  3.59s/it]"
          ]
        },
        {
          "metadata": {
            "tags": null
          },
          "name": "stdout",
          "output_type": "stream",
          "text": [
            "\n",
            "input_text :  ['볶음밥', '라면사리', '콩나물해장국'] 한식 새서울해장국\n",
            "output_result :  분식\n"
          ]
        },
        {
          "metadata": {
            "tags": null
          },
          "name": "stderr",
          "output_type": "stream",
          "text": [
            "\r 13%|█▎        | 110/852 [06:45<49:16,  3.98s/it]"
          ]
        },
        {
          "metadata": {
            "tags": null
          },
          "name": "stdout",
          "output_type": "stream",
          "text": [
            "\n",
            "input_text :  ['갈비탕', '얼큰갈비탕', '전복갈비탕'] 한식 곽만근갈비탕\n",
            "output_result :  찜/탕/찌개\n"
          ]
        },
        {
          "metadata": {
            "tags": null
          },
          "name": "stderr",
          "output_type": "stream",
          "text": [
            "\r 13%|█▎        | 111/852 [06:52<1:02:33,  5.07s/it]"
          ]
        },
        {
          "metadata": {
            "tags": null
          },
          "name": "stdout",
          "output_type": "stream",
          "text": [
            "\n",
            "input_text :  ['곱도리탕(소)(맛집 랭킹 1위)', '곱도리탕(대)(맛집 랭킹 1위)', '우도리탕(소)(맛집 랭킹 1위)'] 한식 승도리네곱도리탕춘천점\n",
            "output_result :  찜/탕/찌개\n"
          ]
        },
        {
          "metadata": {
            "tags": null
          },
          "name": "stderr",
          "output_type": "stream",
          "text": [
            "\r 13%|█▎        | 112/852 [06:56<55:11,  4.48s/it]  "
          ]
        },
        {
          "metadata": {
            "tags": null
          },
          "name": "stdout",
          "output_type": "stream",
          "text": [
            "\n",
            "input_text :  ['에스프레소', '아메리카노', '카페라떼'] 경양식 아롬\n",
            "output_result :  양식\n"
          ]
        },
        {
          "metadata": {
            "tags": null
          },
          "name": "stderr",
          "output_type": "stream",
          "text": [
            "\r 13%|█▎        | 113/852 [06:58<47:15,  3.84s/it]"
          ]
        },
        {
          "metadata": {
            "tags": null
          },
          "name": "stdout",
          "output_type": "stream",
          "text": [
            "\n",
            "input_text :  [] 호프/통닭 플러스\n",
            "output_result :  치킨\n"
          ]
        },
        {
          "metadata": {
            "tags": null
          },
          "name": "stderr",
          "output_type": "stream",
          "text": [
            "\r 13%|█▎        | 114/852 [07:02<48:25,  3.94s/it]"
          ]
        },
        {
          "metadata": {
            "tags": null
          },
          "name": "stdout",
          "output_type": "stream",
          "text": [
            "\n",
            "input_text :  ['물막국수', '비빔막국수', '칼국수'] 한식 두하막국수\n",
            "output_result :  국수\n"
          ]
        },
        {
          "metadata": {
            "tags": null
          },
          "name": "stderr",
          "output_type": "stream",
          "text": [
            "\r 13%|█▎        | 115/852 [07:06<47:57,  3.90s/it]"
          ]
        },
        {
          "metadata": {
            "tags": null
          },
          "name": "stdout",
          "output_type": "stream",
          "text": [
            "\n",
            "input_text :  ['양갈비살꼬치', '양갈비', '양다리'] 한식 재왕무한리필양꼬치훠궈\n",
            "output_result :  고기/구이\n"
          ]
        },
        {
          "metadata": {
            "tags": null
          },
          "name": "stderr",
          "output_type": "stream",
          "text": [
            "\r 14%|█▎        | 116/852 [07:08<42:23,  3.46s/it]"
          ]
        },
        {
          "metadata": {
            "tags": null
          },
          "name": "stdout",
          "output_type": "stream",
          "text": [
            "\n",
            "input_text :  [] 한식 여로부대찌개\n",
            "output_result :  찜/탕/찌개\n"
          ]
        },
        {
          "metadata": {
            "tags": null
          },
          "name": "stderr",
          "output_type": "stream",
          "text": [
            "\r 14%|█▎        | 117/852 [07:11<38:14,  3.12s/it]"
          ]
        },
        {
          "metadata": {
            "tags": null
          },
          "name": "stdout",
          "output_type": "stream",
          "text": [
            "\n",
            "input_text :  [] 호프/통닭 뉴\n",
            "output_result :  치킨\n"
          ]
        },
        {
          "metadata": {
            "tags": null
          },
          "name": "stderr",
          "output_type": "stream",
          "text": [
            "\r 14%|█▍        | 118/852 [07:14<39:53,  3.26s/it]"
          ]
        },
        {
          "metadata": {
            "tags": null
          },
          "name": "stdout",
          "output_type": "stream",
          "text": [
            "\n",
            "input_text :  ['옹심이만', '옹심이 칼국수', '옹심이 감자전'] 한식 풍물옹심이\n",
            "output_result :  백반\n"
          ]
        },
        {
          "metadata": {
            "tags": null
          },
          "name": "stderr",
          "output_type": "stream",
          "text": [
            "\r 14%|█▍        | 119/852 [07:18<41:38,  3.41s/it]"
          ]
        },
        {
          "metadata": {
            "tags": null
          },
          "name": "stdout",
          "output_type": "stream",
          "text": [
            "\n",
            "input_text :  [] 한식 행복한여자의공간\n",
            "output_result :  회\n"
          ]
        },
        {
          "metadata": {
            "tags": null
          },
          "name": "stderr",
          "output_type": "stream",
          "text": [
            "\r 14%|█▍        | 120/852 [07:21<39:42,  3.25s/it]"
          ]
        },
        {
          "metadata": {
            "tags": null
          },
          "name": "stdout",
          "output_type": "stream",
          "text": [
            "\n",
            "input_text :  [] 한식 금별맥주춘천애막골점\n",
            "output_result :  양식\n"
          ]
        },
        {
          "metadata": {
            "tags": null
          },
          "name": "stderr",
          "output_type": "stream",
          "text": [
            "\r 14%|█▍        | 121/852 [07:24<39:30,  3.24s/it]"
          ]
        },
        {
          "metadata": {
            "tags": null
          },
          "name": "stdout",
          "output_type": "stream",
          "text": [
            "\n",
            "input_text :  ['아메리카노', '카페라떼', '바닐라라떼'] 분식 소담소담\n",
            "output_result :  분식\n"
          ]
        },
        {
          "metadata": {
            "tags": null
          },
          "name": "stderr",
          "output_type": "stream",
          "text": [
            "\r 14%|█▍        | 122/852 [07:27<36:28,  3.00s/it]"
          ]
        },
        {
          "metadata": {
            "tags": null
          },
          "name": "stdout",
          "output_type": "stream",
          "text": [
            "\n",
            "input_text :  [] 분식 늘푸른분식\n",
            "output_result :  양식\n"
          ]
        },
        {
          "metadata": {
            "tags": null
          },
          "name": "stderr",
          "output_type": "stream",
          "text": [
            "\r 14%|█▍        | 123/852 [07:32<44:24,  3.66s/it]"
          ]
        },
        {
          "metadata": {
            "tags": null
          },
          "name": "stdout",
          "output_type": "stream",
          "text": [
            "\n",
            "input_text :  ['마포갈매기', '양념갈매기', '매콤갈매기'] 식육(숯불구이) 신마포갈매기\n",
            "output_result :  고기/구이\n"
          ]
        },
        {
          "metadata": {
            "tags": null
          },
          "name": "stderr",
          "output_type": "stream",
          "text": [
            "\r 15%|█▍        | 124/852 [07:38<52:35,  4.33s/it]"
          ]
        },
        {
          "metadata": {
            "tags": null
          },
          "name": "stdout",
          "output_type": "stream",
          "text": [
            "\n",
            "input_text :  ['막국수 (보)', '막국수 (곱)', '육개장칼국수'] 한식 해안막국수\n",
            "output_result :  국수\n"
          ]
        },
        {
          "metadata": {
            "tags": null
          },
          "name": "stderr",
          "output_type": "stream",
          "text": [
            "\r 15%|█▍        | 125/852 [07:41<48:49,  4.03s/it]"
          ]
        },
        {
          "metadata": {
            "tags": null
          },
          "name": "stdout",
          "output_type": "stream",
          "text": [
            "\n",
            "input_text :  ['제육볶음 (+청국장)', '동태찌개', '청국찌개'] 기타 횡성기사식당\n",
            "output_result :  찜/탕/찌개\n"
          ]
        },
        {
          "metadata": {
            "tags": null
          },
          "name": "stderr",
          "output_type": "stream",
          "text": [
            "\r 15%|█▍        | 126/852 [07:46<50:33,  4.18s/it]"
          ]
        },
        {
          "metadata": {
            "tags": null
          },
          "name": "stdout",
          "output_type": "stream",
          "text": [
            "\n",
            "input_text :  ['마법클 한마리', '더블팝 순살 양념', 'HOT 후라이드 콤보'] 호프/통닭 BHC한림대점\n",
            "output_result :  고기/구이\n"
          ]
        },
        {
          "metadata": {
            "tags": null
          },
          "name": "stderr",
          "output_type": "stream",
          "text": [
            "\r 15%|█▍        | 127/852 [07:48<45:27,  3.76s/it]"
          ]
        },
        {
          "metadata": {
            "tags": null
          },
          "name": "stdout",
          "output_type": "stream",
          "text": [
            "\n",
            "input_text :  [] 까페 캣츠\n",
            "output_result :  고기/구이\n"
          ]
        },
        {
          "metadata": {
            "tags": null
          },
          "name": "stderr",
          "output_type": "stream",
          "text": [
            "\r 15%|█▌        | 128/852 [07:52<45:04,  3.74s/it]"
          ]
        },
        {
          "metadata": {
            "tags": null
          },
          "name": "stdout",
          "output_type": "stream",
          "text": [
            "\n",
            "input_text :  ['사리', '녹각삼계탕', '삼계탕'] 탕류(보신용) 충남삼계탕박물관점\n",
            "output_result :  찜/탕/찌개\n"
          ]
        },
        {
          "metadata": {
            "tags": null
          },
          "name": "stderr",
          "output_type": "stream",
          "text": [
            "\r 15%|█▌        | 129/852 [07:55<41:15,  3.42s/it]"
          ]
        },
        {
          "metadata": {
            "tags": null
          },
          "name": "stdout",
          "output_type": "stream",
          "text": [
            "\n",
            "input_text :  [] 식육(숯불구이) 청솔한우\n",
            "output_result :  고기/구이\n"
          ]
        },
        {
          "metadata": {
            "tags": null
          },
          "name": "stderr",
          "output_type": "stream",
          "text": [
            "\r 15%|█▌        | 130/852 [07:57<37:38,  3.13s/it]"
          ]
        },
        {
          "metadata": {
            "tags": null
          },
          "name": "stdout",
          "output_type": "stream",
          "text": [
            "\n",
            "input_text :  [] 호프/통닭 문라이트\n",
            "output_result :  치킨\n"
          ]
        },
        {
          "metadata": {
            "tags": null
          },
          "name": "stderr",
          "output_type": "stream",
          "text": [
            "\r 15%|█▌        | 131/852 [08:01<41:29,  3.45s/it]"
          ]
        },
        {
          "metadata": {
            "tags": null
          },
          "name": "stdout",
          "output_type": "stream",
          "text": [
            "\n",
            "input_text :  ['추어탕', '통추어탕', '얼큰이 추어탕'] 한식 설악추어탕\n",
            "output_result :  찜/탕/찌개\n"
          ]
        },
        {
          "metadata": {
            "tags": null
          },
          "name": "stderr",
          "output_type": "stream",
          "text": [
            "\r 15%|█▌        | 132/852 [08:08<52:35,  4.38s/it]"
          ]
        },
        {
          "metadata": {
            "tags": null
          },
          "name": "stdout",
          "output_type": "stream",
          "text": [
            "\n",
            "input_text :  ['묵은지닭한마리1인분(순살300g/뼈반마리)', '닭떡볶이 1인분(순살1인분150g)', '닭도리탕1인분(순살300g/뼈반마리)'] 통닭(치킨) 닭장\n",
            "output_result :  치킨\n"
          ]
        },
        {
          "metadata": {
            "tags": null
          },
          "name": "stderr",
          "output_type": "stream",
          "text": [
            "\r 16%|█▌        | 133/852 [08:10<45:55,  3.83s/it]"
          ]
        },
        {
          "metadata": {
            "tags": null
          },
          "name": "stdout",
          "output_type": "stream",
          "text": [
            "\n",
            "input_text :  [] 패스트푸드 커피구루\n",
            "output_result :  분식\n"
          ]
        },
        {
          "metadata": {
            "tags": null
          },
          "name": "stderr",
          "output_type": "stream",
          "text": [
            "\r 16%|█▌        | 134/852 [08:14<44:04,  3.68s/it]"
          ]
        },
        {
          "metadata": {
            "tags": null
          },
          "name": "stdout",
          "output_type": "stream",
          "text": [
            "\n",
            "input_text :  [] 호프/통닭 더플레이스,곶\n",
            "output_result :  고기/구이\n"
          ]
        },
        {
          "metadata": {
            "tags": null
          },
          "name": "stderr",
          "output_type": "stream",
          "text": [
            "\r 16%|█▌        | 135/852 [08:17<42:36,  3.57s/it]"
          ]
        },
        {
          "metadata": {
            "tags": null
          },
          "name": "stdout",
          "output_type": "stream",
          "text": [
            "\n",
            "input_text :  ['야채곱창', '순대국', '술국'] 한식 채가네순대국\n",
            "output_result :  분식\n"
          ]
        },
        {
          "metadata": {
            "tags": null
          },
          "name": "stderr",
          "output_type": "stream",
          "text": [
            "\r 16%|█▌        | 136/852 [08:21<42:10,  3.53s/it]"
          ]
        },
        {
          "metadata": {
            "tags": null
          },
          "name": "stdout",
          "output_type": "stream",
          "text": [
            "\n",
            "input_text :  ['땡촌닭발', '땡촌날개', '땡촌무뼈닭발'] 한식 닭발집\n",
            "output_result :  고기/구이\n"
          ]
        },
        {
          "metadata": {
            "tags": null
          },
          "name": "stderr",
          "output_type": "stream",
          "text": [
            "\r 16%|█▌        | 137/852 [08:25<45:06,  3.79s/it]"
          ]
        },
        {
          "metadata": {
            "tags": null
          },
          "name": "stdout",
          "output_type": "stream",
          "text": [
            "\n",
            "input_text :  ['살로만치킨 1', '살로만치킨 2', '살로만치킨 3'] 한식 영구네식당\n",
            "output_result :  고기/구이\n"
          ]
        },
        {
          "metadata": {
            "tags": null
          },
          "name": "stderr",
          "output_type": "stream",
          "text": [
            "\r 16%|█▌        | 138/852 [08:28<44:10,  3.71s/it]"
          ]
        },
        {
          "metadata": {
            "tags": null
          },
          "name": "stdout",
          "output_type": "stream",
          "text": [
            "\n",
            "input_text :  ['진토닉', '체리콕', '멜론샤워'] 호프/통닭 강대맥주창고\n",
            "output_result :  아시안\n"
          ]
        },
        {
          "metadata": {
            "tags": null
          },
          "name": "stderr",
          "output_type": "stream",
          "text": [
            "\r 16%|█▋        | 139/852 [08:33<47:57,  4.04s/it]"
          ]
        },
        {
          "metadata": {
            "tags": null
          },
          "name": "stdout",
          "output_type": "stream",
          "text": [
            "\n",
            "input_text :  ['전통안동찜닭 (소)', '전통안동찜닭 (특소)', '전통안동찜닭 (중)'] 한식 퓨전안동찜닭\n",
            "output_result :  찜/탕/찌개\n"
          ]
        },
        {
          "metadata": {
            "tags": null
          },
          "name": "stderr",
          "output_type": "stream",
          "text": [
            "\r 16%|█▋        | 140/852 [08:36<42:31,  3.58s/it]"
          ]
        },
        {
          "metadata": {
            "tags": null
          },
          "name": "stdout",
          "output_type": "stream",
          "text": [
            "\n",
            "input_text :  [] 기타 메가커피강원대점\n",
            "output_result :  아시안\n"
          ]
        },
        {
          "metadata": {
            "tags": null
          },
          "name": "stderr",
          "output_type": "stream",
          "text": [
            "\r 17%|█▋        | 141/852 [08:40<44:06,  3.72s/it]"
          ]
        },
        {
          "metadata": {
            "tags": null
          },
          "name": "stdout",
          "output_type": "stream",
          "text": [
            "\n",
            "input_text :  ['우삼겹 숙주구이', '냉동삼겹살', '차돌박이'] 한식 소란\n",
            "output_result :  고기/구이\n"
          ]
        },
        {
          "metadata": {
            "tags": null
          },
          "name": "stderr",
          "output_type": "stream",
          "text": [
            "\r 17%|█▋        | 142/852 [08:43<41:13,  3.48s/it]"
          ]
        },
        {
          "metadata": {
            "tags": null
          },
          "name": "stdout",
          "output_type": "stream",
          "text": [
            "\n",
            "input_text :  ['김밥', '라면', '쫄면'] 분식 김밥나라\n",
            "output_result :  분식\n"
          ]
        },
        {
          "metadata": {
            "tags": null
          },
          "name": "stderr",
          "output_type": "stream",
          "text": [
            "\r 17%|█▋        | 143/852 [08:46<41:33,  3.52s/it]"
          ]
        },
        {
          "metadata": {
            "tags": null
          },
          "name": "stdout",
          "output_type": "stream",
          "text": [
            "\n",
            "input_text :  ['흑돼지구이', '흑돼지생삼겹살', '김치찌개'] 식육(숯불구이) 지리산토종흑돼지\n",
            "output_result :  고기/구이\n"
          ]
        },
        {
          "metadata": {
            "tags": null
          },
          "name": "stderr",
          "output_type": "stream",
          "text": [
            "\r 17%|█▋        | 144/852 [08:50<42:56,  3.64s/it]"
          ]
        },
        {
          "metadata": {
            "tags": null
          },
          "name": "stdout",
          "output_type": "stream",
          "text": [
            "\n",
            "input_text :  ['새우크림카레', '치킨카레', '돈까스카레'] 기타 노란\n",
            "output_result :  돈까스\n"
          ]
        },
        {
          "metadata": {
            "tags": null
          },
          "name": "stderr",
          "output_type": "stream",
          "text": [
            "\r 17%|█▋        | 145/852 [08:53<39:05,  3.32s/it]"
          ]
        },
        {
          "metadata": {
            "tags": null
          },
          "name": "stdout",
          "output_type": "stream",
          "text": [
            "\n",
            "input_text :  [] 한식 코리아\n",
            "output_result :  회\n"
          ]
        },
        {
          "metadata": {
            "tags": null
          },
          "name": "stderr",
          "output_type": "stream",
          "text": [
            "\r 17%|█▋        | 146/852 [08:57<40:26,  3.44s/it]"
          ]
        },
        {
          "metadata": {
            "tags": null
          },
          "name": "stdout",
          "output_type": "stream",
          "text": [
            "\n",
            "input_text :  ['교촌오리지날', '교촌콤보', '교촌윙'] 통닭(치킨) 교촌치킨석사점\n",
            "output_result :  치킨\n"
          ]
        },
        {
          "metadata": {
            "tags": null
          },
          "name": "stderr",
          "output_type": "stream",
          "text": [
            "\r 17%|█▋        | 147/852 [08:59<36:39,  3.12s/it]"
          ]
        },
        {
          "metadata": {
            "tags": null
          },
          "name": "stdout",
          "output_type": "stream",
          "text": [
            "\n",
            "input_text :  [] 호프/통닭 쏘마\n",
            "output_result :  치킨\n"
          ]
        },
        {
          "metadata": {
            "tags": null
          },
          "name": "stderr",
          "output_type": "stream",
          "text": [
            "\r 17%|█▋        | 148/852 [09:04<42:08,  3.59s/it]"
          ]
        },
        {
          "metadata": {
            "tags": null
          },
          "name": "stdout",
          "output_type": "stream",
          "text": [
            "\n",
            "input_text :  ['모듬스페샬 (소)', '모듬스페샬 (중)', '모듬스페샬 (대)'] 횟집 바다마을\n",
            "output_result :  고기/구이\n"
          ]
        },
        {
          "metadata": {
            "tags": null
          },
          "name": "stderr",
          "output_type": "stream",
          "text": [
            "\r 17%|█▋        | 149/852 [09:06<39:19,  3.36s/it]"
          ]
        },
        {
          "metadata": {
            "tags": null
          },
          "name": "stdout",
          "output_type": "stream",
          "text": [
            "\n",
            "input_text :  [] 감성주점 레드립(Red Lip)\n",
            "output_result :  양식\n"
          ]
        },
        {
          "metadata": {
            "tags": null
          },
          "name": "stderr",
          "output_type": "stream",
          "text": [
            "\r 18%|█▊        | 150/852 [09:09<36:13,  3.10s/it]"
          ]
        },
        {
          "metadata": {
            "tags": null
          },
          "name": "stdout",
          "output_type": "stream",
          "text": [
            "\n",
            "input_text :  [] 호프/통닭 물안개식당\n",
            "output_result :  치킨\n"
          ]
        },
        {
          "metadata": {
            "tags": null
          },
          "name": "stderr",
          "output_type": "stream",
          "text": [
            "\r 18%|█▊        | 151/852 [09:12<37:08,  3.18s/it]"
          ]
        },
        {
          "metadata": {
            "tags": null
          },
          "name": "stdout",
          "output_type": "stream",
          "text": [
            "\n",
            "input_text :  ['아메리카노', '카페라떼', '바닐라라떼'] 경양식 베이스먼트(Basement)\n",
            "output_result :  양식\n"
          ]
        },
        {
          "metadata": {
            "tags": null
          },
          "name": "stderr",
          "output_type": "stream",
          "text": [
            "\r 18%|█▊        | 152/852 [09:17<42:32,  3.65s/it]"
          ]
        },
        {
          "metadata": {
            "tags": null
          },
          "name": "stdout",
          "output_type": "stream",
          "text": [
            "\n",
            "input_text :  ['데이야끼오븐', '마약커리', '매콤골뱅이무침'] 호프/통닭 치킨퐁석사다온점\n",
            "output_result :  고기/구이\n"
          ]
        },
        {
          "metadata": {
            "tags": null
          },
          "name": "stderr",
          "output_type": "stream",
          "text": [
            "\r 18%|█▊        | 153/852 [09:19<38:08,  3.27s/it]"
          ]
        },
        {
          "metadata": {
            "tags": null
          },
          "name": "stdout",
          "output_type": "stream",
          "text": [
            "\n",
            "input_text :  [] 중국식 명품탕수육\n",
            "output_result :  국밥\n"
          ]
        },
        {
          "metadata": {
            "tags": null
          },
          "name": "stderr",
          "output_type": "stream",
          "text": [
            "\r 18%|█▊        | 154/852 [09:22<35:56,  3.09s/it]"
          ]
        },
        {
          "metadata": {
            "tags": null
          },
          "name": "stdout",
          "output_type": "stream",
          "text": [
            "\n",
            "input_text :  [] 식육(숯불구이) 석사돌삼겹\n",
            "output_result :  고기/구이\n"
          ]
        },
        {
          "metadata": {
            "tags": null
          },
          "name": "stderr",
          "output_type": "stream",
          "text": [
            "\r 18%|█▊        | 155/852 [09:25<34:36,  2.98s/it]"
          ]
        },
        {
          "metadata": {
            "tags": null
          },
          "name": "stdout",
          "output_type": "stream",
          "text": [
            "\n",
            "input_text :  [] 통닭(치킨) 오케이치킨(봄내점)\n",
            "output_result :  치킨\n"
          ]
        },
        {
          "metadata": {
            "tags": null
          },
          "name": "stderr",
          "output_type": "stream",
          "text": [
            "\r 18%|█▊        | 156/852 [09:27<32:38,  2.81s/it]"
          ]
        },
        {
          "metadata": {
            "tags": null
          },
          "name": "stdout",
          "output_type": "stream",
          "text": [
            "\n",
            "input_text :  [] 라이브카페 열린무대\n",
            "output_result :  양식\n"
          ]
        },
        {
          "metadata": {
            "tags": null
          },
          "name": "stderr",
          "output_type": "stream",
          "text": [
            "\r 18%|█▊        | 157/852 [09:32<39:50,  3.44s/it]"
          ]
        },
        {
          "metadata": {
            "tags": null
          },
          "name": "stdout",
          "output_type": "stream",
          "text": [
            "\n",
            "input_text :  ['우거지 감자탕', '묵은지 감자탕', '뼈 해물찜'] 탕류(보신용) 수누리감자탕(춘천점)\n",
            "output_result :  찜/탕/찌개\n"
          ]
        },
        {
          "metadata": {
            "tags": null
          },
          "name": "stderr",
          "output_type": "stream",
          "text": [
            "\r 19%|█▊        | 158/852 [09:36<40:37,  3.51s/it]"
          ]
        },
        {
          "metadata": {
            "tags": null
          },
          "name": "stdout",
          "output_type": "stream",
          "text": [
            "\n",
            "input_text :  ['두마리 치킨 1메뉴', '후라이드치킨', '반반치킨'] 통닭(치킨) 맛고을통닭\n",
            "output_result :  치킨\n"
          ]
        },
        {
          "metadata": {
            "tags": null
          },
          "name": "stderr",
          "output_type": "stream",
          "text": [
            "\r 19%|█▊        | 159/852 [09:39<38:33,  3.34s/it]"
          ]
        },
        {
          "metadata": {
            "tags": null
          },
          "name": "stdout",
          "output_type": "stream",
          "text": [
            "\n",
            "input_text :  ['떡볶이', '우동', '감자전'] 한식 석사포차\n",
            "output_result :  분식\n"
          ]
        },
        {
          "metadata": {
            "tags": null
          },
          "name": "stderr",
          "output_type": "stream",
          "text": [
            "\r 19%|█▉        | 160/852 [09:43<41:54,  3.63s/it]"
          ]
        },
        {
          "metadata": {
            "tags": null
          },
          "name": "stdout",
          "output_type": "stream",
          "text": [
            "\n",
            "input_text :  ['냉채족발', '닭볶음탕', '오징어볶음'] 호프/통닭 삼태기\n",
            "output_result :  찜/탕/찌개\n"
          ]
        },
        {
          "metadata": {
            "tags": null
          },
          "name": "stderr",
          "output_type": "stream",
          "text": [
            "\r 19%|█▉        | 161/852 [09:47<41:49,  3.63s/it]"
          ]
        },
        {
          "metadata": {
            "tags": null
          },
          "name": "stdout",
          "output_type": "stream",
          "text": [
            "\n",
            "input_text :  ['순대국밥', '황태해장국', '모듬순대(소)'] 한식 병천시골순대국밥\n",
            "output_result :  국밥\n"
          ]
        },
        {
          "metadata": {
            "tags": null
          },
          "name": "stderr",
          "output_type": "stream",
          "text": [
            "\r 19%|█▉        | 162/852 [09:50<41:12,  3.58s/it]"
          ]
        },
        {
          "metadata": {
            "tags": null
          },
          "name": "stdout",
          "output_type": "stream",
          "text": [
            "\n",
            "input_text :  ['뚱이냉면', '뚱이술국', '뚱이전골'] 한식 뚱이수육국밥\n",
            "output_result :  국밥\n"
          ]
        },
        {
          "metadata": {
            "tags": null
          },
          "name": "stderr",
          "output_type": "stream",
          "text": [
            "\r 19%|█▉        | 163/852 [09:54<40:48,  3.55s/it]"
          ]
        },
        {
          "metadata": {
            "tags": null
          },
          "name": "stdout",
          "output_type": "stream",
          "text": [
            "\n",
            "input_text :  ['로스구이', '된장찌개', '잔치국수'] 한식 소양강숯불오리\n",
            "output_result :  고기/구이\n"
          ]
        },
        {
          "metadata": {
            "tags": null
          },
          "name": "stderr",
          "output_type": "stream",
          "text": [
            "\r 19%|█▉        | 164/852 [09:58<43:04,  3.76s/it]"
          ]
        },
        {
          "metadata": {
            "tags": null
          },
          "name": "stdout",
          "output_type": "stream",
          "text": [
            "\n",
            "input_text :  ['복지리+매운탕', '장치찜(중)', '가자미찜(중)'] 한식 진수성찬\n",
            "output_result :  찜/탕/찌개\n"
          ]
        },
        {
          "metadata": {
            "tags": null
          },
          "name": "stderr",
          "output_type": "stream",
          "text": [
            "\r 19%|█▉        | 165/852 [10:00<38:24,  3.35s/it]"
          ]
        },
        {
          "metadata": {
            "tags": null
          },
          "name": "stdout",
          "output_type": "stream",
          "text": [
            "\n",
            "input_text :  [] 한식 꿀돼지생삼겹살\n",
            "output_result :  고기/구이\n"
          ]
        },
        {
          "metadata": {
            "tags": null
          },
          "name": "stderr",
          "output_type": "stream",
          "text": [
            "\r 19%|█▉        | 166/852 [10:04<40:24,  3.53s/it]"
          ]
        },
        {
          "metadata": {
            "tags": null
          },
          "name": "stdout",
          "output_type": "stream",
          "text": [
            "\n",
            "input_text :  ['갈매기살 (200g)', '돼지목살 (200g)', '돼지막창 (200g)'] 호프/통닭 석사왕막걸리\n",
            "output_result :  고기/구이\n"
          ]
        },
        {
          "metadata": {
            "tags": null
          },
          "name": "stderr",
          "output_type": "stream",
          "text": [
            "\r 20%|█▉        | 167/852 [10:09<42:53,  3.76s/it]"
          ]
        },
        {
          "metadata": {
            "tags": null
          },
          "name": "stdout",
          "output_type": "stream",
          "text": [
            "\n",
            "input_text :  ['마른안주', '오징어 볶음', '매운 닭발'] 호프/통닭 미스타빈\n",
            "output_result :  양식\n"
          ]
        },
        {
          "metadata": {
            "tags": null
          },
          "name": "stderr",
          "output_type": "stream",
          "text": [
            "\r 20%|█▉        | 168/852 [10:12<40:34,  3.56s/it]"
          ]
        },
        {
          "metadata": {
            "tags": null
          },
          "name": "stdout",
          "output_type": "stream",
          "text": [
            "\n",
            "input_text :  ['돼지갈비', '생삼겹살', '갈매기살'] 한식 먹보갈비\n",
            "output_result :  고기/구이\n"
          ]
        },
        {
          "metadata": {
            "tags": null
          },
          "name": "stderr",
          "output_type": "stream",
          "text": [
            "\r 20%|█▉        | 169/852 [10:16<41:58,  3.69s/it]"
          ]
        },
        {
          "metadata": {
            "tags": null
          },
          "name": "stdout",
          "output_type": "stream",
          "text": [
            "\n",
            "input_text :  ['섞어탕(특)', '섞어탕(보)', '우거지갈비해장국(특)'] 한식 자미해장국\n",
            "output_result :  찜/탕/찌개\n"
          ]
        },
        {
          "metadata": {
            "tags": null
          },
          "name": "stderr",
          "output_type": "stream",
          "text": [
            "\r 20%|█▉        | 170/852 [10:18<38:28,  3.38s/it]"
          ]
        },
        {
          "metadata": {
            "tags": null
          },
          "name": "stdout",
          "output_type": "stream",
          "text": [
            "\n",
            "input_text :  [] 정종/대포집/소주방 홍탁삼합\n",
            "output_result :  양식\n"
          ]
        },
        {
          "metadata": {
            "tags": null
          },
          "name": "stderr",
          "output_type": "stream",
          "text": [
            "\r 20%|██        | 171/852 [10:22<38:23,  3.38s/it]"
          ]
        },
        {
          "metadata": {
            "tags": null
          },
          "name": "stdout",
          "output_type": "stream",
          "text": [
            "\n",
            "input_text :  [] 통닭(치킨) 남부푸드\n",
            "output_result :  치킨\n"
          ]
        },
        {
          "metadata": {
            "tags": null
          },
          "name": "stderr",
          "output_type": "stream",
          "text": [
            "\r 20%|██        | 172/852 [10:24<36:09,  3.19s/it]"
          ]
        },
        {
          "metadata": {
            "tags": null
          },
          "name": "stdout",
          "output_type": "stream",
          "text": [
            "\n",
            "input_text :  [] 식육(숯불구이) 황제돼지갈비효자점\n",
            "output_result :  고기/구이\n"
          ]
        },
        {
          "metadata": {
            "tags": null
          },
          "name": "stderr",
          "output_type": "stream",
          "text": [
            "\r 20%|██        | 173/852 [10:27<33:42,  2.98s/it]"
          ]
        },
        {
          "metadata": {
            "tags": null
          },
          "name": "stdout",
          "output_type": "stream",
          "text": [
            "\n",
            "input_text :  [] 통닭(치킨) 하림통닭\n",
            "output_result :  치킨\n"
          ]
        },
        {
          "metadata": {
            "tags": null
          },
          "name": "stderr",
          "output_type": "stream",
          "text": [
            "\r 20%|██        | 174/852 [10:30<32:32,  2.88s/it]"
          ]
        },
        {
          "metadata": {
            "tags": null
          },
          "name": "stdout",
          "output_type": "stream",
          "text": [
            "\n",
            "input_text :  [] 횟집 제주옥탑춘천스무숲점\n",
            "output_result :  회\n"
          ]
        },
        {
          "metadata": {
            "tags": null
          },
          "name": "stderr",
          "output_type": "stream",
          "text": [
            "\r 21%|██        | 175/852 [10:32<32:34,  2.89s/it]"
          ]
        },
        {
          "metadata": {
            "tags": null
          },
          "name": "stdout",
          "output_type": "stream",
          "text": [
            "\n",
            "input_text :  [] 한식 가마골인삼순대\n",
            "output_result :  분식\n"
          ]
        },
        {
          "metadata": {
            "tags": null
          },
          "name": "stderr",
          "output_type": "stream",
          "text": [
            "\r 21%|██        | 176/852 [10:35<32:52,  2.92s/it]"
          ]
        },
        {
          "metadata": {
            "tags": null
          },
          "name": "stdout",
          "output_type": "stream",
          "text": [
            "\n",
            "input_text :  [] 한식 해마루스무숲점\n",
            "output_result :  양식\n"
          ]
        },
        {
          "metadata": {
            "tags": null
          },
          "name": "stderr",
          "output_type": "stream",
          "text": [
            "\r 21%|██        | 177/852 [10:41<40:24,  3.59s/it]"
          ]
        },
        {
          "metadata": {
            "tags": null
          },
          "name": "stdout",
          "output_type": "stream",
          "text": [
            "\n",
            "input_text :  ['막리단길쟁반술상9가지', '고기김치전', '청양새우부추전'] 정종/대포집/소주방 막리단길춘천애막골점\n",
            "output_result :  양식\n"
          ]
        },
        {
          "metadata": {
            "tags": null
          },
          "name": "stderr",
          "output_type": "stream",
          "text": [
            "\r 21%|██        | 178/852 [10:43<37:11,  3.31s/it]"
          ]
        },
        {
          "metadata": {
            "tags": null
          },
          "name": "stdout",
          "output_type": "stream",
          "text": [
            "\n",
            "input_text :  [] 탕류(보신용) 원대감감자탕\n",
            "output_result :  백반\n"
          ]
        },
        {
          "metadata": {
            "tags": null
          },
          "name": "stderr",
          "output_type": "stream",
          "text": [
            "\r 21%|██        | 179/852 [10:48<43:13,  3.85s/it]"
          ]
        },
        {
          "metadata": {
            "tags": null
          },
          "name": "stdout",
          "output_type": "stream",
          "text": [
            "\n",
            "input_text :  ['양념후라이드치킨', '사이후라이드치킨', '골뱅이&사이후라이드치킨'] 호프/통닭 쪼끼쪼끼\n",
            "output_result :  고기/구이\n"
          ]
        },
        {
          "metadata": {
            "tags": null
          },
          "name": "stderr",
          "output_type": "stream",
          "text": [
            "\r 21%|██        | 180/852 [10:53<44:13,  3.95s/it]"
          ]
        },
        {
          "metadata": {
            "tags": null
          },
          "name": "stdout",
          "output_type": "stream",
          "text": [
            "\n",
            "input_text :  ['닭한마리 (소)', '순살 닭한마리 (1인분)', '닭도리탕 (소)'] 호프/통닭 콩닭콩닭\n",
            "output_result :  찜/탕/찌개\n"
          ]
        },
        {
          "metadata": {
            "tags": null
          },
          "name": "stderr",
          "output_type": "stream",
          "text": [
            "\r 21%|██        | 181/852 [10:56<43:02,  3.85s/it]"
          ]
        },
        {
          "metadata": {
            "tags": null
          },
          "name": "stdout",
          "output_type": "stream",
          "text": [
            "\n",
            "input_text :  ['쌈스테이키', '대파불오징어', '곱창짜글이'] 통닭(치킨) 설맥(석사점)\n",
            "output_result :  고기/구이\n"
          ]
        },
        {
          "metadata": {
            "tags": null
          },
          "name": "stderr",
          "output_type": "stream",
          "text": [
            "\r 21%|██▏       | 182/852 [10:59<41:11,  3.69s/it]"
          ]
        },
        {
          "metadata": {
            "tags": null
          },
          "name": "stdout",
          "output_type": "stream",
          "text": [
            "\n",
            "input_text :  [] 호프/통닭 앳(AT)\n",
            "output_result :  치킨\n"
          ]
        },
        {
          "metadata": {
            "tags": null
          },
          "name": "stderr",
          "output_type": "stream",
          "text": [
            "\r 21%|██▏       | 183/852 [11:03<39:13,  3.52s/it]"
          ]
        },
        {
          "metadata": {
            "tags": null
          },
          "name": "stdout",
          "output_type": "stream",
          "text": [
            "\n",
            "input_text :  ['김치찌개', '된장찌개', '두부찌개'] 한식 신토불이\n",
            "output_result :  찜/탕/찌개\n"
          ]
        },
        {
          "metadata": {
            "tags": null
          },
          "name": "stderr",
          "output_type": "stream",
          "text": [
            "\r 22%|██▏       | 184/852 [11:06<39:37,  3.56s/it]"
          ]
        },
        {
          "metadata": {
            "tags": null
          },
          "name": "stdout",
          "output_type": "stream",
          "text": [
            "\n",
            "input_text :  ['딥치즈버거', '싸이버거', '디럭스불고기버거'] 통닭(치킨) 맘스터치(석사점)\n",
            "output_result :  고기/구이\n"
          ]
        },
        {
          "metadata": {
            "tags": null
          },
          "name": "stderr",
          "output_type": "stream",
          "text": [
            "\r 22%|██▏       | 185/852 [11:09<36:17,  3.26s/it]"
          ]
        },
        {
          "metadata": {
            "tags": null
          },
          "name": "stdout",
          "output_type": "stream",
          "text": [
            "\n",
            "input_text :  [] 정종/대포집/소주방 혼\n",
            "output_result :  회\n"
          ]
        },
        {
          "metadata": {
            "tags": null
          },
          "name": "stderr",
          "output_type": "stream",
          "text": [
            "\r 22%|██▏       | 186/852 [11:12<37:31,  3.38s/it]"
          ]
        },
        {
          "metadata": {
            "tags": null
          },
          "name": "stdout",
          "output_type": "stream",
          "text": [
            "\n",
            "input_text :  [] 통닭(치킨) 육회야문연어춘천점\n",
            "output_result :  치킨\n"
          ]
        },
        {
          "metadata": {
            "tags": null
          },
          "name": "stderr",
          "output_type": "stream",
          "text": [
            "\r 22%|██▏       | 187/852 [11:15<35:20,  3.19s/it]"
          ]
        },
        {
          "metadata": {
            "tags": null
          },
          "name": "stdout",
          "output_type": "stream",
          "text": [
            "\n",
            "input_text :  [] 호프/통닭 룽타우객잔딜리버리\n",
            "output_result :  치킨\n"
          ]
        },
        {
          "metadata": {
            "tags": null
          },
          "name": "stderr",
          "output_type": "stream",
          "text": [
            "\r 22%|██▏       | 188/852 [11:19<36:18,  3.28s/it]"
          ]
        },
        {
          "metadata": {
            "tags": null
          },
          "name": "stdout",
          "output_type": "stream",
          "text": [
            "\n",
            "input_text :  ['노가리', '먹태', '마른안주'] 정종/대포집/소주방 나들목주당\n",
            "output_result :  양식\n"
          ]
        },
        {
          "metadata": {
            "tags": null
          },
          "name": "stderr",
          "output_type": "stream",
          "text": [
            "\r 22%|██▏       | 189/852 [11:21<32:46,  2.97s/it]"
          ]
        },
        {
          "metadata": {
            "tags": null
          },
          "name": "stdout",
          "output_type": "stream",
          "text": [
            "\n",
            "input_text :  [] 한식 만남\n",
            "output_result :  양식\n"
          ]
        },
        {
          "metadata": {
            "tags": null
          },
          "name": "stderr",
          "output_type": "stream",
          "text": [
            "\r 22%|██▏       | 190/852 [11:24<32:49,  2.97s/it]"
          ]
        },
        {
          "metadata": {
            "tags": null
          },
          "name": "stdout",
          "output_type": "stream",
          "text": [
            "\n",
            "input_text :  [] 한식 춘천옥수한방코다리\n",
            "output_result :  찜/탕/찌개\n"
          ]
        },
        {
          "metadata": {
            "tags": null
          },
          "name": "stderr",
          "output_type": "stream",
          "text": [
            "\r 22%|██▏       | 191/852 [11:28<36:03,  3.27s/it]"
          ]
        },
        {
          "metadata": {
            "tags": null
          },
          "name": "stdout",
          "output_type": "stream",
          "text": [
            "\n",
            "input_text :  ['순대국', '얼큰순대국', '순대국(특)'] 한식 오도순순대국\n",
            "output_result :  국밥\n"
          ]
        },
        {
          "metadata": {
            "tags": null
          },
          "name": "stderr",
          "output_type": "stream",
          "text": [
            "\r 23%|██▎       | 192/852 [11:31<36:09,  3.29s/it]"
          ]
        },
        {
          "metadata": {
            "tags": null
          },
          "name": "stdout",
          "output_type": "stream",
          "text": [
            "\n",
            "input_text :  ['활어회', '도다리', '혼술활어회'] 횟집 우주종합어시장\n",
            "output_result :  양식\n"
          ]
        },
        {
          "metadata": {
            "tags": null
          },
          "name": "stderr",
          "output_type": "stream",
          "text": [
            "\r 23%|██▎       | 193/852 [11:34<35:43,  3.25s/it]"
          ]
        },
        {
          "metadata": {
            "tags": null
          },
          "name": "stdout",
          "output_type": "stream",
          "text": [
            "\n",
            "input_text :  ['계란말이', '계란후라이', '레모네이드'] 기타 뽁밥\n",
            "output_result :  양식\n"
          ]
        },
        {
          "metadata": {
            "tags": null
          },
          "name": "stderr",
          "output_type": "stream",
          "text": [
            "\r 23%|██▎       | 194/852 [11:37<35:09,  3.21s/it]"
          ]
        },
        {
          "metadata": {
            "tags": null
          },
          "name": "stdout",
          "output_type": "stream",
          "text": [
            "\n",
            "input_text :  [] 통닭(치킨) 꽃띠\n",
            "output_result :  치킨\n"
          ]
        },
        {
          "metadata": {
            "tags": null
          },
          "name": "stderr",
          "output_type": "stream",
          "text": [
            "\r 23%|██▎       | 195/852 [11:41<37:25,  3.42s/it]"
          ]
        },
        {
          "metadata": {
            "tags": null
          },
          "name": "stdout",
          "output_type": "stream",
          "text": [
            "\n",
            "input_text :  ['미박삼겹살', '특목살', '갈비본살'] 식육(숯불구이) 목구멍춘천점\n",
            "output_result :  고기/구이\n"
          ]
        },
        {
          "metadata": {
            "tags": null
          },
          "name": "stderr",
          "output_type": "stream",
          "text": [
            "\r 23%|██▎       | 196/852 [11:44<36:14,  3.31s/it]"
          ]
        },
        {
          "metadata": {
            "tags": null
          },
          "name": "stdout",
          "output_type": "stream",
          "text": [
            "\n",
            "input_text :  ['향어', '잡고기', '매운탕'] 횟집 춘천민물횟집\n",
            "output_result :  고기/구이\n"
          ]
        },
        {
          "metadata": {
            "tags": null
          },
          "name": "stderr",
          "output_type": "stream",
          "text": [
            "\r 23%|██▎       | 197/852 [11:48<35:26,  3.25s/it]"
          ]
        },
        {
          "metadata": {
            "tags": null
          },
          "name": "stdout",
          "output_type": "stream",
          "text": [
            "\n",
            "input_text :  ['회무침', '도다리', '숭어'] 일식 황금어장\n",
            "output_result :  일식\n"
          ]
        },
        {
          "metadata": {
            "tags": null
          },
          "name": "stderr",
          "output_type": "stream",
          "text": [
            "\r 23%|██▎       | 198/852 [11:54<46:24,  4.26s/it]"
          ]
        },
        {
          "metadata": {
            "tags": null
          },
          "name": "stdout",
          "output_type": "stream",
          "text": [
            "\n",
            "input_text :  ['(평일)소고기샤브샤브 런치SET (1인분)', '(평일)소고기샤브샤브 런치무한리필 (1인분)', '(디너)소고기 샤브샤브 (1인분)'] 한식 스푼더마켓\n",
            "output_result :  고기/구이\n"
          ]
        },
        {
          "metadata": {
            "tags": null
          },
          "name": "stderr",
          "output_type": "stream",
          "text": [
            "\r 23%|██▎       | 199/852 [11:58<44:34,  4.10s/it]"
          ]
        },
        {
          "metadata": {
            "tags": null
          },
          "name": "stdout",
          "output_type": "stream",
          "text": [
            "\n",
            "input_text :  ['짜짜로니 피자', '콘케이노 치킨 피자', '콘소메 치킨 피자'] 패스트푸드 고피자(춘천석사점)\n",
            "output_result :  분식\n"
          ]
        },
        {
          "metadata": {
            "tags": null
          },
          "name": "stderr",
          "output_type": "stream",
          "text": [
            "\r 23%|██▎       | 200/852 [12:00<38:57,  3.58s/it]"
          ]
        },
        {
          "metadata": {
            "tags": null
          },
          "name": "stdout",
          "output_type": "stream",
          "text": [
            "\n",
            "input_text :  [] 한식 밥보네집\n",
            "output_result :  분식\n"
          ]
        },
        {
          "metadata": {
            "tags": null
          },
          "name": "stderr",
          "output_type": "stream",
          "text": [
            "\r 24%|██▎       | 201/852 [12:05<42:23,  3.91s/it]"
          ]
        },
        {
          "metadata": {
            "tags": null
          },
          "name": "stdout",
          "output_type": "stream",
          "text": [
            "\n",
            "input_text :  ['플레인크로플', '아이스크림크로플', '크림치즈크로플'] 호프/통닭 커피톡(coffee-talk)\n",
            "output_result :  치킨\n"
          ]
        },
        {
          "metadata": {
            "tags": null
          },
          "name": "stderr",
          "output_type": "stream",
          "text": [
            "\r 24%|██▎       | 202/852 [12:09<41:18,  3.81s/it]"
          ]
        },
        {
          "metadata": {
            "tags": null
          },
          "name": "stdout",
          "output_type": "stream",
          "text": [
            "\n",
            "input_text :  ['크림빠네', '로제빠네', '까르보나라'] 경양식 돈카돈까(퇴계점)\n",
            "output_result :  돈까스\n"
          ]
        },
        {
          "metadata": {
            "tags": null
          },
          "name": "stderr",
          "output_type": "stream",
          "text": [
            "\r 24%|██▍       | 203/852 [12:11<38:21,  3.55s/it]"
          ]
        },
        {
          "metadata": {
            "tags": null
          },
          "name": "stdout",
          "output_type": "stream",
          "text": [
            "\n",
            "input_text :  [] 정종/대포집/소주방 기막힌밥상\n",
            "output_result :  양식\n"
          ]
        },
        {
          "metadata": {
            "tags": null
          },
          "name": "stderr",
          "output_type": "stream",
          "text": [
            "\r 24%|██▍       | 204/852 [12:15<39:35,  3.67s/it]"
          ]
        },
        {
          "metadata": {
            "tags": null
          },
          "name": "stdout",
          "output_type": "stream",
          "text": [
            "\n",
            "input_text :  [] 기타 748커피앤코(coffee&co)\n",
            "output_result :  양식\n"
          ]
        },
        {
          "metadata": {
            "tags": null
          },
          "name": "stderr",
          "output_type": "stream",
          "text": [
            "\r 24%|██▍       | 205/852 [12:19<40:39,  3.77s/it]"
          ]
        },
        {
          "metadata": {
            "tags": null
          },
          "name": "stdout",
          "output_type": "stream",
          "text": [
            "\n",
            "input_text :  ['홍익돈까스', '돈까스 정식', '해물토마토파스타'] 한식 홍익돈까스\n",
            "output_result :  돈까스\n"
          ]
        },
        {
          "metadata": {
            "tags": null
          },
          "name": "stderr",
          "output_type": "stream",
          "text": [
            "\r 24%|██▍       | 206/852 [12:23<39:22,  3.66s/it]"
          ]
        },
        {
          "metadata": {
            "tags": null
          },
          "name": "stdout",
          "output_type": "stream",
          "text": [
            "\n",
            "input_text :  ['치킨까스', '생선까스', '왕돈까스'] 경양식 레스토랑돈까스\n",
            "output_result :  양식\n"
          ]
        },
        {
          "metadata": {
            "tags": null
          },
          "name": "stderr",
          "output_type": "stream",
          "text": [
            "\r 24%|██▍       | 207/852 [12:26<38:04,  3.54s/it]"
          ]
        },
        {
          "metadata": {
            "tags": null
          },
          "name": "stdout",
          "output_type": "stream",
          "text": [
            "\n",
            "input_text :  ['동경특사시미', '동경사시미', '특정식'] 일식 동경\n",
            "output_result :  일식\n"
          ]
        },
        {
          "metadata": {
            "tags": null
          },
          "name": "stderr",
          "output_type": "stream",
          "text": [
            "\r 24%|██▍       | 208/852 [12:29<36:36,  3.41s/it]"
          ]
        },
        {
          "metadata": {
            "tags": null
          },
          "name": "stdout",
          "output_type": "stream",
          "text": [
            "\n",
            "input_text :  [] 분식 대박포차\n",
            "output_result :  양식\n"
          ]
        },
        {
          "metadata": {
            "tags": null
          },
          "name": "stderr",
          "output_type": "stream",
          "text": [
            "\r 25%|██▍       | 209/852 [12:33<36:31,  3.41s/it]"
          ]
        },
        {
          "metadata": {
            "tags": null
          },
          "name": "stdout",
          "output_type": "stream",
          "text": [
            "\n",
            "input_text :  ['보리밥', '장칼국수', '칼국수'] 한식 화동손칼국수\n",
            "output_result :  국수\n"
          ]
        },
        {
          "metadata": {
            "tags": null
          },
          "name": "stderr",
          "output_type": "stream",
          "text": [
            "\r 25%|██▍       | 210/852 [12:38<41:28,  3.88s/it]"
          ]
        },
        {
          "metadata": {
            "tags": null
          },
          "name": "stdout",
          "output_type": "stream",
          "text": [
            "\n",
            "input_text :  ['한우살치살 (150g)', '한우육회 (150g)', '항정살 (200g)'] 식육(숯불구이) 태평소스무숲점\n",
            "output_result :  고기/구이\n"
          ]
        },
        {
          "metadata": {
            "tags": null
          },
          "name": "stderr",
          "output_type": "stream",
          "text": [
            "\r 25%|██▍       | 211/852 [12:40<36:41,  3.43s/it]"
          ]
        },
        {
          "metadata": {
            "tags": null
          },
          "name": "stdout",
          "output_type": "stream",
          "text": [
            "\n",
            "input_text :  [] 기타 엄마생각\n",
            "output_result :  양식\n"
          ]
        },
        {
          "metadata": {
            "tags": null
          },
          "name": "stderr",
          "output_type": "stream",
          "text": [
            "\r 25%|██▍       | 212/852 [12:44<39:33,  3.71s/it]"
          ]
        },
        {
          "metadata": {
            "tags": null
          },
          "name": "stdout",
          "output_type": "stream",
          "text": [
            "\n",
            "input_text :  ['스페셜75', '스페셜85', '활어회메뉴(소)'] 횟집 경포대횟집\n",
            "output_result :  고기/구이\n"
          ]
        },
        {
          "metadata": {
            "tags": null
          },
          "name": "stderr",
          "output_type": "stream",
          "text": [
            "\r 25%|██▌       | 213/852 [12:48<40:04,  3.76s/it]"
          ]
        },
        {
          "metadata": {
            "tags": null
          },
          "name": "stdout",
          "output_type": "stream",
          "text": [
            "\n",
            "input_text :  ['삼겹말이세트', '닭날개꼬치', '닭목살꼬치'] 호프/통닭 간이역효자역점\n",
            "output_result :  고기/구이\n"
          ]
        },
        {
          "metadata": {
            "tags": null
          },
          "name": "stderr",
          "output_type": "stream",
          "text": [
            "\r 25%|██▌       | 214/852 [12:52<39:21,  3.70s/it]"
          ]
        },
        {
          "metadata": {
            "tags": null
          },
          "name": "stdout",
          "output_type": "stream",
          "text": [
            "\n",
            "input_text :  ['광어(소)', '세꼬시(소)', '놀래미(소)'] 횟집 대포항횟집\n",
            "output_result :  고기/구이\n"
          ]
        },
        {
          "metadata": {
            "tags": null
          },
          "name": "stderr",
          "output_type": "stream",
          "text": [
            "\r 25%|██▌       | 215/852 [12:56<42:09,  3.97s/it]"
          ]
        },
        {
          "metadata": {
            "tags": null
          },
          "name": "stdout",
          "output_type": "stream",
          "text": [
            "\n",
            "input_text :  ['매운갈비찜 (대)', '매운갈비찜 (중)', '매운갈비찜 (소)'] 한식 오솔길\n",
            "output_result :  찜/탕/찌개\n"
          ]
        },
        {
          "metadata": {
            "tags": null
          },
          "name": "stderr",
          "output_type": "stream",
          "text": [
            "\r 25%|██▌       | 216/852 [13:00<41:12,  3.89s/it]"
          ]
        },
        {
          "metadata": {
            "tags": null
          },
          "name": "stdout",
          "output_type": "stream",
          "text": [
            "\n",
            "input_text :  ['모듬돈까스', '돈까스(등심)', '고기고로께까스'] 한식 황가네돈까스\n",
            "output_result :  고기/구이\n"
          ]
        },
        {
          "metadata": {
            "tags": null
          },
          "name": "stderr",
          "output_type": "stream",
          "text": [
            "\r 25%|██▌       | 217/852 [13:04<40:11,  3.80s/it]"
          ]
        },
        {
          "metadata": {
            "tags": null
          },
          "name": "stdout",
          "output_type": "stream",
          "text": [
            "\n",
            "input_text :  ['삼광한상', '삼광세트', '냉동삼겹살 (200g)'] 한식 삼광식당\n",
            "output_result :  고기/구이\n"
          ]
        },
        {
          "metadata": {
            "tags": null
          },
          "name": "stderr",
          "output_type": "stream",
          "text": [
            "\r 26%|██▌       | 218/852 [13:07<37:48,  3.58s/it]"
          ]
        },
        {
          "metadata": {
            "tags": null
          },
          "name": "stdout",
          "output_type": "stream",
          "text": [
            "\n",
            "input_text :  [] 호프/통닭 포차앤쿡춘천점\n",
            "output_result :  고기/구이\n"
          ]
        },
        {
          "metadata": {
            "tags": null
          },
          "name": "stderr",
          "output_type": "stream",
          "text": [
            "\r 26%|██▌       | 219/852 [13:11<38:49,  3.68s/it]"
          ]
        },
        {
          "metadata": {
            "tags": null
          },
          "name": "stdout",
          "output_type": "stream",
          "text": [
            "\n",
            "input_text :  ['바지락 폭탄술찜', '노가리', '골뱅이무침'] 호프/통닭 달빛포차\n",
            "output_result :  찜/탕/찌개\n"
          ]
        },
        {
          "metadata": {
            "tags": null
          },
          "name": "stderr",
          "output_type": "stream",
          "text": [
            "\r 26%|██▌       | 220/852 [13:14<36:50,  3.50s/it]"
          ]
        },
        {
          "metadata": {
            "tags": null
          },
          "name": "stdout",
          "output_type": "stream",
          "text": [
            "\n",
            "input_text :  ['가정식 백반', '된장찌개', '동태찌개'] 한식 향원식당\n",
            "output_result :  백반\n"
          ]
        },
        {
          "metadata": {
            "tags": null
          },
          "name": "stderr",
          "output_type": "stream",
          "text": [
            "\r 26%|██▌       | 221/852 [13:16<33:02,  3.14s/it]"
          ]
        },
        {
          "metadata": {
            "tags": null
          },
          "name": "stdout",
          "output_type": "stream",
          "text": [
            "\n",
            "input_text :  [] 한식 충남식당\n",
            "output_result :  백반\n"
          ]
        },
        {
          "metadata": {
            "tags": null
          },
          "name": "stderr",
          "output_type": "stream",
          "text": [
            "\r 26%|██▌       | 222/852 [13:20<36:02,  3.43s/it]"
          ]
        },
        {
          "metadata": {
            "tags": null
          },
          "name": "stdout",
          "output_type": "stream",
          "text": [
            "\n",
            "input_text :  ['수제돼지갈비', '오돌갈비', '양념갈비'] 한식 공지천왕갈비스무숲점\n",
            "output_result :  고기/구이\n"
          ]
        },
        {
          "metadata": {
            "tags": null
          },
          "name": "stderr",
          "output_type": "stream",
          "text": [
            "\r 26%|██▌       | 223/852 [13:24<38:22,  3.66s/it]"
          ]
        },
        {
          "metadata": {
            "tags": null
          },
          "name": "stdout",
          "output_type": "stream",
          "text": [
            "\n",
            "input_text :  ['삼겹살 (1인분)', '항정살 (1인분)', '갈매기살 (1인분)'] 한식 삼락\n",
            "output_result :  고기/구이\n"
          ]
        },
        {
          "metadata": {
            "tags": null
          },
          "name": "stderr",
          "output_type": "stream",
          "text": [
            "\r 26%|██▋       | 224/852 [13:28<39:30,  3.77s/it]"
          ]
        },
        {
          "metadata": {
            "tags": null
          },
          "name": "stdout",
          "output_type": "stream",
          "text": [
            "\n",
            "input_text :  ['삼겹살 국내산(200g)', '삼겹살 칠레/멕시코산 (200g)', '생목살(200g)'] 호프/통닭 청춘집\n",
            "output_result :  고기/구이\n"
          ]
        },
        {
          "metadata": {
            "tags": null
          },
          "name": "stderr",
          "output_type": "stream",
          "text": [
            "\r 26%|██▋       | 225/852 [13:33<41:46,  4.00s/it]"
          ]
        },
        {
          "metadata": {
            "tags": null
          },
          "name": "stdout",
          "output_type": "stream",
          "text": [
            "\n",
            "input_text :  ['마르게리타 L', '잠봉루꼴라피자 L', '쉬림프&핫치킨피자 L'] 패스트푸드 피자알볼로\n",
            "output_result :  분식\n"
          ]
        },
        {
          "metadata": {
            "tags": null
          },
          "name": "stderr",
          "output_type": "stream",
          "text": [
            "\r 27%|██▋       | 226/852 [13:36<37:41,  3.61s/it]"
          ]
        },
        {
          "metadata": {
            "tags": null
          },
          "name": "stdout",
          "output_type": "stream",
          "text": [
            "\n",
            "input_text :  [] 분식 남부닭갈비\n",
            "output_result :  양식\n"
          ]
        },
        {
          "metadata": {
            "tags": null
          },
          "name": "stderr",
          "output_type": "stream",
          "text": [
            "\r 27%|██▋       | 227/852 [13:38<33:40,  3.23s/it]"
          ]
        },
        {
          "metadata": {
            "tags": null
          },
          "name": "stdout",
          "output_type": "stream",
          "text": [
            "\n",
            "input_text :  [] 중국식 경화루\n",
            "output_result :  중식\n"
          ]
        },
        {
          "metadata": {
            "tags": null
          },
          "name": "stderr",
          "output_type": "stream",
          "text": [
            "\r 27%|██▋       | 228/852 [13:41<34:12,  3.29s/it]"
          ]
        },
        {
          "metadata": {
            "tags": null
          },
          "name": "stdout",
          "output_type": "stream",
          "text": [
            "\n",
            "input_text :  ['녹각삼계탕', '상황삼계탕', '옻삼계탕'] 한식 서울녹각삼계탕\n",
            "output_result :  찜/탕/찌개\n"
          ]
        },
        {
          "metadata": {
            "tags": null
          },
          "name": "stderr",
          "output_type": "stream",
          "text": [
            "\r 27%|██▋       | 229/852 [13:45<35:41,  3.44s/it]"
          ]
        },
        {
          "metadata": {
            "tags": null
          },
          "name": "stdout",
          "output_type": "stream",
          "text": [
            "\n",
            "input_text :  ['생삼겹살', '소갈비살', '된장찌개'] 식육(숯불구이) 장안돌구이\n",
            "output_result :  고기/구이\n"
          ]
        },
        {
          "metadata": {
            "tags": null
          },
          "name": "stderr",
          "output_type": "stream",
          "text": [
            "\r 27%|██▋       | 230/852 [13:48<33:44,  3.25s/it]"
          ]
        },
        {
          "metadata": {
            "tags": null
          },
          "name": "stdout",
          "output_type": "stream",
          "text": [
            "\n",
            "input_text :  [] 한식 왕가\n",
            "output_result :  회\n"
          ]
        },
        {
          "metadata": {
            "tags": null
          },
          "name": "stderr",
          "output_type": "stream",
          "text": [
            "\r 27%|██▋       | 231/852 [13:51<33:38,  3.25s/it]"
          ]
        },
        {
          "metadata": {
            "tags": null
          },
          "name": "stdout",
          "output_type": "stream",
          "text": [
            "\n",
            "input_text :  ['냉동삼겹살', '흑돼지생삼겹살', '된장찌개'] 한식 주영이네\n",
            "output_result :  고기/구이\n"
          ]
        },
        {
          "metadata": {
            "tags": null
          },
          "name": "stderr",
          "output_type": "stream",
          "text": [
            "\r 27%|██▋       | 232/852 [13:55<36:02,  3.49s/it]"
          ]
        },
        {
          "metadata": {
            "tags": null
          },
          "name": "stdout",
          "output_type": "stream",
          "text": [
            "\n",
            "input_text :  ['냉동삼겹살(180g)', '생삼겹살(180g)', '차돌박이(150g)'] 식육(숯불구이) 돈차\n",
            "output_result :  고기/구이\n"
          ]
        },
        {
          "metadata": {
            "tags": null
          },
          "name": "stderr",
          "output_type": "stream",
          "text": [
            "\r 27%|██▋       | 233/852 [14:01<42:47,  4.15s/it]"
          ]
        },
        {
          "metadata": {
            "tags": null
          },
          "name": "stdout",
          "output_type": "stream",
          "text": [
            "\n",
            "input_text :  ['돼지막창 (150g)', '소갈비살 (150g)', '돼지목살 (150g)'] 식육(숯불구이) 장군막창구이\n",
            "output_result :  고기/구이\n"
          ]
        },
        {
          "metadata": {
            "tags": null
          },
          "name": "stderr",
          "output_type": "stream",
          "text": [
            "\r 27%|██▋       | 234/852 [14:03<37:14,  3.62s/it]"
          ]
        },
        {
          "metadata": {
            "tags": null
          },
          "name": "stdout",
          "output_type": "stream",
          "text": [
            "\n",
            "input_text :  [] 호프/통닭 피그램\n",
            "output_result :  치킨\n"
          ]
        },
        {
          "metadata": {
            "tags": null
          },
          "name": "stderr",
          "output_type": "stream",
          "text": [
            "\r 28%|██▊       | 235/852 [14:07<36:47,  3.58s/it]"
          ]
        },
        {
          "metadata": {
            "tags": null
          },
          "name": "stdout",
          "output_type": "stream",
          "text": [
            "\n",
            "input_text :  ['김미바삭', '씬 후라이드', '블랙알리오'] 중국식 푸라닭춘천석사점\n",
            "output_result :  중식\n"
          ]
        },
        {
          "metadata": {
            "tags": null
          },
          "name": "stderr",
          "output_type": "stream",
          "text": [
            "\r 28%|██▊       | 236/852 [14:09<32:56,  3.21s/it]"
          ]
        },
        {
          "metadata": {
            "tags": null
          },
          "name": "stdout",
          "output_type": "stream",
          "text": [
            "\n",
            "input_text :  [] 횟집 회춘\n",
            "output_result :  회\n"
          ]
        },
        {
          "metadata": {
            "tags": null
          },
          "name": "stderr",
          "output_type": "stream",
          "text": [
            "\r 28%|██▊       | 237/852 [14:13<34:12,  3.34s/it]"
          ]
        },
        {
          "metadata": {
            "tags": null
          },
          "name": "stdout",
          "output_type": "stream",
          "text": [
            "\n",
            "input_text :  [] 탕류(보신용) 황골우족탕\n",
            "output_result :  백반\n"
          ]
        },
        {
          "metadata": {
            "tags": null
          },
          "name": "stderr",
          "output_type": "stream",
          "text": [
            "\r 28%|██▊       | 238/852 [14:15<30:59,  3.03s/it]"
          ]
        },
        {
          "metadata": {
            "tags": null
          },
          "name": "stdout",
          "output_type": "stream",
          "text": [
            "\n",
            "input_text :  [] 기타 커피나무숲\n",
            "output_result :  회\n"
          ]
        },
        {
          "metadata": {
            "tags": null
          },
          "name": "stderr",
          "output_type": "stream",
          "text": [
            "\r 28%|██▊       | 239/852 [14:19<32:11,  3.15s/it]"
          ]
        },
        {
          "metadata": {
            "tags": null
          },
          "name": "stdout",
          "output_type": "stream",
          "text": [
            "\n",
            "input_text :  ['시민스페셜', '광어 (소)', '우럭 (소)'] 횟집 시민횟집\n",
            "output_result :  회\n"
          ]
        },
        {
          "metadata": {
            "tags": null
          },
          "name": "stderr",
          "output_type": "stream",
          "text": [
            "\r 28%|██▊       | 240/852 [14:24<38:22,  3.76s/it]"
          ]
        },
        {
          "metadata": {
            "tags": null
          },
          "name": "stdout",
          "output_type": "stream",
          "text": [
            "\n",
            "input_text :  ['담백한 백양구이 (200g)', '특양구이 (200g)', '대창구이 (230g)'] 한식 큰손양대창곱창구이\n",
            "output_result :  고기/구이\n"
          ]
        },
        {
          "metadata": {
            "tags": null
          },
          "name": "stderr",
          "output_type": "stream",
          "text": [
            "\r 28%|██▊       | 241/852 [14:28<39:46,  3.91s/it]"
          ]
        },
        {
          "metadata": {
            "tags": null
          },
          "name": "stdout",
          "output_type": "stream",
          "text": [
            "\n",
            "input_text :  ['쭈꾸미(1인분)', '두부더덕구이', '해물파전'] 호프/통닭 용두동할매쭈꾸미\n",
            "output_result :  고기/구이\n"
          ]
        },
        {
          "metadata": {
            "tags": null
          },
          "name": "stderr",
          "output_type": "stream",
          "text": [
            "\r 28%|██▊       | 242/852 [14:30<35:02,  3.45s/it]"
          ]
        },
        {
          "metadata": {
            "tags": null
          },
          "name": "stdout",
          "output_type": "stream",
          "text": [
            "\n",
            "input_text :  [] 중국식 존맛깐도리\n",
            "output_result :  중식\n"
          ]
        },
        {
          "metadata": {
            "tags": null
          },
          "name": "stderr",
          "output_type": "stream",
          "text": [
            "\r 29%|██▊       | 243/852 [14:34<34:16,  3.38s/it]"
          ]
        },
        {
          "metadata": {
            "tags": null
          },
          "name": "stdout",
          "output_type": "stream",
          "text": [
            "\n",
            "input_text :  ['회냉면', '물냉면', '비빔냉면'] 한식 양구함흥손냉면\n",
            "output_result :  회\n"
          ]
        },
        {
          "metadata": {
            "tags": null
          },
          "name": "stderr",
          "output_type": "stream",
          "text": [
            "\r 29%|██▊       | 244/852 [14:38<36:34,  3.61s/it]"
          ]
        },
        {
          "metadata": {
            "tags": null
          },
          "name": "stdout",
          "output_type": "stream",
          "text": [
            "\n",
            "input_text :  ['양장피', '팔보채', '칠리중새우'] 중국식 하오하오\n",
            "output_result :  중식\n"
          ]
        },
        {
          "metadata": {
            "tags": null
          },
          "name": "stderr",
          "output_type": "stream",
          "text": [
            "\r 29%|██▉       | 245/852 [14:40<33:23,  3.30s/it]"
          ]
        },
        {
          "metadata": {
            "tags": null
          },
          "name": "stdout",
          "output_type": "stream",
          "text": [
            "\n",
            "input_text :  [] 일식 해미연풍우가\n",
            "output_result :  일식\n"
          ]
        },
        {
          "metadata": {
            "tags": null
          },
          "name": "stderr",
          "output_type": "stream",
          "text": [
            "\r 29%|██▉       | 246/852 [14:43<30:23,  3.01s/it]"
          ]
        },
        {
          "metadata": {
            "tags": null
          },
          "name": "stdout",
          "output_type": "stream",
          "text": [
            "\n",
            "input_text :  [] 횟집 봉가\n",
            "output_result :  백반\n"
          ]
        },
        {
          "metadata": {
            "tags": null
          },
          "name": "stderr",
          "output_type": "stream",
          "text": [
            "\r 29%|██▉       | 247/852 [14:48<36:32,  3.62s/it]"
          ]
        },
        {
          "metadata": {
            "tags": null
          },
          "name": "stdout",
          "output_type": "stream",
          "text": [
            "\n",
            "input_text :  ['륭림똥집 (1인분)', '무뼈닭발 (1인분)', '륭림불닭 (1인분)'] 기타 륭림닭발1호점\n",
            "output_result :  족발/보쌈\n"
          ]
        },
        {
          "metadata": {
            "tags": null
          },
          "name": "stderr",
          "output_type": "stream",
          "text": [
            "\r 29%|██▉       | 248/852 [14:52<39:36,  3.93s/it]"
          ]
        },
        {
          "metadata": {
            "tags": null
          },
          "name": "stdout",
          "output_type": "stream",
          "text": [
            "\n",
            "input_text :  ['닭갈비 (300g)', '닭내장 (300g)', '막국수'] 식육(숯불구이) 봉수닭갈비\n",
            "output_result :  고기/구이\n"
          ]
        },
        {
          "metadata": {
            "tags": null
          },
          "name": "stderr",
          "output_type": "stream",
          "text": [
            "\r 29%|██▉       | 249/852 [14:55<35:16,  3.51s/it]"
          ]
        },
        {
          "metadata": {
            "tags": null
          },
          "name": "stdout",
          "output_type": "stream",
          "text": [
            "\n",
            "input_text :  [] 정종/대포집/소주방 프라이빗\n",
            "output_result :  회\n"
          ]
        },
        {
          "metadata": {
            "tags": null
          },
          "name": "stderr",
          "output_type": "stream",
          "text": [
            "\r 29%|██▉       | 250/852 [14:57<31:43,  3.16s/it]"
          ]
        },
        {
          "metadata": {
            "tags": null
          },
          "name": "stdout",
          "output_type": "stream",
          "text": [
            "\n",
            "input_text :  [] 분식 이타리아떡볶이\n",
            "output_result :  분식\n"
          ]
        },
        {
          "metadata": {
            "tags": null
          },
          "name": "stderr",
          "output_type": "stream",
          "text": [
            "\r 29%|██▉       | 251/852 [15:00<29:06,  2.91s/it]"
          ]
        },
        {
          "metadata": {
            "tags": null
          },
          "name": "stdout",
          "output_type": "stream",
          "text": [
            "\n",
            "input_text :  [] 일식 스시준\n",
            "output_result :  일식\n"
          ]
        },
        {
          "metadata": {
            "tags": null
          },
          "name": "stderr",
          "output_type": "stream",
          "text": [
            "\r 30%|██▉       | 252/852 [15:02<28:17,  2.83s/it]"
          ]
        },
        {
          "metadata": {
            "tags": null
          },
          "name": "stdout",
          "output_type": "stream",
          "text": [
            "\n",
            "input_text :  [] 한식 춘향\n",
            "output_result :  양식\n"
          ]
        },
        {
          "metadata": {
            "tags": null
          },
          "name": "stderr",
          "output_type": "stream",
          "text": [
            "\r 30%|██▉       | 253/852 [15:07<33:51,  3.39s/it]"
          ]
        },
        {
          "metadata": {
            "tags": null
          },
          "name": "stdout",
          "output_type": "stream",
          "text": [
            "\n",
            "input_text :  ['정통닭갈비 (1인분)', '카레닭갈비 (1인분)', '닭내장 (1인분)'] 한식 원앙닭갈비\n",
            "output_result :  고기/구이\n"
          ]
        },
        {
          "metadata": {
            "tags": null
          },
          "name": "stderr",
          "output_type": "stream",
          "text": [
            "\r 30%|██▉       | 254/852 [15:10<34:26,  3.46s/it]"
          ]
        },
        {
          "metadata": {
            "tags": null
          },
          "name": "stdout",
          "output_type": "stream",
          "text": [
            "\n",
            "input_text :  ['우동', '태양초치즈닭갈비', '모래집볶음'] 정종/대포집/소주방 투다리석사점\n",
            "output_result :  찜/탕/찌개\n"
          ]
        },
        {
          "metadata": {
            "tags": null
          },
          "name": "stderr",
          "output_type": "stream",
          "text": [
            "\r 30%|██▉       | 255/852 [15:14<33:50,  3.40s/it]"
          ]
        },
        {
          "metadata": {
            "tags": null
          },
          "name": "stdout",
          "output_type": "stream",
          "text": [
            "\n",
            "input_text :  ['보쌈(소)', '삼합(소)', '홍어'] 한식 황씨보쌈\n",
            "output_result :  족발/보쌈\n"
          ]
        },
        {
          "metadata": {
            "tags": null
          },
          "name": "stderr",
          "output_type": "stream",
          "text": [
            "\r 30%|███       | 256/852 [15:17<34:40,  3.49s/it]"
          ]
        },
        {
          "metadata": {
            "tags": null
          },
          "name": "stdout",
          "output_type": "stream",
          "text": [
            "\n",
            "input_text :  [] 기타 육회왕자연어공주춘천1호점\n",
            "output_result :  회\n"
          ]
        },
        {
          "metadata": {
            "tags": null
          },
          "name": "stderr",
          "output_type": "stream",
          "text": [
            "\r 30%|███       | 257/852 [15:21<35:29,  3.58s/it]"
          ]
        },
        {
          "metadata": {
            "tags": null
          },
          "name": "stdout",
          "output_type": "stream",
          "text": [
            "\n",
            "input_text :  ['오리지널 로스트', '바베큐 로스트', '데리갈릭 로스트'] 호프/통닭 오븐마루치킨춘천석사점\n",
            "output_result :  고기/구이\n"
          ]
        },
        {
          "metadata": {
            "tags": null
          },
          "name": "stderr",
          "output_type": "stream",
          "text": [
            "\r 30%|███       | 258/852 [15:25<36:14,  3.66s/it]"
          ]
        },
        {
          "metadata": {
            "tags": null
          },
          "name": "stdout",
          "output_type": "stream",
          "text": [
            "\n",
            "input_text :  ['곱창구이 (1인분)', '곱창전골 (대)', '곱창전골 (중)'] 한식 황소돌곱창구이\n",
            "output_result :  고기/구이\n"
          ]
        },
        {
          "metadata": {
            "tags": null
          },
          "name": "stderr",
          "output_type": "stream",
          "text": [
            "\r 30%|███       | 259/852 [15:29<38:11,  3.87s/it]"
          ]
        },
        {
          "metadata": {
            "tags": null
          },
          "name": "stdout",
          "output_type": "stream",
          "text": [
            "\n",
            "input_text :  ['쭈차새', '쭈곱새', '삼겹 쭈꾸미'] 식육(숯불구이) 쭈꾸미도사\n",
            "output_result :  고기/구이\n"
          ]
        },
        {
          "metadata": {
            "tags": null
          },
          "name": "stderr",
          "output_type": "stream",
          "text": [
            "\r 31%|███       | 260/852 [15:33<36:52,  3.74s/it]"
          ]
        },
        {
          "metadata": {
            "tags": null
          },
          "name": "stdout",
          "output_type": "stream",
          "text": [
            "\n",
            "input_text :  ['양념 야채막창', '막창', '버터 새우구이'] 한식 꼴두바우애막골점\n",
            "output_result :  고기/구이\n"
          ]
        },
        {
          "metadata": {
            "tags": null
          },
          "name": "stderr",
          "output_type": "stream",
          "text": [
            "\r 31%|███       | 261/852 [15:38<40:24,  4.10s/it]"
          ]
        },
        {
          "metadata": {
            "tags": null
          },
          "name": "stdout",
          "output_type": "stream",
          "text": [
            "\n",
            "input_text :  ['송어 1kg (2인)', '송어 1.5kg (3인)', '향어 1kg (2인)'] 횟집 명품송어\n",
            "output_result :  고기/구이\n"
          ]
        },
        {
          "metadata": {
            "tags": null
          },
          "name": "stderr",
          "output_type": "stream",
          "text": [
            "\r 31%|███       | 262/852 [15:40<35:59,  3.66s/it]"
          ]
        },
        {
          "metadata": {
            "tags": null
          },
          "name": "stdout",
          "output_type": "stream",
          "text": [
            "\n",
            "input_text :  [] 한식 우리푸드\n",
            "output_result :  양식\n"
          ]
        },
        {
          "metadata": {
            "tags": null
          },
          "name": "stderr",
          "output_type": "stream",
          "text": [
            "\r 31%|███       | 263/852 [15:43<33:53,  3.45s/it]"
          ]
        },
        {
          "metadata": {
            "tags": null
          },
          "name": "stdout",
          "output_type": "stream",
          "text": [
            "\n",
            "input_text :  [] 한식 석사돈사무소\n",
            "output_result :  양식\n"
          ]
        },
        {
          "metadata": {
            "tags": null
          },
          "name": "stderr",
          "output_type": "stream",
          "text": [
            "\r 31%|███       | 264/852 [15:46<30:49,  3.15s/it]"
          ]
        },
        {
          "metadata": {
            "tags": null
          },
          "name": "stdout",
          "output_type": "stream",
          "text": [
            "\n",
            "input_text :  [] 까페 레스토랑라운지\n",
            "output_result :  양식\n"
          ]
        },
        {
          "metadata": {
            "tags": null
          },
          "name": "stderr",
          "output_type": "stream",
          "text": [
            "\r 31%|███       | 265/852 [15:50<33:22,  3.41s/it]"
          ]
        },
        {
          "metadata": {
            "tags": null
          },
          "name": "stdout",
          "output_type": "stream",
          "text": [
            "\n",
            "input_text :  ['차돌박이짬뽕', '뚝빼기뼈짬뽕', '볶음짬뽕'] 탕류(보신용) 청년반점춘천석사점\n",
            "output_result :  중식\n"
          ]
        },
        {
          "metadata": {
            "tags": null
          },
          "name": "stderr",
          "output_type": "stream",
          "text": [
            "\r 31%|███       | 266/852 [15:54<35:58,  3.68s/it]"
          ]
        },
        {
          "metadata": {
            "tags": null
          },
          "name": "stdout",
          "output_type": "stream",
          "text": [
            "\n",
            "input_text :  ['원조 닭갈비', '낙지 닭갈비', '퐁듀 치즈 닭갈비'] 식육(숯불구이) 비와별닭갈비본점\n",
            "output_result :  고기/구이\n"
          ]
        },
        {
          "metadata": {
            "tags": null
          },
          "name": "stderr",
          "output_type": "stream",
          "text": [
            "\r 31%|███▏      | 267/852 [15:57<32:55,  3.38s/it]"
          ]
        },
        {
          "metadata": {
            "tags": null
          },
          "name": "stdout",
          "output_type": "stream",
          "text": [
            "\n",
            "input_text :  [] 까페 빨간장화\n",
            "output_result :  회\n"
          ]
        },
        {
          "metadata": {
            "tags": null
          },
          "name": "stderr",
          "output_type": "stream",
          "text": [
            "\r 31%|███▏      | 268/852 [15:59<30:11,  3.10s/it]"
          ]
        },
        {
          "metadata": {
            "tags": null
          },
          "name": "stdout",
          "output_type": "stream",
          "text": [
            "\n",
            "input_text :  [] 한식 한양왕족발보쌈\n",
            "output_result :  족발/보쌈\n"
          ]
        },
        {
          "metadata": {
            "tags": null
          },
          "name": "stderr",
          "output_type": "stream",
          "text": [
            "\r 32%|███▏      | 269/852 [16:03<30:41,  3.16s/it]"
          ]
        },
        {
          "metadata": {
            "tags": null
          },
          "name": "stdout",
          "output_type": "stream",
          "text": [
            "\n",
            "input_text :  ['짜장면', '짬뽕', '짬뽕밥'] 정종/대포집/소주방 착한짜장\n",
            "output_result :  중식\n"
          ]
        },
        {
          "metadata": {
            "tags": null
          },
          "name": "stderr",
          "output_type": "stream",
          "text": [
            "\r 32%|███▏      | 270/852 [16:05<29:34,  3.05s/it]"
          ]
        },
        {
          "metadata": {
            "tags": null
          },
          "name": "stdout",
          "output_type": "stream",
          "text": [
            "\n",
            "input_text :  [] 탕류(보신용) 함지박2호점\n",
            "output_result :  회\n"
          ]
        },
        {
          "metadata": {
            "tags": null
          },
          "name": "stderr",
          "output_type": "stream",
          "text": [
            "\r 32%|███▏      | 271/852 [16:10<33:20,  3.44s/it]"
          ]
        },
        {
          "metadata": {
            "tags": null
          },
          "name": "stdout",
          "output_type": "stream",
          "text": [
            "\n",
            "input_text :  ['우동', '태양초치즈닭갈비', '모래집볶음'] 호프/통닭 투다리호반점\n",
            "output_result :  고기/구이\n"
          ]
        },
        {
          "metadata": {
            "tags": null
          },
          "name": "stderr",
          "output_type": "stream",
          "text": [
            "\r 32%|███▏      | 272/852 [16:12<30:08,  3.12s/it]"
          ]
        },
        {
          "metadata": {
            "tags": null
          },
          "name": "stdout",
          "output_type": "stream",
          "text": [
            "\n",
            "input_text :  [] 중국식 신불야성\n",
            "output_result :  중식\n"
          ]
        },
        {
          "metadata": {
            "tags": null
          },
          "name": "stderr",
          "output_type": "stream",
          "text": [
            "\r 32%|███▏      | 273/852 [16:15<28:16,  2.93s/it]"
          ]
        },
        {
          "metadata": {
            "tags": null
          },
          "name": "stdout",
          "output_type": "stream",
          "text": [
            "\n",
            "input_text :  [] 호프/통닭 이쁜이 소주방\n",
            "output_result :  치킨\n"
          ]
        },
        {
          "metadata": {
            "tags": null
          },
          "name": "stderr",
          "output_type": "stream",
          "text": [
            "\r 32%|███▏      | 274/852 [16:18<30:11,  3.13s/it]"
          ]
        },
        {
          "metadata": {
            "tags": null
          },
          "name": "stdout",
          "output_type": "stream",
          "text": [
            "\n",
            "input_text :  ['우동', '태양초치즈닭갈비', '모래집볶음'] 호프/통닭 투다리효자3점\n",
            "output_result :  고기/구이\n"
          ]
        },
        {
          "metadata": {
            "tags": null
          },
          "name": "stderr",
          "output_type": "stream",
          "text": [
            "\r 32%|███▏      | 275/852 [16:23<35:33,  3.70s/it]"
          ]
        },
        {
          "metadata": {
            "tags": null
          },
          "name": "stdout",
          "output_type": "stream",
          "text": [
            "\n",
            "input_text :  ['생삼겹살 (200g)', '돼지갈비 (300g)', '항정살 (200g)'] 식육(숯불구이) 인생고기\n",
            "output_result :  고기/구이\n"
          ]
        },
        {
          "metadata": {
            "tags": null
          },
          "name": "stderr",
          "output_type": "stream",
          "text": [
            "\r 32%|███▏      | 276/852 [16:27<36:05,  3.76s/it]"
          ]
        },
        {
          "metadata": {
            "tags": null
          },
          "name": "stdout",
          "output_type": "stream",
          "text": [
            "\n",
            "input_text :  ['땡초치킨', '후라이드치킨', '반반치킨'] 통닭(치킨) 멕시카나치킨(석사점)\n",
            "output_result :  치킨\n"
          ]
        },
        {
          "metadata": {
            "tags": null
          },
          "name": "stderr",
          "output_type": "stream",
          "text": [
            "\r 33%|███▎      | 277/852 [16:30<33:37,  3.51s/it]"
          ]
        },
        {
          "metadata": {
            "tags": null
          },
          "name": "stdout",
          "output_type": "stream",
          "text": [
            "\n",
            "input_text :  [] 정종/대포집/소주방 옥탑방오봉자싸롱\n",
            "output_result :  회\n"
          ]
        },
        {
          "metadata": {
            "tags": null
          },
          "name": "stderr",
          "output_type": "stream",
          "text": [
            "\r 33%|███▎      | 278/852 [16:35<38:25,  4.02s/it]"
          ]
        },
        {
          "metadata": {
            "tags": null
          },
          "name": "stdout",
          "output_type": "stream",
          "text": [
            "\n",
            "input_text :  ['70% 핫 초콜릿', '100% 핫 초콜릿', '칠리 핫 초콜릿'] 경양식 퍼블릭초콜래토리(Public Chocolatory)\n",
            "output_result :  양식\n"
          ]
        },
        {
          "metadata": {
            "tags": null
          },
          "name": "stderr",
          "output_type": "stream",
          "text": [
            "\r 33%|███▎      | 279/852 [16:39<37:15,  3.90s/it]"
          ]
        },
        {
          "metadata": {
            "tags": null
          },
          "name": "stdout",
          "output_type": "stream",
          "text": [
            "\n",
            "input_text :  ['후라이드', '양념치킨', '마늘간장치킨'] 호프/통닭 꾸브라꼬숯불두마리치킨\n",
            "output_result :  고기/구이\n"
          ]
        },
        {
          "metadata": {
            "tags": null
          },
          "name": "stderr",
          "output_type": "stream",
          "text": [
            "\r 33%|███▎      | 280/852 [16:42<36:20,  3.81s/it]"
          ]
        },
        {
          "metadata": {
            "tags": null
          },
          "name": "stdout",
          "output_type": "stream",
          "text": [
            "\n",
            "input_text :  ['돼지갈비 (300g)', '주물럭 (300g)', '비빔국수'] 한식 육림보쌈\n",
            "output_result :  고기/구이\n"
          ]
        },
        {
          "metadata": {
            "tags": null
          },
          "name": "stderr",
          "output_type": "stream",
          "text": [
            "\r 33%|███▎      | 281/852 [16:45<33:24,  3.51s/it]"
          ]
        },
        {
          "metadata": {
            "tags": null
          },
          "name": "stdout",
          "output_type": "stream",
          "text": [
            "\n",
            "input_text :  [] 한식 성심식당\n",
            "output_result :  백반\n"
          ]
        },
        {
          "metadata": {
            "tags": null
          },
          "name": "stderr",
          "output_type": "stream",
          "text": [
            "\r 33%|███▎      | 282/852 [16:48<31:12,  3.29s/it]"
          ]
        },
        {
          "metadata": {
            "tags": null
          },
          "name": "stdout",
          "output_type": "stream",
          "text": [
            "\n",
            "input_text :  [] 한식 진영루\n",
            "output_result :  백반\n"
          ]
        },
        {
          "metadata": {
            "tags": null
          },
          "name": "stderr",
          "output_type": "stream",
          "text": [
            "\r 33%|███▎      | 283/852 [16:51<30:37,  3.23s/it]"
          ]
        },
        {
          "metadata": {
            "tags": null
          },
          "name": "stdout",
          "output_type": "stream",
          "text": [
            "\n",
            "input_text :  ['떡만두국', '칼만두국', '비빔국수'] 한식 마을집\n",
            "output_result :  분식\n"
          ]
        },
        {
          "metadata": {
            "tags": null
          },
          "name": "stderr",
          "output_type": "stream",
          "text": [
            "\r 33%|███▎      | 284/852 [16:54<30:08,  3.18s/it]"
          ]
        },
        {
          "metadata": {
            "tags": null
          },
          "name": "stdout",
          "output_type": "stream",
          "text": [
            "\n",
            "input_text :  ['옻닭', '옻오리', '돼지고기 김치찌개 (소)'] 한식 아무거나\n",
            "output_result :  고기/구이\n"
          ]
        },
        {
          "metadata": {
            "tags": null
          },
          "name": "stderr",
          "output_type": "stream",
          "text": [
            "\r 33%|███▎      | 285/852 [16:59<34:21,  3.64s/it]"
          ]
        },
        {
          "metadata": {
            "tags": null
          },
          "name": "stdout",
          "output_type": "stream",
          "text": [
            "\n",
            "input_text :  ['지삼선', '마파두부', '꿔바로우'] 정종/대포집/소주방 라왕푸마라탕양꼬치\n",
            "output_result :  찜/탕/찌개\n"
          ]
        },
        {
          "metadata": {
            "tags": null
          },
          "name": "stderr",
          "output_type": "stream",
          "text": [
            "\r 34%|███▎      | 286/852 [17:02<33:51,  3.59s/it]"
          ]
        },
        {
          "metadata": {
            "tags": null
          },
          "name": "stdout",
          "output_type": "stream",
          "text": [
            "\n",
            "input_text :  ['회무침', '홍어찜', '삼합'] 호프/통닭 홍어와탁주\n",
            "output_result :  찜/탕/찌개\n"
          ]
        },
        {
          "metadata": {
            "tags": null
          },
          "name": "stderr",
          "output_type": "stream",
          "text": [
            "\r 34%|███▎      | 287/852 [17:05<30:16,  3.22s/it]"
          ]
        },
        {
          "metadata": {
            "tags": null
          },
          "name": "stdout",
          "output_type": "stream",
          "text": [
            "\n",
            "input_text :  [] 한식 연희내칼국수\n",
            "output_result :  국수\n"
          ]
        },
        {
          "metadata": {
            "tags": null
          },
          "name": "stderr",
          "output_type": "stream",
          "text": [
            "\r 34%|███▍      | 288/852 [17:08<31:34,  3.36s/it]"
          ]
        },
        {
          "metadata": {
            "tags": null
          },
          "name": "stdout",
          "output_type": "stream",
          "text": [
            "\n",
            "input_text :  ['감자탕 (소)', '순대곱창전골 (소)', '부대찌개 (소)'] 한식 대암감자탕\n",
            "output_result :  찜/탕/찌개\n"
          ]
        },
        {
          "metadata": {
            "tags": null
          },
          "name": "stderr",
          "output_type": "stream",
          "text": [
            "\r 34%|███▍      | 289/852 [17:13<34:00,  3.62s/it]"
          ]
        },
        {
          "metadata": {
            "tags": null
          },
          "name": "stdout",
          "output_type": "stream",
          "text": [
            "\n",
            "input_text :  ['된장정식', '두부전골', '담은 쌈 정식'] 한식 정담은\n",
            "output_result :  백반\n"
          ]
        },
        {
          "metadata": {
            "tags": null
          },
          "name": "stderr",
          "output_type": "stream",
          "text": [
            "\r 34%|███▍      | 290/852 [17:16<32:55,  3.51s/it]"
          ]
        },
        {
          "metadata": {
            "tags": null
          },
          "name": "stdout",
          "output_type": "stream",
          "text": [
            "\n",
            "input_text :  ['삼겹살', '목살', '항정살'] 호프/통닭 오성급정육식당\n",
            "output_result :  고기/구이\n"
          ]
        },
        {
          "metadata": {
            "tags": null
          },
          "name": "stderr",
          "output_type": "stream",
          "text": [
            "\r 34%|███▍      | 291/852 [17:20<33:59,  3.64s/it]"
          ]
        },
        {
          "metadata": {
            "tags": null
          },
          "name": "stdout",
          "output_type": "stream",
          "text": [
            "\n",
            "input_text :  ['직화불고기정식', '제육불고기정식 (2인)', '제육덮밥'] 한식 만석식당(강원대점)\n",
            "output_result :  고기/구이\n"
          ]
        },
        {
          "metadata": {
            "tags": null
          },
          "name": "stderr",
          "output_type": "stream",
          "text": [
            "\r 34%|███▍      | 292/852 [17:24<34:25,  3.69s/it]"
          ]
        },
        {
          "metadata": {
            "tags": null
          },
          "name": "stdout",
          "output_type": "stream",
          "text": [
            "\n",
            "input_text :  ['야채곱창', '순대곱창', '알곱창'] 호프/통닭 강대곱창타운\n",
            "output_result :  분식\n"
          ]
        },
        {
          "metadata": {
            "tags": null
          },
          "name": "stderr",
          "output_type": "stream",
          "text": [
            "\r 34%|███▍      | 293/852 [17:26<31:52,  3.42s/it]"
          ]
        },
        {
          "metadata": {
            "tags": null
          },
          "name": "stdout",
          "output_type": "stream",
          "text": [
            "\n",
            "input_text :  [] 한식 사랑채\n",
            "output_result :  회\n"
          ]
        },
        {
          "metadata": {
            "tags": null
          },
          "name": "stderr",
          "output_type": "stream",
          "text": [
            "\r 35%|███▍      | 294/852 [17:29<29:03,  3.12s/it]"
          ]
        },
        {
          "metadata": {
            "tags": null
          },
          "name": "stdout",
          "output_type": "stream",
          "text": [
            "\n",
            "input_text :  [] 중국식 주래등석사점\n",
            "output_result :  중식\n"
          ]
        },
        {
          "metadata": {
            "tags": null
          },
          "name": "stderr",
          "output_type": "stream",
          "text": [
            "\r 35%|███▍      | 295/852 [17:32<27:46,  2.99s/it]"
          ]
        },
        {
          "metadata": {
            "tags": null
          },
          "name": "stdout",
          "output_type": "stream",
          "text": [
            "\n",
            "input_text :  [] 식육(숯불구이) 춘천유명닭갈비\n",
            "output_result :  고기/구이\n"
          ]
        },
        {
          "metadata": {
            "tags": null
          },
          "name": "stderr",
          "output_type": "stream",
          "text": [
            "\r 35%|███▍      | 296/852 [17:34<25:41,  2.77s/it]"
          ]
        },
        {
          "metadata": {
            "tags": null
          },
          "name": "stdout",
          "output_type": "stream",
          "text": [
            "\n",
            "input_text :  [] 한식 향토마을\n",
            "output_result :  회\n"
          ]
        },
        {
          "metadata": {
            "tags": null
          },
          "name": "stderr",
          "output_type": "stream",
          "text": [
            "\r 35%|███▍      | 297/852 [17:38<30:33,  3.30s/it]"
          ]
        },
        {
          "metadata": {
            "tags": null
          },
          "name": "stdout",
          "output_type": "stream",
          "text": [
            "\n",
            "input_text :  ['순한맛', '얼큰한맛', '뼈없는 순한맛'] 횟집 반마리 닭국수\n",
            "output_result :  회\n"
          ]
        },
        {
          "metadata": {
            "tags": null
          },
          "name": "stderr",
          "output_type": "stream",
          "text": [
            "\r 35%|███▍      | 298/852 [17:42<30:07,  3.26s/it]"
          ]
        },
        {
          "metadata": {
            "tags": null
          },
          "name": "stdout",
          "output_type": "stream",
          "text": [
            "\n",
            "input_text :  [] 호프/통닭 노다지\n",
            "output_result :  치킨\n"
          ]
        },
        {
          "metadata": {
            "tags": null
          },
          "name": "stderr",
          "output_type": "stream",
          "text": [
            "\r 35%|███▌      | 299/852 [17:46<32:54,  3.57s/it]"
          ]
        },
        {
          "metadata": {
            "tags": null
          },
          "name": "stdout",
          "output_type": "stream",
          "text": [
            "\n",
            "input_text :  ['2가지맛 부대찌개 (1인분)', '5가지맛 부대찌개 (1인분)', '부대볶음 (1인분)'] 한식 형과아우\n",
            "output_result :  찜/탕/찌개\n"
          ]
        },
        {
          "metadata": {
            "tags": null
          },
          "name": "stderr",
          "output_type": "stream",
          "text": [
            "\r 35%|███▌      | 300/852 [17:48<29:17,  3.18s/it]"
          ]
        },
        {
          "metadata": {
            "tags": null
          },
          "name": "stdout",
          "output_type": "stream",
          "text": [
            "\n",
            "input_text :  [] 분식 우람식당\n",
            "output_result :  양식\n"
          ]
        },
        {
          "metadata": {
            "tags": null
          },
          "name": "stderr",
          "output_type": "stream",
          "text": [
            "\r 35%|███▌      | 301/852 [17:54<37:14,  4.05s/it]"
          ]
        },
        {
          "metadata": {
            "tags": null
          },
          "name": "stdout",
          "output_type": "stream",
          "text": [
            "\n",
            "input_text :  ['슈프림양념치킨', '치즈슈프림 양념치킨', '허니올리고당야채양념치킨'] 통닭(치킨) 처갓집양념치킨석사점\n",
            "output_result :  치킨\n"
          ]
        },
        {
          "metadata": {
            "tags": null
          },
          "name": "stderr",
          "output_type": "stream",
          "text": [
            "\r 35%|███▌      | 302/852 [17:58<36:50,  4.02s/it]"
          ]
        },
        {
          "metadata": {
            "tags": null
          },
          "name": "stdout",
          "output_type": "stream",
          "text": [
            "\n",
            "input_text :  ['목살 (200g)', '항정살 (200g)', '갈비살 (200g)'] 식육(숯불구이) 이걸굽네\n",
            "output_result :  고기/구이\n"
          ]
        },
        {
          "metadata": {
            "tags": null
          },
          "name": "stderr",
          "output_type": "stream",
          "text": [
            "\r 36%|███▌      | 303/852 [18:03<39:36,  4.33s/it]"
          ]
        },
        {
          "metadata": {
            "tags": null
          },
          "name": "stdout",
          "output_type": "stream",
          "text": [
            "\n",
            "input_text :  ['돼지김치구이 (대)', '돼지김치구이 (중)', '돼지김치구이 (소)'] 정종/대포집/소주방 정통집(애막골점)\n",
            "output_result :  고기/구이\n"
          ]
        },
        {
          "metadata": {
            "tags": null
          },
          "name": "stderr",
          "output_type": "stream",
          "text": [
            "\r 36%|███▌      | 304/852 [18:07<37:22,  4.09s/it]"
          ]
        },
        {
          "metadata": {
            "tags": null
          },
          "name": "stdout",
          "output_type": "stream",
          "text": [
            "\n",
            "input_text :  [] 탕류(보신용) 노가리까는집\n",
            "output_result :  회\n"
          ]
        },
        {
          "metadata": {
            "tags": null
          },
          "name": "stderr",
          "output_type": "stream",
          "text": [
            "\r 36%|███▌      | 305/852 [18:09<32:22,  3.55s/it]"
          ]
        },
        {
          "metadata": {
            "tags": null
          },
          "name": "stdout",
          "output_type": "stream",
          "text": [
            "\n",
            "input_text :  [] 한식 한식명가\n",
            "output_result :  중식\n"
          ]
        },
        {
          "metadata": {
            "tags": null
          },
          "name": "stderr",
          "output_type": "stream",
          "text": [
            "\r 36%|███▌      | 306/852 [18:11<29:09,  3.20s/it]"
          ]
        },
        {
          "metadata": {
            "tags": null
          },
          "name": "stdout",
          "output_type": "stream",
          "text": [
            "\n",
            "input_text :  [] 한식 (주)한우기업\n",
            "output_result :  백반\n"
          ]
        },
        {
          "metadata": {
            "tags": null
          },
          "name": "stderr",
          "output_type": "stream",
          "text": [
            "\r 36%|███▌      | 307/852 [18:14<27:50,  3.06s/it]"
          ]
        },
        {
          "metadata": {
            "tags": null
          },
          "name": "stdout",
          "output_type": "stream",
          "text": [
            "\n",
            "input_text :  [] 식육(숯불구이) 미고토국물닭발\n",
            "output_result :  고기/구이\n"
          ]
        },
        {
          "metadata": {
            "tags": null
          },
          "name": "stderr",
          "output_type": "stream",
          "text": [
            "\r 36%|███▌      | 308/852 [18:17<28:12,  3.11s/it]"
          ]
        },
        {
          "metadata": {
            "tags": null
          },
          "name": "stdout",
          "output_type": "stream",
          "text": [
            "\n",
            "input_text :  [] 정종/대포집/소주방 뉴야마도라\n",
            "output_result :  회\n"
          ]
        },
        {
          "metadata": {
            "tags": null
          },
          "name": "stderr",
          "output_type": "stream",
          "text": [
            "\r 36%|███▋      | 309/852 [18:22<32:06,  3.55s/it]"
          ]
        },
        {
          "metadata": {
            "tags": null
          },
          "name": "stdout",
          "output_type": "stream",
          "text": [
            "\n",
            "input_text :  ['떡볶이(1인분)', '튀김(3개)', '모듬스페셜(1인분)'] 분식 벨몽드참참참스넥\n",
            "output_result :  분식\n"
          ]
        },
        {
          "metadata": {
            "tags": null
          },
          "name": "stderr",
          "output_type": "stream",
          "text": [
            "\r 36%|███▋      | 310/852 [18:24<29:18,  3.24s/it]"
          ]
        },
        {
          "metadata": {
            "tags": null
          },
          "name": "stdout",
          "output_type": "stream",
          "text": [
            "\n",
            "input_text :  [] 분식 벨몽드본점김밥\n",
            "output_result :  양식\n"
          ]
        },
        {
          "metadata": {
            "tags": null
          },
          "name": "stderr",
          "output_type": "stream",
          "text": [
            "\r 37%|███▋      | 311/852 [18:28<29:32,  3.28s/it]"
          ]
        },
        {
          "metadata": {
            "tags": null
          },
          "name": "stdout",
          "output_type": "stream",
          "text": [
            "\n",
            "input_text :  ['김치전', '김치두루치기', '골뱅이소면'] 호프/통닭 너와집\n",
            "output_result :  고기/구이\n"
          ]
        },
        {
          "metadata": {
            "tags": null
          },
          "name": "stderr",
          "output_type": "stream",
          "text": [
            "\r 37%|███▋      | 312/852 [18:32<32:06,  3.57s/it]"
          ]
        },
        {
          "metadata": {
            "tags": null
          },
          "name": "stdout",
          "output_type": "stream",
          "text": [
            "\n",
            "input_text :  ['통마리추어탕', '갈아추어탕', '미꾸라지튀김'] 한식 원주추어탕\n",
            "output_result :  찜/탕/찌개\n"
          ]
        },
        {
          "metadata": {
            "tags": null
          },
          "name": "stderr",
          "output_type": "stream",
          "text": [
            "\r 37%|███▋      | 313/852 [18:35<30:40,  3.42s/it]"
          ]
        },
        {
          "metadata": {
            "tags": null
          },
          "name": "stdout",
          "output_type": "stream",
          "text": [
            "\n",
            "input_text :  ['막국수', '편육', '모듬전'] 한식 원조남부막국수\n",
            "output_result :  국수\n"
          ]
        },
        {
          "metadata": {
            "tags": null
          },
          "name": "stderr",
          "output_type": "stream",
          "text": [
            "\r 37%|███▋      | 314/852 [18:39<31:22,  3.50s/it]"
          ]
        },
        {
          "metadata": {
            "tags": null
          },
          "name": "stdout",
          "output_type": "stream",
          "text": [
            "\n",
            "input_text :  ['쫄면 돈가스', '토마토 파스타 돈가스', '크림 파스타 돈가스'] 통닭(치킨) 이백장돈가스춘천교대점\n",
            "output_result :  고기/구이\n"
          ]
        },
        {
          "metadata": {
            "tags": null
          },
          "name": "stderr",
          "output_type": "stream",
          "text": [
            "\r 37%|███▋      | 315/852 [18:45<37:31,  4.19s/it]"
          ]
        },
        {
          "metadata": {
            "tags": null
          },
          "name": "stdout",
          "output_type": "stream",
          "text": [
            "\n",
            "input_text :  ['소금,간장,양념 닭갈비 (320g)', '수제돼지갈비 (300g)', '생삼겹살 (200g)'] 식육(숯불구이) 한지붕갈비\n",
            "output_result :  고기/구이\n"
          ]
        },
        {
          "metadata": {
            "tags": null
          },
          "name": "stderr",
          "output_type": "stream",
          "text": [
            "\r 37%|███▋      | 316/852 [18:49<36:36,  4.10s/it]"
          ]
        },
        {
          "metadata": {
            "tags": null
          },
          "name": "stdout",
          "output_type": "stream",
          "text": [
            "\n",
            "input_text :  ['떡볶이 (1인분)', '찹쌀순대 (1인분)', '모듬튀김 (1인분)'] 분식 혜리네스넥\n",
            "output_result :  분식\n"
          ]
        },
        {
          "metadata": {
            "tags": null
          },
          "name": "stderr",
          "output_type": "stream",
          "text": [
            "\r 37%|███▋      | 317/852 [18:51<31:38,  3.55s/it]"
          ]
        },
        {
          "metadata": {
            "tags": null
          },
          "name": "stdout",
          "output_type": "stream",
          "text": [
            "\n",
            "input_text :  [] 한식 고향마차\n",
            "output_result :  양식\n"
          ]
        },
        {
          "metadata": {
            "tags": null
          },
          "name": "stderr",
          "output_type": "stream",
          "text": [
            "\r 37%|███▋      | 318/852 [18:53<28:16,  3.18s/it]"
          ]
        },
        {
          "metadata": {
            "tags": null
          },
          "name": "stdout",
          "output_type": "stream",
          "text": [
            "\n",
            "input_text :  [] 한식 먹촌가\n",
            "output_result :  양식\n"
          ]
        },
        {
          "metadata": {
            "tags": null
          },
          "name": "stderr",
          "output_type": "stream",
          "text": [
            "\r 37%|███▋      | 319/852 [18:58<32:07,  3.62s/it]"
          ]
        },
        {
          "metadata": {
            "tags": null
          },
          "name": "stdout",
          "output_type": "stream",
          "text": [
            "\n",
            "input_text :  ['닭갈비 (1인분)', '닭내장 (1인분)', '막국수'] 한식 운수대통닭갈비\n",
            "output_result :  고기/구이\n"
          ]
        },
        {
          "metadata": {
            "tags": null
          },
          "name": "stderr",
          "output_type": "stream",
          "text": [
            "\r 38%|███▊      | 320/852 [19:01<31:08,  3.51s/it]"
          ]
        },
        {
          "metadata": {
            "tags": null
          },
          "name": "stdout",
          "output_type": "stream",
          "text": [
            "\n",
            "input_text :  ['마르게리따피자', '샐러드', '블랜드'] 호프/통닭 파파야\n",
            "output_result :  양식\n"
          ]
        },
        {
          "metadata": {
            "tags": null
          },
          "name": "stderr",
          "output_type": "stream",
          "text": [
            "\r 38%|███▊      | 321/852 [19:04<28:39,  3.24s/it]"
          ]
        },
        {
          "metadata": {
            "tags": null
          },
          "name": "stdout",
          "output_type": "stream",
          "text": [
            "\n",
            "input_text :  [] 호프/통닭 이모네돼지갈비부속구이\n",
            "output_result :  고기/구이\n"
          ]
        },
        {
          "metadata": {
            "tags": null
          },
          "name": "stderr",
          "output_type": "stream",
          "text": [
            "\r 38%|███▊      | 322/852 [19:09<34:57,  3.96s/it]"
          ]
        },
        {
          "metadata": {
            "tags": null
          },
          "name": "stdout",
          "output_type": "stream",
          "text": [
            "\n",
            "input_text :  ['간장 등갈비찜 (1인분 400g)', '매운 등갈비찜 (1인분 400g)', '등갈비 김치찜 (2인분)'] 한식 신육등\n",
            "output_result :  고기/구이\n"
          ]
        },
        {
          "metadata": {
            "tags": null
          },
          "name": "stderr",
          "output_type": "stream",
          "text": [
            "\r 38%|███▊      | 323/852 [19:13<33:02,  3.75s/it]"
          ]
        },
        {
          "metadata": {
            "tags": null
          },
          "name": "stdout",
          "output_type": "stream",
          "text": [
            "\n",
            "input_text :  ['야채 김밥', '치즈 김밥', '참치 김밥'] 분식 김밥세상\n",
            "output_result :  분식\n"
          ]
        },
        {
          "metadata": {
            "tags": null
          },
          "name": "stderr",
          "output_type": "stream",
          "text": [
            "\r 38%|███▊      | 324/852 [19:16<32:15,  3.67s/it]"
          ]
        },
        {
          "metadata": {
            "tags": null
          },
          "name": "stdout",
          "output_type": "stream",
          "text": [
            "\n",
            "input_text :  ['광어(소)', '우럭', '도미(1kg)'] 횟집 퇴계수산횟집\n",
            "output_result :  고기/구이\n"
          ]
        },
        {
          "metadata": {
            "tags": null
          },
          "name": "stderr",
          "output_type": "stream",
          "text": [
            "\r 38%|███▊      | 325/852 [19:20<31:48,  3.62s/it]"
          ]
        },
        {
          "metadata": {
            "tags": null
          },
          "name": "stdout",
          "output_type": "stream",
          "text": [
            "\n",
            "input_text :  ['조개구이', '무한리필조개구이', '가리비추가'] 식육(숯불구이) 조개본능\n",
            "output_result :  고기/구이\n"
          ]
        },
        {
          "metadata": {
            "tags": null
          },
          "name": "stderr",
          "output_type": "stream",
          "text": [
            "\r 38%|███▊      | 326/852 [19:23<32:18,  3.69s/it]"
          ]
        },
        {
          "metadata": {
            "tags": null
          },
          "name": "stdout",
          "output_type": "stream",
          "text": [
            "\n",
            "input_text :  [] 식육(숯불구이) 동산에머문정(情)\n",
            "output_result :  고기/구이\n"
          ]
        },
        {
          "metadata": {
            "tags": null
          },
          "name": "stderr",
          "output_type": "stream",
          "text": [
            "\r 38%|███▊      | 327/852 [19:27<31:35,  3.61s/it]"
          ]
        },
        {
          "metadata": {
            "tags": null
          },
          "name": "stdout",
          "output_type": "stream",
          "text": [
            "\n",
            "input_text :  ['먹태', '후르츠황도', '소고기육전'] 기타 단골손님춘천점\n",
            "output_result :  고기/구이\n"
          ]
        },
        {
          "metadata": {
            "tags": null
          },
          "name": "stderr",
          "output_type": "stream",
          "text": [
            "\r 38%|███▊      | 328/852 [19:29<28:17,  3.24s/it]"
          ]
        },
        {
          "metadata": {
            "tags": null
          },
          "name": "stdout",
          "output_type": "stream",
          "text": [
            "\n",
            "input_text :  [] 호프/통닭 청사초롱\n",
            "output_result :  치킨\n"
          ]
        },
        {
          "metadata": {
            "tags": null
          },
          "name": "stderr",
          "output_type": "stream",
          "text": [
            "\r 39%|███▊      | 329/852 [19:31<25:47,  2.96s/it]"
          ]
        },
        {
          "metadata": {
            "tags": null
          },
          "name": "stdout",
          "output_type": "stream",
          "text": [
            "\n",
            "input_text :  [] 한식 동원칼국수\n",
            "output_result :  국수\n"
          ]
        },
        {
          "metadata": {
            "tags": null
          },
          "name": "stderr",
          "output_type": "stream",
          "text": [
            "\r 39%|███▊      | 330/852 [19:34<25:20,  2.91s/it]"
          ]
        },
        {
          "metadata": {
            "tags": null
          },
          "name": "stdout",
          "output_type": "stream",
          "text": [
            "\n",
            "input_text :  [] 한식 미도칼국수\n",
            "output_result :  국수\n"
          ]
        },
        {
          "metadata": {
            "tags": null
          },
          "name": "stderr",
          "output_type": "stream",
          "text": [
            "\r 39%|███▉      | 331/852 [19:40<32:07,  3.70s/it]"
          ]
        },
        {
          "metadata": {
            "tags": null
          },
          "name": "stdout",
          "output_type": "stream",
          "text": [
            "\n",
            "input_text :  ['슈프림양념치킨', '치즈슈프림 양념치킨', '허니올리고당야채양념치킨'] 호프/통닭 처갓집양념치킨남부점\n",
            "output_result :  양식\n"
          ]
        },
        {
          "metadata": {
            "tags": null
          },
          "name": "stderr",
          "output_type": "stream",
          "text": [
            "\r 39%|███▉      | 332/852 [19:44<32:25,  3.74s/it]"
          ]
        },
        {
          "metadata": {
            "tags": null
          },
          "name": "stdout",
          "output_type": "stream",
          "text": [
            "\n",
            "input_text :  ['왕짱구김밥 (8개)', '고기만두 (10개)', '고기왕만두 (8개)'] 분식 왕짱구\n",
            "output_result :  분식\n"
          ]
        },
        {
          "metadata": {
            "tags": null
          },
          "name": "stderr",
          "output_type": "stream",
          "text": [
            "\r 39%|███▉      | 333/852 [19:48<34:14,  3.96s/it]"
          ]
        },
        {
          "metadata": {
            "tags": null
          },
          "name": "stdout",
          "output_type": "stream",
          "text": [
            "\n",
            "input_text :  ['김치 짜글이', '순두부 짜글이', '뼈다귀해장국'] 한식 장할매국밥\n",
            "output_result :  국밥\n"
          ]
        },
        {
          "metadata": {
            "tags": null
          },
          "name": "stderr",
          "output_type": "stream",
          "text": [
            "\r 39%|███▉      | 334/852 [19:52<34:28,  3.99s/it]"
          ]
        },
        {
          "metadata": {
            "tags": null
          },
          "name": "stdout",
          "output_type": "stream",
          "text": [
            "\n",
            "input_text :  ['감자탕(소)', '허파전골(소)', '뼈다귀해장국'] 호프/통닭 소쿠리해장국\n",
            "output_result :  찜/탕/찌개\n"
          ]
        },
        {
          "metadata": {
            "tags": null
          },
          "name": "stderr",
          "output_type": "stream",
          "text": [
            "\r 39%|███▉      | 335/852 [19:56<33:03,  3.84s/it]"
          ]
        },
        {
          "metadata": {
            "tags": null
          },
          "name": "stdout",
          "output_type": "stream",
          "text": [
            "\n",
            "input_text :  ['맷돌콩국수', '해물손칼국수', '해물얼큰손칼국수'] 한식 손칼국수\n",
            "output_result :  국수\n"
          ]
        },
        {
          "metadata": {
            "tags": null
          },
          "name": "stderr",
          "output_type": "stream",
          "text": [
            "\r 39%|███▉      | 336/852 [20:00<33:08,  3.85s/it]"
          ]
        },
        {
          "metadata": {
            "tags": null
          },
          "name": "stdout",
          "output_type": "stream",
          "text": [
            "\n",
            "input_text :  ['버터구이 오징어입', '한치', '먹태'] 호프/통닭 역전할머니맥주강원대점\n",
            "output_result :  고기/구이\n"
          ]
        },
        {
          "metadata": {
            "tags": null
          },
          "name": "stderr",
          "output_type": "stream",
          "text": [
            "\r 40%|███▉      | 337/852 [20:03<33:13,  3.87s/it]"
          ]
        },
        {
          "metadata": {
            "tags": null
          },
          "name": "stdout",
          "output_type": "stream",
          "text": [
            "\n",
            "input_text :  ['쉬림프 큐브 스테이크', '인생 감바스', '소고기 짜파게티'] 정종/대포집/소주방 인쌩맥주강원대점\n",
            "output_result :  양식\n"
          ]
        },
        {
          "metadata": {
            "tags": null
          },
          "name": "stderr",
          "output_type": "stream",
          "text": [
            "\r 40%|███▉      | 338/852 [20:07<31:25,  3.67s/it]"
          ]
        },
        {
          "metadata": {
            "tags": null
          },
          "name": "stdout",
          "output_type": "stream",
          "text": [
            "\n",
            "input_text :  ['매화', '진달래', '개나리'] 김밥(도시락) 한솥도시락\n",
            "output_result :  양식\n"
          ]
        },
        {
          "metadata": {
            "tags": null
          },
          "name": "stderr",
          "output_type": "stream",
          "text": [
            "\r 40%|███▉      | 339/852 [20:09<28:29,  3.33s/it]"
          ]
        },
        {
          "metadata": {
            "tags": null
          },
          "name": "stdout",
          "output_type": "stream",
          "text": [
            "\n",
            "input_text :  [] 호프/통닭 사또호프치킨\n",
            "output_result :  치킨\n"
          ]
        },
        {
          "metadata": {
            "tags": null
          },
          "name": "stderr",
          "output_type": "stream",
          "text": [
            "\r 40%|███▉      | 340/852 [20:13<29:46,  3.49s/it]"
          ]
        },
        {
          "metadata": {
            "tags": null
          },
          "name": "stdout",
          "output_type": "stream",
          "text": [
            "\n",
            "input_text :  ['모듬전', '파전', '동그랑땡'] 정종/대포집/소주방 주원\n",
            "output_result :  양식\n"
          ]
        },
        {
          "metadata": {
            "tags": null
          },
          "name": "stderr",
          "output_type": "stream",
          "text": [
            "\r 40%|████      | 341/852 [20:16<29:30,  3.47s/it]"
          ]
        },
        {
          "metadata": {
            "tags": null
          },
          "name": "stdout",
          "output_type": "stream",
          "text": [
            "\n",
            "input_text :  ['된장찌개', '김치찌개', '두부찌개'] 호프/통닭 큰골집\n",
            "output_result :  고기/구이\n"
          ]
        },
        {
          "metadata": {
            "tags": null
          },
          "name": "stderr",
          "output_type": "stream",
          "text": [
            "\r 40%|████      | 342/852 [20:19<26:26,  3.11s/it]"
          ]
        },
        {
          "metadata": {
            "tags": null
          },
          "name": "stdout",
          "output_type": "stream",
          "text": [
            "\n",
            "input_text :  [] 한식 대박네집\n",
            "output_result :  회\n"
          ]
        },
        {
          "metadata": {
            "tags": null
          },
          "name": "stderr",
          "output_type": "stream",
          "text": [
            "\r 40%|████      | 343/852 [20:21<25:25,  3.00s/it]"
          ]
        },
        {
          "metadata": {
            "tags": null
          },
          "name": "stdout",
          "output_type": "stream",
          "text": [
            "\n",
            "input_text :  [] 정종/대포집/소주방 월담강원대점\n",
            "output_result :  양식\n"
          ]
        },
        {
          "metadata": {
            "tags": null
          },
          "name": "stderr",
          "output_type": "stream",
          "text": [
            "\r 40%|████      | 344/852 [20:26<28:17,  3.34s/it]"
          ]
        },
        {
          "metadata": {
            "tags": null
          },
          "name": "stdout",
          "output_type": "stream",
          "text": [
            "\n",
            "input_text :  ['일반 순대국', '얼큰 순대국', '순대국 정식'] 식육(숯불구이) 사창리순대국\n",
            "output_result :  고기/구이\n"
          ]
        },
        {
          "metadata": {
            "tags": null
          },
          "name": "stderr",
          "output_type": "stream",
          "text": [
            "\r 40%|████      | 345/852 [20:29<28:13,  3.34s/it]"
          ]
        },
        {
          "metadata": {
            "tags": null
          },
          "name": "stdout",
          "output_type": "stream",
          "text": [
            "\n",
            "input_text :  ['짬뽕', '짜장면', '만두'] 중국식 복성원\n",
            "output_result :  중식\n"
          ]
        },
        {
          "metadata": {
            "tags": null
          },
          "name": "stderr",
          "output_type": "stream",
          "text": [
            "\r 41%|████      | 346/852 [20:33<29:29,  3.50s/it]"
          ]
        },
        {
          "metadata": {
            "tags": null
          },
          "name": "stdout",
          "output_type": "stream",
          "text": [
            "\n",
            "input_text :  ['통돼지김치찌개', '부대짜글이', '차돌순두부찌개'] 식육(숯불구이) 경성주막1929춘천점\n",
            "output_result :  고기/구이\n"
          ]
        },
        {
          "metadata": {
            "tags": null
          },
          "name": "stderr",
          "output_type": "stream",
          "text": [
            "\r 41%|████      | 347/852 [20:35<26:36,  3.16s/it]"
          ]
        },
        {
          "metadata": {
            "tags": null
          },
          "name": "stdout",
          "output_type": "stream",
          "text": [
            "\n",
            "input_text :  [] 한식 대복갈매기살\n",
            "output_result :  고기/구이\n"
          ]
        },
        {
          "metadata": {
            "tags": null
          },
          "name": "stderr",
          "output_type": "stream",
          "text": [
            "\r 41%|████      | 348/852 [20:39<28:51,  3.44s/it]"
          ]
        },
        {
          "metadata": {
            "tags": null
          },
          "name": "stdout",
          "output_type": "stream",
          "text": [
            "\n",
            "input_text :  ['해물파전', '훈제칠면조', '만두전골'] 호프/통닭 화사랑\n",
            "output_result :  중식\n"
          ]
        },
        {
          "metadata": {
            "tags": null
          },
          "name": "stderr",
          "output_type": "stream",
          "text": [
            "\r 41%|████      | 349/852 [20:43<28:50,  3.44s/it]"
          ]
        },
        {
          "metadata": {
            "tags": null
          },
          "name": "stdout",
          "output_type": "stream",
          "text": [
            "\n",
            "input_text :  ['김치돼지찌개', '김치참치찌개', '돼지껍데기'] 한식 춘자\n",
            "output_result :  고기/구이\n"
          ]
        },
        {
          "metadata": {
            "tags": null
          },
          "name": "stderr",
          "output_type": "stream",
          "text": [
            "\r 41%|████      | 350/852 [20:46<28:39,  3.43s/it]"
          ]
        },
        {
          "metadata": {
            "tags": null
          },
          "name": "stdout",
          "output_type": "stream",
          "text": [
            "\n",
            "input_text :  ['마라탕', '로제마라탕', '마라샹궈'] 호프/통닭 소림마라 춘천점\n",
            "output_result :  고기/구이\n"
          ]
        },
        {
          "metadata": {
            "tags": null
          },
          "name": "stderr",
          "output_type": "stream",
          "text": [
            "\r 41%|████      | 351/852 [20:49<27:33,  3.30s/it]"
          ]
        },
        {
          "metadata": {
            "tags": null
          },
          "name": "stdout",
          "output_type": "stream",
          "text": [
            "\n",
            "input_text :  ['막국수', '떡만두국', '편육'] 한식 청송막국수\n",
            "output_result :  국수\n"
          ]
        },
        {
          "metadata": {
            "tags": null
          },
          "name": "stderr",
          "output_type": "stream",
          "text": [
            "\r 41%|████▏     | 352/852 [20:54<30:56,  3.71s/it]"
          ]
        },
        {
          "metadata": {
            "tags": null
          },
          "name": "stdout",
          "output_type": "stream",
          "text": [
            "\n",
            "input_text :  ['돼지갈비', '삼겹살', '소갈비살'] 식육(숯불구이) 공지천왕갈비(애막골점)\n",
            "output_result :  고기/구이\n"
          ]
        },
        {
          "metadata": {
            "tags": null
          },
          "name": "stderr",
          "output_type": "stream",
          "text": [
            "\r 41%|████▏     | 353/852 [20:56<28:06,  3.38s/it]"
          ]
        },
        {
          "metadata": {
            "tags": null
          },
          "name": "stdout",
          "output_type": "stream",
          "text": [
            "\n",
            "input_text :  [] 정종/대포집/소주방 좌우당간\n",
            "output_result :  양식\n"
          ]
        },
        {
          "metadata": {
            "tags": null
          },
          "name": "stderr",
          "output_type": "stream",
          "text": [
            "\r 42%|████▏     | 354/852 [20:59<25:29,  3.07s/it]"
          ]
        },
        {
          "metadata": {
            "tags": null
          },
          "name": "stdout",
          "output_type": "stream",
          "text": [
            "\n",
            "input_text :  [] 한식 윤일닭갈비\n",
            "output_result :  고기/구이\n"
          ]
        },
        {
          "metadata": {
            "tags": null
          },
          "name": "stderr",
          "output_type": "stream",
          "text": [
            "\r 42%|████▏     | 355/852 [21:02<26:18,  3.18s/it]"
          ]
        },
        {
          "metadata": {
            "tags": null
          },
          "name": "stdout",
          "output_type": "stream",
          "text": [
            "\n",
            "input_text :  ['후라이드치킨', '살로만치킨', '똥집튀김'] 호프/통닭 태양통닭\n",
            "output_result :  치킨\n"
          ]
        },
        {
          "metadata": {
            "tags": null
          },
          "name": "stderr",
          "output_type": "stream",
          "text": [
            "\r 42%|████▏     | 356/852 [21:05<26:16,  3.18s/it]"
          ]
        },
        {
          "metadata": {
            "tags": null
          },
          "name": "stdout",
          "output_type": "stream",
          "text": [
            "\n",
            "input_text :  [] 호프/통닭 어우러지\n",
            "output_result :  치킨\n"
          ]
        },
        {
          "metadata": {
            "tags": null
          },
          "name": "stderr",
          "output_type": "stream",
          "text": [
            "\r 42%|████▏     | 357/852 [21:09<28:00,  3.39s/it]"
          ]
        },
        {
          "metadata": {
            "tags": null
          },
          "name": "stdout",
          "output_type": "stream",
          "text": [
            "\n",
            "input_text :  ['닭갈비(300g)', '간장닭갈비(300g)', '닭내장(300g)'] 한식 원메밀막국수\n",
            "output_result :  고기/구이\n"
          ]
        },
        {
          "metadata": {
            "tags": null
          },
          "name": "stderr",
          "output_type": "stream",
          "text": [
            "\r 42%|████▏     | 358/852 [21:14<32:09,  3.91s/it]"
          ]
        },
        {
          "metadata": {
            "tags": null
          },
          "name": "stdout",
          "output_type": "stream",
          "text": [
            "\n",
            "input_text :  ['놀부네 제육볶음', '흥부네 오삼불고기', '호동왕자와 낙랑공주 (해물파전 + 두부김치)'] 호프/통닭 코끼리백령골\n",
            "output_result :  고기/구이\n"
          ]
        },
        {
          "metadata": {
            "tags": null
          },
          "name": "stderr",
          "output_type": "stream",
          "text": [
            "\r 42%|████▏     | 359/852 [21:19<33:40,  4.10s/it]"
          ]
        },
        {
          "metadata": {
            "tags": null
          },
          "name": "stdout",
          "output_type": "stream",
          "text": [
            "\n",
            "input_text :  ['기본 부리또', '감자 부리또', '에그 부리또'] 패스트푸드 부리또인강원대점\n",
            "output_result :  양식\n"
          ]
        },
        {
          "metadata": {
            "tags": null
          },
          "name": "stderr",
          "output_type": "stream",
          "text": [
            "\r 42%|████▏     | 360/852 [21:21<29:24,  3.59s/it]"
          ]
        },
        {
          "metadata": {
            "tags": null
          },
          "name": "stdout",
          "output_type": "stream",
          "text": [
            "\n",
            "input_text :  [] 기타 원(ONE)\n",
            "output_result :  회\n"
          ]
        },
        {
          "metadata": {
            "tags": null
          },
          "name": "stderr",
          "output_type": "stream",
          "text": [
            "\r 42%|████▏     | 361/852 [21:24<27:31,  3.36s/it]"
          ]
        },
        {
          "metadata": {
            "tags": null
          },
          "name": "stdout",
          "output_type": "stream",
          "text": [
            "\n",
            "input_text :  ['짜장면', '짬뽕', '볶음밥'] 중국식 향희\n",
            "output_result :  중식\n"
          ]
        },
        {
          "metadata": {
            "tags": null
          },
          "name": "stderr",
          "output_type": "stream",
          "text": [
            "\r 42%|████▏     | 362/852 [21:27<25:06,  3.07s/it]"
          ]
        },
        {
          "metadata": {
            "tags": null
          },
          "name": "stdout",
          "output_type": "stream",
          "text": [
            "\n",
            "input_text :  [] 한식 부영가정식백반\n",
            "output_result :  백반\n"
          ]
        },
        {
          "metadata": {
            "tags": null
          },
          "name": "stderr",
          "output_type": "stream",
          "text": [
            "\r 43%|████▎     | 363/852 [21:32<29:45,  3.65s/it]"
          ]
        },
        {
          "metadata": {
            "tags": null
          },
          "name": "stdout",
          "output_type": "stream",
          "text": [
            "\n",
            "input_text :  ['돼지갈비 (250g)', '숯불닭갈비 (300g)', '생삼겹살 (200g)'] 한식 머루촌숯불갈비\n",
            "output_result :  고기/구이\n"
          ]
        },
        {
          "metadata": {
            "tags": null
          },
          "name": "stderr",
          "output_type": "stream",
          "text": [
            "\r 43%|████▎     | 364/852 [21:34<26:32,  3.26s/it]"
          ]
        },
        {
          "metadata": {
            "tags": null
          },
          "name": "stdout",
          "output_type": "stream",
          "text": [
            "\n",
            "input_text :  [] 한식 대경식당\n",
            "output_result :  백반\n"
          ]
        },
        {
          "metadata": {
            "tags": null
          },
          "name": "stderr",
          "output_type": "stream",
          "text": [
            "\r 43%|████▎     | 365/852 [21:37<27:03,  3.33s/it]"
          ]
        },
        {
          "metadata": {
            "tags": null
          },
          "name": "stdout",
          "output_type": "stream",
          "text": [
            "\n",
            "input_text :  ['우동', '태양초치즈닭갈비', '모래집볶음'] 호프/통닭 투다리강대점\n",
            "output_result :  고기/구이\n"
          ]
        },
        {
          "metadata": {
            "tags": null
          },
          "name": "stderr",
          "output_type": "stream",
          "text": [
            "\r 43%|████▎     | 366/852 [21:40<24:51,  3.07s/it]"
          ]
        },
        {
          "metadata": {
            "tags": null
          },
          "name": "stdout",
          "output_type": "stream",
          "text": [
            "\n",
            "input_text :  [] 한식 참맛부흥닭갈비\n",
            "output_result :  고기/구이\n"
          ]
        },
        {
          "metadata": {
            "tags": null
          },
          "name": "stderr",
          "output_type": "stream",
          "text": [
            "\r 43%|████▎     | 367/852 [21:44<28:35,  3.54s/it]"
          ]
        },
        {
          "metadata": {
            "tags": null
          },
          "name": "stdout",
          "output_type": "stream",
          "text": [
            "\n",
            "input_text :  ['불고기 (250g)', '삼겹살 (200g)', '황태구이정식 (1인분)'] 한식 퇴계골\n",
            "output_result :  고기/구이\n"
          ]
        },
        {
          "metadata": {
            "tags": null
          },
          "name": "stderr",
          "output_type": "stream",
          "text": [
            "\r 43%|████▎     | 368/852 [21:47<27:09,  3.37s/it]"
          ]
        },
        {
          "metadata": {
            "tags": null
          },
          "name": "stdout",
          "output_type": "stream",
          "text": [
            "\n",
            "input_text :  ['된장찌개', '순두부찌개', '라면'] 분식 봉실스넥\n",
            "output_result :  양식\n"
          ]
        },
        {
          "metadata": {
            "tags": null
          },
          "name": "stderr",
          "output_type": "stream",
          "text": [
            "\r 43%|████▎     | 369/852 [21:50<24:33,  3.05s/it]"
          ]
        },
        {
          "metadata": {
            "tags": null
          },
          "name": "stdout",
          "output_type": "stream",
          "text": [
            "\n",
            "input_text :  [] 호프/통닭 올리\n",
            "output_result :  치킨\n"
          ]
        },
        {
          "metadata": {
            "tags": null
          },
          "name": "stderr",
          "output_type": "stream",
          "text": [
            "\r 43%|████▎     | 370/852 [21:54<26:11,  3.26s/it]"
          ]
        },
        {
          "metadata": {
            "tags": null
          },
          "name": "stdout",
          "output_type": "stream",
          "text": [
            "\n",
            "input_text :  ['닭발 (보통맛,중간맛,매운맛)', '똥집', '껍데기'] 정종/대포집/소주방 닭발어때\n",
            "output_result :  양식\n"
          ]
        },
        {
          "metadata": {
            "tags": null
          },
          "name": "stderr",
          "output_type": "stream",
          "text": [
            "\r 44%|████▎     | 371/852 [21:58<28:43,  3.58s/it]"
          ]
        },
        {
          "metadata": {
            "tags": null
          },
          "name": "stdout",
          "output_type": "stream",
          "text": [
            "\n",
            "input_text :  ['된장찌개', '김치찌개', '두부찌개'] 한식 써나냉삼\n",
            "output_result :  찜/탕/찌개\n"
          ]
        },
        {
          "metadata": {
            "tags": null
          },
          "name": "stderr",
          "output_type": "stream",
          "text": [
            "\r 44%|████▎     | 372/852 [22:00<26:18,  3.29s/it]"
          ]
        },
        {
          "metadata": {
            "tags": null
          },
          "name": "stdout",
          "output_type": "stream",
          "text": [
            "\n",
            "input_text :  [] 중국식 올림짬뽕\n",
            "output_result :  중식\n"
          ]
        },
        {
          "metadata": {
            "tags": null
          },
          "name": "stderr",
          "output_type": "stream",
          "text": [
            "\r 44%|████▍     | 373/852 [22:04<26:24,  3.31s/it]"
          ]
        },
        {
          "metadata": {
            "tags": null
          },
          "name": "stdout",
          "output_type": "stream",
          "text": [
            "\n",
            "input_text :  ['짜장면', '짬뽕', '우동'] 중국식 장수장\n",
            "output_result :  중식\n"
          ]
        },
        {
          "metadata": {
            "tags": null
          },
          "name": "stderr",
          "output_type": "stream",
          "text": [
            "\r 44%|████▍     | 374/852 [22:07<27:07,  3.40s/it]"
          ]
        },
        {
          "metadata": {
            "tags": null
          },
          "name": "stdout",
          "output_type": "stream",
          "text": [
            "\n",
            "input_text :  ['칼국수', '곱배기', '공기밥'] 한식 산골손칼국수\n",
            "output_result :  국수\n"
          ]
        },
        {
          "metadata": {
            "tags": null
          },
          "name": "stderr",
          "output_type": "stream",
          "text": [
            "\r 44%|████▍     | 375/852 [22:11<28:00,  3.52s/it]"
          ]
        },
        {
          "metadata": {
            "tags": null
          },
          "name": "stdout",
          "output_type": "stream",
          "text": [
            "\n",
            "input_text :  [] 식육(숯불구이) 우리정육식당\n",
            "output_result :  고기/구이\n"
          ]
        },
        {
          "metadata": {
            "tags": null
          },
          "name": "stderr",
          "output_type": "stream",
          "text": [
            "\r 44%|████▍     | 376/852 [22:15<29:09,  3.68s/it]"
          ]
        },
        {
          "metadata": {
            "tags": null
          },
          "name": "stdout",
          "output_type": "stream",
          "text": [
            "\n",
            "input_text :  ['황제탕 (대)', '홍어삼합', '홍어회'] 한식 옹달샘\n",
            "output_result :  찜/탕/찌개\n"
          ]
        },
        {
          "metadata": {
            "tags": null
          },
          "name": "stderr",
          "output_type": "stream",
          "text": [
            "\r 44%|████▍     | 377/852 [22:18<27:07,  3.43s/it]"
          ]
        },
        {
          "metadata": {
            "tags": null
          },
          "name": "stdout",
          "output_type": "stream",
          "text": [
            "\n",
            "input_text :  [] 한식 묵은지한상\n",
            "output_result :  분식\n"
          ]
        },
        {
          "metadata": {
            "tags": null
          },
          "name": "stderr",
          "output_type": "stream",
          "text": [
            "\r 44%|████▍     | 378/852 [22:21<25:07,  3.18s/it]"
          ]
        },
        {
          "metadata": {
            "tags": null
          },
          "name": "stdout",
          "output_type": "stream",
          "text": [
            "\n",
            "input_text :  [] 기타 피제이\n",
            "output_result :  회\n"
          ]
        },
        {
          "metadata": {
            "tags": null
          },
          "name": "stderr",
          "output_type": "stream",
          "text": [
            "\r 44%|████▍     | 379/852 [22:25<28:32,  3.62s/it]"
          ]
        },
        {
          "metadata": {
            "tags": null
          },
          "name": "stdout",
          "output_type": "stream",
          "text": [
            "\n",
            "input_text :  ['감자탕 (대)', '감자탕 (중)', '감자탕 (소)'] 한식 뼈다귀천국\n",
            "output_result :  찜/탕/찌개\n"
          ]
        },
        {
          "metadata": {
            "tags": null
          },
          "name": "stderr",
          "output_type": "stream",
          "text": [
            "\r 45%|████▍     | 380/852 [22:28<26:22,  3.35s/it]"
          ]
        },
        {
          "metadata": {
            "tags": null
          },
          "name": "stdout",
          "output_type": "stream",
          "text": [
            "\n",
            "input_text :  [] 정종/대포집/소주방 품애\n",
            "output_result :  양식\n"
          ]
        },
        {
          "metadata": {
            "tags": null
          },
          "name": "stderr",
          "output_type": "stream",
          "text": [
            "\r 45%|████▍     | 381/852 [22:32<28:33,  3.64s/it]"
          ]
        },
        {
          "metadata": {
            "tags": null
          },
          "name": "stdout",
          "output_type": "stream",
          "text": [
            "\n",
            "input_text :  ['황토진흙오리구이', '훈제오리바베큐', '회전오리구이(한마리)'] 식육(숯불구이) 팔도한방오리\n",
            "output_result :  고기/구이\n"
          ]
        },
        {
          "metadata": {
            "tags": null
          },
          "name": "stderr",
          "output_type": "stream",
          "text": [
            "\r 45%|████▍     | 382/852 [22:37<30:58,  3.95s/it]"
          ]
        },
        {
          "metadata": {
            "tags": null
          },
          "name": "stdout",
          "output_type": "stream",
          "text": [
            "\n",
            "input_text :  ['갈비짬뽕', '짜장면', '우삼겹 마라짬뽕'] 한식 육림객잔\n",
            "output_result :  찜/탕/찌개\n"
          ]
        },
        {
          "metadata": {
            "tags": null
          },
          "name": "stderr",
          "output_type": "stream",
          "text": [
            "\r 45%|████▍     | 383/852 [22:42<32:25,  4.15s/it]"
          ]
        },
        {
          "metadata": {
            "tags": null
          },
          "name": "stdout",
          "output_type": "stream",
          "text": [
            "\n",
            "input_text :  ['갈비살 (150g)', '차돌박이 (150g)', '생삼겹살 (200g)'] 호프/통닭 내린천\n",
            "output_result :  고기/구이\n"
          ]
        },
        {
          "metadata": {
            "tags": null
          },
          "name": "stderr",
          "output_type": "stream",
          "text": [
            "\r 45%|████▌     | 384/852 [22:46<32:51,  4.21s/it]"
          ]
        },
        {
          "metadata": {
            "tags": null
          },
          "name": "stdout",
          "output_type": "stream",
          "text": [
            "\n",
            "input_text :  ['김미바삭', '씬 후라이드', '블랙알리오'] 정종/대포집/소주방 구라닭\n",
            "output_result :  양식\n"
          ]
        },
        {
          "metadata": {
            "tags": null
          },
          "name": "stderr",
          "output_type": "stream",
          "text": [
            "\r 45%|████▌     | 385/852 [22:51<33:29,  4.30s/it]"
          ]
        },
        {
          "metadata": {
            "tags": null
          },
          "name": "stdout",
          "output_type": "stream",
          "text": [
            "\n",
            "input_text :  [] 탕류(보신용) 바다해물찜감자탕\n",
            "output_result :  찜/탕/찌개\n"
          ]
        },
        {
          "metadata": {
            "tags": null
          },
          "name": "stderr",
          "output_type": "stream",
          "text": [
            "\r 45%|████▌     | 386/852 [22:55<33:16,  4.28s/it]"
          ]
        },
        {
          "metadata": {
            "tags": null
          },
          "name": "stdout",
          "output_type": "stream",
          "text": [
            "\n",
            "input_text :  ['모듬순대', '순대국', '돼지국밥'] 한식 가마솥순대국(애막골점)\n",
            "output_result :  국밥\n"
          ]
        },
        {
          "metadata": {
            "tags": null
          },
          "name": "stderr",
          "output_type": "stream",
          "text": [
            "\r 45%|████▌     | 387/852 [22:57<29:21,  3.79s/it]"
          ]
        },
        {
          "metadata": {
            "tags": null
          },
          "name": "stdout",
          "output_type": "stream",
          "text": [
            "\n",
            "input_text :  [] 한식 시골촌두부\n",
            "output_result :  양식\n"
          ]
        },
        {
          "metadata": {
            "tags": null
          },
          "name": "stderr",
          "output_type": "stream",
          "text": [
            "\r 46%|████▌     | 388/852 [23:03<32:58,  4.26s/it]"
          ]
        },
        {
          "metadata": {
            "tags": null
          },
          "name": "stdout",
          "output_type": "stream",
          "text": [
            "\n",
            "input_text :  ['돈까스간장계란덮밥', '소고기덮밥', '새우튀김간장계란덮밥'] 호프/통닭 구르메\n",
            "output_result :  고기/구이\n"
          ]
        },
        {
          "metadata": {
            "tags": null
          },
          "name": "stderr",
          "output_type": "stream",
          "text": [
            "\r 46%|████▌     | 389/852 [23:05<28:46,  3.73s/it]"
          ]
        },
        {
          "metadata": {
            "tags": null
          },
          "name": "stdout",
          "output_type": "stream",
          "text": [
            "\n",
            "input_text :  [] 한식 우리식당\n",
            "output_result :  백반\n"
          ]
        },
        {
          "metadata": {
            "tags": null
          },
          "name": "stderr",
          "output_type": "stream",
          "text": [
            "\r 46%|████▌     | 390/852 [23:08<26:38,  3.46s/it]"
          ]
        },
        {
          "metadata": {
            "tags": null
          },
          "name": "stdout",
          "output_type": "stream",
          "text": [
            "\n",
            "input_text :  [] 분식 푸드엠에이\n",
            "output_result :  양식\n"
          ]
        },
        {
          "metadata": {
            "tags": null
          },
          "name": "stderr",
          "output_type": "stream",
          "text": [
            "\r 46%|████▌     | 391/852 [23:12<26:33,  3.46s/it]"
          ]
        },
        {
          "metadata": {
            "tags": null
          },
          "name": "stdout",
          "output_type": "stream",
          "text": [
            "\n",
            "input_text :  ['짜장면', '해물짬뽕', '차돌박이짬뽕'] 중국식 기륜각\n",
            "output_result :  중식\n"
          ]
        },
        {
          "metadata": {
            "tags": null
          },
          "name": "stderr",
          "output_type": "stream",
          "text": [
            "\r 46%|████▌     | 392/852 [23:16<29:16,  3.82s/it]"
          ]
        },
        {
          "metadata": {
            "tags": null
          },
          "name": "stdout",
          "output_type": "stream",
          "text": [
            "\n",
            "input_text :  ['닭갈비 (1인분)', '막국수', '감자전'] 한식 그린닭갈비\n",
            "output_result :  고기/구이\n"
          ]
        },
        {
          "metadata": {
            "tags": null
          },
          "name": "stderr",
          "output_type": "stream",
          "text": [
            "\r 46%|████▌     | 393/852 [23:21<30:26,  3.98s/it]"
          ]
        },
        {
          "metadata": {
            "tags": null
          },
          "name": "stdout",
          "output_type": "stream",
          "text": [
            "\n",
            "input_text :  ['양꼬치 (1인분)', '꿔보러우', '훠궈'] 식육(숯불구이) 니하오양꼬치\n",
            "output_result :  고기/구이\n"
          ]
        },
        {
          "metadata": {
            "tags": null
          },
          "name": "stderr",
          "output_type": "stream",
          "text": [
            "\r 46%|████▌     | 394/852 [23:25<31:24,  4.12s/it]"
          ]
        },
        {
          "metadata": {
            "tags": null
          },
          "name": "stdout",
          "output_type": "stream",
          "text": [
            "\n",
            "input_text :  ['갈매기살(200g)', '생삼겹살(200g)', '제육볶음(200g)'] 한식 청평미가\n",
            "output_result :  고기/구이\n"
          ]
        },
        {
          "metadata": {
            "tags": null
          },
          "name": "stderr",
          "output_type": "stream",
          "text": [
            "\r 46%|████▋     | 395/852 [23:30<33:21,  4.38s/it]"
          ]
        },
        {
          "metadata": {
            "tags": null
          },
          "name": "stdout",
          "output_type": "stream",
          "text": [
            "\n",
            "input_text :  ['닭볶음탕', '순살닭볶음탕', '순이네 찜닭'] 호프/통닭 순이네\n",
            "output_result :  찜/탕/찌개\n"
          ]
        },
        {
          "metadata": {
            "tags": null
          },
          "name": "stderr",
          "output_type": "stream",
          "text": [
            "\r 46%|████▋     | 396/852 [23:34<32:40,  4.30s/it]"
          ]
        },
        {
          "metadata": {
            "tags": null
          },
          "name": "stdout",
          "output_type": "stream",
          "text": [
            "\n",
            "input_text :  ['마법클 한마리', '더블팝 순살 양념', 'HOT 후라이드 콤보'] 한식 bhc애막골점\n",
            "output_result :  치킨\n"
          ]
        },
        {
          "metadata": {
            "tags": null
          },
          "name": "stderr",
          "output_type": "stream",
          "text": [
            "\r 47%|████▋     | 397/852 [23:38<31:24,  4.14s/it]"
          ]
        },
        {
          "metadata": {
            "tags": null
          },
          "name": "stdout",
          "output_type": "stream",
          "text": [
            "\n",
            "input_text :  ['점심특선 (1인)', '아몬드유린기', '찹쌀탕수육'] 중국식 중화루\n",
            "output_result :  찜/탕/찌개\n"
          ]
        },
        {
          "metadata": {
            "tags": null
          },
          "name": "stderr",
          "output_type": "stream",
          "text": [
            "\r 47%|████▋     | 398/852 [23:41<29:14,  3.86s/it]"
          ]
        },
        {
          "metadata": {
            "tags": null
          },
          "name": "stdout",
          "output_type": "stream",
          "text": [
            "\n",
            "input_text :  [] 중국식 길림성\n",
            "output_result :  중식\n"
          ]
        },
        {
          "metadata": {
            "tags": null
          },
          "name": "stderr",
          "output_type": "stream",
          "text": [
            "\r 47%|████▋     | 399/852 [23:45<29:17,  3.88s/it]"
          ]
        },
        {
          "metadata": {
            "tags": null
          },
          "name": "stdout",
          "output_type": "stream",
          "text": [
            "\n",
            "input_text :  ['쥐포', '아이스황도', '용대리먹태'] 호프/통닭 씨씨알호프\n",
            "output_result :  양식\n"
          ]
        },
        {
          "metadata": {
            "tags": null
          },
          "name": "stderr",
          "output_type": "stream",
          "text": [
            "\r 47%|████▋     | 400/852 [23:49<29:47,  3.95s/it]"
          ]
        },
        {
          "metadata": {
            "tags": null
          },
          "name": "stdout",
          "output_type": "stream",
          "text": [
            "\n",
            "input_text :  ['특수부위(150g)', '갈비살(150g)', '양념갈비살(180g)'] 한식 미가\n",
            "output_result :  고기/구이\n"
          ]
        },
        {
          "metadata": {
            "tags": null
          },
          "name": "stderr",
          "output_type": "stream",
          "text": [
            "\r 47%|████▋     | 401/852 [23:54<30:43,  4.09s/it]"
          ]
        },
        {
          "metadata": {
            "tags": null
          },
          "name": "stdout",
          "output_type": "stream",
          "text": [
            "\n",
            "input_text :  ['후라이드', '반반치킨', '양념치킨'] 통닭(치킨) 번개치킨\n",
            "output_result :  치킨\n"
          ]
        },
        {
          "metadata": {
            "tags": null
          },
          "name": "stderr",
          "output_type": "stream",
          "text": [
            "\r 47%|████▋     | 402/852 [23:57<28:09,  3.75s/it]"
          ]
        },
        {
          "metadata": {
            "tags": null
          },
          "name": "stdout",
          "output_type": "stream",
          "text": [
            "\n",
            "input_text :  [] 라이브카페 써니7080\n",
            "output_result :  양식\n"
          ]
        },
        {
          "metadata": {
            "tags": null
          },
          "name": "stderr",
          "output_type": "stream",
          "text": [
            "\r 47%|████▋     | 403/852 [23:59<25:28,  3.40s/it]"
          ]
        },
        {
          "metadata": {
            "tags": null
          },
          "name": "stdout",
          "output_type": "stream",
          "text": [
            "\n",
            "input_text :  [] 기타 청사초롱\n",
            "output_result :  양식\n"
          ]
        },
        {
          "metadata": {
            "tags": null
          },
          "name": "stderr",
          "output_type": "stream",
          "text": [
            "\r 47%|████▋     | 404/852 [24:03<25:25,  3.41s/it]"
          ]
        },
        {
          "metadata": {
            "tags": null
          },
          "name": "stdout",
          "output_type": "stream",
          "text": [
            "\n",
            "input_text :  ['콩국수', '비빔국수', '물냉면'] 한식 형제반점\n",
            "output_result :  국수\n"
          ]
        },
        {
          "metadata": {
            "tags": null
          },
          "name": "stderr",
          "output_type": "stream",
          "text": [
            "\r 48%|████▊     | 405/852 [24:05<23:50,  3.20s/it]"
          ]
        },
        {
          "metadata": {
            "tags": null
          },
          "name": "stdout",
          "output_type": "stream",
          "text": [
            "\n",
            "input_text :  [] 한식 은하식당\n",
            "output_result :  백반\n"
          ]
        },
        {
          "metadata": {
            "tags": null
          },
          "name": "stderr",
          "output_type": "stream",
          "text": [
            "\r 48%|████▊     | 406/852 [24:09<24:40,  3.32s/it]"
          ]
        },
        {
          "metadata": {
            "tags": null
          },
          "name": "stdout",
          "output_type": "stream",
          "text": [
            "\n",
            "input_text :  [] 한식 효자동해물칼국수\n",
            "output_result :  국수\n"
          ]
        },
        {
          "metadata": {
            "tags": null
          },
          "name": "stderr",
          "output_type": "stream",
          "text": [
            "\r 48%|████▊     | 407/852 [24:12<23:37,  3.18s/it]"
          ]
        },
        {
          "metadata": {
            "tags": null
          },
          "name": "stdout",
          "output_type": "stream",
          "text": [
            "\n",
            "input_text :  [] 탕류(보신용) 남도영양탕\n",
            "output_result :  백반\n"
          ]
        },
        {
          "metadata": {
            "tags": null
          },
          "name": "stderr",
          "output_type": "stream",
          "text": [
            "\r 48%|████▊     | 408/852 [24:14<22:06,  2.99s/it]"
          ]
        },
        {
          "metadata": {
            "tags": null
          },
          "name": "stdout",
          "output_type": "stream",
          "text": [
            "\n",
            "input_text :  [] 한식 로맨스호프\n",
            "output_result :  양식\n"
          ]
        },
        {
          "metadata": {
            "tags": null
          },
          "name": "stderr",
          "output_type": "stream",
          "text": [
            "\r 48%|████▊     | 409/852 [24:17<21:42,  2.94s/it]"
          ]
        },
        {
          "metadata": {
            "tags": null
          },
          "name": "stdout",
          "output_type": "stream",
          "text": [
            "\n",
            "input_text :  [] 한식 (주)호반월드\n",
            "output_result :  회\n"
          ]
        },
        {
          "metadata": {
            "tags": null
          },
          "name": "stderr",
          "output_type": "stream",
          "text": [
            "\r 48%|████▊     | 410/852 [24:22<25:37,  3.48s/it]"
          ]
        },
        {
          "metadata": {
            "tags": null
          },
          "name": "stdout",
          "output_type": "stream",
          "text": [
            "\n",
            "input_text :  ['닭갈비 (1인분)', '닭내장', '볶음밥'] 한식 진미닭갈비본점\n",
            "output_result :  고기/구이\n"
          ]
        },
        {
          "metadata": {
            "tags": null
          },
          "name": "stderr",
          "output_type": "stream",
          "text": [
            "\r 48%|████▊     | 411/852 [24:24<23:29,  3.20s/it]"
          ]
        },
        {
          "metadata": {
            "tags": null
          },
          "name": "stdout",
          "output_type": "stream",
          "text": [
            "\n",
            "input_text :  [] 한식 파라다이스\n",
            "output_result :  양식\n"
          ]
        },
        {
          "metadata": {
            "tags": null
          },
          "name": "stderr",
          "output_type": "stream",
          "text": [
            "\r 48%|████▊     | 412/852 [24:28<23:32,  3.21s/it]"
          ]
        },
        {
          "metadata": {
            "tags": null
          },
          "name": "stdout",
          "output_type": "stream",
          "text": [
            "\n",
            "input_text :  ['라면', '덮밥류', '김밥'] 한식 김밥천국\n",
            "output_result :  양식\n"
          ]
        },
        {
          "metadata": {
            "tags": null
          },
          "name": "stderr",
          "output_type": "stream",
          "text": [
            "\r 48%|████▊     | 413/852 [24:31<23:28,  3.21s/it]"
          ]
        },
        {
          "metadata": {
            "tags": null
          },
          "name": "stdout",
          "output_type": "stream",
          "text": [
            "\n",
            "input_text :  ['동태전', '감자전', '두부구이'] 기타 리얼전\n",
            "output_result :  고기/구이\n"
          ]
        },
        {
          "metadata": {
            "tags": null
          },
          "name": "stderr",
          "output_type": "stream",
          "text": [
            "\r 49%|████▊     | 414/852 [24:36<26:53,  3.68s/it]"
          ]
        },
        {
          "metadata": {
            "tags": null
          },
          "name": "stdout",
          "output_type": "stream",
          "text": [
            "\n",
            "input_text :  ['양념치킨', '간장치킨', '매운양념'] 통닭(치킨) 꼬꼬랑꼬치랑\n",
            "output_result :  치킨\n"
          ]
        },
        {
          "metadata": {
            "tags": null
          },
          "name": "stderr",
          "output_type": "stream",
          "text": [
            "\r 49%|████▊     | 415/852 [24:38<24:47,  3.40s/it]"
          ]
        },
        {
          "metadata": {
            "tags": null
          },
          "name": "stdout",
          "output_type": "stream",
          "text": [
            "\n",
            "input_text :  [] 한식 애막골진미감자탕\n",
            "output_result :  찜/탕/찌개\n"
          ]
        },
        {
          "metadata": {
            "tags": null
          },
          "name": "stderr",
          "output_type": "stream",
          "text": [
            "\r 49%|████▉     | 416/852 [24:41<22:34,  3.11s/it]"
          ]
        },
        {
          "metadata": {
            "tags": null
          },
          "name": "stdout",
          "output_type": "stream",
          "text": [
            "\n",
            "input_text :  [] 한식 예술관\n",
            "output_result :  양식\n"
          ]
        },
        {
          "metadata": {
            "tags": null
          },
          "name": "stderr",
          "output_type": "stream",
          "text": [
            "\r 49%|████▉     | 417/852 [24:44<23:06,  3.19s/it]"
          ]
        },
        {
          "metadata": {
            "tags": null
          },
          "name": "stdout",
          "output_type": "stream",
          "text": [
            "\n",
            "input_text :  ['순대국', '술국', '콩나물해장국'] 한식 남부순대국\n",
            "output_result :  국밥\n"
          ]
        },
        {
          "metadata": {
            "tags": null
          },
          "name": "stderr",
          "output_type": "stream",
          "text": [
            "\r 49%|████▉     | 418/852 [24:49<26:04,  3.60s/it]"
          ]
        },
        {
          "metadata": {
            "tags": null
          },
          "name": "stdout",
          "output_type": "stream",
          "text": [
            "\n",
            "input_text :  ['후라이드', '양념치킨', '반반치킨'] 통닭(치킨) 페리카나팔호광장점\n",
            "output_result :  치킨\n"
          ]
        },
        {
          "metadata": {
            "tags": null
          },
          "name": "stderr",
          "output_type": "stream",
          "text": [
            "\r 49%|████▉     | 419/852 [24:52<25:39,  3.56s/it]"
          ]
        },
        {
          "metadata": {
            "tags": null
          },
          "name": "stdout",
          "output_type": "stream",
          "text": [
            "\n",
            "input_text :  ['두부전골', '두부버섯전골', '두부해물전골'] 한식 행복한두부\n",
            "output_result :  찜/탕/찌개\n"
          ]
        },
        {
          "metadata": {
            "tags": null
          },
          "name": "stderr",
          "output_type": "stream",
          "text": [
            "\r 49%|████▉     | 420/852 [24:56<26:40,  3.71s/it]"
          ]
        },
        {
          "metadata": {
            "tags": null
          },
          "name": "stdout",
          "output_type": "stream",
          "text": [
            "\n",
            "input_text :  ['마포갈매기', '양념갈매기', '매콤갈매기'] 식육(숯불구이) 신마포갈매기(강원대점)\n",
            "output_result :  고기/구이\n"
          ]
        },
        {
          "metadata": {
            "tags": null
          },
          "name": "stderr",
          "output_type": "stream",
          "text": [
            "\r 49%|████▉     | 421/852 [25:00<27:40,  3.85s/it]"
          ]
        },
        {
          "metadata": {
            "tags": null
          },
          "name": "stdout",
          "output_type": "stream",
          "text": [
            "\n",
            "input_text :  ['모둠회', '광어', '도미'] 한식 활어포차본점\n",
            "output_result :  회\n"
          ]
        },
        {
          "metadata": {
            "tags": null
          },
          "name": "stderr",
          "output_type": "stream",
          "text": [
            "\r 50%|████▉     | 422/852 [25:03<24:50,  3.47s/it]"
          ]
        },
        {
          "metadata": {
            "tags": null
          },
          "name": "stdout",
          "output_type": "stream",
          "text": [
            "\n",
            "input_text :  [] 한식 네오피자춘천점\n",
            "output_result :  분식\n"
          ]
        },
        {
          "metadata": {
            "tags": null
          },
          "name": "stderr",
          "output_type": "stream",
          "text": [
            "\r 50%|████▉     | 423/852 [25:06<23:03,  3.23s/it]"
          ]
        },
        {
          "metadata": {
            "tags": null
          },
          "name": "stdout",
          "output_type": "stream",
          "text": [
            "\n",
            "input_text :  [] 통닭(치킨) 원주맛통닭\n",
            "output_result :  치킨\n"
          ]
        },
        {
          "metadata": {
            "tags": null
          },
          "name": "stderr",
          "output_type": "stream",
          "text": [
            "\r 50%|████▉     | 424/852 [25:10<25:03,  3.51s/it]"
          ]
        },
        {
          "metadata": {
            "tags": null
          },
          "name": "stdout",
          "output_type": "stream",
          "text": [
            "\n",
            "input_text :  ['토대력 꼬치세트', '매운 닭세트', '닭산적 꼬치'] 정종/대포집/소주방 토대력(춘천점)\n",
            "output_result :  양식\n"
          ]
        },
        {
          "metadata": {
            "tags": null
          },
          "name": "stderr",
          "output_type": "stream",
          "text": [
            "\r 50%|████▉     | 425/852 [25:13<24:45,  3.48s/it]"
          ]
        },
        {
          "metadata": {
            "tags": null
          },
          "name": "stdout",
          "output_type": "stream",
          "text": [
            "\n",
            "input_text :  [] 중국식 석사반점\n",
            "output_result :  중식\n"
          ]
        },
        {
          "metadata": {
            "tags": null
          },
          "name": "stderr",
          "output_type": "stream",
          "text": [
            "\r 50%|█████     | 426/852 [25:17<25:41,  3.62s/it]"
          ]
        },
        {
          "metadata": {
            "tags": null
          },
          "name": "stdout",
          "output_type": "stream",
          "text": [
            "\n",
            "input_text :  ['모듬구이(200g)', '돼지갈비(350g)', '한우등심(200g)'] 기타 불난집\n",
            "output_result :  고기/구이\n"
          ]
        },
        {
          "metadata": {
            "tags": null
          },
          "name": "stderr",
          "output_type": "stream",
          "text": [
            "\r 50%|█████     | 427/852 [25:21<26:53,  3.80s/it]"
          ]
        },
        {
          "metadata": {
            "tags": null
          },
          "name": "stdout",
          "output_type": "stream",
          "text": [
            "\n",
            "input_text :  ['왕짱구김밥(8개)', '고기왕만두(8개)', '고기만두(10개)'] 분식 팔호스넥\n",
            "output_result :  분식\n"
          ]
        },
        {
          "metadata": {
            "tags": null
          },
          "name": "stderr",
          "output_type": "stream",
          "text": [
            "\r 50%|█████     | 428/852 [25:26<28:48,  4.08s/it]"
          ]
        },
        {
          "metadata": {
            "tags": null
          },
          "name": "stdout",
          "output_type": "stream",
          "text": [
            "\n",
            "input_text :  ['인절미팥빙수', '오레오초코빙수', '딸기셔벳빙수'] 한식 빙수의집\n",
            "output_result :  백반\n"
          ]
        },
        {
          "metadata": {
            "tags": null
          },
          "name": "stderr",
          "output_type": "stream",
          "text": [
            "\r 50%|█████     | 429/852 [25:32<31:38,  4.49s/it]"
          ]
        },
        {
          "metadata": {
            "tags": null
          },
          "name": "stdout",
          "output_type": "stream",
          "text": [
            "\n",
            "input_text :  ['원조 닭갈비 (300g)', '매운 닭갈비 (300g)', '모짜렐라치즈 닭갈비 (300g)'] 식육(숯불구이) 비와별닭갈비애막골점\n",
            "output_result :  고기/구이\n"
          ]
        },
        {
          "metadata": {
            "tags": null
          },
          "name": "stderr",
          "output_type": "stream",
          "text": [
            "\r 50%|█████     | 430/852 [25:34<28:15,  4.02s/it]"
          ]
        },
        {
          "metadata": {
            "tags": null
          },
          "name": "stdout",
          "output_type": "stream",
          "text": [
            "\n",
            "input_text :  [] 호프/통닭 김양비어앤포차춘천석사점\n",
            "output_result :  치킨\n"
          ]
        },
        {
          "metadata": {
            "tags": null
          },
          "name": "stderr",
          "output_type": "stream",
          "text": [
            "\r 51%|█████     | 431/852 [25:39<29:34,  4.21s/it]"
          ]
        },
        {
          "metadata": {
            "tags": null
          },
          "name": "stdout",
          "output_type": "stream",
          "text": [
            "\n",
            "input_text :  ['한판구이 통삼겹', '한판구이 통목살', '한판구이 통껍데기'] 기타 환희관\n",
            "output_result :  고기/구이\n"
          ]
        },
        {
          "metadata": {
            "tags": null
          },
          "name": "stderr",
          "output_type": "stream",
          "text": [
            "\r 51%|█████     | 432/852 [25:42<25:37,  3.66s/it]"
          ]
        },
        {
          "metadata": {
            "tags": null
          },
          "name": "stdout",
          "output_type": "stream",
          "text": [
            "\n",
            "input_text :  [] 한식 시민닭갈비\n",
            "output_result :  고기/구이\n"
          ]
        },
        {
          "metadata": {
            "tags": null
          },
          "name": "stderr",
          "output_type": "stream",
          "text": [
            "\r 51%|█████     | 433/852 [25:45<25:30,  3.65s/it]"
          ]
        },
        {
          "metadata": {
            "tags": null
          },
          "name": "stdout",
          "output_type": "stream",
          "text": [
            "\n",
            "input_text :  ['해물칼국수', '해물만두칼국수', '장칼국수'] 한식 은혜네해물칼국수\n",
            "output_result :  국수\n"
          ]
        },
        {
          "metadata": {
            "tags": null
          },
          "name": "stderr",
          "output_type": "stream",
          "text": [
            "\r 51%|█████     | 434/852 [25:48<23:08,  3.32s/it]"
          ]
        },
        {
          "metadata": {
            "tags": null
          },
          "name": "stdout",
          "output_type": "stream",
          "text": [
            "\n",
            "input_text :  [] 한식 용수골순두부\n",
            "output_result :  국수\n"
          ]
        },
        {
          "metadata": {
            "tags": null
          },
          "name": "stderr",
          "output_type": "stream",
          "text": [
            "\r 51%|█████     | 435/852 [25:52<25:28,  3.67s/it]"
          ]
        },
        {
          "metadata": {
            "tags": null
          },
          "name": "stdout",
          "output_type": "stream",
          "text": [
            "\n",
            "input_text :  ['마른안주류', '노가리', '먹태'] 호프/통닭 썬호프\n",
            "output_result :  양식\n"
          ]
        },
        {
          "metadata": {
            "tags": null
          },
          "name": "stderr",
          "output_type": "stream",
          "text": [
            "\r 51%|█████     | 436/852 [25:56<24:49,  3.58s/it]"
          ]
        },
        {
          "metadata": {
            "tags": null
          },
          "name": "stdout",
          "output_type": "stream",
          "text": [
            "\n",
            "input_text :  ['후라이드치킨', '작은피자', '피자'] 경양식 주동아리\n",
            "output_result :  양식\n"
          ]
        },
        {
          "metadata": {
            "tags": null
          },
          "name": "stderr",
          "output_type": "stream",
          "text": [
            "\r 51%|█████▏    | 437/852 [25:59<24:22,  3.52s/it]"
          ]
        },
        {
          "metadata": {
            "tags": null
          },
          "name": "stdout",
          "output_type": "stream",
          "text": [
            "\n",
            "input_text :  ['꼬리곰탕', '도가니탕', '갈비탕'] 한식 감미옥설렁탕\n",
            "output_result :  고기/구이\n"
          ]
        },
        {
          "metadata": {
            "tags": null
          },
          "name": "stderr",
          "output_type": "stream",
          "text": [
            "\r 51%|█████▏    | 438/852 [26:03<25:59,  3.77s/it]"
          ]
        },
        {
          "metadata": {
            "tags": null
          },
          "name": "stdout",
          "output_type": "stream",
          "text": [
            "\n",
            "input_text :  ['해물칼국수', '바지락칼국수', '수제비해물칼국수'] 한식 밀밭해물칼국수\n",
            "output_result :  국수\n"
          ]
        },
        {
          "metadata": {
            "tags": null
          },
          "name": "stderr",
          "output_type": "stream",
          "text": [
            "\r 52%|█████▏    | 439/852 [26:07<26:09,  3.80s/it]"
          ]
        },
        {
          "metadata": {
            "tags": null
          },
          "name": "stdout",
          "output_type": "stream",
          "text": [
            "\n",
            "input_text :  ['잔치국수 (보통)', '비빔국수 (보통)', '닭똥집'] 한식 옛날잔치국수\n",
            "output_result :  국수\n"
          ]
        },
        {
          "metadata": {
            "tags": null
          },
          "name": "stderr",
          "output_type": "stream",
          "text": [
            "\r 52%|█████▏    | 440/852 [26:12<28:47,  4.19s/it]"
          ]
        },
        {
          "metadata": {
            "tags": null
          },
          "name": "stdout",
          "output_type": "stream",
          "text": [
            "\n",
            "input_text :  ['BBQ 양념치킨', '황올 반+BBQ양념 반', '바삭갈릭'] 호프/통닭 비비큐(BBQ)(애막골점)\n",
            "output_result :  고기/구이\n"
          ]
        },
        {
          "metadata": {
            "tags": null
          },
          "name": "stderr",
          "output_type": "stream",
          "text": [
            "\r 52%|█████▏    | 441/852 [26:17<30:26,  4.44s/it]"
          ]
        },
        {
          "metadata": {
            "tags": null
          },
          "name": "stdout",
          "output_type": "stream",
          "text": [
            "\n",
            "input_text :  ['생삼겹살 (200g)', '오겹살 (200g)', '목살소금구이 (200g)'] 한식 삼겹천하\n",
            "output_result :  고기/구이\n"
          ]
        },
        {
          "metadata": {
            "tags": null
          },
          "name": "stderr",
          "output_type": "stream",
          "text": [
            "\r 52%|█████▏    | 442/852 [26:20<27:39,  4.05s/it]"
          ]
        },
        {
          "metadata": {
            "tags": null
          },
          "name": "stdout",
          "output_type": "stream",
          "text": [
            "\n",
            "input_text :  ['감자전', '크림수제비', '육회'] 한식 모퉁이식당\n",
            "output_result :  회\n"
          ]
        },
        {
          "metadata": {
            "tags": null
          },
          "name": "stderr",
          "output_type": "stream",
          "text": [
            "\r 52%|█████▏    | 443/852 [26:24<27:41,  4.06s/it]"
          ]
        },
        {
          "metadata": {
            "tags": null
          },
          "name": "stdout",
          "output_type": "stream",
          "text": [
            "\n",
            "input_text :  ['칠리새우', '크림새우', '매콤감바스'] 정종/대포집/소주방 인생건어물(석사점)\n",
            "output_result :  양식\n"
          ]
        },
        {
          "metadata": {
            "tags": null
          },
          "name": "stderr",
          "output_type": "stream",
          "text": [
            "\r 52%|█████▏    | 444/852 [26:27<24:40,  3.63s/it]"
          ]
        },
        {
          "metadata": {
            "tags": null
          },
          "name": "stdout",
          "output_type": "stream",
          "text": [
            "\n",
            "input_text :  [] 호프/통닭 미화네떡볶이\n",
            "output_result :  치킨\n"
          ]
        },
        {
          "metadata": {
            "tags": null
          },
          "name": "stderr",
          "output_type": "stream",
          "text": [
            "\r 52%|█████▏    | 445/852 [26:32<27:03,  3.99s/it]"
          ]
        },
        {
          "metadata": {
            "tags": null
          },
          "name": "stdout",
          "output_type": "stream",
          "text": [
            "\n",
            "input_text :  ['두부북어찜 (대)', '두부북어찜 (중)', '콩국수'] 한식 화천집\n",
            "output_result :  찜/탕/찌개\n"
          ]
        },
        {
          "metadata": {
            "tags": null
          },
          "name": "stderr",
          "output_type": "stream",
          "text": [
            "\r 52%|█████▏    | 446/852 [26:35<25:32,  3.77s/it]"
          ]
        },
        {
          "metadata": {
            "tags": null
          },
          "name": "stdout",
          "output_type": "stream",
          "text": [
            "\n",
            "input_text :  ['돼지갈비', '생삼겹살', '고추장삼겹살'] 한식 양지식당\n",
            "output_result :  고기/구이\n"
          ]
        },
        {
          "metadata": {
            "tags": null
          },
          "name": "stderr",
          "output_type": "stream",
          "text": [
            "\r 52%|█████▏    | 447/852 [26:38<22:51,  3.39s/it]"
          ]
        },
        {
          "metadata": {
            "tags": null
          },
          "name": "stdout",
          "output_type": "stream",
          "text": [
            "\n",
            "input_text :  [] 한식 솔막국수\n",
            "output_result :  국수\n"
          ]
        },
        {
          "metadata": {
            "tags": null
          },
          "name": "stderr",
          "output_type": "stream",
          "text": [
            "\r 53%|█████▎    | 448/852 [26:42<24:00,  3.57s/it]"
          ]
        },
        {
          "metadata": {
            "tags": null
          },
          "name": "stdout",
          "output_type": "stream",
          "text": [
            "\n",
            "input_text :  ['떡만두라면', '제육쌈밥', '동태찌개'] 한식 모녀밥상\n",
            "output_result :  분식\n"
          ]
        },
        {
          "metadata": {
            "tags": null
          },
          "name": "stderr",
          "output_type": "stream",
          "text": [
            "\r 53%|█████▎    | 449/852 [26:45<23:23,  3.48s/it]"
          ]
        },
        {
          "metadata": {
            "tags": null
          },
          "name": "stdout",
          "output_type": "stream",
          "text": [
            "\n",
            "input_text :  [] 기타 원나잇앤갓츠킹춘천효자점\n",
            "output_result :  중식\n"
          ]
        },
        {
          "metadata": {
            "tags": null
          },
          "name": "stderr",
          "output_type": "stream",
          "text": [
            "\r 53%|█████▎    | 450/852 [26:48<22:04,  3.30s/it]"
          ]
        },
        {
          "metadata": {
            "tags": null
          },
          "name": "stdout",
          "output_type": "stream",
          "text": [
            "\n",
            "input_text :  [] 한식 청진동양평해장국한우국밥\n",
            "output_result :  국밥\n"
          ]
        },
        {
          "metadata": {
            "tags": null
          },
          "name": "stderr",
          "output_type": "stream",
          "text": [
            "\r 53%|█████▎    | 451/852 [26:50<20:21,  3.05s/it]"
          ]
        },
        {
          "metadata": {
            "tags": null
          },
          "name": "stdout",
          "output_type": "stream",
          "text": [
            "\n",
            "input_text :  [] 호프/통닭 술또\n",
            "output_result :  치킨\n"
          ]
        },
        {
          "metadata": {
            "tags": null
          },
          "name": "stderr",
          "output_type": "stream",
          "text": [
            "\r 53%|█████▎    | 452/852 [26:54<21:07,  3.17s/it]"
          ]
        },
        {
          "metadata": {
            "tags": null
          },
          "name": "stdout",
          "output_type": "stream",
          "text": [
            "\n",
            "input_text :  ['에스프레소', '아메리카노', '카페라떼'] 까페 우기다, 방\n",
            "output_result :  양식\n"
          ]
        },
        {
          "metadata": {
            "tags": null
          },
          "name": "stderr",
          "output_type": "stream",
          "text": [
            "\r 53%|█████▎    | 453/852 [26:58<23:43,  3.57s/it]"
          ]
        },
        {
          "metadata": {
            "tags": null
          },
          "name": "stdout",
          "output_type": "stream",
          "text": [
            "\n",
            "input_text :  ['버터구이 오징어입', '한치', '먹태'] 기타 역전할머니맥주춘천애막골점\n",
            "output_result :  고기/구이\n"
          ]
        },
        {
          "metadata": {
            "tags": null
          },
          "name": "stderr",
          "output_type": "stream",
          "text": [
            "\r 53%|█████▎    | 454/852 [27:02<24:09,  3.64s/it]"
          ]
        },
        {
          "metadata": {
            "tags": null
          },
          "name": "stdout",
          "output_type": "stream",
          "text": [
            "\n",
            "input_text :  ['전골(1인분)', '삼계탕', '등갈비묵은지김치찜'] 한식 대전흑염소국밥\n",
            "output_result :  찜/탕/찌개\n"
          ]
        },
        {
          "metadata": {
            "tags": null
          },
          "name": "stderr",
          "output_type": "stream",
          "text": [
            "\r 53%|█████▎    | 455/852 [27:06<25:19,  3.83s/it]"
          ]
        },
        {
          "metadata": {
            "tags": null
          },
          "name": "stdout",
          "output_type": "stream",
          "text": [
            "\n",
            "input_text :  ['고구마치즈돈까스', '고봉민김밥', '고봉민돈까스'] 분식 고봉민김밥인춘천석사점\n",
            "output_result :  양식\n"
          ]
        },
        {
          "metadata": {
            "tags": null
          },
          "name": "stderr",
          "output_type": "stream",
          "text": [
            "\r 54%|█████▎    | 456/852 [27:11<26:43,  4.05s/it]"
          ]
        },
        {
          "metadata": {
            "tags": null
          },
          "name": "stdout",
          "output_type": "stream",
          "text": [
            "\n",
            "input_text :  ['마레 에 몬띠', '알마이스', '고르곤졸라'] 기타 빈체로(Vincero)\n",
            "output_result :  양식\n"
          ]
        },
        {
          "metadata": {
            "tags": null
          },
          "name": "stderr",
          "output_type": "stream",
          "text": [
            "\r 54%|█████▎    | 457/852 [27:13<23:18,  3.54s/it]"
          ]
        },
        {
          "metadata": {
            "tags": null
          },
          "name": "stdout",
          "output_type": "stream",
          "text": [
            "\n",
            "input_text :  [] 한식 가정식당\n",
            "output_result :  백반\n"
          ]
        },
        {
          "metadata": {
            "tags": null
          },
          "name": "stderr",
          "output_type": "stream",
          "text": [
            "\r 54%|█████▍    | 458/852 [27:17<23:31,  3.58s/it]"
          ]
        },
        {
          "metadata": {
            "tags": null
          },
          "name": "stdout",
          "output_type": "stream",
          "text": [
            "\n",
            "input_text :  ['싱글 오리진 드립 커피 (스페셜티)', '스페셜티 원두 100g', '뉴욕 치즈 케익'] 한식 밸브\n",
            "output_result :  중식\n"
          ]
        },
        {
          "metadata": {
            "tags": null
          },
          "name": "stderr",
          "output_type": "stream",
          "text": [
            "\r 54%|█████▍    | 459/852 [27:22<25:31,  3.90s/it]"
          ]
        },
        {
          "metadata": {
            "tags": null
          },
          "name": "stdout",
          "output_type": "stream",
          "text": [
            "\n",
            "input_text :  ['콜드브루 니트로', '민트모카', '바닐라 라떼'] 기타 이디야춘천애막골점\n",
            "output_result :  양식\n"
          ]
        },
        {
          "metadata": {
            "tags": null
          },
          "name": "stderr",
          "output_type": "stream",
          "text": [
            "\r 54%|█████▍    | 460/852 [27:26<25:59,  3.98s/it]"
          ]
        },
        {
          "metadata": {
            "tags": null
          },
          "name": "stdout",
          "output_type": "stream",
          "text": [
            "\n",
            "input_text :  ['티키타코순살치킨', '소보로치킨', '불패순살치킨'] 기타 자담치킨애막골점\n",
            "output_result :  백반\n"
          ]
        },
        {
          "metadata": {
            "tags": null
          },
          "name": "stderr",
          "output_type": "stream",
          "text": [
            "\r 54%|█████▍    | 461/852 [27:29<24:51,  3.82s/it]"
          ]
        },
        {
          "metadata": {
            "tags": null
          },
          "name": "stdout",
          "output_type": "stream",
          "text": [
            "\n",
            "input_text :  ['바지락얼큰우동', '찹쌀탕수육', '피쉬앤칩스'] 한식 치치\n",
            "output_result :  찜/탕/찌개\n"
          ]
        },
        {
          "metadata": {
            "tags": null
          },
          "name": "stderr",
          "output_type": "stream",
          "text": [
            "\r 54%|█████▍    | 462/852 [27:33<24:29,  3.77s/it]"
          ]
        },
        {
          "metadata": {
            "tags": null
          },
          "name": "stdout",
          "output_type": "stream",
          "text": [
            "\n",
            "input_text :  ['규동', '우동', '치킨가라아게'] 분식 마타네식당\n",
            "output_result :  분식\n"
          ]
        },
        {
          "metadata": {
            "tags": null
          },
          "name": "stderr",
          "output_type": "stream",
          "text": [
            "\r 54%|█████▍    | 463/852 [27:36<23:08,  3.57s/it]"
          ]
        },
        {
          "metadata": {
            "tags": null
          },
          "name": "stdout",
          "output_type": "stream",
          "text": [
            "\n",
            "input_text :  [] 호프/통닭 찍찍이네\n",
            "output_result :  고기/구이\n"
          ]
        },
        {
          "metadata": {
            "tags": null
          },
          "name": "stderr",
          "output_type": "stream",
          "text": [
            "\r 54%|█████▍    | 464/852 [27:40<24:17,  3.76s/it]"
          ]
        },
        {
          "metadata": {
            "tags": null
          },
          "name": "stdout",
          "output_type": "stream",
          "text": [
            "\n",
            "input_text :  ['명랑이네 감자 핫도그', '명랑이네 점보 핫도그', '명랑이네 반반모짜 핫도그'] 분식 명랑시대쌀핫도그강원대점\n",
            "output_result :  분식\n"
          ]
        },
        {
          "metadata": {
            "tags": null
          },
          "name": "stderr",
          "output_type": "stream",
          "text": [
            "\r 55%|█████▍    | 465/852 [27:43<21:39,  3.36s/it]"
          ]
        },
        {
          "metadata": {
            "tags": null
          },
          "name": "stdout",
          "output_type": "stream",
          "text": [
            "\n",
            "input_text :  [] 기타 봄내골프클럽\n",
            "output_result :  회\n"
          ]
        },
        {
          "metadata": {
            "tags": null
          },
          "name": "stderr",
          "output_type": "stream",
          "text": [
            "\r 55%|█████▍    | 466/852 [27:47<22:46,  3.54s/it]"
          ]
        },
        {
          "metadata": {
            "tags": null
          },
          "name": "stdout",
          "output_type": "stream",
          "text": [
            "\n",
            "input_text :  ['노가리', '한치', '오징어'] 식육(숯불구이) 가마솥통닭\n",
            "output_result :  고기/구이\n"
          ]
        },
        {
          "metadata": {
            "tags": null
          },
          "name": "stderr",
          "output_type": "stream",
          "text": [
            "\r 55%|█████▍    | 467/852 [27:49<21:05,  3.29s/it]"
          ]
        },
        {
          "metadata": {
            "tags": null
          },
          "name": "stdout",
          "output_type": "stream",
          "text": [
            "\n",
            "input_text :  [] 호프/통닭 허수아비\n",
            "output_result :  치킨\n"
          ]
        },
        {
          "metadata": {
            "tags": null
          },
          "name": "stderr",
          "output_type": "stream",
          "text": [
            "\r 55%|█████▍    | 468/852 [27:52<19:34,  3.06s/it]"
          ]
        },
        {
          "metadata": {
            "tags": null
          },
          "name": "stdout",
          "output_type": "stream",
          "text": [
            "\n",
            "input_text :  [] 한식 진능이한방오리\n",
            "output_result :  양식\n"
          ]
        },
        {
          "metadata": {
            "tags": null
          },
          "name": "stderr",
          "output_type": "stream",
          "text": [
            "\r 55%|█████▌    | 469/852 [27:54<18:20,  2.87s/it]"
          ]
        },
        {
          "metadata": {
            "tags": null
          },
          "name": "stdout",
          "output_type": "stream",
          "text": [
            "\n",
            "input_text :  [] 호프/통닭 유키바\n",
            "output_result :  치킨\n"
          ]
        },
        {
          "metadata": {
            "tags": null
          },
          "name": "stderr",
          "output_type": "stream",
          "text": [
            "\r 55%|█████▌    | 470/852 [27:58<19:35,  3.08s/it]"
          ]
        },
        {
          "metadata": {
            "tags": null
          },
          "name": "stdout",
          "output_type": "stream",
          "text": [
            "\n",
            "input_text :  ['갈매기살', '가브리살', '삼겹살'] 식육(숯불구이) 나눔화로숯불구이\n",
            "output_result :  고기/구이\n"
          ]
        },
        {
          "metadata": {
            "tags": null
          },
          "name": "stderr",
          "output_type": "stream",
          "text": [
            "\r 55%|█████▌    | 471/852 [28:02<22:44,  3.58s/it]"
          ]
        },
        {
          "metadata": {
            "tags": null
          },
          "name": "stdout",
          "output_type": "stream",
          "text": [
            "\n",
            "input_text :  ['조개찜(2인)', '돌문어숙회(500g)', '새우소금구이'] 한식 서해안생찜\n",
            "output_result :  찜/탕/찌개\n"
          ]
        },
        {
          "metadata": {
            "tags": null
          },
          "name": "stderr",
          "output_type": "stream",
          "text": [
            "\r 55%|█████▌    | 472/852 [28:06<21:59,  3.47s/it]"
          ]
        },
        {
          "metadata": {
            "tags": null
          },
          "name": "stdout",
          "output_type": "stream",
          "text": [
            "\n",
            "input_text :  ['순두부찌개', '김치전', '어묵전골'] 호프/통닭 월담\n",
            "output_result :  찜/탕/찌개\n"
          ]
        },
        {
          "metadata": {
            "tags": null
          },
          "name": "stderr",
          "output_type": "stream",
          "text": [
            "\r 56%|█████▌    | 473/852 [28:09<22:27,  3.56s/it]"
          ]
        },
        {
          "metadata": {
            "tags": null
          },
          "name": "stdout",
          "output_type": "stream",
          "text": [
            "\n",
            "input_text :  ['떡 닭꼬치', '파 닭꼬치', '베이컨말이꼬치'] 통닭(치킨) 수내닭꼬치\n",
            "output_result :  치킨\n"
          ]
        },
        {
          "metadata": {
            "tags": null
          },
          "name": "stderr",
          "output_type": "stream",
          "text": [
            "\r 56%|█████▌    | 474/852 [28:13<21:28,  3.41s/it]"
          ]
        },
        {
          "metadata": {
            "tags": null
          },
          "name": "stdout",
          "output_type": "stream",
          "text": [
            "\n",
            "input_text :  [] 분식 미가쭈꾸미\n",
            "output_result :  양식\n"
          ]
        },
        {
          "metadata": {
            "tags": null
          },
          "name": "stderr",
          "output_type": "stream",
          "text": [
            "\r 56%|█████▌    | 475/852 [28:18<26:02,  4.15s/it]"
          ]
        },
        {
          "metadata": {
            "tags": null
          },
          "name": "stdout",
          "output_type": "stream",
          "text": [
            "\n",
            "input_text :  ['(평일)소고기샤브샤브 런치SET (1인분)', '(평일)소고기샤브샤브 런치무한리필 (1인분)', '(디너)소고기 샤브샤브 (1인분)'] 한식 스푼\n",
            "output_result :  고기/구이\n"
          ]
        },
        {
          "metadata": {
            "tags": null
          },
          "name": "stderr",
          "output_type": "stream",
          "text": [
            "\r 56%|█████▌    | 476/852 [28:22<24:21,  3.89s/it]"
          ]
        },
        {
          "metadata": {
            "tags": null
          },
          "name": "stdout",
          "output_type": "stream",
          "text": [
            "\n",
            "input_text :  ['냉면', '목살', '왕가마모듬구이'] 한식 왕가마솥뚜껑\n",
            "output_result :  고기/구이\n"
          ]
        },
        {
          "metadata": {
            "tags": null
          },
          "name": "stderr",
          "output_type": "stream",
          "text": [
            "\r 56%|█████▌    | 477/852 [28:29<30:51,  4.94s/it]"
          ]
        },
        {
          "metadata": {
            "tags": null
          },
          "name": "stdout",
          "output_type": "stream",
          "text": [
            "\n",
            "input_text :  ['오리지널+바질토마토피자(8인치)', '스윗콘치즈피자(8인치)+볼케이노', '고추바사삭+바질토마토피자(8인치)+볼로네제'] 통닭(치킨) 굽네치킨 춘천효자점\n",
            "output_result :  치킨\n"
          ]
        },
        {
          "metadata": {
            "tags": null
          },
          "name": "stderr",
          "output_type": "stream",
          "text": [
            "\r 56%|█████▌    | 478/852 [28:33<28:33,  4.58s/it]"
          ]
        },
        {
          "metadata": {
            "tags": null
          },
          "name": "stdout",
          "output_type": "stream",
          "text": [
            "\n",
            "input_text :  ['궁중삼계탕', '누룽지삼계탕', '닭매운탕'] 한식 신남큰집궁중삼계탕\n",
            "output_result :  찜/탕/찌개\n"
          ]
        },
        {
          "metadata": {
            "tags": null
          },
          "name": "stderr",
          "output_type": "stream",
          "text": [
            "\r 56%|█████▌    | 479/852 [28:35<24:33,  3.95s/it]"
          ]
        },
        {
          "metadata": {
            "tags": null
          },
          "name": "stdout",
          "output_type": "stream",
          "text": [
            "\n",
            "input_text :  [] 식육(숯불구이) 서상\n",
            "output_result :  고기/구이\n"
          ]
        },
        {
          "metadata": {
            "tags": null
          },
          "name": "stderr",
          "output_type": "stream",
          "text": [
            "\r 56%|█████▋    | 480/852 [28:38<22:34,  3.64s/it]"
          ]
        },
        {
          "metadata": {
            "tags": null
          },
          "name": "stdout",
          "output_type": "stream",
          "text": [
            "\n",
            "input_text :  [] 까페 쿠바\n",
            "output_result :  백반\n"
          ]
        },
        {
          "metadata": {
            "tags": null
          },
          "name": "stderr",
          "output_type": "stream",
          "text": [
            "\r 56%|█████▋    | 481/852 [28:41<20:25,  3.30s/it]"
          ]
        },
        {
          "metadata": {
            "tags": null
          },
          "name": "stdout",
          "output_type": "stream",
          "text": [
            "\n",
            "input_text :  [] 한식 풍류\n",
            "output_result :  양식\n"
          ]
        },
        {
          "metadata": {
            "tags": null
          },
          "name": "stderr",
          "output_type": "stream",
          "text": [
            "\r 57%|█████▋    | 482/852 [28:45<21:44,  3.53s/it]"
          ]
        },
        {
          "metadata": {
            "tags": null
          },
          "name": "stdout",
          "output_type": "stream",
          "text": [
            "\n",
            "input_text :  ['시래기갈비찜 (2인)', '시래기갈비찜 (3인)', '시래기갈비찜 (4인)'] 한식 온돌집\n",
            "output_result :  찜/탕/찌개\n"
          ]
        },
        {
          "metadata": {
            "tags": null
          },
          "name": "stderr",
          "output_type": "stream",
          "text": [
            "\r 57%|█████▋    | 483/852 [28:48<21:28,  3.49s/it]"
          ]
        },
        {
          "metadata": {
            "tags": null
          },
          "name": "stdout",
          "output_type": "stream",
          "text": [
            "\n",
            "input_text :  ['해산물 리조또', '라자냐(예약 권장)', '마르게리따 피자'] 한식 비노\n",
            "output_result :  분식\n"
          ]
        },
        {
          "metadata": {
            "tags": null
          },
          "name": "stderr",
          "output_type": "stream",
          "text": [
            "\r 57%|█████▋    | 484/852 [28:53<23:32,  3.84s/it]"
          ]
        },
        {
          "metadata": {
            "tags": null
          },
          "name": "stdout",
          "output_type": "stream",
          "text": [
            "\n",
            "input_text :  ['마일드후라이드', '새우치킨', '양념치킨'] 한식 석사CGV점 치킨매니아\n",
            "output_result :  치킨\n"
          ]
        },
        {
          "metadata": {
            "tags": null
          },
          "name": "stderr",
          "output_type": "stream",
          "text": [
            "\r 57%|█████▋    | 485/852 [28:56<22:25,  3.67s/it]"
          ]
        },
        {
          "metadata": {
            "tags": null
          },
          "name": "stdout",
          "output_type": "stream",
          "text": [
            "\n",
            "input_text :  ['특순대국', '순댓국', '술국'] 한식 고우국밥\n",
            "output_result :  국밥\n"
          ]
        },
        {
          "metadata": {
            "tags": null
          },
          "name": "stderr",
          "output_type": "stream",
          "text": [
            "\r 57%|█████▋    | 486/852 [28:58<19:57,  3.27s/it]"
          ]
        },
        {
          "metadata": {
            "tags": null
          },
          "name": "stdout",
          "output_type": "stream",
          "text": [
            "\n",
            "input_text :  [] 분식 봄내활어\n",
            "output_result :  양식\n"
          ]
        },
        {
          "metadata": {
            "tags": null
          },
          "name": "stderr",
          "output_type": "stream",
          "text": [
            "\r 57%|█████▋    | 487/852 [29:02<20:05,  3.30s/it]"
          ]
        },
        {
          "metadata": {
            "tags": null
          },
          "name": "stdout",
          "output_type": "stream",
          "text": [
            "\n",
            "input_text :  ['후라이드치킨', '핫양념치킨', '양념치킨'] 한식 황토주막\n",
            "output_result :  치킨\n"
          ]
        },
        {
          "metadata": {
            "tags": null
          },
          "name": "stderr",
          "output_type": "stream",
          "text": [
            "\r 57%|█████▋    | 488/852 [29:06<22:32,  3.72s/it]"
          ]
        },
        {
          "metadata": {
            "tags": null
          },
          "name": "stdout",
          "output_type": "stream",
          "text": [
            "\n",
            "input_text :  ['아메리카노', '카푸치노', '꿀아메리카노'] 기타 메가엠지씨커피춘천봄내초점\n",
            "output_result :  국수\n"
          ]
        },
        {
          "metadata": {
            "tags": null
          },
          "name": "stderr",
          "output_type": "stream",
          "text": [
            "\r 57%|█████▋    | 489/852 [29:09<20:19,  3.36s/it]"
          ]
        },
        {
          "metadata": {
            "tags": null
          },
          "name": "stdout",
          "output_type": "stream",
          "text": [
            "\n",
            "input_text :  [] 분식 봄내치킨앤떡볶이\n",
            "output_result :  양식\n"
          ]
        },
        {
          "metadata": {
            "tags": null
          },
          "name": "stderr",
          "output_type": "stream",
          "text": [
            "\r 58%|█████▊    | 490/852 [29:14<23:34,  3.91s/it]"
          ]
        },
        {
          "metadata": {
            "tags": null
          },
          "name": "stdout",
          "output_type": "stream",
          "text": [
            "\n",
            "input_text :  ['모듬사시미 (15PCS)', '연어사시미 (5PCS)', '참치 사시미 (5PCS)'] 일식 스시원춘천석사점\n",
            "output_result :  일식\n"
          ]
        },
        {
          "metadata": {
            "tags": null
          },
          "name": "stderr",
          "output_type": "stream",
          "text": [
            "\r 58%|█████▊    | 491/852 [29:19<24:14,  4.03s/it]"
          ]
        },
        {
          "metadata": {
            "tags": null
          },
          "name": "stdout",
          "output_type": "stream",
          "text": [
            "\n",
            "input_text :  ['생선까스', '치킨까스', '왕돈까스'] 한식 만나돈가스\n",
            "output_result :  돈까스\n"
          ]
        },
        {
          "metadata": {
            "tags": null
          },
          "name": "stderr",
          "output_type": "stream",
          "text": [
            "\r 58%|█████▊    | 492/852 [29:21<21:56,  3.66s/it]"
          ]
        },
        {
          "metadata": {
            "tags": null
          },
          "name": "stdout",
          "output_type": "stream",
          "text": [
            "\n",
            "input_text :  [] 통닭(치킨) 오필승닭발애막골점\n",
            "output_result :  치킨\n"
          ]
        },
        {
          "metadata": {
            "tags": null
          },
          "name": "stderr",
          "output_type": "stream",
          "text": [
            "\r 58%|█████▊    | 493/852 [29:25<21:22,  3.57s/it]"
          ]
        },
        {
          "metadata": {
            "tags": null
          },
          "name": "stdout",
          "output_type": "stream",
          "text": [
            "\n",
            "input_text :  ['아메리카노', '카페라떼', '카페모카'] 호프/통닭 아지트(AZIT)\n",
            "output_result :  치킨\n"
          ]
        },
        {
          "metadata": {
            "tags": null
          },
          "name": "stderr",
          "output_type": "stream",
          "text": [
            "\r 58%|█████▊    | 494/852 [29:28<21:05,  3.54s/it]"
          ]
        },
        {
          "metadata": {
            "tags": null
          },
          "name": "stdout",
          "output_type": "stream",
          "text": [
            "\n",
            "input_text :  ['떡볶이', '치즈떡볶이', '튀김오뎅'] 한식 신전떡볶이퇴계석사점\n",
            "output_result :  분식\n"
          ]
        },
        {
          "metadata": {
            "tags": null
          },
          "name": "stderr",
          "output_type": "stream",
          "text": [
            "\r 58%|█████▊    | 495/852 [29:31<20:30,  3.45s/it]"
          ]
        },
        {
          "metadata": {
            "tags": null
          },
          "name": "stdout",
          "output_type": "stream",
          "text": [
            "\n",
            "input_text :  [] 기타 정통매운갈비찜\n",
            "output_result :  고기/구이\n"
          ]
        },
        {
          "metadata": {
            "tags": null
          },
          "name": "stderr",
          "output_type": "stream",
          "text": [
            "\r 58%|█████▊    | 496/852 [29:34<18:24,  3.10s/it]"
          ]
        },
        {
          "metadata": {
            "tags": null
          },
          "name": "stdout",
          "output_type": "stream",
          "text": [
            "\n",
            "input_text :  [] 까페 쟈티\n",
            "output_result :  회\n"
          ]
        },
        {
          "metadata": {
            "tags": null
          },
          "name": "stderr",
          "output_type": "stream",
          "text": [
            "\r 58%|█████▊    | 497/852 [29:36<17:45,  3.00s/it]"
          ]
        },
        {
          "metadata": {
            "tags": null
          },
          "name": "stdout",
          "output_type": "stream",
          "text": [
            "\n",
            "input_text :  [] 정종/대포집/소주방 참숯대구막창\n",
            "output_result :  양식\n"
          ]
        },
        {
          "metadata": {
            "tags": null
          },
          "name": "stderr",
          "output_type": "stream",
          "text": [
            "\r 58%|█████▊    | 498/852 [29:40<18:40,  3.16s/it]"
          ]
        },
        {
          "metadata": {
            "tags": null
          },
          "name": "stdout",
          "output_type": "stream",
          "text": [
            "\n",
            "input_text :  ['석갈비', '갈비냉면', '갈비탕'] 식육(숯불구이) 궁채석갈비춘천점\n",
            "output_result :  고기/구이\n"
          ]
        },
        {
          "metadata": {
            "tags": null
          },
          "name": "stderr",
          "output_type": "stream",
          "text": [
            "\r 59%|█████▊    | 499/852 [29:45<21:01,  3.57s/it]"
          ]
        },
        {
          "metadata": {
            "tags": null
          },
          "name": "stdout",
          "output_type": "stream",
          "text": [
            "\n",
            "input_text :  ['후라이드', '양념치킨', '마늘간장치킨'] 호프/통닭 석사치킨엔호프\n",
            "output_result :  치킨\n"
          ]
        },
        {
          "metadata": {
            "tags": null
          },
          "name": "stderr",
          "output_type": "stream",
          "text": [
            "\r 59%|█████▊    | 500/852 [29:48<20:39,  3.52s/it]"
          ]
        },
        {
          "metadata": {
            "tags": null
          },
          "name": "stdout",
          "output_type": "stream",
          "text": [
            "\n",
            "input_text :  ['돈까스', '제육덮밥', '김치볶음밥'] 경양식 신촌돈까스\n",
            "output_result :  고기/구이\n"
          ]
        },
        {
          "metadata": {
            "tags": null
          },
          "name": "stderr",
          "output_type": "stream",
          "text": [
            "\r 59%|█████▉    | 501/852 [29:50<18:44,  3.20s/it]"
          ]
        },
        {
          "metadata": {
            "tags": null
          },
          "name": "stdout",
          "output_type": "stream",
          "text": [
            "\n",
            "input_text :  [] 한식 효자소머리해장국\n",
            "output_result :  국수\n"
          ]
        },
        {
          "metadata": {
            "tags": null
          },
          "name": "stderr",
          "output_type": "stream",
          "text": [
            "\r 59%|█████▉    | 502/852 [29:56<23:25,  4.02s/it]"
          ]
        },
        {
          "metadata": {
            "tags": null
          },
          "name": "stdout",
          "output_type": "stream",
          "text": [
            "\n",
            "input_text :  ['생삼겹살(200g)', '제육볶음(점심특선)', '생삼겹살 국내산(200g)'] 식육(숯불구이) 돌돌생삼겹살\n",
            "output_result :  고기/구이\n"
          ]
        },
        {
          "metadata": {
            "tags": null
          },
          "name": "stderr",
          "output_type": "stream",
          "text": [
            "\r 59%|█████▉    | 503/852 [30:01<24:57,  4.29s/it]"
          ]
        },
        {
          "metadata": {
            "tags": null
          },
          "name": "stdout",
          "output_type": "stream",
          "text": [
            "\n",
            "input_text :  ['왕짱구김밥 (8개)', '고기만두 (10개)', '고기왕만두 (8개)'] 정종/대포집/소주방 왕짱구\n",
            "output_result :  고기/구이\n"
          ]
        },
        {
          "metadata": {
            "tags": null
          },
          "name": "stderr",
          "output_type": "stream",
          "text": [
            "\r 59%|█████▉    | 504/852 [30:04<23:02,  3.97s/it]"
          ]
        },
        {
          "metadata": {
            "tags": null
          },
          "name": "stdout",
          "output_type": "stream",
          "text": [
            "\n",
            "input_text :  ['한우불고기정식 (1인분)', '된장정식', '청국장'] 일식 마루\n",
            "output_result :  고기/구이\n"
          ]
        },
        {
          "metadata": {
            "tags": null
          },
          "name": "stderr",
          "output_type": "stream",
          "text": [
            "\r 59%|█████▉    | 505/852 [30:07<20:55,  3.62s/it]"
          ]
        },
        {
          "metadata": {
            "tags": null
          },
          "name": "stdout",
          "output_type": "stream",
          "text": [
            "\n",
            "input_text :  [] 한식 찜이랑탕이랑\n",
            "output_result :  찜/탕/찌개\n"
          ]
        },
        {
          "metadata": {
            "tags": null
          },
          "name": "stderr",
          "output_type": "stream",
          "text": [
            "\r 59%|█████▉    | 506/852 [30:11<21:12,  3.68s/it]"
          ]
        },
        {
          "metadata": {
            "tags": null
          },
          "name": "stdout",
          "output_type": "stream",
          "text": [
            "\n",
            "input_text :  ['에스프레소', '아메리카노', '카페라떼'] 식육(숯불구이) 정원\n",
            "output_result :  고기/구이\n"
          ]
        },
        {
          "metadata": {
            "tags": null
          },
          "name": "stderr",
          "output_type": "stream",
          "text": [
            "\r 60%|█████▉    | 507/852 [30:13<18:48,  3.27s/it]"
          ]
        },
        {
          "metadata": {
            "tags": null
          },
          "name": "stdout",
          "output_type": "stream",
          "text": [
            "\n",
            "input_text :  [] 한식 밀보리식당\n",
            "output_result :  분식\n"
          ]
        },
        {
          "metadata": {
            "tags": null
          },
          "name": "stderr",
          "output_type": "stream",
          "text": [
            "\r 60%|█████▉    | 508/852 [30:16<17:45,  3.10s/it]"
          ]
        },
        {
          "metadata": {
            "tags": null
          },
          "name": "stdout",
          "output_type": "stream",
          "text": [
            "\n",
            "input_text :  [] 김밥(도시락) 가리미김밥봄내점\n",
            "output_result :  양식\n"
          ]
        },
        {
          "metadata": {
            "tags": null
          },
          "name": "stderr",
          "output_type": "stream",
          "text": [
            "\r 60%|█████▉    | 509/852 [30:19<17:31,  3.07s/it]"
          ]
        },
        {
          "metadata": {
            "tags": null
          },
          "name": "stdout",
          "output_type": "stream",
          "text": [
            "\n",
            "input_text :  ['자장면', '짬뽕', '볶음밥'] 중국식 중화요리죽향\n",
            "output_result :  중식\n"
          ]
        },
        {
          "metadata": {
            "tags": null
          },
          "name": "stderr",
          "output_type": "stream",
          "text": [
            "\r 60%|█████▉    | 510/852 [30:24<20:39,  3.62s/it]"
          ]
        },
        {
          "metadata": {
            "tags": null
          },
          "name": "stdout",
          "output_type": "stream",
          "text": [
            "\n",
            "input_text :  ['딥치즈버거', '싸이버거', '디럭스불고기버거'] 호프/통닭 맘스터치춘천석사CGV점\n",
            "output_result :  고기/구이\n"
          ]
        },
        {
          "metadata": {
            "tags": null
          },
          "name": "stderr",
          "output_type": "stream",
          "text": [
            "\r 60%|█████▉    | 511/852 [30:27<19:59,  3.52s/it]"
          ]
        },
        {
          "metadata": {
            "tags": null
          },
          "name": "stdout",
          "output_type": "stream",
          "text": [
            "\n",
            "input_text :  ['선지해장국', '양지해장국', '해장국'] 한식 우리해장국\n",
            "output_result :  국밥\n"
          ]
        },
        {
          "metadata": {
            "tags": null
          },
          "name": "stderr",
          "output_type": "stream",
          "text": [
            "\r 60%|██████    | 512/852 [30:30<18:03,  3.19s/it]"
          ]
        },
        {
          "metadata": {
            "tags": null
          },
          "name": "stdout",
          "output_type": "stream",
          "text": [
            "\n",
            "input_text :  [] 호프/통닭 우마이\n",
            "output_result :  치킨\n"
          ]
        },
        {
          "metadata": {
            "tags": null
          },
          "name": "stderr",
          "output_type": "stream",
          "text": [
            "\r 60%|██████    | 513/852 [30:34<20:00,  3.54s/it]"
          ]
        },
        {
          "metadata": {
            "tags": null
          },
          "name": "stdout",
          "output_type": "stream",
          "text": [
            "\n",
            "input_text :  ['매운 갈매기살 튀김', '매운 갈매기살 튀김 샐러드', '우삼겹 숙주 볶음'] 호프/통닭 서래맥주집\n",
            "output_result :  고기/구이\n"
          ]
        },
        {
          "metadata": {
            "tags": null
          },
          "name": "stderr",
          "output_type": "stream",
          "text": [
            "\r 60%|██████    | 514/852 [30:38<21:21,  3.79s/it]"
          ]
        },
        {
          "metadata": {
            "tags": null
          },
          "name": "stdout",
          "output_type": "stream",
          "text": [
            "\n",
            "input_text :  ['양꼬치 (10꼬치)', '양갈비살 (10꼬치)', '양등갈비 (300g)'] 한식 태양부양꼬치\n",
            "output_result :  고기/구이\n"
          ]
        },
        {
          "metadata": {
            "tags": null
          },
          "name": "stderr",
          "output_type": "stream",
          "text": [
            "\r 60%|██████    | 515/852 [30:41<18:45,  3.34s/it]"
          ]
        },
        {
          "metadata": {
            "tags": null
          },
          "name": "stdout",
          "output_type": "stream",
          "text": [
            "\n",
            "input_text :  [] 중국식 차이나게이트\n",
            "output_result :  중식\n"
          ]
        },
        {
          "metadata": {
            "tags": null
          },
          "name": "stderr",
          "output_type": "stream",
          "text": [
            "\r 61%|██████    | 516/852 [30:43<16:47,  3.00s/it]"
          ]
        },
        {
          "metadata": {
            "tags": null
          },
          "name": "stdout",
          "output_type": "stream",
          "text": [
            "\n",
            "input_text :  [] 기타 모리\n",
            "output_result :  양식\n"
          ]
        },
        {
          "metadata": {
            "tags": null
          },
          "name": "stderr",
          "output_type": "stream",
          "text": [
            "\r 61%|██████    | 517/852 [30:47<18:31,  3.32s/it]"
          ]
        },
        {
          "metadata": {
            "tags": null
          },
          "name": "stdout",
          "output_type": "stream",
          "text": [
            "\n",
            "input_text :  ['산꼼장어', '양념꼼장어', '양념소갈비살'] 한식 하하산꼼장어\n",
            "output_result :  고기/구이\n"
          ]
        },
        {
          "metadata": {
            "tags": null
          },
          "name": "stderr",
          "output_type": "stream",
          "text": [
            "\r 61%|██████    | 518/852 [30:51<19:42,  3.54s/it]"
          ]
        },
        {
          "metadata": {
            "tags": null
          },
          "name": "stdout",
          "output_type": "stream",
          "text": [
            "\n",
            "input_text :  ['본래순대국', '얼큰순대국', '더진한순대국'] 한식 본래순대춘천애막골점\n",
            "output_result :  찜/탕/찌개\n"
          ]
        },
        {
          "metadata": {
            "tags": null
          },
          "name": "stderr",
          "output_type": "stream",
          "text": [
            "\r 61%|██████    | 519/852 [30:54<19:06,  3.44s/it]"
          ]
        },
        {
          "metadata": {
            "tags": null
          },
          "name": "stdout",
          "output_type": "stream",
          "text": [
            "\n",
            "input_text :  ['햄치즈 토스트', '아이스티', '녹차'] 기타 이삭토스트강원대점\n",
            "output_result :  양식\n"
          ]
        },
        {
          "metadata": {
            "tags": null
          },
          "name": "stderr",
          "output_type": "stream",
          "text": [
            "\r 61%|██████    | 520/852 [30:58<19:22,  3.50s/it]"
          ]
        },
        {
          "metadata": {
            "tags": null
          },
          "name": "stdout",
          "output_type": "stream",
          "text": [
            "\n",
            "input_text :  ['나홀로박스 R', '모자이크피자 L', '할루미피자 L'] 호프/통닭 지정환임실치즈피자\n",
            "output_result :  고기/구이\n"
          ]
        },
        {
          "metadata": {
            "tags": null
          },
          "name": "stderr",
          "output_type": "stream",
          "text": [
            "\r 61%|██████    | 521/852 [31:02<20:06,  3.64s/it]"
          ]
        },
        {
          "metadata": {
            "tags": null
          },
          "name": "stdout",
          "output_type": "stream",
          "text": [
            "\n",
            "input_text :  ['김밥', '라면', '쫄면'] 김밥(도시락) 김밥나라\n",
            "output_result :  양식\n"
          ]
        },
        {
          "metadata": {
            "tags": null
          },
          "name": "stderr",
          "output_type": "stream",
          "text": [
            "\r 61%|██████▏   | 522/852 [31:06<20:20,  3.70s/it]"
          ]
        },
        {
          "metadata": {
            "tags": null
          },
          "name": "stdout",
          "output_type": "stream",
          "text": [
            "\n",
            "input_text :  ['무한리필', '생삼겹살(200g)', '항정살(200g)'] 식육(숯불구이) 어서오소\n",
            "output_result :  고기/구이\n"
          ]
        },
        {
          "metadata": {
            "tags": null
          },
          "name": "stderr",
          "output_type": "stream",
          "text": [
            "\r 61%|██████▏   | 523/852 [31:08<18:02,  3.29s/it]"
          ]
        },
        {
          "metadata": {
            "tags": null
          },
          "name": "stdout",
          "output_type": "stream",
          "text": [
            "\n",
            "input_text :  [] 호프/통닭 짝패\n",
            "output_result :  치킨\n"
          ]
        },
        {
          "metadata": {
            "tags": null
          },
          "name": "stderr",
          "output_type": "stream",
          "text": [
            "\r 62%|██████▏   | 524/852 [31:13<20:03,  3.67s/it]"
          ]
        },
        {
          "metadata": {
            "tags": null
          },
          "name": "stdout",
          "output_type": "stream",
          "text": [
            "\n",
            "input_text :  ['뒷고기모듬 (소) (550g)', '갈매기살 (200g)', '돼지갈비 (300g)'] 한식 쭌이네생모듬구이\n",
            "output_result :  고기/구이\n"
          ]
        },
        {
          "metadata": {
            "tags": null
          },
          "name": "stderr",
          "output_type": "stream",
          "text": [
            "\r 62%|██████▏   | 525/852 [31:16<19:08,  3.51s/it]"
          ]
        },
        {
          "metadata": {
            "tags": null
          },
          "name": "stdout",
          "output_type": "stream",
          "text": [
            "\n",
            "input_text :  [] 정종/대포집/소주방 더술(The Sul)\n",
            "output_result :  양식\n"
          ]
        },
        {
          "metadata": {
            "tags": null
          },
          "name": "stderr",
          "output_type": "stream",
          "text": [
            "\r 62%|██████▏   | 526/852 [31:21<21:41,  3.99s/it]"
          ]
        },
        {
          "metadata": {
            "tags": null
          },
          "name": "stdout",
          "output_type": "stream",
          "text": [
            "\n",
            "input_text :  ['양념후라이드치킨', '사이후라이드치킨', '골뱅이&사이후라이드치킨'] 호프/통닭 쪼끼쪼끼(석사3호점)\n",
            "output_result :  고기/구이\n"
          ]
        },
        {
          "metadata": {
            "tags": null
          },
          "name": "stderr",
          "output_type": "stream",
          "text": [
            "\r 62%|██████▏   | 527/852 [31:25<21:42,  4.01s/it]"
          ]
        },
        {
          "metadata": {
            "tags": null
          },
          "name": "stdout",
          "output_type": "stream",
          "text": [
            "\n",
            "input_text :  ['바지락얼큰우동', '찹쌀탕수육', '피쉬앤칩스'] 호프/통닭 치치\n",
            "output_result :  찜/탕/찌개\n"
          ]
        },
        {
          "metadata": {
            "tags": null
          },
          "name": "stderr",
          "output_type": "stream",
          "text": [
            "\r 62%|██████▏   | 528/852 [31:29<21:55,  4.06s/it]"
          ]
        },
        {
          "metadata": {
            "tags": null
          },
          "name": "stdout",
          "output_type": "stream",
          "text": [
            "\n",
            "input_text :  ['레드마블치킨', '코찡마요치킨', '청양마요치킨'] 한식 네네치킨효자점\n",
            "output_result :  치킨\n"
          ]
        },
        {
          "metadata": {
            "tags": null
          },
          "name": "stderr",
          "output_type": "stream",
          "text": [
            "\r 62%|██████▏   | 529/852 [31:32<20:33,  3.82s/it]"
          ]
        },
        {
          "metadata": {
            "tags": null
          },
          "name": "stdout",
          "output_type": "stream",
          "text": [
            "\n",
            "input_text :  ['닭갈비 (1인분)', '막국수', '막국수곱배기'] 한식 우물막국수\n",
            "output_result :  국수\n"
          ]
        },
        {
          "metadata": {
            "tags": null
          },
          "name": "stderr",
          "output_type": "stream",
          "text": [
            "\r 62%|██████▏   | 530/852 [31:36<21:01,  3.92s/it]"
          ]
        },
        {
          "metadata": {
            "tags": null
          },
          "name": "stdout",
          "output_type": "stream",
          "text": [
            "\n",
            "input_text :  ['즉석떡볶이 (2인분)', '즉석떡볶이 (3인분)', '즉석떡볶이 (4인분)'] 분식 아리랑떡볶이\n",
            "output_result :  분식\n"
          ]
        },
        {
          "metadata": {
            "tags": null
          },
          "name": "stderr",
          "output_type": "stream",
          "text": [
            "\r 62%|██████▏   | 531/852 [31:41<22:35,  4.22s/it]"
          ]
        },
        {
          "metadata": {
            "tags": null
          },
          "name": "stdout",
          "output_type": "stream",
          "text": [
            "\n",
            "input_text :  ['삼겹살 (200g)', '목살 (100g)', '가브리살 (200g)'] 식육(숯불구이) 다릿골소나무\n",
            "output_result :  고기/구이\n"
          ]
        },
        {
          "metadata": {
            "tags": null
          },
          "name": "stderr",
          "output_type": "stream",
          "text": [
            "\r 62%|██████▏   | 532/852 [31:46<22:41,  4.25s/it]"
          ]
        },
        {
          "metadata": {
            "tags": null
          },
          "name": "stdout",
          "output_type": "stream",
          "text": [
            "\n",
            "input_text :  ['뼈없는 닭갈비 (1인분)', '닭내장 (1인분)', '막국수'] 식육(숯불구이) 학곡리막국수닭갈비\n",
            "output_result :  고기/구이\n"
          ]
        },
        {
          "metadata": {
            "tags": null
          },
          "name": "stderr",
          "output_type": "stream",
          "text": [
            "\r 63%|██████▎   | 533/852 [31:50<21:59,  4.14s/it]"
          ]
        },
        {
          "metadata": {
            "tags": null
          },
          "name": "stdout",
          "output_type": "stream",
          "text": [
            "\n",
            "input_text :  ['순대국밥', '우거지순대국', '순대 (특) 국밥'] 한식 조부자순대국(강대점)\n",
            "output_result :  국밥\n"
          ]
        },
        {
          "metadata": {
            "tags": null
          },
          "name": "stderr",
          "output_type": "stream",
          "text": [
            "\r 63%|██████▎   | 534/852 [31:54<22:57,  4.33s/it]"
          ]
        },
        {
          "metadata": {
            "tags": null
          },
          "name": "stdout",
          "output_type": "stream",
          "text": [
            "\n",
            "input_text :  ['효자동설렁탕', '효자동설렁탕 (특)', '얼큰설렁탕'] 한식 효자동설렁탕효자점\n",
            "output_result :  찜/탕/찌개\n"
          ]
        },
        {
          "metadata": {
            "tags": null
          },
          "name": "stderr",
          "output_type": "stream",
          "text": [
            "\r 63%|██████▎   | 535/852 [31:58<21:35,  4.09s/it]"
          ]
        },
        {
          "metadata": {
            "tags": null
          },
          "name": "stdout",
          "output_type": "stream",
          "text": [
            "\n",
            "input_text :  ['녹두김치전', '모둠전', '홍합죽'] 식육(숯불구이) 홍가스무숲점\n",
            "output_result :  고기/구이\n"
          ]
        },
        {
          "metadata": {
            "tags": null
          },
          "name": "stderr",
          "output_type": "stream",
          "text": [
            "\r 63%|██████▎   | 536/852 [32:02<20:58,  3.98s/it]"
          ]
        },
        {
          "metadata": {
            "tags": null
          },
          "name": "stdout",
          "output_type": "stream",
          "text": [
            "\n",
            "input_text :  ['우동', '태양초치즈닭갈비', '모래집볶음'] 호프/통닭 투다리(뜨란채점)\n",
            "output_result :  고기/구이\n"
          ]
        },
        {
          "metadata": {
            "tags": null
          },
          "name": "stderr",
          "output_type": "stream",
          "text": [
            "\r 63%|██████▎   | 537/852 [32:06<20:56,  3.99s/it]"
          ]
        },
        {
          "metadata": {
            "tags": null
          },
          "name": "stdout",
          "output_type": "stream",
          "text": [
            "\n",
            "input_text :  [] 식육(숯불구이) 춘천명품닭갈비\n",
            "output_result :  고기/구이\n"
          ]
        },
        {
          "metadata": {
            "tags": null
          },
          "name": "stderr",
          "output_type": "stream",
          "text": [
            "\r 63%|██████▎   | 538/852 [32:09<20:30,  3.92s/it]"
          ]
        },
        {
          "metadata": {
            "tags": null
          },
          "name": "stdout",
          "output_type": "stream",
          "text": [
            "\n",
            "input_text :  ['짜장면', '짬뽕', '간짜장'] 중국식 루앤루\n",
            "output_result :  중식\n"
          ]
        },
        {
          "metadata": {
            "tags": null
          },
          "name": "stderr",
          "output_type": "stream",
          "text": [
            "\r 63%|██████▎   | 539/852 [32:12<17:58,  3.45s/it]"
          ]
        },
        {
          "metadata": {
            "tags": null
          },
          "name": "stdout",
          "output_type": "stream",
          "text": [
            "\n",
            "input_text :  [] 일식 쿄시로\n",
            "output_result :  일식\n"
          ]
        },
        {
          "metadata": {
            "tags": null
          },
          "name": "stderr",
          "output_type": "stream",
          "text": [
            "\r 63%|██████▎   | 540/852 [32:15<17:24,  3.35s/it]"
          ]
        },
        {
          "metadata": {
            "tags": null
          },
          "name": "stdout",
          "output_type": "stream",
          "text": [
            "\n",
            "input_text :  ['백반', '뽀글장', '비빔밥'] 한식 특별미기사식당\n",
            "output_result :  백반\n"
          ]
        },
        {
          "metadata": {
            "tags": null
          },
          "name": "stderr",
          "output_type": "stream",
          "text": [
            "\r 63%|██████▎   | 541/852 [32:19<18:52,  3.64s/it]"
          ]
        },
        {
          "metadata": {
            "tags": null
          },
          "name": "stdout",
          "output_type": "stream",
          "text": [
            "\n",
            "input_text :  ['김치전', '장칼국수', '들깨칼국수'] 호프/통닭 우리동네국수집\n",
            "output_result :  국수\n"
          ]
        },
        {
          "metadata": {
            "tags": null
          },
          "name": "stderr",
          "output_type": "stream",
          "text": [
            "\r 64%|██████▎   | 542/852 [32:22<17:12,  3.33s/it]"
          ]
        },
        {
          "metadata": {
            "tags": null
          },
          "name": "stdout",
          "output_type": "stream",
          "text": [
            "\n",
            "input_text :  [] 정종/대포집/소주방 미소네\n",
            "output_result :  회\n"
          ]
        },
        {
          "metadata": {
            "tags": null
          },
          "name": "stderr",
          "output_type": "stream",
          "text": [
            "\r 64%|██████▎   | 543/852 [32:26<17:48,  3.46s/it]"
          ]
        },
        {
          "metadata": {
            "tags": null
          },
          "name": "stdout",
          "output_type": "stream",
          "text": [
            "\n",
            "input_text :  ['오징어볶음 (1인)', '쭈꾸미볶음 (1인)', '낙지볶음 (1인)'] 기타 신낙지마루\n",
            "output_result :  분식\n"
          ]
        },
        {
          "metadata": {
            "tags": null
          },
          "name": "stderr",
          "output_type": "stream",
          "text": [
            "\r 64%|██████▍   | 544/852 [32:28<16:14,  3.16s/it]"
          ]
        },
        {
          "metadata": {
            "tags": null
          },
          "name": "stdout",
          "output_type": "stream",
          "text": [
            "\n",
            "input_text :  [] 통닭(치킨) 치킨형님\n",
            "output_result :  치킨\n"
          ]
        },
        {
          "metadata": {
            "tags": null
          },
          "name": "stderr",
          "output_type": "stream",
          "text": [
            "\r 64%|██████▍   | 545/852 [32:32<17:51,  3.49s/it]"
          ]
        },
        {
          "metadata": {
            "tags": null
          },
          "name": "stdout",
          "output_type": "stream",
          "text": [
            "\n",
            "input_text :  ['산오징어회', '광어세꼬시', '알탕'] 한식 오징어천국\n",
            "output_result :  찜/탕/찌개\n"
          ]
        },
        {
          "metadata": {
            "tags": null
          },
          "name": "stderr",
          "output_type": "stream",
          "text": [
            "\r 64%|██████▍   | 546/852 [32:36<17:37,  3.45s/it]"
          ]
        },
        {
          "metadata": {
            "tags": null
          },
          "name": "stdout",
          "output_type": "stream",
          "text": [
            "\n",
            "input_text :  ['동태찌개', '해물파전', '부추전'] 정종/대포집/소주방 흥부전\n",
            "output_result :  찜/탕/찌개\n"
          ]
        },
        {
          "metadata": {
            "tags": null
          },
          "name": "stderr",
          "output_type": "stream",
          "text": [
            "\r 64%|██████▍   | 547/852 [32:39<17:35,  3.46s/it]"
          ]
        },
        {
          "metadata": {
            "tags": null
          },
          "name": "stdout",
          "output_type": "stream",
          "text": [
            "\n",
            "input_text :  ['도리탕', '감자탕', '통닭'] 정종/대포집/소주방 나그랑\n",
            "output_result :  찜/탕/찌개\n"
          ]
        },
        {
          "metadata": {
            "tags": null
          },
          "name": "stderr",
          "output_type": "stream",
          "text": [
            "\r 64%|██████▍   | 548/852 [32:42<16:26,  3.24s/it]"
          ]
        },
        {
          "metadata": {
            "tags": null
          },
          "name": "stdout",
          "output_type": "stream",
          "text": [
            "\n",
            "input_text :  [] 라이브카페 쏠라시\n",
            "output_result :  양식\n"
          ]
        },
        {
          "metadata": {
            "tags": null
          },
          "name": "stderr",
          "output_type": "stream",
          "text": [
            "\r 64%|██████▍   | 549/852 [32:46<17:37,  3.49s/it]"
          ]
        },
        {
          "metadata": {
            "tags": null
          },
          "name": "stdout",
          "output_type": "stream",
          "text": [
            "\n",
            "input_text :  ['도토리임자탕', '도토리전', '동그랑땡'] 한식 도토리네집\n",
            "output_result :  찜/탕/찌개\n"
          ]
        },
        {
          "metadata": {
            "tags": null
          },
          "name": "stderr",
          "output_type": "stream",
          "text": [
            "\r 65%|██████▍   | 550/852 [32:50<18:20,  3.64s/it]"
          ]
        },
        {
          "metadata": {
            "tags": null
          },
          "name": "stdout",
          "output_type": "stream",
          "text": [
            "\n",
            "input_text :  ['본 해장국', '본 해장국(특)', '선지해장국'] 탕류(보신용) 양평신내서울해장국\n",
            "output_result :  국밥\n"
          ]
        },
        {
          "metadata": {
            "tags": null
          },
          "name": "stderr",
          "output_type": "stream",
          "text": [
            "\r 65%|██████▍   | 551/852 [32:54<18:18,  3.65s/it]"
          ]
        },
        {
          "metadata": {
            "tags": null
          },
          "name": "stdout",
          "output_type": "stream",
          "text": [
            "\n",
            "input_text :  ['문어 삼합(중)', '문어 파전', '생연어회(중)'] 한식 문어랑\n",
            "output_result :  찜/탕/찌개\n"
          ]
        },
        {
          "metadata": {
            "tags": null
          },
          "name": "stderr",
          "output_type": "stream",
          "text": [
            "\r 65%|██████▍   | 552/852 [32:58<19:28,  3.90s/it]"
          ]
        },
        {
          "metadata": {
            "tags": null
          },
          "name": "stdout",
          "output_type": "stream",
          "text": [
            "\n",
            "input_text :  ['쭈꾸미볶음', '전복영양돌솥밥', '연포탕+쭈꾸미볶음'] 한식 해송\n",
            "output_result :  찜/탕/찌개\n"
          ]
        },
        {
          "metadata": {
            "tags": null
          },
          "name": "stderr",
          "output_type": "stream",
          "text": [
            "\r 65%|██████▍   | 553/852 [33:00<17:07,  3.44s/it]"
          ]
        },
        {
          "metadata": {
            "tags": null
          },
          "name": "stdout",
          "output_type": "stream",
          "text": [
            "\n",
            "input_text :  [] 호프/통닭 슈퍼스타\n",
            "output_result :  치킨\n"
          ]
        },
        {
          "metadata": {
            "tags": null
          },
          "name": "stderr",
          "output_type": "stream",
          "text": [
            "\r 65%|██████▌   | 554/852 [33:04<17:58,  3.62s/it]"
          ]
        },
        {
          "metadata": {
            "tags": null
          },
          "name": "stdout",
          "output_type": "stream",
          "text": [
            "\n",
            "input_text :  ['감자탕 (소)', '감자탕 (중)', '감자탕 (대)'] 탕류(보신용) 서울감자탕\n",
            "output_result :  찜/탕/찌개\n"
          ]
        },
        {
          "metadata": {
            "tags": null
          },
          "name": "stderr",
          "output_type": "stream",
          "text": [
            "\r 65%|██████▌   | 555/852 [33:09<18:59,  3.84s/it]"
          ]
        },
        {
          "metadata": {
            "tags": null
          },
          "name": "stdout",
          "output_type": "stream",
          "text": [
            "\n",
            "input_text :  ['암퇘기 삼겹살 (200g)', '암퇘지 목살 (200g)', '꽃살 (150g)'] 한식 마당\n",
            "output_result :  고기/구이\n"
          ]
        },
        {
          "metadata": {
            "tags": null
          },
          "name": "stderr",
          "output_type": "stream",
          "text": [
            "\r 65%|██████▌   | 556/852 [33:12<17:18,  3.51s/it]"
          ]
        },
        {
          "metadata": {
            "tags": null
          },
          "name": "stdout",
          "output_type": "stream",
          "text": [
            "\n",
            "input_text :  [] 기타 우정죽강대병원점\n",
            "output_result :  회\n"
          ]
        },
        {
          "metadata": {
            "tags": null
          },
          "name": "stderr",
          "output_type": "stream",
          "text": [
            "\r 65%|██████▌   | 557/852 [33:15<17:39,  3.59s/it]"
          ]
        },
        {
          "metadata": {
            "tags": null
          },
          "name": "stdout",
          "output_type": "stream",
          "text": [
            "\n",
            "input_text :  ['다슬기능이오리백숙', '다슬해장국', '김치찌개'] 정종/대포집/소주방 감식당\n",
            "output_result :  찜/탕/찌개\n"
          ]
        },
        {
          "metadata": {
            "tags": null
          },
          "name": "stderr",
          "output_type": "stream",
          "text": [
            "\r 65%|██████▌   | 558/852 [33:20<18:47,  3.83s/it]"
          ]
        },
        {
          "metadata": {
            "tags": null
          },
          "name": "stdout",
          "output_type": "stream",
          "text": [
            "\n",
            "input_text :  ['옛날통닭 (한마리)', '누드옛날통닭 (한마리)', '옛날양념통닭 (한마리)'] 기타 촌닭두마리\n",
            "output_result :  치킨\n"
          ]
        },
        {
          "metadata": {
            "tags": null
          },
          "name": "stderr",
          "output_type": "stream",
          "text": [
            "\r 66%|██████▌   | 559/852 [33:25<20:39,  4.23s/it]"
          ]
        },
        {
          "metadata": {
            "tags": null
          },
          "name": "stdout",
          "output_type": "stream",
          "text": [
            "\n",
            "input_text :  ['생삼겹살(200g)', '돼지갈비(300g)', '돼지목살(200g)'] 탕류(보신용) 화로불\n",
            "output_result :  고기/구이\n"
          ]
        },
        {
          "metadata": {
            "tags": null
          },
          "name": "stderr",
          "output_type": "stream",
          "text": [
            "\r 66%|██████▌   | 560/852 [33:30<21:46,  4.47s/it]"
          ]
        },
        {
          "metadata": {
            "tags": null
          },
          "name": "stdout",
          "output_type": "stream",
          "text": [
            "\n",
            "input_text :  ['섞어탕(특)', '섞어탕(보)', '우거지갈비해장국(특)'] 탕류(보신용) 자미왕갈비해장국\n",
            "output_result :  찜/탕/찌개\n"
          ]
        },
        {
          "metadata": {
            "tags": null
          },
          "name": "stderr",
          "output_type": "stream",
          "text": [
            "\r 66%|██████▌   | 561/852 [33:32<18:33,  3.83s/it]"
          ]
        },
        {
          "metadata": {
            "tags": null
          },
          "name": "stdout",
          "output_type": "stream",
          "text": [
            "\n",
            "input_text :  [] 경양식 그레이존\n",
            "output_result :  분식\n"
          ]
        },
        {
          "metadata": {
            "tags": null
          },
          "name": "stderr",
          "output_type": "stream",
          "text": [
            "\r 66%|██████▌   | 562/852 [33:37<20:26,  4.23s/it]"
          ]
        },
        {
          "metadata": {
            "tags": null
          },
          "name": "stdout",
          "output_type": "stream",
          "text": [
            "\n",
            "input_text :  ['점심특선(9시~17시)', 'Dinner(소)', 'Dinner(중)'] 한식 소주신랑보쌈부인\n",
            "output_result :  백반\n"
          ]
        },
        {
          "metadata": {
            "tags": null
          },
          "name": "stderr",
          "output_type": "stream",
          "text": [
            "\r 66%|██████▌   | 563/852 [33:41<19:22,  4.02s/it]"
          ]
        },
        {
          "metadata": {
            "tags": null
          },
          "name": "stdout",
          "output_type": "stream",
          "text": [
            "\n",
            "input_text :  ['무뼈 닭갈비', '닭내장', '막국수'] 정종/대포집/소주방 7.5닭갈비\n",
            "output_result :  고기/구이\n"
          ]
        },
        {
          "metadata": {
            "tags": null
          },
          "name": "stderr",
          "output_type": "stream",
          "text": [
            "\r 66%|██████▌   | 564/852 [33:44<17:29,  3.64s/it]"
          ]
        },
        {
          "metadata": {
            "tags": null
          },
          "name": "stdout",
          "output_type": "stream",
          "text": [
            "\n",
            "input_text :  ['샐러드', '샌드위치', '핫도그'] 기타 든든\n",
            "output_result :  양식\n"
          ]
        },
        {
          "metadata": {
            "tags": null
          },
          "name": "stderr",
          "output_type": "stream",
          "text": [
            "\r 66%|██████▋   | 565/852 [33:49<19:06,  3.99s/it]"
          ]
        },
        {
          "metadata": {
            "tags": null
          },
          "name": "stdout",
          "output_type": "stream",
          "text": [
            "\n",
            "input_text :  ['교촌오리지날', '교촌콤보', '교촌윙'] 통닭(치킨) 교촌치킨(효자점)\n",
            "output_result :  치킨\n"
          ]
        },
        {
          "metadata": {
            "tags": null
          },
          "name": "stderr",
          "output_type": "stream",
          "text": [
            "\r 66%|██████▋   | 566/852 [33:52<18:19,  3.85s/it]"
          ]
        },
        {
          "metadata": {
            "tags": null
          },
          "name": "stdout",
          "output_type": "stream",
          "text": [
            "\n",
            "input_text :  ['곰치탕', '알내장탕', '장치찜(중)'] 한식 스무숲동해곰치\n",
            "output_result :  찜/탕/찌개\n"
          ]
        },
        {
          "metadata": {
            "tags": null
          },
          "name": "stderr",
          "output_type": "stream",
          "text": [
            "\r 67%|██████▋   | 567/852 [33:56<18:17,  3.85s/it]"
          ]
        },
        {
          "metadata": {
            "tags": null
          },
          "name": "stdout",
          "output_type": "stream",
          "text": [
            "\n",
            "input_text :  ['꼼장어 구이(170g)', '소곱창(200g)', '돼지막창(150g)'] 기타 부산산꼼장어\n",
            "output_result :  고기/구이\n"
          ]
        },
        {
          "metadata": {
            "tags": null
          },
          "name": "stderr",
          "output_type": "stream",
          "text": [
            "\r 67%|██████▋   | 568/852 [33:59<16:42,  3.53s/it]"
          ]
        },
        {
          "metadata": {
            "tags": null
          },
          "name": "stdout",
          "output_type": "stream",
          "text": [
            "\n",
            "input_text :  [] 정종/대포집/소주방 경양미가\n",
            "output_result :  양식\n"
          ]
        },
        {
          "metadata": {
            "tags": null
          },
          "name": "stderr",
          "output_type": "stream",
          "text": [
            "\r 67%|██████▋   | 569/852 [34:03<17:29,  3.71s/it]"
          ]
        },
        {
          "metadata": {
            "tags": null
          },
          "name": "stdout",
          "output_type": "stream",
          "text": [
            "\n",
            "input_text :  ['내장탕', '순대국', '순대국 (특)'] 한식 우리순대국\n",
            "output_result :  찜/탕/찌개\n"
          ]
        },
        {
          "metadata": {
            "tags": null
          },
          "name": "stderr",
          "output_type": "stream",
          "text": [
            "\r 67%|██████▋   | 570/852 [34:07<17:45,  3.78s/it]"
          ]
        },
        {
          "metadata": {
            "tags": null
          },
          "name": "stdout",
          "output_type": "stream",
          "text": [
            "\n",
            "input_text :  ['통큰오짱 떡볶이', '차돌 떡볶이', '불향가득차돌덮밥'] 호프/통닭 청년다방춘천CGV점\n",
            "output_result :  고기/구이\n"
          ]
        },
        {
          "metadata": {
            "tags": null
          },
          "name": "stderr",
          "output_type": "stream",
          "text": [
            "\r 67%|██████▋   | 571/852 [34:10<17:08,  3.66s/it]"
          ]
        },
        {
          "metadata": {
            "tags": null
          },
          "name": "stdout",
          "output_type": "stream",
          "text": [
            "\n",
            "input_text :  ['부대찌개', '우렁이제육쌈밥', '불고기(300g)'] 한식 삼시세끼\n",
            "output_result :  고기/구이\n"
          ]
        },
        {
          "metadata": {
            "tags": null
          },
          "name": "stderr",
          "output_type": "stream",
          "text": [
            "\r 67%|██████▋   | 572/852 [34:15<18:08,  3.89s/it]"
          ]
        },
        {
          "metadata": {
            "tags": null
          },
          "name": "stdout",
          "output_type": "stream",
          "text": [
            "\n",
            "input_text :  ['흑설탕 버블티', '아메리카노', '카페라떼'] 기타 더벤티강원대점\n",
            "output_result :  백반\n"
          ]
        },
        {
          "metadata": {
            "tags": null
          },
          "name": "stderr",
          "output_type": "stream",
          "text": [
            "\r 67%|██████▋   | 573/852 [34:18<18:01,  3.88s/it]"
          ]
        },
        {
          "metadata": {
            "tags": null
          },
          "name": "stdout",
          "output_type": "stream",
          "text": [
            "\n",
            "input_text :  ['삼겹살추가', '목살추가', '흑돼지삼겹살'] 정종/대포집/소주방 효자동솥뚜껑애막골점\n",
            "output_result :  고기/구이\n"
          ]
        },
        {
          "metadata": {
            "tags": null
          },
          "name": "stderr",
          "output_type": "stream",
          "text": [
            "\r 67%|██████▋   | 574/852 [34:22<17:23,  3.75s/it]"
          ]
        },
        {
          "metadata": {
            "tags": null
          },
          "name": "stdout",
          "output_type": "stream",
          "text": [
            "\n",
            "input_text :  ['소 무한리필(대인)', '돼지 무한리필(대인)', '등심(1인분)'] 한식 대판\n",
            "output_result :  고기/구이\n"
          ]
        },
        {
          "metadata": {
            "tags": null
          },
          "name": "stderr",
          "output_type": "stream",
          "text": [
            "\r 67%|██████▋   | 575/852 [34:24<15:23,  3.33s/it]"
          ]
        },
        {
          "metadata": {
            "tags": null
          },
          "name": "stdout",
          "output_type": "stream",
          "text": [
            "\n",
            "input_text :  [] 라이브카페 퍼플\n",
            "output_result :  양식\n"
          ]
        },
        {
          "metadata": {
            "tags": null
          },
          "name": "stderr",
          "output_type": "stream",
          "text": [
            "\r 68%|██████▊   | 576/852 [34:27<15:09,  3.30s/it]"
          ]
        },
        {
          "metadata": {
            "tags": null
          },
          "name": "stdout",
          "output_type": "stream",
          "text": [
            "\n",
            "input_text :  [] 호프/통닭 처음처럼\n",
            "output_result :  치킨\n"
          ]
        },
        {
          "metadata": {
            "tags": null
          },
          "name": "stderr",
          "output_type": "stream",
          "text": [
            "\r 68%|██████▊   | 577/852 [34:30<14:38,  3.19s/it]"
          ]
        },
        {
          "metadata": {
            "tags": null
          },
          "name": "stdout",
          "output_type": "stream",
          "text": [
            "\n",
            "input_text :  ['회냉면', '비빔냉면', '물냉면'] 한식 춘천집\n",
            "output_result :  회\n"
          ]
        },
        {
          "metadata": {
            "tags": null
          },
          "name": "stderr",
          "output_type": "stream",
          "text": [
            "\r 68%|██████▊   | 578/852 [34:34<14:32,  3.18s/it]"
          ]
        },
        {
          "metadata": {
            "tags": null
          },
          "name": "stdout",
          "output_type": "stream",
          "text": [
            "\n",
            "input_text :  ['배추 샐러드', '시저 샐러드', '에그 인 헬'] 기타 소셜하우스\n",
            "output_result :  양식\n"
          ]
        },
        {
          "metadata": {
            "tags": null
          },
          "name": "stderr",
          "output_type": "stream",
          "text": [
            "\r 68%|██████▊   | 579/852 [34:37<14:36,  3.21s/it]"
          ]
        },
        {
          "metadata": {
            "tags": null
          },
          "name": "stdout",
          "output_type": "stream",
          "text": [
            "\n",
            "input_text :  ['갈비탕', '갈비전골', '얼큰갈비탕'] 기타 전상철갈비탕집\n",
            "output_result :  찜/탕/찌개\n"
          ]
        },
        {
          "metadata": {
            "tags": null
          },
          "name": "stderr",
          "output_type": "stream",
          "text": [
            "\r 68%|██████▊   | 580/852 [34:41<16:20,  3.61s/it]"
          ]
        },
        {
          "metadata": {
            "tags": null
          },
          "name": "stdout",
          "output_type": "stream",
          "text": [
            "\n",
            "input_text :  ['감자옹심이', '옹심이메밀칼국수', '메밀국수'] 한식 감자골옹심이\n",
            "output_result :  국수\n"
          ]
        },
        {
          "metadata": {
            "tags": null
          },
          "name": "stderr",
          "output_type": "stream",
          "text": [
            "\r 68%|██████▊   | 581/852 [34:45<16:13,  3.59s/it]"
          ]
        },
        {
          "metadata": {
            "tags": null
          },
          "name": "stdout",
          "output_type": "stream",
          "text": [
            "\n",
            "input_text :  ['산더미육회', '베이컨+모듬소시지', '바싹모듬전'] 감성주점 네버네버\n",
            "output_result :  고기/구이\n"
          ]
        },
        {
          "metadata": {
            "tags": null
          },
          "name": "stderr",
          "output_type": "stream",
          "text": [
            "\r 68%|██████▊   | 582/852 [34:49<16:33,  3.68s/it]"
          ]
        },
        {
          "metadata": {
            "tags": null
          },
          "name": "stdout",
          "output_type": "stream",
          "text": [
            "\n",
            "input_text :  ['모듬회 (소)', '주문진 붉은대게 2마리', '주문진 대게'] 한식 주문진게먹고회먹고\n",
            "output_result :  회\n"
          ]
        },
        {
          "metadata": {
            "tags": null
          },
          "name": "stderr",
          "output_type": "stream",
          "text": [
            "\r 68%|██████▊   | 583/852 [34:53<17:51,  3.98s/it]"
          ]
        },
        {
          "metadata": {
            "tags": null
          },
          "name": "stdout",
          "output_type": "stream",
          "text": [
            "\n",
            "input_text :  ['토종닭백숙', '육개장', '갈비돈까스'] 식육(숯불구이) 즐거운하루숯불생고기\n",
            "output_result :  고기/구이\n"
          ]
        },
        {
          "metadata": {
            "tags": null
          },
          "name": "stderr",
          "output_type": "stream",
          "text": [
            "\r 69%|██████▊   | 584/852 [34:59<19:20,  4.33s/it]"
          ]
        },
        {
          "metadata": {
            "tags": null
          },
          "name": "stdout",
          "output_type": "stream",
          "text": [
            "\n",
            "input_text :  ['슈프림양념치킨', '치즈슈프림 양념치킨', '허니올리고당야채양념치킨'] 호프/통닭 처갓집양념치킨강대점\n",
            "output_result :  양식\n"
          ]
        },
        {
          "metadata": {
            "tags": null
          },
          "name": "stderr",
          "output_type": "stream",
          "text": [
            "\r 69%|██████▊   | 585/852 [35:02<18:34,  4.17s/it]"
          ]
        },
        {
          "metadata": {
            "tags": null
          },
          "name": "stdout",
          "output_type": "stream",
          "text": [
            "\n",
            "input_text :  ['청춘보쌈 (S)', '마늘보쌈 (S)', '핫칠리보쌈 (S)'] 한식 청춘보쌈\n",
            "output_result :  백반\n"
          ]
        },
        {
          "metadata": {
            "tags": null
          },
          "name": "stderr",
          "output_type": "stream",
          "text": [
            "\r 69%|██████▉   | 586/852 [35:06<17:35,  3.97s/it]"
          ]
        },
        {
          "metadata": {
            "tags": null
          },
          "name": "stdout",
          "output_type": "stream",
          "text": [
            "\n",
            "input_text :  [] 기타 엠브로키친 석사점\n",
            "output_result :  양식\n"
          ]
        },
        {
          "metadata": {
            "tags": null
          },
          "name": "stderr",
          "output_type": "stream",
          "text": [
            "\r 69%|██████▉   | 587/852 [35:10<17:58,  4.07s/it]"
          ]
        },
        {
          "metadata": {
            "tags": null
          },
          "name": "stdout",
          "output_type": "stream",
          "text": [
            "\n",
            "input_text :  ['치즈피자(2~3인)', '페퍼로니피자(2~3인)', '하와이안피자(2~3인)'] 기타 도우도우\n",
            "output_result :  피자\n"
          ]
        },
        {
          "metadata": {
            "tags": null
          },
          "name": "stderr",
          "output_type": "stream",
          "text": [
            "\r 69%|██████▉   | 588/852 [35:14<17:18,  3.94s/it]"
          ]
        },
        {
          "metadata": {
            "tags": null
          },
          "name": "stdout",
          "output_type": "stream",
          "text": [
            "\n",
            "input_text :  ['아메리카노', '카푸치노', '꿀아메리카노'] 기타 메가엠지씨커피춘천애막골점\n",
            "output_result :  국수\n"
          ]
        },
        {
          "metadata": {
            "tags": null
          },
          "name": "stderr",
          "output_type": "stream",
          "text": [
            "\r 69%|██████▉   | 589/852 [35:19<18:27,  4.21s/it]"
          ]
        },
        {
          "metadata": {
            "tags": null
          },
          "name": "stdout",
          "output_type": "stream",
          "text": [
            "\n",
            "input_text :  ['찬과고기선물박스', '오롯이고기만', '고기만'] 식육(숯불구이) 고기극찬춘천점\n",
            "output_result :  고기/구이\n"
          ]
        },
        {
          "metadata": {
            "tags": null
          },
          "name": "stderr",
          "output_type": "stream",
          "text": [
            "\r 69%|██████▉   | 590/852 [35:21<16:10,  3.70s/it]"
          ]
        },
        {
          "metadata": {
            "tags": null
          },
          "name": "stdout",
          "output_type": "stream",
          "text": [
            "\n",
            "input_text :  [] 한식 피알(P.R)\n",
            "output_result :  피자\n"
          ]
        },
        {
          "metadata": {
            "tags": null
          },
          "name": "stderr",
          "output_type": "stream",
          "text": [
            "\r 69%|██████▉   | 591/852 [35:24<14:39,  3.37s/it]"
          ]
        },
        {
          "metadata": {
            "tags": null
          },
          "name": "stdout",
          "output_type": "stream",
          "text": [
            "\n",
            "input_text :  [] 한식 싸다아구찜앤탕\n",
            "output_result :  찜/탕/찌개\n"
          ]
        },
        {
          "metadata": {
            "tags": null
          },
          "name": "stderr",
          "output_type": "stream",
          "text": [
            "\r 69%|██████▉   | 592/852 [35:26<13:10,  3.04s/it]"
          ]
        },
        {
          "metadata": {
            "tags": null
          },
          "name": "stdout",
          "output_type": "stream",
          "text": [
            "\n",
            "input_text :  [] 기타 낭만의거리\n",
            "output_result :  양식\n"
          ]
        },
        {
          "metadata": {
            "tags": null
          },
          "name": "stderr",
          "output_type": "stream",
          "text": [
            "\r 70%|██████▉   | 593/852 [35:31<15:15,  3.54s/it]"
          ]
        },
        {
          "metadata": {
            "tags": null
          },
          "name": "stdout",
          "output_type": "stream",
          "text": [
            "\n",
            "input_text :  ['등심(150g)', '갈빗살(150g)', '제비추리(150g)'] 식육(숯불구이) 화정\n",
            "output_result :  고기/구이\n"
          ]
        },
        {
          "metadata": {
            "tags": null
          },
          "name": "stderr",
          "output_type": "stream",
          "text": [
            "\r 70%|██████▉   | 594/852 [35:35<15:37,  3.63s/it]"
          ]
        },
        {
          "metadata": {
            "tags": null
          },
          "name": "stdout",
          "output_type": "stream",
          "text": [
            "\n",
            "input_text :  ['아지매국밥', '전통순대국밥', '순대국밥'] 한식 부산아지매국밥 춘천석사점\n",
            "output_result :  국밥\n"
          ]
        },
        {
          "metadata": {
            "tags": null
          },
          "name": "stderr",
          "output_type": "stream",
          "text": [
            "\r 70%|██████▉   | 595/852 [35:37<13:50,  3.23s/it]"
          ]
        },
        {
          "metadata": {
            "tags": null
          },
          "name": "stdout",
          "output_type": "stream",
          "text": [
            "\n",
            "input_text :  [] 기타 하루카와\n",
            "output_result :  회\n"
          ]
        },
        {
          "metadata": {
            "tags": null
          },
          "name": "stderr",
          "output_type": "stream",
          "text": [
            "\r 70%|██████▉   | 596/852 [35:40<13:58,  3.28s/it]"
          ]
        },
        {
          "metadata": {
            "tags": null
          },
          "name": "stdout",
          "output_type": "stream",
          "text": [
            "\n",
            "input_text :  ['드립커피', '핸드드립커피', '디카페인드립커피'] 기타 리프(leaf)\n",
            "output_result :  양식\n"
          ]
        },
        {
          "metadata": {
            "tags": null
          },
          "name": "stderr",
          "output_type": "stream",
          "text": [
            "\r 70%|███████   | 597/852 [35:45<15:41,  3.69s/it]"
          ]
        },
        {
          "metadata": {
            "tags": null
          },
          "name": "stdout",
          "output_type": "stream",
          "text": [
            "\n",
            "input_text :  ['카페라떼', '카페모카', '카라멜 마끼아또'] 기타 카페솔(Cafe Sol)\n",
            "output_result :  양식\n"
          ]
        },
        {
          "metadata": {
            "tags": null
          },
          "name": "stderr",
          "output_type": "stream",
          "text": [
            "\r 70%|███████   | 598/852 [35:48<14:15,  3.37s/it]"
          ]
        },
        {
          "metadata": {
            "tags": null
          },
          "name": "stdout",
          "output_type": "stream",
          "text": [
            "\n",
            "input_text :  [] 기타 바우하우스(Bauhaus)\n",
            "output_result :  회\n"
          ]
        },
        {
          "metadata": {
            "tags": null
          },
          "name": "stderr",
          "output_type": "stream",
          "text": [
            "\r 70%|███████   | 599/852 [35:50<12:58,  3.08s/it]"
          ]
        },
        {
          "metadata": {
            "tags": null
          },
          "name": "stdout",
          "output_type": "stream",
          "text": [
            "\n",
            "input_text :  [] 한식 옥이네콩탕\n",
            "output_result :  찜/탕/찌개\n"
          ]
        },
        {
          "metadata": {
            "tags": null
          },
          "name": "stderr",
          "output_type": "stream",
          "text": [
            "\r 70%|███████   | 600/852 [35:53<13:06,  3.12s/it]"
          ]
        },
        {
          "metadata": {
            "tags": null
          },
          "name": "stdout",
          "output_type": "stream",
          "text": [
            "\n",
            "input_text :  ['치즈크러스트', '크림치즈크러스트', '베이컨'] 기타 옐로우피자춘천점\n",
            "output_result :  피자\n"
          ]
        },
        {
          "metadata": {
            "tags": null
          },
          "name": "stderr",
          "output_type": "stream",
          "text": [
            "\r 71%|███████   | 601/852 [35:58<15:15,  3.65s/it]"
          ]
        },
        {
          "metadata": {
            "tags": null
          },
          "name": "stdout",
          "output_type": "stream",
          "text": [
            "\n",
            "input_text :  ['칠리베이컨 웜볼', '시저치킨 샐러디', '콥 샐러디'] 기타 샐러디춘천퇴계점\n",
            "output_result :  중식\n"
          ]
        },
        {
          "metadata": {
            "tags": null
          },
          "name": "stderr",
          "output_type": "stream",
          "text": [
            "\r 71%|███████   | 602/852 [36:01<14:20,  3.44s/it]"
          ]
        },
        {
          "metadata": {
            "tags": null
          },
          "name": "stdout",
          "output_type": "stream",
          "text": [
            "\n",
            "input_text :  ['프렌치랙', '숄더랙', '양등심'] 한식 주상옥\n",
            "output_result :  고기/구이\n"
          ]
        },
        {
          "metadata": {
            "tags": null
          },
          "name": "stderr",
          "output_type": "stream",
          "text": [
            "\r 71%|███████   | 603/852 [36:04<14:00,  3.37s/it]"
          ]
        },
        {
          "metadata": {
            "tags": null
          },
          "name": "stdout",
          "output_type": "stream",
          "text": [
            "\n",
            "input_text :  ['닭볶음탕', '동태찌개', '낙지볶음'] 한식 우리동네전포차\n",
            "output_result :  찜/탕/찌개\n"
          ]
        },
        {
          "metadata": {
            "tags": null
          },
          "name": "stderr",
          "output_type": "stream",
          "text": [
            "\r 71%|███████   | 604/852 [36:09<15:49,  3.83s/it]"
          ]
        },
        {
          "metadata": {
            "tags": null
          },
          "name": "stdout",
          "output_type": "stream",
          "text": [
            "\n",
            "input_text :  ['청춘간장 (300g)', '청춘양념 (200g)', '김치삼겹말이찜'] 정종/대포집/소주방 청춘관\n",
            "output_result :  고기/구이\n"
          ]
        },
        {
          "metadata": {
            "tags": null
          },
          "name": "stderr",
          "output_type": "stream",
          "text": [
            "\r 71%|███████   | 605/852 [36:12<14:45,  3.59s/it]"
          ]
        },
        {
          "metadata": {
            "tags": null
          },
          "name": "stdout",
          "output_type": "stream",
          "text": [
            "\n",
            "input_text :  [] 정종/대포집/소주방 까투리애막골점\n",
            "output_result :  양식\n"
          ]
        },
        {
          "metadata": {
            "tags": null
          },
          "name": "stderr",
          "output_type": "stream",
          "text": [
            "\r 71%|███████   | 606/852 [36:17<16:36,  4.05s/it]"
          ]
        },
        {
          "metadata": {
            "tags": null
          },
          "name": "stdout",
          "output_type": "stream",
          "text": [
            "\n",
            "input_text :  ['엄청 큰 후라이드 치킨(오리지널)', '엄청 큰 양념치킨(오리지널)', '엄청 큰 깐풍치킨(오리지널)'] 호프/통닭 노랑통닭석사점\n",
            "output_result :  치킨\n"
          ]
        },
        {
          "metadata": {
            "tags": null
          },
          "name": "stderr",
          "output_type": "stream",
          "text": [
            "\r 71%|███████   | 607/852 [36:20<14:24,  3.53s/it]"
          ]
        },
        {
          "metadata": {
            "tags": null
          },
          "name": "stdout",
          "output_type": "stream",
          "text": [
            "\n",
            "input_text :  [] 한식 배꼽시계\n",
            "output_result :  양식\n"
          ]
        },
        {
          "metadata": {
            "tags": null
          },
          "name": "stderr",
          "output_type": "stream",
          "text": [
            "\r 71%|███████▏  | 608/852 [36:24<14:58,  3.68s/it]"
          ]
        },
        {
          "metadata": {
            "tags": null
          },
          "name": "stdout",
          "output_type": "stream",
          "text": [
            "\n",
            "input_text :  ['백숙', '열무국수', '두부구이'] 기타 일품두부자박이\n",
            "output_result :  백반\n"
          ]
        },
        {
          "metadata": {
            "tags": null
          },
          "name": "stderr",
          "output_type": "stream",
          "text": [
            "\r 71%|███████▏  | 609/852 [36:27<14:00,  3.46s/it]"
          ]
        },
        {
          "metadata": {
            "tags": null
          },
          "name": "stdout",
          "output_type": "stream",
          "text": [
            "\n",
            "input_text :  ['짜장면', '짬뽕', '간짜장'] 기타 태화루\n",
            "output_result :  중식\n"
          ]
        },
        {
          "metadata": {
            "tags": null
          },
          "name": "stderr",
          "output_type": "stream",
          "text": [
            "\r 72%|███████▏  | 610/852 [36:30<13:46,  3.42s/it]"
          ]
        },
        {
          "metadata": {
            "tags": null
          },
          "name": "stdout",
          "output_type": "stream",
          "text": [
            "\n",
            "input_text :  ['오리지날치즈버거', '베이컨치즈버거', '더블치즈버거'] 기타 오더히어버거\n",
            "output_result :  버거\n"
          ]
        },
        {
          "metadata": {
            "tags": null
          },
          "name": "stderr",
          "output_type": "stream",
          "text": [
            "\r 72%|███████▏  | 611/852 [36:33<13:37,  3.39s/it]"
          ]
        },
        {
          "metadata": {
            "tags": null
          },
          "name": "stdout",
          "output_type": "stream",
          "text": [
            "\n",
            "input_text :  ['생고기김치찌개', '된장찌개', '생삼겹살'] 기타 효자골\n",
            "output_result :  고기/구이\n"
          ]
        },
        {
          "metadata": {
            "tags": null
          },
          "name": "stderr",
          "output_type": "stream",
          "text": [
            "\r 72%|███████▏  | 612/852 [36:37<14:28,  3.62s/it]"
          ]
        },
        {
          "metadata": {
            "tags": null
          },
          "name": "stdout",
          "output_type": "stream",
          "text": [
            "\n",
            "input_text :  ['칼국수', '들깨옹심이칼국수', '보쌈 (소)'] 기타 자매칼국수\n",
            "output_result :  국수\n"
          ]
        },
        {
          "metadata": {
            "tags": null
          },
          "name": "stderr",
          "output_type": "stream",
          "text": [
            "\r 72%|███████▏  | 613/852 [36:40<12:53,  3.23s/it]"
          ]
        },
        {
          "metadata": {
            "tags": null
          },
          "name": "stdout",
          "output_type": "stream",
          "text": [
            "\n",
            "input_text :  [] 기타 버튼홀덤\n",
            "output_result :  양식\n"
          ]
        },
        {
          "metadata": {
            "tags": null
          },
          "name": "stderr",
          "output_type": "stream",
          "text": [
            "\r 72%|███████▏  | 614/852 [36:42<11:45,  2.97s/it]"
          ]
        },
        {
          "metadata": {
            "tags": null
          },
          "name": "stdout",
          "output_type": "stream",
          "text": [
            "\n",
            "input_text :  [] 기타 이현푸드\n",
            "output_result :  양식\n"
          ]
        },
        {
          "metadata": {
            "tags": null
          },
          "name": "stderr",
          "output_type": "stream",
          "text": [
            "\r 72%|███████▏  | 615/852 [36:44<11:05,  2.81s/it]"
          ]
        },
        {
          "metadata": {
            "tags": null
          },
          "name": "stdout",
          "output_type": "stream",
          "text": [
            "\n",
            "input_text :  [] 한식 시골한식뷔페\n",
            "output_result :  양식\n"
          ]
        },
        {
          "metadata": {
            "tags": null
          },
          "name": "stderr",
          "output_type": "stream",
          "text": [
            "\r 72%|███████▏  | 616/852 [36:48<11:17,  2.87s/it]"
          ]
        },
        {
          "metadata": {
            "tags": null
          },
          "name": "stdout",
          "output_type": "stream",
          "text": [
            "\n",
            "input_text :  [] 기타 인생물음표\n",
            "output_result :  양식\n"
          ]
        },
        {
          "metadata": {
            "tags": null
          },
          "name": "stderr",
          "output_type": "stream",
          "text": [
            "\r 72%|███████▏  | 617/852 [36:50<11:12,  2.86s/it]"
          ]
        },
        {
          "metadata": {
            "tags": null
          },
          "name": "stdout",
          "output_type": "stream",
          "text": [
            "\n",
            "input_text :  [] 기타 밥풀릭스춘천점\n",
            "output_result :  중식\n"
          ]
        },
        {
          "metadata": {
            "tags": null
          },
          "name": "stderr",
          "output_type": "stream",
          "text": [
            "\r 73%|███████▎  | 618/852 [36:54<11:33,  2.97s/it]"
          ]
        },
        {
          "metadata": {
            "tags": null
          },
          "name": "stdout",
          "output_type": "stream",
          "text": [
            "\n",
            "input_text :  ['타코', '퀘사디아', '감자튀김'] 기타 타코페퍼\n",
            "output_result :  분식\n"
          ]
        },
        {
          "metadata": {
            "tags": null
          },
          "name": "stderr",
          "output_type": "stream",
          "text": [
            "\r 73%|███████▎  | 619/852 [36:57<12:17,  3.16s/it]"
          ]
        },
        {
          "metadata": {
            "tags": null
          },
          "name": "stdout",
          "output_type": "stream",
          "text": [
            "\n",
            "input_text :  ['돈코츠라멘', '탄탄카라미소라멘', '가츠동'] 호프/통닭 멘시루\n",
            "output_result :  고기/구이\n"
          ]
        },
        {
          "metadata": {
            "tags": null
          },
          "name": "stderr",
          "output_type": "stream",
          "text": [
            "\r 73%|███████▎  | 620/852 [37:00<11:46,  3.05s/it]"
          ]
        },
        {
          "metadata": {
            "tags": null
          },
          "name": "stdout",
          "output_type": "stream",
          "text": [
            "\n",
            "input_text :  [] 기타 가미푸드\n",
            "output_result :  양식\n"
          ]
        },
        {
          "metadata": {
            "tags": null
          },
          "name": "stderr",
          "output_type": "stream",
          "text": [
            "\r 73%|███████▎  | 621/852 [37:04<12:20,  3.20s/it]"
          ]
        },
        {
          "metadata": {
            "tags": null
          },
          "name": "stdout",
          "output_type": "stream",
          "text": [
            "\n",
            "input_text :  ['족발', '숯불족발', '마늘족발'] 기타 미소만족\n",
            "output_result :  고기/구이\n"
          ]
        },
        {
          "metadata": {
            "tags": null
          },
          "name": "stderr",
          "output_type": "stream",
          "text": [
            "\r 73%|███████▎  | 622/852 [37:07<12:52,  3.36s/it]"
          ]
        },
        {
          "metadata": {
            "tags": null
          },
          "name": "stdout",
          "output_type": "stream",
          "text": [
            "\n",
            "input_text :  ['족쌈 냉면', '로제 족발 + 쟁반국수', '2가지맛 반반족발 + 쟁반국수'] 한식 기대만족 춘천점\n",
            "output_result :  족발/보쌈\n"
          ]
        },
        {
          "metadata": {
            "tags": null
          },
          "name": "stderr",
          "output_type": "stream",
          "text": [
            "\r 73%|███████▎  | 623/852 [37:10<11:47,  3.09s/it]"
          ]
        },
        {
          "metadata": {
            "tags": null
          },
          "name": "stdout",
          "output_type": "stream",
          "text": [
            "\n",
            "input_text :  [] 기타 LINE(라인)\n",
            "output_result :  회\n"
          ]
        },
        {
          "metadata": {
            "tags": null
          },
          "name": "stderr",
          "output_type": "stream",
          "text": [
            "\r 73%|███████▎  | 624/852 [37:14<13:05,  3.45s/it]"
          ]
        },
        {
          "metadata": {
            "tags": null
          },
          "name": "stdout",
          "output_type": "stream",
          "text": [
            "\n",
            "input_text :  ['닭갈비', '닭내장', '막국수'] 식육(숯불구이) 춘천제일닭갈비\n",
            "output_result :  고기/구이\n"
          ]
        },
        {
          "metadata": {
            "tags": null
          },
          "name": "stderr",
          "output_type": "stream",
          "text": [
            "\r 73%|███████▎  | 625/852 [37:18<13:38,  3.61s/it]"
          ]
        },
        {
          "metadata": {
            "tags": null
          },
          "name": "stdout",
          "output_type": "stream",
          "text": [
            "\n",
            "input_text :  ['소고기쌀국수', '닭고기쌀국수', '해물쌀국수'] 외국음식전문점(인도,태국등) 하노이별퇴계점\n",
            "output_result :  국수\n"
          ]
        },
        {
          "metadata": {
            "tags": null
          },
          "name": "stderr",
          "output_type": "stream",
          "text": [
            "\r 73%|███████▎  | 626/852 [37:24<16:10,  4.29s/it]"
          ]
        },
        {
          "metadata": {
            "tags": null
          },
          "name": "stdout",
          "output_type": "stream",
          "text": [
            "\n",
            "input_text :  ['징기스칸 양갈비 (230~250g)', '징기스칸 프렌치랙 (180~200g)', '징기스칸 양고기 (200g)'] 식육(숯불구이) 라무진춘천석사점\n",
            "output_result :  고기/구이\n"
          ]
        },
        {
          "metadata": {
            "tags": null
          },
          "name": "stderr",
          "output_type": "stream",
          "text": [
            "\r 74%|███████▎  | 627/852 [37:27<15:10,  4.05s/it]"
          ]
        },
        {
          "metadata": {
            "tags": null
          },
          "name": "stdout",
          "output_type": "stream",
          "text": [
            "\n",
            "input_text :  [] 한식 이모네한식\n",
            "output_result :  양식\n"
          ]
        },
        {
          "metadata": {
            "tags": null
          },
          "name": "stderr",
          "output_type": "stream",
          "text": [
            "\r 74%|███████▎  | 628/852 [37:32<15:51,  4.25s/it]"
          ]
        },
        {
          "metadata": {
            "tags": null
          },
          "name": "stdout",
          "output_type": "stream",
          "text": [
            "\n",
            "input_text :  ['한우육회+초밥8P', '순살치즈찜닭', '보쌈한상(김치말이)'] 한식 더담다\n",
            "output_result :  고기/구이\n"
          ]
        },
        {
          "metadata": {
            "tags": null
          },
          "name": "stderr",
          "output_type": "stream",
          "text": [
            "\r 74%|███████▍  | 629/852 [37:36<15:03,  4.05s/it]"
          ]
        },
        {
          "metadata": {
            "tags": null
          },
          "name": "stdout",
          "output_type": "stream",
          "text": [
            "\n",
            "input_text :  ['칠리새우', '크림새우', '매콤감바스'] 한식 인생건어물맥주강대점\n",
            "output_result :  분식\n"
          ]
        },
        {
          "metadata": {
            "tags": null
          },
          "name": "stderr",
          "output_type": "stream",
          "text": [
            "\r 74%|███████▍  | 630/852 [37:39<14:33,  3.94s/it]"
          ]
        },
        {
          "metadata": {
            "tags": null
          },
          "name": "stdout",
          "output_type": "stream",
          "text": [
            "\n",
            "input_text :  ['갈비살', '꽃살', '돼지삼겹'] 정종/대포집/소주방 본가춘천스무숲점\n",
            "output_result :  고기/구이\n"
          ]
        },
        {
          "metadata": {
            "tags": null
          },
          "name": "stderr",
          "output_type": "stream",
          "text": [
            "\r 74%|███████▍  | 631/852 [37:43<14:30,  3.94s/it]"
          ]
        },
        {
          "metadata": {
            "tags": null
          },
          "name": "stdout",
          "output_type": "stream",
          "text": [
            "\n",
            "input_text :  ['볶음밥', '비빔면', '짜파게티'] 기타 쌩김치찜\n",
            "output_result :  양식\n"
          ]
        },
        {
          "metadata": {
            "tags": null
          },
          "name": "stderr",
          "output_type": "stream",
          "text": [
            "\r 74%|███████▍  | 632/852 [37:47<13:45,  3.75s/it]"
          ]
        },
        {
          "metadata": {
            "tags": null
          },
          "name": "stdout",
          "output_type": "stream",
          "text": [
            "\n",
            "input_text :  ['안주', '소고기타다끼', '타코와사비'] 기타 이자카야천\n",
            "output_result :  양식\n"
          ]
        },
        {
          "metadata": {
            "tags": null
          },
          "name": "stderr",
          "output_type": "stream",
          "text": [
            "\r 74%|███████▍  | 633/852 [37:51<14:12,  3.89s/it]"
          ]
        },
        {
          "metadata": {
            "tags": null
          },
          "name": "stdout",
          "output_type": "stream",
          "text": [
            "\n",
            "input_text :  ['풀소유 (L)', '진짜 새우를 잡수새우 (L)', '치즈 폭포수 (L)'] 기타 피자피크춘천점\n",
            "output_result :  양식\n"
          ]
        },
        {
          "metadata": {
            "tags": null
          },
          "name": "stderr",
          "output_type": "stream",
          "text": [
            "\r 74%|███████▍  | 634/852 [37:55<14:19,  3.94s/it]"
          ]
        },
        {
          "metadata": {
            "tags": null
          },
          "name": "stdout",
          "output_type": "stream",
          "text": [
            "\n",
            "input_text :  ['튀김우동', '새우튀김우동', '우동사리추가'] 일식 외곽\n",
            "output_result :  일식\n"
          ]
        },
        {
          "metadata": {
            "tags": null
          },
          "name": "stderr",
          "output_type": "stream",
          "text": [
            "\r 75%|███████▍  | 635/852 [37:59<14:12,  3.93s/it]"
          ]
        },
        {
          "metadata": {
            "tags": null
          },
          "name": "stdout",
          "output_type": "stream",
          "text": [
            "\n",
            "input_text :  ['후라이드', '양념치킨', '마늘간장치킨'] 호프/통닭 참참치킨호프춘천본점\n",
            "output_result :  고기/구이\n"
          ]
        },
        {
          "metadata": {
            "tags": null
          },
          "name": "stderr",
          "output_type": "stream",
          "text": [
            "\r 75%|███████▍  | 636/852 [38:02<13:13,  3.67s/it]"
          ]
        },
        {
          "metadata": {
            "tags": null
          },
          "name": "stdout",
          "output_type": "stream",
          "text": [
            "\n",
            "input_text :  ['마라탕', '마라샹궈', '볶음밥기본'] 중국식 마라킹\n",
            "output_result :  중식\n"
          ]
        },
        {
          "metadata": {
            "tags": null
          },
          "name": "stderr",
          "output_type": "stream",
          "text": [
            "\r 75%|███████▍  | 637/852 [38:04<11:40,  3.26s/it]"
          ]
        },
        {
          "metadata": {
            "tags": null
          },
          "name": "stdout",
          "output_type": "stream",
          "text": [
            "\n",
            "input_text :  [] 중국식 라사천\n",
            "output_result :  중식\n"
          ]
        },
        {
          "metadata": {
            "tags": null
          },
          "name": "stderr",
          "output_type": "stream",
          "text": [
            "\r 75%|███████▍  | 638/852 [38:07<11:45,  3.30s/it]"
          ]
        },
        {
          "metadata": {
            "tags": null
          },
          "name": "stdout",
          "output_type": "stream",
          "text": [
            "\n",
            "input_text :  [] 식육(숯불구이) 참한고깃집\n",
            "output_result :  고기/구이\n"
          ]
        },
        {
          "metadata": {
            "tags": null
          },
          "name": "stderr",
          "output_type": "stream",
          "text": [
            "\r 75%|███████▌  | 639/852 [38:11<12:16,  3.46s/it]"
          ]
        },
        {
          "metadata": {
            "tags": null
          },
          "name": "stdout",
          "output_type": "stream",
          "text": [
            "\n",
            "input_text :  ['쉬림프 버거', '머쉬룸 버거', 'JG버거'] 호프/통닭 프랭크버거춘천석사점\n",
            "output_result :  고기/구이\n"
          ]
        },
        {
          "metadata": {
            "tags": null
          },
          "name": "stderr",
          "output_type": "stream",
          "text": [
            "\r 75%|███████▌  | 640/852 [38:16<13:36,  3.85s/it]"
          ]
        },
        {
          "metadata": {
            "tags": null
          },
          "name": "stdout",
          "output_type": "stream",
          "text": [
            "\n",
            "input_text :  ['모듬(220g)', '소곱창(200g)', '우삼겹(200g)'] 식육(숯불구이) 천사곱창석사점\n",
            "output_result :  고기/구이\n"
          ]
        },
        {
          "metadata": {
            "tags": null
          },
          "name": "stderr",
          "output_type": "stream",
          "text": [
            "\r 75%|███████▌  | 641/852 [38:18<11:56,  3.40s/it]"
          ]
        },
        {
          "metadata": {
            "tags": null
          },
          "name": "stdout",
          "output_type": "stream",
          "text": [
            "\n",
            "input_text :  [] 기타 쉼표\n",
            "output_result :  회\n"
          ]
        },
        {
          "metadata": {
            "tags": null
          },
          "name": "stderr",
          "output_type": "stream",
          "text": [
            "\r 75%|███████▌  | 642/852 [38:22<12:31,  3.58s/it]"
          ]
        },
        {
          "metadata": {
            "tags": null
          },
          "name": "stdout",
          "output_type": "stream",
          "text": [
            "\n",
            "input_text :  ['양념', '국물', '찜닭(2인)'] 한식 서가네\n",
            "output_result :  찜/탕/찌개\n"
          ]
        },
        {
          "metadata": {
            "tags": null
          },
          "name": "stderr",
          "output_type": "stream",
          "text": [
            "\r 75%|███████▌  | 643/852 [38:26<12:23,  3.56s/it]"
          ]
        },
        {
          "metadata": {
            "tags": null
          },
          "name": "stdout",
          "output_type": "stream",
          "text": [
            "\n",
            "input_text :  ['FAS 커피', '크림블라떼', '아메리카노'] 기타 프리에어스페이스(Free Air Space)\n",
            "output_result :  회\n"
          ]
        },
        {
          "metadata": {
            "tags": null
          },
          "name": "stderr",
          "output_type": "stream",
          "text": [
            "\r 76%|███████▌  | 644/852 [38:28<10:59,  3.17s/it]"
          ]
        },
        {
          "metadata": {
            "tags": null
          },
          "name": "stdout",
          "output_type": "stream",
          "text": [
            "\n",
            "input_text :  [] 기타 화구박스\n",
            "output_result :  회\n"
          ]
        },
        {
          "metadata": {
            "tags": null
          },
          "name": "stderr",
          "output_type": "stream",
          "text": [
            "\r 76%|███████▌  | 645/852 [38:31<10:08,  2.94s/it]"
          ]
        },
        {
          "metadata": {
            "tags": null
          },
          "name": "stdout",
          "output_type": "stream",
          "text": [
            "\n",
            "input_text :  [] 기타 두리기갈매기살\n",
            "output_result :  양식\n"
          ]
        },
        {
          "metadata": {
            "tags": null
          },
          "name": "stderr",
          "output_type": "stream",
          "text": [
            "\r 76%|███████▌  | 646/852 [38:34<10:21,  3.01s/it]"
          ]
        },
        {
          "metadata": {
            "tags": null
          },
          "name": "stdout",
          "output_type": "stream",
          "text": [
            "\n",
            "input_text :  [] 한식 행복한반찬\n",
            "output_result :  양식\n"
          ]
        },
        {
          "metadata": {
            "tags": null
          },
          "name": "stderr",
          "output_type": "stream",
          "text": [
            "\r 76%|███████▌  | 647/852 [38:36<09:43,  2.84s/it]"
          ]
        },
        {
          "metadata": {
            "tags": null
          },
          "name": "stdout",
          "output_type": "stream",
          "text": [
            "\n",
            "input_text :  [] 라이브카페 추억의7090\n",
            "output_result :  회\n"
          ]
        },
        {
          "metadata": {
            "tags": null
          },
          "name": "stderr",
          "output_type": "stream",
          "text": [
            "\r 76%|███████▌  | 648/852 [38:39<09:33,  2.81s/it]"
          ]
        },
        {
          "metadata": {
            "tags": null
          },
          "name": "stdout",
          "output_type": "stream",
          "text": [
            "\n",
            "input_text :  [] 식육(숯불구이) 제주안방갈비석사점\n",
            "output_result :  고기/구이\n"
          ]
        },
        {
          "metadata": {
            "tags": null
          },
          "name": "stderr",
          "output_type": "stream",
          "text": [
            "\r 76%|███████▌  | 649/852 [38:42<10:01,  2.96s/it]"
          ]
        },
        {
          "metadata": {
            "tags": null
          },
          "name": "stdout",
          "output_type": "stream",
          "text": [
            "\n",
            "input_text :  ['김치전', '두부전', '감자채전'] 식육(숯불구이) 먹새통\n",
            "output_result :  고기/구이\n"
          ]
        },
        {
          "metadata": {
            "tags": null
          },
          "name": "stderr",
          "output_type": "stream",
          "text": [
            "\r 76%|███████▋  | 650/852 [38:45<09:29,  2.82s/it]"
          ]
        },
        {
          "metadata": {
            "tags": null
          },
          "name": "stdout",
          "output_type": "stream",
          "text": [
            "\n",
            "input_text :  [] 기타 플랍라운지펍\n",
            "output_result :  회\n"
          ]
        },
        {
          "metadata": {
            "tags": null
          },
          "name": "stderr",
          "output_type": "stream",
          "text": [
            "\r 76%|███████▋  | 651/852 [38:49<10:24,  3.11s/it]"
          ]
        },
        {
          "metadata": {
            "tags": null
          },
          "name": "stdout",
          "output_type": "stream",
          "text": [
            "\n",
            "input_text :  ['에스프레소', '아메리카노', '카페라떼'] 기타 화양연화커피\n",
            "output_result :  찜/탕/찌개\n"
          ]
        },
        {
          "metadata": {
            "tags": null
          },
          "name": "stderr",
          "output_type": "stream",
          "text": [
            "\r 77%|███████▋  | 652/852 [38:52<10:48,  3.24s/it]"
          ]
        },
        {
          "metadata": {
            "tags": null
          },
          "name": "stdout",
          "output_type": "stream",
          "text": [
            "\n",
            "input_text :  ['순대국밥', '매운순대국', '순댓국'] 기타 최고집순대국왕감자탕\n",
            "output_result :  찜/탕/찌개\n"
          ]
        },
        {
          "metadata": {
            "tags": null
          },
          "name": "stderr",
          "output_type": "stream",
          "text": [
            "\r 77%|███████▋  | 653/852 [38:56<11:26,  3.45s/it]"
          ]
        },
        {
          "metadata": {
            "tags": null
          },
          "name": "stdout",
          "output_type": "stream",
          "text": [
            "\n",
            "input_text :  ['참치 실장스페셜(1인)', '참치 진 스페셜(1인)', '참치 선 스페셜(1인)'] 기타 수참치\n",
            "output_result :  백반\n"
          ]
        },
        {
          "metadata": {
            "tags": null
          },
          "name": "stderr",
          "output_type": "stream",
          "text": [
            "\r 77%|███████▋  | 654/852 [38:59<10:59,  3.33s/it]"
          ]
        },
        {
          "metadata": {
            "tags": null
          },
          "name": "stdout",
          "output_type": "stream",
          "text": [
            "\n",
            "input_text :  [] 기타 굽찌\n",
            "output_result :  회\n"
          ]
        },
        {
          "metadata": {
            "tags": null
          },
          "name": "stderr",
          "output_type": "stream",
          "text": [
            "\r 77%|███████▋  | 655/852 [39:02<10:11,  3.10s/it]"
          ]
        },
        {
          "metadata": {
            "tags": null
          },
          "name": "stdout",
          "output_type": "stream",
          "text": [
            "\n",
            "input_text :  [] 기타 행복한마라탕\n",
            "output_result :  회\n"
          ]
        },
        {
          "metadata": {
            "tags": null
          },
          "name": "stderr",
          "output_type": "stream",
          "text": [
            "\r 77%|███████▋  | 656/852 [39:04<09:26,  2.89s/it]"
          ]
        },
        {
          "metadata": {
            "tags": null
          },
          "name": "stdout",
          "output_type": "stream",
          "text": [
            "\n",
            "input_text :  [] 경양식 치즈랑피자\n",
            "output_result :  양식\n"
          ]
        },
        {
          "metadata": {
            "tags": null
          },
          "name": "stderr",
          "output_type": "stream",
          "text": [
            "\r 77%|███████▋  | 657/852 [39:08<10:01,  3.09s/it]"
          ]
        },
        {
          "metadata": {
            "tags": null
          },
          "name": "stdout",
          "output_type": "stream",
          "text": [
            "\n",
            "input_text :  ['솔티캐러멜크림라떼', '카페라떼', '아인슈페너'] 기타 카페너니\n",
            "output_result :  찜/탕/찌개\n"
          ]
        },
        {
          "metadata": {
            "tags": null
          },
          "name": "stderr",
          "output_type": "stream",
          "text": [
            "\r 77%|███████▋  | 658/852 [39:15<13:53,  4.30s/it]"
          ]
        },
        {
          "metadata": {
            "tags": null
          },
          "name": "stdout",
          "output_type": "stream",
          "text": [
            "\n",
            "input_text :  ['소갈비살스페셜(780g)(2~4인)', '(소)본갈비스페셜(7840g)(2~4인)', '눈꽃세트(760g)(2~3인)'] 기타 낙원갈비집춘천점\n",
            "output_result :  고기/구이\n"
          ]
        },
        {
          "metadata": {
            "tags": null
          },
          "name": "stderr",
          "output_type": "stream",
          "text": [
            "\r 77%|███████▋  | 659/852 [39:17<11:58,  3.72s/it]"
          ]
        },
        {
          "metadata": {
            "tags": null
          },
          "name": "stdout",
          "output_type": "stream",
          "text": [
            "\n",
            "input_text :  [] 경양식 시키묵자\n",
            "output_result :  분식\n"
          ]
        },
        {
          "metadata": {
            "tags": null
          },
          "name": "stderr",
          "output_type": "stream",
          "text": [
            "\r 77%|███████▋  | 660/852 [39:20<11:28,  3.58s/it]"
          ]
        },
        {
          "metadata": {
            "tags": null
          },
          "name": "stdout",
          "output_type": "stream",
          "text": [
            "\n",
            "input_text :  ['참돔회', '대방어회', '도다리세꼬시인'] 일식 회사랑\n",
            "output_result :  일식\n"
          ]
        },
        {
          "metadata": {
            "tags": null
          },
          "name": "stderr",
          "output_type": "stream",
          "text": [
            "\r 78%|███████▊  | 661/852 [39:23<10:20,  3.25s/it]"
          ]
        },
        {
          "metadata": {
            "tags": null
          },
          "name": "stdout",
          "output_type": "stream",
          "text": [
            "\n",
            "input_text :  [] 호프/통닭 술짠\n",
            "output_result :  치킨\n"
          ]
        },
        {
          "metadata": {
            "tags": null
          },
          "name": "stderr",
          "output_type": "stream",
          "text": [
            "\r 78%|███████▊  | 662/852 [39:26<10:25,  3.29s/it]"
          ]
        },
        {
          "metadata": {
            "tags": null
          },
          "name": "stdout",
          "output_type": "stream",
          "text": [
            "\n",
            "input_text :  [] 감성주점 펍큐(PUB Q)\n",
            "output_result :  양식\n"
          ]
        },
        {
          "metadata": {
            "tags": null
          },
          "name": "stderr",
          "output_type": "stream",
          "text": [
            "\r 78%|███████▊  | 663/852 [39:29<09:40,  3.07s/it]"
          ]
        },
        {
          "metadata": {
            "tags": null
          },
          "name": "stdout",
          "output_type": "stream",
          "text": [
            "\n",
            "input_text :  [] 정종/대포집/소주방 청춘포차\n",
            "output_result :  양식\n"
          ]
        },
        {
          "metadata": {
            "tags": null
          },
          "name": "stderr",
          "output_type": "stream",
          "text": [
            "\r 78%|███████▊  | 664/852 [39:31<08:58,  2.86s/it]"
          ]
        },
        {
          "metadata": {
            "tags": null
          },
          "name": "stdout",
          "output_type": "stream",
          "text": [
            "\n",
            "input_text :  [] 한식 동내 낙곱새\n",
            "output_result :  분식\n"
          ]
        },
        {
          "metadata": {
            "tags": null
          },
          "name": "stderr",
          "output_type": "stream",
          "text": [
            "\r 78%|███████▊  | 665/852 [39:34<08:39,  2.78s/it]"
          ]
        },
        {
          "metadata": {
            "tags": null
          },
          "name": "stdout",
          "output_type": "stream",
          "text": [
            "\n",
            "input_text :  [] 기타 챙길밥 치교치킨앤치킨\n",
            "output_result :  양식\n"
          ]
        },
        {
          "metadata": {
            "tags": null
          },
          "name": "stderr",
          "output_type": "stream",
          "text": [
            "\r 78%|███████▊  | 666/852 [39:36<08:32,  2.75s/it]"
          ]
        },
        {
          "metadata": {
            "tags": null
          },
          "name": "stdout",
          "output_type": "stream",
          "text": [
            "\n",
            "input_text :  [] 한식 엄마집밥\n",
            "output_result :  국밥\n"
          ]
        },
        {
          "metadata": {
            "tags": null
          },
          "name": "stderr",
          "output_type": "stream",
          "text": [
            "\r 78%|███████▊  | 667/852 [39:40<09:12,  2.99s/it]"
          ]
        },
        {
          "metadata": {
            "tags": null
          },
          "name": "stdout",
          "output_type": "stream",
          "text": [
            "\n",
            "input_text :  [] 정종/대포집/소주방 질풍노도포차강원대점\n",
            "output_result :  양식\n"
          ]
        },
        {
          "metadata": {
            "tags": null
          },
          "name": "stderr",
          "output_type": "stream",
          "text": [
            "\r 78%|███████▊  | 668/852 [39:43<09:14,  3.01s/it]"
          ]
        },
        {
          "metadata": {
            "tags": null
          },
          "name": "stdout",
          "output_type": "stream",
          "text": [
            "\n",
            "input_text :  ['마들렌', '치즈무스케이크', '스콘'] 기타 레드브릭\n",
            "output_result :  양식\n"
          ]
        },
        {
          "metadata": {
            "tags": null
          },
          "name": "stderr",
          "output_type": "stream",
          "text": [
            "\r 79%|███████▊  | 669/852 [39:46<08:51,  2.91s/it]"
          ]
        },
        {
          "metadata": {
            "tags": null
          },
          "name": "stdout",
          "output_type": "stream",
          "text": [
            "\n",
            "input_text :  [] 탕류(보신용) 진리국밥 춘천점\n",
            "output_result :  중식\n"
          ]
        },
        {
          "metadata": {
            "tags": null
          },
          "name": "stderr",
          "output_type": "stream",
          "text": [
            "\r 79%|███████▊  | 670/852 [39:50<09:58,  3.29s/it]"
          ]
        },
        {
          "metadata": {
            "tags": null
          },
          "name": "stdout",
          "output_type": "stream",
          "text": [
            "\n",
            "input_text :  ['나만의 레시피', '와이키키 브라운 포케', '오리지널 하와이 포케'] 기타 보울레시피 춘천점\n",
            "output_result :  양식\n"
          ]
        },
        {
          "metadata": {
            "tags": null
          },
          "name": "stderr",
          "output_type": "stream",
          "text": [
            "\r 79%|███████▉  | 671/852 [39:54<10:49,  3.59s/it]"
          ]
        },
        {
          "metadata": {
            "tags": null
          },
          "name": "stdout",
          "output_type": "stream",
          "text": [
            "\n",
            "input_text :  ['BBQ 양념치킨', '황올 반+BBQ양념 반', '바삭갈릭'] 호프/통닭 비비큐춘천효자점\n",
            "output_result :  고기/구이\n"
          ]
        },
        {
          "metadata": {
            "tags": null
          },
          "name": "stderr",
          "output_type": "stream",
          "text": [
            "\r 79%|███████▉  | 672/852 [39:57<09:51,  3.28s/it]"
          ]
        },
        {
          "metadata": {
            "tags": null
          },
          "name": "stdout",
          "output_type": "stream",
          "text": [
            "\n",
            "input_text :  [] 분식 영칼로리키친춘천점\n",
            "output_result :  양식\n"
          ]
        },
        {
          "metadata": {
            "tags": null
          },
          "name": "stderr",
          "output_type": "stream",
          "text": [
            "\r 79%|███████▉  | 673/852 [40:00<10:06,  3.39s/it]"
          ]
        },
        {
          "metadata": {
            "tags": null
          },
          "name": "stdout",
          "output_type": "stream",
          "text": [
            "\n",
            "input_text :  ['쓰촨 마라붐', '청담동 트러플치킨', '의성 양념치킨'] 경양식 파스타입니다춘천강대점\n",
            "output_result :  양식\n"
          ]
        },
        {
          "metadata": {
            "tags": null
          },
          "name": "stderr",
          "output_type": "stream",
          "text": [
            "\r 79%|███████▉  | 674/852 [40:06<11:47,  3.97s/it]"
          ]
        },
        {
          "metadata": {
            "tags": null
          },
          "name": "stdout",
          "output_type": "stream",
          "text": [
            "\n",
            "input_text :  ['의좋은 4형제 피자(L)', '폴소유 피자(L)', '갈릭쉬림프피자(L)'] 기타 피자플래넷\n",
            "output_result :  피자\n"
          ]
        },
        {
          "metadata": {
            "tags": null
          },
          "name": "stderr",
          "output_type": "stream",
          "text": [
            "\r 79%|███████▉  | 675/852 [40:08<10:27,  3.55s/it]"
          ]
        },
        {
          "metadata": {
            "tags": null
          },
          "name": "stdout",
          "output_type": "stream",
          "text": [
            "\n",
            "input_text :  [] 정종/대포집/소주방 바람\n",
            "output_result :  회\n"
          ]
        },
        {
          "metadata": {
            "tags": null
          },
          "name": "stderr",
          "output_type": "stream",
          "text": [
            "\r 79%|███████▉  | 676/852 [40:11<09:18,  3.17s/it]"
          ]
        },
        {
          "metadata": {
            "tags": null
          },
          "name": "stdout",
          "output_type": "stream",
          "text": [
            "\n",
            "input_text :  [] 기타 카페자작\n",
            "output_result :  양식\n"
          ]
        },
        {
          "metadata": {
            "tags": null
          },
          "name": "stderr",
          "output_type": "stream",
          "text": [
            "\r 79%|███████▉  | 677/852 [40:13<08:46,  3.01s/it]"
          ]
        },
        {
          "metadata": {
            "tags": null
          },
          "name": "stdout",
          "output_type": "stream",
          "text": [
            "\n",
            "input_text :  [] 기타 태리로제춘천강원대점\n",
            "output_result :  중식\n"
          ]
        },
        {
          "metadata": {
            "tags": null
          },
          "name": "stderr",
          "output_type": "stream",
          "text": [
            "\r 80%|███████▉  | 678/852 [40:17<09:00,  3.11s/it]"
          ]
        },
        {
          "metadata": {
            "tags": null
          },
          "name": "stdout",
          "output_type": "stream",
          "text": [
            "\n",
            "input_text :  [] 기타 꺄호(carreau)\n",
            "output_result :  회\n"
          ]
        },
        {
          "metadata": {
            "tags": null
          },
          "name": "stderr",
          "output_type": "stream",
          "text": [
            "\r 80%|███████▉  | 679/852 [40:21<09:45,  3.39s/it]"
          ]
        },
        {
          "metadata": {
            "tags": null
          },
          "name": "stdout",
          "output_type": "stream",
          "text": [
            "\n",
            "input_text :  ['무탁고기 한판 (900g)', '무탁고기 반판 (600g)', '한우 차돌박이 (150g)'] 한식 돈우정\n",
            "output_result :  고기/구이\n"
          ]
        },
        {
          "metadata": {
            "tags": null
          },
          "name": "stderr",
          "output_type": "stream",
          "text": [
            "\r 80%|███████▉  | 680/852 [40:23<08:52,  3.10s/it]"
          ]
        },
        {
          "metadata": {
            "tags": null
          },
          "name": "stdout",
          "output_type": "stream",
          "text": [
            "\n",
            "input_text :  [] 한식 바로덮밥바로파스타\n",
            "output_result :  분식\n"
          ]
        },
        {
          "metadata": {
            "tags": null
          },
          "name": "stderr",
          "output_type": "stream",
          "text": [
            "\r 80%|███████▉  | 681/852 [40:26<08:28,  2.98s/it]"
          ]
        },
        {
          "metadata": {
            "tags": null
          },
          "name": "stdout",
          "output_type": "stream",
          "text": [
            "\n",
            "input_text :  [] 호프/통닭 광판팔뚝김밥교대점\n",
            "output_result :  고기/구이\n"
          ]
        },
        {
          "metadata": {
            "tags": null
          },
          "name": "stderr",
          "output_type": "stream",
          "text": [
            "\r 80%|████████  | 682/852 [40:29<08:43,  3.08s/it]"
          ]
        },
        {
          "metadata": {
            "tags": null
          },
          "name": "stdout",
          "output_type": "stream",
          "text": [
            "\n",
            "input_text :  [] 감성주점 킹(King)\n",
            "output_result :  양식\n"
          ]
        },
        {
          "metadata": {
            "tags": null
          },
          "name": "stderr",
          "output_type": "stream",
          "text": [
            "\r 80%|████████  | 683/852 [40:33<09:12,  3.27s/it]"
          ]
        },
        {
          "metadata": {
            "tags": null
          },
          "name": "stdout",
          "output_type": "stream",
          "text": [
            "\n",
            "input_text :  ['점심 하루정식B코스', '저녁 하루정식A코스', '점심 하루정식A코스'] 일식 하루일식\n",
            "output_result :  일식\n"
          ]
        },
        {
          "metadata": {
            "tags": null
          },
          "name": "stderr",
          "output_type": "stream",
          "text": [
            "\r 80%|████████  | 684/852 [40:35<08:35,  3.07s/it]"
          ]
        },
        {
          "metadata": {
            "tags": null
          },
          "name": "stdout",
          "output_type": "stream",
          "text": [
            "\n",
            "input_text :  [] 분식 샌드리아춘천애막골점\n",
            "output_result :  양식\n"
          ]
        },
        {
          "metadata": {
            "tags": null
          },
          "name": "stderr",
          "output_type": "stream",
          "text": [
            "\r 80%|████████  | 685/852 [40:38<08:30,  3.06s/it]"
          ]
        },
        {
          "metadata": {
            "tags": null
          },
          "name": "stdout",
          "output_type": "stream",
          "text": [
            "\n",
            "input_text :  ['짜장면', '짬뽕', '해물짜장'] 중국식 초마미엔\n",
            "output_result :  중식\n"
          ]
        },
        {
          "metadata": {
            "tags": null
          },
          "name": "stderr",
          "output_type": "stream",
          "text": [
            "\r 81%|████████  | 686/852 [40:41<08:27,  3.06s/it]"
          ]
        },
        {
          "metadata": {
            "tags": null
          },
          "name": "stdout",
          "output_type": "stream",
          "text": [
            "\n",
            "input_text :  [] 경양식 르포렘\n",
            "output_result :  양식\n"
          ]
        },
        {
          "metadata": {
            "tags": null
          },
          "name": "stderr",
          "output_type": "stream",
          "text": [
            "\r 81%|████████  | 687/852 [40:44<08:03,  2.93s/it]"
          ]
        },
        {
          "metadata": {
            "tags": null
          },
          "name": "stdout",
          "output_type": "stream",
          "text": [
            "\n",
            "input_text :  [] 호프/통닭 짝꿍\n",
            "output_result :  치킨\n"
          ]
        },
        {
          "metadata": {
            "tags": null
          },
          "name": "stderr",
          "output_type": "stream",
          "text": [
            "\r 81%|████████  | 688/852 [40:46<07:26,  2.72s/it]"
          ]
        },
        {
          "metadata": {
            "tags": null
          },
          "name": "stdout",
          "output_type": "stream",
          "text": [
            "\n",
            "input_text :  [] 기타 그리드\n",
            "output_result :  양식\n"
          ]
        },
        {
          "metadata": {
            "tags": null
          },
          "name": "stderr",
          "output_type": "stream",
          "text": [
            "\r 81%|████████  | 689/852 [40:50<07:48,  2.88s/it]"
          ]
        },
        {
          "metadata": {
            "tags": null
          },
          "name": "stdout",
          "output_type": "stream",
          "text": [
            "\n",
            "input_text :  ['분짜', '껌승', '소고기 쌀국수'] 기타 굿손춘천엔타점\n",
            "output_result :  국수\n"
          ]
        },
        {
          "metadata": {
            "tags": null
          },
          "name": "stderr",
          "output_type": "stream",
          "text": [
            "\r 81%|████████  | 690/852 [40:52<07:23,  2.74s/it]"
          ]
        },
        {
          "metadata": {
            "tags": null
          },
          "name": "stdout",
          "output_type": "stream",
          "text": [
            "\n",
            "input_text :  [] 기타 육회만드는사람들\n",
            "output_result :  회\n"
          ]
        },
        {
          "metadata": {
            "tags": null
          },
          "name": "stderr",
          "output_type": "stream",
          "text": [
            "\r 81%|████████  | 691/852 [40:56<08:38,  3.22s/it]"
          ]
        },
        {
          "metadata": {
            "tags": null
          },
          "name": "stdout",
          "output_type": "stream",
          "text": [
            "\n",
            "input_text :  ['아메리카노', '카페라떼', '바닐라라떼'] 기타 시즌즈(SEASONS)\n",
            "output_result :  회\n"
          ]
        },
        {
          "metadata": {
            "tags": null
          },
          "name": "stderr",
          "output_type": "stream",
          "text": [
            "\r 81%|████████  | 692/852 [41:00<09:09,  3.43s/it]"
          ]
        },
        {
          "metadata": {
            "tags": null
          },
          "name": "stdout",
          "output_type": "stream",
          "text": [
            "\n",
            "input_text :  ['숯불양념구이', '숯불소금구이', '숯불매화양념구이'] 기타 동근이숯불두마리치킨춘천점\n",
            "output_result :  고기/구이\n"
          ]
        },
        {
          "metadata": {
            "tags": null
          },
          "name": "stderr",
          "output_type": "stream",
          "text": [
            "\r 81%|████████▏ | 693/852 [41:03<08:56,  3.37s/it]"
          ]
        },
        {
          "metadata": {
            "tags": null
          },
          "name": "stdout",
          "output_type": "stream",
          "text": [
            "\n",
            "input_text :  ['꿩 만두국', '칼제비', '동치미막국수'] 한식 바람골막국수\n",
            "output_result :  국수\n"
          ]
        },
        {
          "metadata": {
            "tags": null
          },
          "name": "stderr",
          "output_type": "stream",
          "text": [
            "\r 81%|████████▏ | 694/852 [41:07<08:45,  3.33s/it]"
          ]
        },
        {
          "metadata": {
            "tags": null
          },
          "name": "stdout",
          "output_type": "stream",
          "text": [
            "\n",
            "input_text :  [] 식육(숯불구이) 옹해야숯불닭발\n",
            "output_result :  고기/구이\n"
          ]
        },
        {
          "metadata": {
            "tags": null
          },
          "name": "stderr",
          "output_type": "stream",
          "text": [
            "\r 82%|████████▏ | 695/852 [41:11<09:14,  3.53s/it]"
          ]
        },
        {
          "metadata": {
            "tags": null
          },
          "name": "stdout",
          "output_type": "stream",
          "text": [
            "\n",
            "input_text :  ['군만두', '떡볶이', '매운떡볶이'] 정종/대포집/소주방 잇빠이대박이네\n",
            "output_result :  양식\n"
          ]
        },
        {
          "metadata": {
            "tags": null
          },
          "name": "stderr",
          "output_type": "stream",
          "text": [
            "\r 82%|████████▏ | 696/852 [41:13<08:22,  3.22s/it]"
          ]
        },
        {
          "metadata": {
            "tags": null
          },
          "name": "stdout",
          "output_type": "stream",
          "text": [
            "\n",
            "input_text :  [] 분식 미소야춘천석사점\n",
            "output_result :  양식\n"
          ]
        },
        {
          "metadata": {
            "tags": null
          },
          "name": "stderr",
          "output_type": "stream",
          "text": [
            "\r 82%|████████▏ | 697/852 [41:16<07:49,  3.03s/it]"
          ]
        },
        {
          "metadata": {
            "tags": null
          },
          "name": "stdout",
          "output_type": "stream",
          "text": [
            "\n",
            "input_text :  [] 정종/대포집/소주방 비온데이\n",
            "output_result :  회\n"
          ]
        },
        {
          "metadata": {
            "tags": null
          },
          "name": "stderr",
          "output_type": "stream",
          "text": [
            "\r 82%|████████▏ | 698/852 [41:20<09:00,  3.51s/it]"
          ]
        },
        {
          "metadata": {
            "tags": null
          },
          "name": "stdout",
          "output_type": "stream",
          "text": [
            "\n",
            "input_text :  ['소금구이후라이드', '핫후라이드', '매콤순살강정'] 호프/통닭 쭈노치킨석사점\n",
            "output_result :  고기/구이\n"
          ]
        },
        {
          "metadata": {
            "tags": null
          },
          "name": "stderr",
          "output_type": "stream",
          "text": [
            "\r 82%|████████▏ | 699/852 [41:23<08:23,  3.29s/it]"
          ]
        },
        {
          "metadata": {
            "tags": null
          },
          "name": "stdout",
          "output_type": "stream",
          "text": [
            "\n",
            "input_text :  [] 정종/대포집/소주방 디올\n",
            "output_result :  양식\n"
          ]
        },
        {
          "metadata": {
            "tags": null
          },
          "name": "stderr",
          "output_type": "stream",
          "text": [
            "\r 82%|████████▏ | 700/852 [41:26<07:59,  3.15s/it]"
          ]
        },
        {
          "metadata": {
            "tags": null
          },
          "name": "stdout",
          "output_type": "stream",
          "text": [
            "\n",
            "input_text :  ['매화', '진달래', '개나리'] 분식 동백\n",
            "output_result :  분식\n"
          ]
        },
        {
          "metadata": {
            "tags": null
          },
          "name": "stderr",
          "output_type": "stream",
          "text": [
            "\r 82%|████████▏ | 701/852 [41:29<07:26,  2.96s/it]"
          ]
        },
        {
          "metadata": {
            "tags": null
          },
          "name": "stdout",
          "output_type": "stream",
          "text": [
            "\n",
            "input_text :  [] 식육(숯불구이) 금돈\n",
            "output_result :  고기/구이\n"
          ]
        },
        {
          "metadata": {
            "tags": null
          },
          "name": "stderr",
          "output_type": "stream",
          "text": [
            "\r 82%|████████▏ | 702/852 [41:33<08:11,  3.28s/it]"
          ]
        },
        {
          "metadata": {
            "tags": null
          },
          "name": "stdout",
          "output_type": "stream",
          "text": [
            "\n",
            "input_text :  ['땡초치킨', '후라이드치킨', '반반치킨'] 분식 멕시카나 효자점\n",
            "output_result :  양식\n"
          ]
        },
        {
          "metadata": {
            "tags": null
          },
          "name": "stderr",
          "output_type": "stream",
          "text": [
            "\r 83%|████████▎ | 703/852 [41:35<07:48,  3.15s/it]"
          ]
        },
        {
          "metadata": {
            "tags": null
          },
          "name": "stdout",
          "output_type": "stream",
          "text": [
            "\n",
            "input_text :  [] 한식 소래해물찜\n",
            "output_result :  찜/탕/찌개\n"
          ]
        },
        {
          "metadata": {
            "tags": null
          },
          "name": "stderr",
          "output_type": "stream",
          "text": [
            "\r 83%|████████▎ | 704/852 [41:39<07:46,  3.15s/it]"
          ]
        },
        {
          "metadata": {
            "tags": null
          },
          "name": "stdout",
          "output_type": "stream",
          "text": [
            "\n",
            "input_text :  ['돈까스', '생선까스', '함박스테이크'] 기타 라라랜드\n",
            "output_result :  돈까스\n"
          ]
        },
        {
          "metadata": {
            "tags": null
          },
          "name": "stderr",
          "output_type": "stream",
          "text": [
            "\r 83%|████████▎ | 705/852 [41:43<08:33,  3.49s/it]"
          ]
        },
        {
          "metadata": {
            "tags": null
          },
          "name": "stdout",
          "output_type": "stream",
          "text": [
            "\n",
            "input_text :  ['북한강 정식(1인)', '쭈꾸미볶음(1인분)', '쭈꾸미볶음(소)'] 정종/대포집/소주방 북한강쭈꾸미\n",
            "output_result :  양식\n"
          ]
        },
        {
          "metadata": {
            "tags": null
          },
          "name": "stderr",
          "output_type": "stream",
          "text": [
            "\r 83%|████████▎ | 706/852 [41:46<08:14,  3.38s/it]"
          ]
        },
        {
          "metadata": {
            "tags": null
          },
          "name": "stdout",
          "output_type": "stream",
          "text": [
            "\n",
            "input_text :  [] 김밥(도시락) 코끼리김밥\n",
            "output_result :  양식\n"
          ]
        },
        {
          "metadata": {
            "tags": null
          },
          "name": "stderr",
          "output_type": "stream",
          "text": [
            "\r 83%|████████▎ | 707/852 [41:49<08:16,  3.43s/it]"
          ]
        },
        {
          "metadata": {
            "tags": null
          },
          "name": "stdout",
          "output_type": "stream",
          "text": [
            "\n",
            "input_text :  ['김치전', '순두부찌개', '부대볶음'] 정종/대포집/소주방 달동네\n",
            "output_result :  양식\n"
          ]
        },
        {
          "metadata": {
            "tags": null
          },
          "name": "stderr",
          "output_type": "stream",
          "text": [
            "\r 83%|████████▎ | 708/852 [41:52<07:24,  3.09s/it]"
          ]
        },
        {
          "metadata": {
            "tags": null
          },
          "name": "stdout",
          "output_type": "stream",
          "text": [
            "\n",
            "input_text :  [] 횟집 포세이돈\n",
            "output_result :  양식\n"
          ]
        },
        {
          "metadata": {
            "tags": null
          },
          "name": "stderr",
          "output_type": "stream",
          "text": [
            "\r 83%|████████▎ | 709/852 [41:55<07:20,  3.08s/it]"
          ]
        },
        {
          "metadata": {
            "tags": null
          },
          "name": "stdout",
          "output_type": "stream",
          "text": [
            "\n",
            "input_text :  ['에스프레소', '아메리카노', '카푸치노'] 기타 카페레드빈\n",
            "output_result :  찜/탕/찌개\n"
          ]
        },
        {
          "metadata": {
            "tags": null
          },
          "name": "stderr",
          "output_type": "stream",
          "text": [
            "\r 83%|████████▎ | 710/852 [42:00<08:29,  3.59s/it]"
          ]
        },
        {
          "metadata": {
            "tags": null
          },
          "name": "stdout",
          "output_type": "stream",
          "text": [
            "\n",
            "input_text :  ['누룽지백숙 (토종닭)', '누룽지백숙 (오리)', '해물얼큰칼국수'] 한식 효자누룽지백숙\n",
            "output_result :  찜/탕/찌개\n"
          ]
        },
        {
          "metadata": {
            "tags": null
          },
          "name": "stderr",
          "output_type": "stream",
          "text": [
            "\r 83%|████████▎ | 711/852 [42:02<07:33,  3.22s/it]"
          ]
        },
        {
          "metadata": {
            "tags": null
          },
          "name": "stdout",
          "output_type": "stream",
          "text": [
            "\n",
            "input_text :  [] 경양식 데이시\n",
            "output_result :  분식\n"
          ]
        },
        {
          "metadata": {
            "tags": null
          },
          "name": "stderr",
          "output_type": "stream",
          "text": [
            "\r 84%|████████▎ | 712/852 [42:05<07:34,  3.24s/it]"
          ]
        },
        {
          "metadata": {
            "tags": null
          },
          "name": "stdout",
          "output_type": "stream",
          "text": [
            "\n",
            "input_text :  ['짜장', '잡채밥', '탕수육 (소)'] 탕류(보신용) 돌담집\n",
            "output_result :  찜/탕/찌개\n"
          ]
        },
        {
          "metadata": {
            "tags": null
          },
          "name": "stderr",
          "output_type": "stream",
          "text": [
            "\r 84%|████████▎ | 713/852 [42:09<07:45,  3.35s/it]"
          ]
        },
        {
          "metadata": {
            "tags": null
          },
          "name": "stdout",
          "output_type": "stream",
          "text": [
            "\n",
            "input_text :  ['매콤어묵김밥', '치즈김밥', '고기만두'] 식육(숯불구이) 호로롱김밥\n",
            "output_result :  고기/구이\n"
          ]
        },
        {
          "metadata": {
            "tags": null
          },
          "name": "stderr",
          "output_type": "stream",
          "text": [
            "\r 84%|████████▍ | 714/852 [42:14<08:43,  3.79s/it]"
          ]
        },
        {
          "metadata": {
            "tags": null
          },
          "name": "stdout",
          "output_type": "stream",
          "text": [
            "\n",
            "input_text :  ['닭한마리', '닭반마리', '닭볶음탕'] 정종/대포집/소주방 원이네닭발\n",
            "output_result :  찜/탕/찌개\n"
          ]
        },
        {
          "metadata": {
            "tags": null
          },
          "name": "stderr",
          "output_type": "stream",
          "text": [
            "\r 84%|████████▍ | 715/852 [42:16<07:39,  3.35s/it]"
          ]
        },
        {
          "metadata": {
            "tags": null
          },
          "name": "stdout",
          "output_type": "stream",
          "text": [
            "\n",
            "input_text :  [] 기타 명성푸드\n",
            "output_result :  양식\n"
          ]
        },
        {
          "metadata": {
            "tags": null
          },
          "name": "stderr",
          "output_type": "stream",
          "text": [
            "\r 84%|████████▍ | 716/852 [42:18<06:57,  3.07s/it]"
          ]
        },
        {
          "metadata": {
            "tags": null
          },
          "name": "stdout",
          "output_type": "stream",
          "text": [
            "\n",
            "input_text :  [] 라이브카페 은하수7080\n",
            "output_result :  회\n"
          ]
        },
        {
          "metadata": {
            "tags": null
          },
          "name": "stderr",
          "output_type": "stream",
          "text": [
            "\r 84%|████████▍ | 717/852 [42:23<08:14,  3.67s/it]"
          ]
        },
        {
          "metadata": {
            "tags": null
          },
          "name": "stdout",
          "output_type": "stream",
          "text": [
            "\n",
            "input_text :  ['아메리카노(향긋한산미)', '클래식 에그타르트', '아메리카노(다크초콜릿)'] 기타 나따오비까위드오므파탈\n",
            "output_result :  양식\n"
          ]
        },
        {
          "metadata": {
            "tags": null
          },
          "name": "stderr",
          "output_type": "stream",
          "text": [
            "\r 84%|████████▍ | 718/852 [42:26<07:36,  3.41s/it]"
          ]
        },
        {
          "metadata": {
            "tags": null
          },
          "name": "stdout",
          "output_type": "stream",
          "text": [
            "\n",
            "input_text :  [] 기타 큐스타앤펍\n",
            "output_result :  회\n"
          ]
        },
        {
          "metadata": {
            "tags": null
          },
          "name": "stderr",
          "output_type": "stream",
          "text": [
            "\r 84%|████████▍ | 719/852 [42:29<06:54,  3.12s/it]"
          ]
        },
        {
          "metadata": {
            "tags": null
          },
          "name": "stdout",
          "output_type": "stream",
          "text": [
            "\n",
            "input_text :  [] 한식 산천어춘천닭갈비\n",
            "output_result :  고기/구이\n"
          ]
        },
        {
          "metadata": {
            "tags": null
          },
          "name": "stderr",
          "output_type": "stream",
          "text": [
            "\r 85%|████████▍ | 720/852 [42:31<06:17,  2.86s/it]"
          ]
        },
        {
          "metadata": {
            "tags": null
          },
          "name": "stdout",
          "output_type": "stream",
          "text": [
            "\n",
            "input_text :  [] 기타 온반\n",
            "output_result :  회\n"
          ]
        },
        {
          "metadata": {
            "tags": null
          },
          "name": "stderr",
          "output_type": "stream",
          "text": [
            "\r 85%|████████▍ | 721/852 [42:34<06:18,  2.89s/it]"
          ]
        },
        {
          "metadata": {
            "tags": null
          },
          "name": "stdout",
          "output_type": "stream",
          "text": [
            "\n",
            "input_text :  ['광어', '참치', '주도로'] 횟집 광어야참치마\n",
            "output_result :  회\n"
          ]
        },
        {
          "metadata": {
            "tags": null
          },
          "name": "stderr",
          "output_type": "stream",
          "text": [
            "\r 85%|████████▍ | 722/852 [42:37<06:15,  2.89s/it]"
          ]
        },
        {
          "metadata": {
            "tags": null
          },
          "name": "stdout",
          "output_type": "stream",
          "text": [
            "\n",
            "input_text :  [] 기타 닭쳐\n",
            "output_result :  치킨\n"
          ]
        },
        {
          "metadata": {
            "tags": null
          },
          "name": "stderr",
          "output_type": "stream",
          "text": [
            "\r 85%|████████▍ | 723/852 [42:44<08:58,  4.17s/it]"
          ]
        },
        {
          "metadata": {
            "tags": null
          },
          "name": "stdout",
          "output_type": "stream",
          "text": [
            "\n",
            "input_text :  ['구운새우초밥 단품(4p)', '콤비네이션롤(9p)', '구운연어(4p) / 연어양파(4p)초밥 단품'] 기타 호주에서온스시\n",
            "output_result :  일식\n"
          ]
        },
        {
          "metadata": {
            "tags": null
          },
          "name": "stderr",
          "output_type": "stream",
          "text": [
            "\r 85%|████████▍ | 724/852 [42:47<07:58,  3.74s/it]"
          ]
        },
        {
          "metadata": {
            "tags": null
          },
          "name": "stdout",
          "output_type": "stream",
          "text": [
            "\n",
            "input_text :  [] 기타 홍게대게직판장\n",
            "output_result :  고기/구이\n"
          ]
        },
        {
          "metadata": {
            "tags": null
          },
          "name": "stderr",
          "output_type": "stream",
          "text": [
            "\r 85%|████████▌ | 725/852 [42:51<08:25,  3.98s/it]"
          ]
        },
        {
          "metadata": {
            "tags": null
          },
          "name": "stdout",
          "output_type": "stream",
          "text": [
            "\n",
            "input_text :  ['아메리카노', '시그니처 카페라떼', '카푸치노'] 기타 카페 포 너드\n",
            "output_result :  찜/탕/찌개\n"
          ]
        },
        {
          "metadata": {
            "tags": null
          },
          "name": "stderr",
          "output_type": "stream",
          "text": [
            "\r 85%|████████▌ | 726/852 [42:55<08:18,  3.95s/it]"
          ]
        },
        {
          "metadata": {
            "tags": null
          },
          "name": "stdout",
          "output_type": "stream",
          "text": [
            "\n",
            "input_text :  ['윙.봉 후라이드(1kg)', '국물닭발 세트', '직화닭발 세트'] 호프/통닭 치킨엔\n",
            "output_result :  치킨\n"
          ]
        },
        {
          "metadata": {
            "tags": null
          },
          "name": "stderr",
          "output_type": "stream",
          "text": [
            "\r 85%|████████▌ | 727/852 [42:58<07:18,  3.51s/it]"
          ]
        },
        {
          "metadata": {
            "tags": null
          },
          "name": "stdout",
          "output_type": "stream",
          "text": [
            "\n",
            "input_text :  [] 기타 점프JUMP\n",
            "output_result :  회\n"
          ]
        },
        {
          "metadata": {
            "tags": null
          },
          "name": "stderr",
          "output_type": "stream",
          "text": [
            "\r 85%|████████▌ | 728/852 [43:00<06:37,  3.20s/it]"
          ]
        },
        {
          "metadata": {
            "tags": null
          },
          "name": "stdout",
          "output_type": "stream",
          "text": [
            "\n",
            "input_text :  [] 기타 하이홀덤 퇴계점\n",
            "output_result :  회\n"
          ]
        },
        {
          "metadata": {
            "tags": null
          },
          "name": "stderr",
          "output_type": "stream",
          "text": [
            "\r 86%|████████▌ | 729/852 [43:03<06:31,  3.18s/it]"
          ]
        },
        {
          "metadata": {
            "tags": null
          },
          "name": "stdout",
          "output_type": "stream",
          "text": [
            "\n",
            "input_text :  [] 기타 카페올리브\n",
            "output_result :  양식\n"
          ]
        },
        {
          "metadata": {
            "tags": null
          },
          "name": "stderr",
          "output_type": "stream",
          "text": [
            "\r 86%|████████▌ | 730/852 [43:07<06:59,  3.44s/it]"
          ]
        },
        {
          "metadata": {
            "tags": null
          },
          "name": "stdout",
          "output_type": "stream",
          "text": [
            "\n",
            "input_text :  ['후라이드치킨', '양념치킨', '간장치킨'] 호프/통닭 후라이드참잘하는집\n",
            "output_result :  치킨\n"
          ]
        },
        {
          "metadata": {
            "tags": null
          },
          "name": "stderr",
          "output_type": "stream",
          "text": [
            "\r 86%|████████▌ | 731/852 [43:11<06:51,  3.40s/it]"
          ]
        },
        {
          "metadata": {
            "tags": null
          },
          "name": "stdout",
          "output_type": "stream",
          "text": [
            "\n",
            "input_text :  ['치킨 케밥', '믹스 케밥', '점보 케밥 치킨'] 기타 케밥하우스\n",
            "output_result :  치킨\n"
          ]
        },
        {
          "metadata": {
            "tags": null
          },
          "name": "stderr",
          "output_type": "stream",
          "text": [
            "\r 86%|████████▌ | 732/852 [43:13<06:09,  3.08s/it]"
          ]
        },
        {
          "metadata": {
            "tags": null
          },
          "name": "stdout",
          "output_type": "stream",
          "text": [
            "\n",
            "input_text :  [] 분식 경성푸드빌\n",
            "output_result :  양식\n"
          ]
        },
        {
          "metadata": {
            "tags": null
          },
          "name": "stderr",
          "output_type": "stream",
          "text": [
            "\r 86%|████████▌ | 733/852 [43:18<07:02,  3.55s/it]"
          ]
        },
        {
          "metadata": {
            "tags": null
          },
          "name": "stdout",
          "output_type": "stream",
          "text": [
            "\n",
            "input_text :  ['1인 삼겹/목살', 'LA소갈비', '양념소갈비살'] 기타 육칠이 춘천점\n",
            "output_result :  고기/구이\n"
          ]
        },
        {
          "metadata": {
            "tags": null
          },
          "name": "stderr",
          "output_type": "stream",
          "text": [
            "\r 86%|████████▌ | 734/852 [43:20<06:17,  3.20s/it]"
          ]
        },
        {
          "metadata": {
            "tags": null
          },
          "name": "stdout",
          "output_type": "stream",
          "text": [
            "\n",
            "input_text :  [] 한식 배달연구소\n",
            "output_result :  백반\n"
          ]
        },
        {
          "metadata": {
            "tags": null
          },
          "name": "stderr",
          "output_type": "stream",
          "text": [
            "\r 86%|████████▋ | 735/852 [43:23<06:17,  3.23s/it]"
          ]
        },
        {
          "metadata": {
            "tags": null
          },
          "name": "stdout",
          "output_type": "stream",
          "text": [
            "\n",
            "input_text :  ['제육볶음', '오징어볶음', '제육오징어볶음'] 한식 먹보정식\n",
            "output_result :  고기/구이\n"
          ]
        },
        {
          "metadata": {
            "tags": null
          },
          "name": "stderr",
          "output_type": "stream",
          "text": [
            "\r 86%|████████▋ | 736/852 [43:26<05:44,  2.97s/it]"
          ]
        },
        {
          "metadata": {
            "tags": null
          },
          "name": "stdout",
          "output_type": "stream",
          "text": [
            "\n",
            "input_text :  [] 기타 포차전집\n",
            "output_result :  고기/구이\n"
          ]
        },
        {
          "metadata": {
            "tags": null
          },
          "name": "stderr",
          "output_type": "stream",
          "text": [
            "\r 87%|████████▋ | 737/852 [43:28<05:35,  2.92s/it]"
          ]
        },
        {
          "metadata": {
            "tags": null
          },
          "name": "stdout",
          "output_type": "stream",
          "text": [
            "\n",
            "input_text :  [] 한식 생각나는밥집\n",
            "output_result :  국밥\n"
          ]
        },
        {
          "metadata": {
            "tags": null
          },
          "name": "stderr",
          "output_type": "stream",
          "text": [
            "\r 87%|████████▋ | 738/852 [43:32<06:09,  3.24s/it]"
          ]
        },
        {
          "metadata": {
            "tags": null
          },
          "name": "stdout",
          "output_type": "stream",
          "text": [
            "\n",
            "input_text :  ['아메리카노', '청포도 케일 주스', 'BELT 샌드위치'] 기타 아짙오공일\n",
            "output_result :  분식\n"
          ]
        },
        {
          "metadata": {
            "tags": null
          },
          "name": "stderr",
          "output_type": "stream",
          "text": [
            "\r 87%|████████▋ | 739/852 [43:35<05:56,  3.16s/it]"
          ]
        },
        {
          "metadata": {
            "tags": null
          },
          "name": "stdout",
          "output_type": "stream",
          "text": [
            "\n",
            "input_text :  ['순두부찌개', '부추전', '배추전'] 기타 백령\n",
            "output_result :  백반\n"
          ]
        },
        {
          "metadata": {
            "tags": null
          },
          "name": "stderr",
          "output_type": "stream",
          "text": [
            "\r 87%|████████▋ | 740/852 [43:38<05:27,  2.92s/it]"
          ]
        },
        {
          "metadata": {
            "tags": null
          },
          "name": "stdout",
          "output_type": "stream",
          "text": [
            "\n",
            "input_text :  [] 한식 영진푸드\n",
            "output_result :  양식\n"
          ]
        },
        {
          "metadata": {
            "tags": null
          },
          "name": "stderr",
          "output_type": "stream",
          "text": [
            "\r 87%|████████▋ | 741/852 [43:43<06:37,  3.58s/it]"
          ]
        },
        {
          "metadata": {
            "tags": null
          },
          "name": "stdout",
          "output_type": "stream",
          "text": [
            "\n",
            "input_text :  ['스프링샐러드', '수제리코타치즈샐러드', '허니치킨샐러드'] 경양식 플랩잭팬트리헤이춘천점\n",
            "output_result :  양식\n"
          ]
        },
        {
          "metadata": {
            "tags": null
          },
          "name": "stderr",
          "output_type": "stream",
          "text": [
            "\r 87%|████████▋ | 742/852 [43:45<05:58,  3.25s/it]"
          ]
        },
        {
          "metadata": {
            "tags": null
          },
          "name": "stdout",
          "output_type": "stream",
          "text": [
            "\n",
            "input_text :  [] 기타 맹이네요리연구소\n",
            "output_result :  일식\n"
          ]
        },
        {
          "metadata": {
            "tags": null
          },
          "name": "stderr",
          "output_type": "stream",
          "text": [
            "\r 87%|████████▋ | 743/852 [43:48<05:21,  2.95s/it]"
          ]
        },
        {
          "metadata": {
            "tags": null
          },
          "name": "stdout",
          "output_type": "stream",
          "text": [
            "\n",
            "input_text :  [] 기타 쩝쩝박사\n",
            "output_result :  회\n"
          ]
        },
        {
          "metadata": {
            "tags": null
          },
          "name": "stderr",
          "output_type": "stream",
          "text": [
            "\r 87%|████████▋ | 744/852 [43:50<04:56,  2.74s/it]"
          ]
        },
        {
          "metadata": {
            "tags": null
          },
          "name": "stdout",
          "output_type": "stream",
          "text": [
            "\n",
            "input_text :  [] 기타 알라딘\n",
            "output_result :  회\n"
          ]
        },
        {
          "metadata": {
            "tags": null
          },
          "name": "stderr",
          "output_type": "stream",
          "text": [
            "\r 87%|████████▋ | 745/852 [43:52<04:39,  2.61s/it]"
          ]
        },
        {
          "metadata": {
            "tags": null
          },
          "name": "stdout",
          "output_type": "stream",
          "text": [
            "\n",
            "input_text :  [] 기타 바른주방\n",
            "output_result :  양식\n"
          ]
        },
        {
          "metadata": {
            "tags": null
          },
          "name": "stderr",
          "output_type": "stream",
          "text": [
            "\r 88%|████████▊ | 746/852 [43:55<04:54,  2.78s/it]"
          ]
        },
        {
          "metadata": {
            "tags": null
          },
          "name": "stdout",
          "output_type": "stream",
          "text": [
            "\n",
            "input_text :  [] 기타 오늘키친\n",
            "output_result :  양식\n"
          ]
        },
        {
          "metadata": {
            "tags": null
          },
          "name": "stderr",
          "output_type": "stream",
          "text": [
            "\r 88%|████████▊ | 747/852 [43:58<04:42,  2.69s/it]"
          ]
        },
        {
          "metadata": {
            "tags": null
          },
          "name": "stdout",
          "output_type": "stream",
          "text": [
            "\n",
            "input_text :  [] 감성주점 준\n",
            "output_result :  양식\n"
          ]
        },
        {
          "metadata": {
            "tags": null
          },
          "name": "stderr",
          "output_type": "stream",
          "text": [
            "\r 88%|████████▊ | 748/852 [44:00<04:28,  2.58s/it]"
          ]
        },
        {
          "metadata": {
            "tags": null
          },
          "name": "stdout",
          "output_type": "stream",
          "text": [
            "\n",
            "input_text :  [] 기타 바이르\n",
            "output_result :  회\n"
          ]
        },
        {
          "metadata": {
            "tags": null
          },
          "name": "stderr",
          "output_type": "stream",
          "text": [
            "\r 88%|████████▊ | 749/852 [44:03<04:42,  2.74s/it]"
          ]
        },
        {
          "metadata": {
            "tags": null
          },
          "name": "stdout",
          "output_type": "stream",
          "text": [
            "\n",
            "input_text :  ['아메리카노', '카페라떼', '레몬에이드'] 까페 정원달빛\n",
            "output_result :  백반\n"
          ]
        },
        {
          "metadata": {
            "tags": null
          },
          "name": "stderr",
          "output_type": "stream",
          "text": [
            "\r 88%|████████▊ | 750/852 [44:07<05:22,  3.16s/it]"
          ]
        },
        {
          "metadata": {
            "tags": null
          },
          "name": "stdout",
          "output_type": "stream",
          "text": [
            "\n",
            "input_text :  ['생연어덮밥', '꼬막비빔밥', '별카레'] 한식 별식당강원대점\n",
            "output_result :  분식\n"
          ]
        },
        {
          "metadata": {
            "tags": null
          },
          "name": "stderr",
          "output_type": "stream",
          "text": [
            "\r 88%|████████▊ | 751/852 [44:10<05:05,  3.03s/it]"
          ]
        },
        {
          "metadata": {
            "tags": null
          },
          "name": "stdout",
          "output_type": "stream",
          "text": [
            "\n",
            "input_text :  [] 분식 시골잔치국수\n",
            "output_result :  양식\n"
          ]
        },
        {
          "metadata": {
            "tags": null
          },
          "name": "stderr",
          "output_type": "stream",
          "text": [
            "\r 88%|████████▊ | 752/852 [44:14<05:28,  3.28s/it]"
          ]
        },
        {
          "metadata": {
            "tags": null
          },
          "name": "stdout",
          "output_type": "stream",
          "text": [
            "\n",
            "input_text :  ['전통 순댓국', '순댓국 정식', '머릿고기만 순댓국'] 식육(숯불구이) 순대실록춘천점\n",
            "output_result :  고기/구이\n"
          ]
        },
        {
          "metadata": {
            "tags": null
          },
          "name": "stderr",
          "output_type": "stream",
          "text": [
            "\r 88%|████████▊ | 753/852 [44:17<05:30,  3.34s/it]"
          ]
        },
        {
          "metadata": {
            "tags": null
          },
          "name": "stdout",
          "output_type": "stream",
          "text": [
            "\n",
            "input_text :  ['광어(소)', '도미(중)', '우럭(소)'] 한식 바다속풍경\n",
            "output_result :  회\n"
          ]
        },
        {
          "metadata": {
            "tags": null
          },
          "name": "stderr",
          "output_type": "stream",
          "text": [
            "\r 88%|████████▊ | 754/852 [44:21<05:25,  3.32s/it]"
          ]
        },
        {
          "metadata": {
            "tags": null
          },
          "name": "stdout",
          "output_type": "stream",
          "text": [
            "\n",
            "input_text :  [] 분식 시리우스(sirius)\n",
            "output_result :  분식\n"
          ]
        },
        {
          "metadata": {
            "tags": null
          },
          "name": "stderr",
          "output_type": "stream",
          "text": [
            "\r 89%|████████▊ | 755/852 [44:24<05:08,  3.18s/it]"
          ]
        },
        {
          "metadata": {
            "tags": null
          },
          "name": "stdout",
          "output_type": "stream",
          "text": [
            "\n",
            "input_text :  [] 분식 우리할매떡볶이춘천점\n",
            "output_result :  양식\n"
          ]
        },
        {
          "metadata": {
            "tags": null
          },
          "name": "stderr",
          "output_type": "stream",
          "text": [
            "\r 89%|████████▊ | 756/852 [44:27<05:11,  3.25s/it]"
          ]
        },
        {
          "metadata": {
            "tags": null
          },
          "name": "stdout",
          "output_type": "stream",
          "text": [
            "\n",
            "input_text :  ['야채김밥', '참치김밥', '땡초어묵김밥'] 분식 김밥이선생\n",
            "output_result :  분식\n"
          ]
        },
        {
          "metadata": {
            "tags": null
          },
          "name": "stderr",
          "output_type": "stream",
          "text": [
            "\r 89%|████████▉ | 757/852 [44:30<05:00,  3.16s/it]"
          ]
        },
        {
          "metadata": {
            "tags": null
          },
          "name": "stdout",
          "output_type": "stream",
          "text": [
            "\n",
            "input_text :  ['에스프레소', '아메리카노', '카페라떼'] 기타 소양하다\n",
            "output_result :  양식\n"
          ]
        },
        {
          "metadata": {
            "tags": null
          },
          "name": "stderr",
          "output_type": "stream",
          "text": [
            "\r 89%|████████▉ | 758/852 [44:33<04:57,  3.17s/it]"
          ]
        },
        {
          "metadata": {
            "tags": null
          },
          "name": "stdout",
          "output_type": "stream",
          "text": [
            "\n",
            "input_text :  [] 호프/통닭 크레센트치킨앤버거\n",
            "output_result :  치킨\n"
          ]
        },
        {
          "metadata": {
            "tags": null
          },
          "name": "stderr",
          "output_type": "stream",
          "text": [
            "\r 89%|████████▉ | 759/852 [44:39<06:16,  4.05s/it]"
          ]
        },
        {
          "metadata": {
            "tags": null
          },
          "name": "stdout",
          "output_type": "stream",
          "text": [
            "\n",
            "input_text :  ['샌드위치박스(소) 9,000원', '샌드위치과일박스(대) 18,000원', '1/2샌드위치+팩주스(5,000원)'] 기타 달리는커피춘천석사점\n",
            "output_result :  중식\n"
          ]
        },
        {
          "metadata": {
            "tags": null
          },
          "name": "stderr",
          "output_type": "stream",
          "text": [
            "\r 89%|████████▉ | 760/852 [44:43<05:51,  3.82s/it]"
          ]
        },
        {
          "metadata": {
            "tags": null
          },
          "name": "stdout",
          "output_type": "stream",
          "text": [
            "\n",
            "input_text :  ['수제 리코타 샐러드', '명란 파스타', '아라비아따'] 경양식 단하비\n",
            "output_result :  양식\n"
          ]
        },
        {
          "metadata": {
            "tags": null
          },
          "name": "stderr",
          "output_type": "stream",
          "text": [
            "\r 89%|████████▉ | 761/852 [44:46<05:27,  3.60s/it]"
          ]
        },
        {
          "metadata": {
            "tags": null
          },
          "name": "stdout",
          "output_type": "stream",
          "text": [
            "\n",
            "input_text :  [] 정종/대포집/소주방 달짠\n",
            "output_result :  양식\n"
          ]
        },
        {
          "metadata": {
            "tags": null
          },
          "name": "stderr",
          "output_type": "stream",
          "text": [
            "\r 89%|████████▉ | 762/852 [44:49<05:05,  3.39s/it]"
          ]
        },
        {
          "metadata": {
            "tags": null
          },
          "name": "stdout",
          "output_type": "stream",
          "text": [
            "\n",
            "input_text :  [] 한식 초빈닭갈비\n",
            "output_result :  고기/구이\n"
          ]
        },
        {
          "metadata": {
            "tags": null
          },
          "name": "stderr",
          "output_type": "stream",
          "text": [
            "\r 90%|████████▉ | 763/852 [44:54<05:44,  3.87s/it]"
          ]
        },
        {
          "metadata": {
            "tags": null
          },
          "name": "stdout",
          "output_type": "stream",
          "text": [
            "\n",
            "input_text :  ['해물 오꼬노미 빠삭파전', '비빔 한우육회', '통삼겹 수육보쌈'] 식육(숯불구이) 79대포춘천강원대점\n",
            "output_result :  고기/구이\n"
          ]
        },
        {
          "metadata": {
            "tags": null
          },
          "name": "stderr",
          "output_type": "stream",
          "text": [
            "\r 90%|████████▉ | 764/852 [44:56<05:15,  3.58s/it]"
          ]
        },
        {
          "metadata": {
            "tags": null
          },
          "name": "stdout",
          "output_type": "stream",
          "text": [
            "\n",
            "input_text :  ['에스프레소', '아메리카노', '카페라떼'] 기타 시민커피\n",
            "output_result :  찜/탕/찌개\n"
          ]
        },
        {
          "metadata": {
            "tags": null
          },
          "name": "stderr",
          "output_type": "stream",
          "text": [
            "\r 90%|████████▉ | 765/852 [45:00<04:57,  3.42s/it]"
          ]
        },
        {
          "metadata": {
            "tags": null
          },
          "name": "stdout",
          "output_type": "stream",
          "text": [
            "\n",
            "input_text :  [] 호프/통닭 오늘날\n",
            "output_result :  치킨\n"
          ]
        },
        {
          "metadata": {
            "tags": null
          },
          "name": "stderr",
          "output_type": "stream",
          "text": [
            "\r 90%|████████▉ | 766/852 [45:05<05:41,  3.97s/it]"
          ]
        },
        {
          "metadata": {
            "tags": null
          },
          "name": "stdout",
          "output_type": "stream",
          "text": [
            "\n",
            "input_text :  ['야채곱창(1인분)', '알곱창(1인분)', '순대곱창(1인분)'] 식육(숯불구이) 돌아온왕십리곱창\n",
            "output_result :  고기/구이\n"
          ]
        },
        {
          "metadata": {
            "tags": null
          },
          "name": "stderr",
          "output_type": "stream",
          "text": [
            "\r 90%|█████████ | 767/852 [45:08<05:26,  3.85s/it]"
          ]
        },
        {
          "metadata": {
            "tags": null
          },
          "name": "stdout",
          "output_type": "stream",
          "text": [
            "\n",
            "input_text :  ['에스프레소', '자몽 주스', '딸기 요거트'] 기타 코너스톤(CORNERSTONE)\n",
            "output_result :  회\n"
          ]
        },
        {
          "metadata": {
            "tags": null
          },
          "name": "stderr",
          "output_type": "stream",
          "text": [
            "\r 90%|█████████ | 768/852 [45:11<04:55,  3.52s/it]"
          ]
        },
        {
          "metadata": {
            "tags": null
          },
          "name": "stdout",
          "output_type": "stream",
          "text": [
            "\n",
            "input_text :  [] 한식 왕대박감자탕\n",
            "output_result :  찜/탕/찌개\n"
          ]
        },
        {
          "metadata": {
            "tags": null
          },
          "name": "stderr",
          "output_type": "stream",
          "text": [
            "\r 90%|█████████ | 769/852 [45:15<04:58,  3.59s/it]"
          ]
        },
        {
          "metadata": {
            "tags": null
          },
          "name": "stdout",
          "output_type": "stream",
          "text": [
            "\n",
            "input_text :  ['아메리카노', '카페라떼', '수제 레몬티'] 기타 지나오다\n",
            "output_result :  백반\n"
          ]
        },
        {
          "metadata": {
            "tags": null
          },
          "name": "stderr",
          "output_type": "stream",
          "text": [
            "\r 90%|█████████ | 770/852 [45:18<04:50,  3.55s/it]"
          ]
        },
        {
          "metadata": {
            "tags": null
          },
          "name": "stdout",
          "output_type": "stream",
          "text": [
            "\n",
            "input_text :  ['스페셜 토스트', '불고기토스트', '모짜렐라토스트'] 분식 착한마약규토스트\n",
            "output_result :  분식\n"
          ]
        },
        {
          "metadata": {
            "tags": null
          },
          "name": "stderr",
          "output_type": "stream",
          "text": [
            "\r 90%|█████████ | 771/852 [45:21<04:35,  3.41s/it]"
          ]
        },
        {
          "metadata": {
            "tags": null
          },
          "name": "stdout",
          "output_type": "stream",
          "text": [
            "\n",
            "input_text :  ['짜장', '짬뽕', '볶음밥'] 한식 만나탕수육볶음밥\n",
            "output_result :  중식\n"
          ]
        },
        {
          "metadata": {
            "tags": null
          },
          "name": "stderr",
          "output_type": "stream",
          "text": [
            "\r 91%|█████████ | 772/852 [45:24<04:14,  3.18s/it]"
          ]
        },
        {
          "metadata": {
            "tags": null
          },
          "name": "stdout",
          "output_type": "stream",
          "text": [
            "\n",
            "input_text :  [] 한식 배부리\n",
            "output_result :  분식\n"
          ]
        },
        {
          "metadata": {
            "tags": null
          },
          "name": "stderr",
          "output_type": "stream",
          "text": [
            "\r 91%|█████████ | 773/852 [45:27<04:04,  3.09s/it]"
          ]
        },
        {
          "metadata": {
            "tags": null
          },
          "name": "stdout",
          "output_type": "stream",
          "text": [
            "\n",
            "input_text :  [] 한식 써니푸드\n",
            "output_result :  아시안\n"
          ]
        },
        {
          "metadata": {
            "tags": null
          },
          "name": "stderr",
          "output_type": "stream",
          "text": [
            "\r 91%|█████████ | 774/852 [45:30<04:04,  3.13s/it]"
          ]
        },
        {
          "metadata": {
            "tags": null
          },
          "name": "stdout",
          "output_type": "stream",
          "text": [
            "\n",
            "input_text :  ['쇼유라멘', '마제소바', '라면추가'] 일식 오오모리\n",
            "output_result :  일식\n"
          ]
        },
        {
          "metadata": {
            "tags": null
          },
          "name": "stderr",
          "output_type": "stream",
          "text": [
            "\r 91%|█████████ | 775/852 [45:33<04:06,  3.20s/it]"
          ]
        },
        {
          "metadata": {
            "tags": null
          },
          "name": "stdout",
          "output_type": "stream",
          "text": [
            "\n",
            "input_text :  ['새우우동', '닭볶음탕', '항정살라쫄면'] 기타 피플스클럽\n",
            "output_result :  찜/탕/찌개\n"
          ]
        },
        {
          "metadata": {
            "tags": null
          },
          "name": "stderr",
          "output_type": "stream",
          "text": [
            "\r 91%|█████████ | 776/852 [45:37<04:08,  3.27s/it]"
          ]
        },
        {
          "metadata": {
            "tags": null
          },
          "name": "stdout",
          "output_type": "stream",
          "text": [
            "\n",
            "input_text :  ['만두국', '함박스테이크', '커피'] 까페 예부룩\n",
            "output_result :  분식\n"
          ]
        },
        {
          "metadata": {
            "tags": null
          },
          "name": "stderr",
          "output_type": "stream",
          "text": [
            "\r 91%|█████████ | 777/852 [45:40<03:58,  3.18s/it]"
          ]
        },
        {
          "metadata": {
            "tags": null
          },
          "name": "stdout",
          "output_type": "stream",
          "text": [
            "\n",
            "input_text :  [] 까페 놀이카페조인\n",
            "output_result :  양식\n"
          ]
        },
        {
          "metadata": {
            "tags": null
          },
          "name": "stderr",
          "output_type": "stream",
          "text": [
            "\r 91%|█████████▏| 778/852 [45:42<03:36,  2.93s/it]"
          ]
        },
        {
          "metadata": {
            "tags": null
          },
          "name": "stdout",
          "output_type": "stream",
          "text": [
            "\n",
            "input_text :  [] 중국식 중화반점\n",
            "output_result :  중식\n"
          ]
        },
        {
          "metadata": {
            "tags": null
          },
          "name": "stderr",
          "output_type": "stream",
          "text": [
            "\r 91%|█████████▏| 779/852 [45:46<03:50,  3.16s/it]"
          ]
        },
        {
          "metadata": {
            "tags": null
          },
          "name": "stdout",
          "output_type": "stream",
          "text": [
            "\n",
            "input_text :  ['과일타르트', '감고커피', '크림바닐라라떼'] 기타 포지티브즈(Positives)\n",
            "output_result :  양식\n"
          ]
        },
        {
          "metadata": {
            "tags": null
          },
          "name": "stderr",
          "output_type": "stream",
          "text": [
            "\r 92%|█████████▏| 780/852 [45:49<03:54,  3.26s/it]"
          ]
        },
        {
          "metadata": {
            "tags": null
          },
          "name": "stdout",
          "output_type": "stream",
          "text": [
            "\n",
            "input_text :  ['5찬 한식도시락', '샐러드팩', '오피스팩'] 한식 수라찬\n",
            "output_result :  백반\n"
          ]
        },
        {
          "metadata": {
            "tags": null
          },
          "name": "stderr",
          "output_type": "stream",
          "text": [
            "\r 92%|█████████▏| 781/852 [45:53<03:51,  3.26s/it]"
          ]
        },
        {
          "metadata": {
            "tags": null
          },
          "name": "stdout",
          "output_type": "stream",
          "text": [
            "\n",
            "input_text :  [] 식육(숯불구이) 3939\n",
            "output_result :  고기/구이\n"
          ]
        },
        {
          "metadata": {
            "tags": null
          },
          "name": "stderr",
          "output_type": "stream",
          "text": [
            "\r 92%|█████████▏| 782/852 [45:57<04:00,  3.44s/it]"
          ]
        },
        {
          "metadata": {
            "tags": null
          },
          "name": "stdout",
          "output_type": "stream",
          "text": [
            "\n",
            "input_text :  ['쭈우삼', '국물닭발', '불막창'] 정종/대포집/소주방 그놈포차춘천애막골점\n",
            "output_result :  찜/탕/찌개\n"
          ]
        },
        {
          "metadata": {
            "tags": null
          },
          "name": "stderr",
          "output_type": "stream",
          "text": [
            "\r 92%|█████████▏| 783/852 [46:01<04:28,  3.89s/it]"
          ]
        },
        {
          "metadata": {
            "tags": null
          },
          "name": "stdout",
          "output_type": "stream",
          "text": [
            "\n",
            "input_text :  ['제주도 딱새우회(20마리~23마리)', '채끝등심 팬스테이크(250g)', '연어 사시미'] 정종/대포집/소주방 주유\n",
            "output_result :  고기/구이\n"
          ]
        },
        {
          "metadata": {
            "tags": null
          },
          "name": "stderr",
          "output_type": "stream",
          "text": [
            "\r 92%|█████████▏| 784/852 [46:05<04:19,  3.82s/it]"
          ]
        },
        {
          "metadata": {
            "tags": null
          },
          "name": "stdout",
          "output_type": "stream",
          "text": [
            "\n",
            "input_text :  [] 호프/통닭 플랜피(PLAN.P)\n",
            "output_result :  치킨\n"
          ]
        },
        {
          "metadata": {
            "tags": null
          },
          "name": "stderr",
          "output_type": "stream",
          "text": [
            "\r 92%|█████████▏| 785/852 [46:09<04:12,  3.76s/it]"
          ]
        },
        {
          "metadata": {
            "tags": null
          },
          "name": "stdout",
          "output_type": "stream",
          "text": [
            "\n",
            "input_text :  ['크림깐쇼새우', '칠리깐쇼새우', '해물왕짬뽕'] 한식 불사파포차\n",
            "output_result :  찜/탕/찌개\n"
          ]
        },
        {
          "output_type": "stream",
          "name": "stderr",
          "text": [
            "\r 92%|█████████▏| 786/852 [46:11<03:40,  3.34s/it]"
          ]
        },
        {
          "output_type": "stream",
          "name": "stdout",
          "text": [
            "\n",
            "input_text :  [] 기타 꽃이다\n",
            "output_result :  회\n"
          ]
        },
        {
          "output_type": "stream",
          "name": "stderr",
          "text": [
            "\r 92%|█████████▏| 787/852 [46:14<03:19,  3.08s/it]"
          ]
        },
        {
          "output_type": "stream",
          "name": "stdout",
          "text": [
            "\n",
            "input_text :  [] 호프/통닭 삼점일사\n",
            "output_result :  고기/구이\n"
          ]
        },
        {
          "output_type": "stream",
          "name": "stderr",
          "text": [
            "\r 92%|█████████▏| 788/852 [46:17<03:14,  3.04s/it]"
          ]
        },
        {
          "output_type": "stream",
          "name": "stdout",
          "text": [
            "\n",
            "input_text :  [] 기타 바코드\n",
            "output_result :  양식\n"
          ]
        },
        {
          "output_type": "stream",
          "name": "stderr",
          "text": [
            "\r 93%|█████████▎| 789/852 [46:21<03:32,  3.38s/it]"
          ]
        },
        {
          "output_type": "stream",
          "name": "stdout",
          "text": [
            "\n",
            "input_text :  ['씨푸드킹 L', '토핑킹&수퍼슈프림 L', '립스테이크&쉬림프 L'] 기타 피자헛석사점\n",
            "output_result :  고기/구이\n"
          ]
        },
        {
          "output_type": "stream",
          "name": "stderr",
          "text": [
            "\r 93%|█████████▎| 790/852 [46:24<03:32,  3.43s/it]"
          ]
        },
        {
          "output_type": "stream",
          "name": "stdout",
          "text": [
            "\n",
            "input_text :  ['고급양갈비', '모듬양꼬치', '양고기'] 식육(숯불구이) 화룡양꼬치\n",
            "output_result :  고기/구이\n"
          ]
        },
        {
          "output_type": "stream",
          "name": "stderr",
          "text": [
            "\r 93%|█████████▎| 791/852 [46:28<03:28,  3.42s/it]"
          ]
        },
        {
          "output_type": "stream",
          "name": "stdout",
          "text": [
            "\n",
            "input_text :  ['철판닭갈비', '참숯닭갈비', '참숯돼지불고기'] 한식 닭갈비짱\n",
            "output_result :  고기/구이\n"
          ]
        },
        {
          "output_type": "stream",
          "name": "stderr",
          "text": [
            "\r 93%|█████████▎| 792/852 [46:31<03:28,  3.47s/it]"
          ]
        },
        {
          "output_type": "stream",
          "name": "stdout",
          "text": [
            "\n",
            "input_text :  [] 식육(숯불구이) 고기혁명춘천점\n",
            "output_result :  고기/구이\n"
          ]
        },
        {
          "output_type": "stream",
          "name": "stderr",
          "text": [
            "\r 93%|█████████▎| 793/852 [46:35<03:27,  3.52s/it]"
          ]
        },
        {
          "output_type": "stream",
          "name": "stdout",
          "text": [
            "\n",
            "input_text :  ['감자폭탄세트', '떡치세트', '떡순튀세트'] 분식 청년분식춘천점\n",
            "output_result :  양식\n"
          ]
        },
        {
          "output_type": "stream",
          "name": "stderr",
          "text": [
            "\r 93%|█████████▎| 794/852 [46:37<03:06,  3.22s/it]"
          ]
        },
        {
          "output_type": "stream",
          "name": "stdout",
          "text": [
            "\n",
            "input_text :  [] 기타 하이홀덤춘천점\n",
            "output_result :  중식\n"
          ]
        },
        {
          "output_type": "stream",
          "name": "stderr",
          "text": [
            "\r 93%|█████████▎| 795/852 [46:40<02:52,  3.03s/it]"
          ]
        },
        {
          "output_type": "stream",
          "name": "stdout",
          "text": [
            "\n",
            "input_text :  [] 식육(숯불구이) 외양간\n",
            "output_result :  고기/구이\n"
          ]
        },
        {
          "output_type": "stream",
          "name": "stderr",
          "text": [
            "\r 93%|█████████▎| 796/852 [46:43<02:54,  3.11s/it]"
          ]
        },
        {
          "output_type": "stream",
          "name": "stdout",
          "text": [
            "\n",
            "input_text :  [] 분식 열정푸드\n",
            "output_result :  양식\n"
          ]
        },
        {
          "output_type": "stream",
          "name": "stderr",
          "text": [
            "\r 94%|█████████▎| 797/852 [46:46<02:37,  2.87s/it]"
          ]
        },
        {
          "output_type": "stream",
          "name": "stdout",
          "text": [
            "\n",
            "input_text :  [] 분식 긱스피자춘천점\n",
            "output_result :  양식\n"
          ]
        },
        {
          "output_type": "stream",
          "name": "stderr",
          "text": [
            "\r 94%|█████████▎| 798/852 [46:49<02:48,  3.13s/it]"
          ]
        },
        {
          "output_type": "stream",
          "name": "stdout",
          "text": [
            "\n",
            "input_text :  ['아부라소바', '창란크림치즈', '아게다시나스'] 정종/대포집/소주방 동양관\n",
            "output_result :  아시안\n"
          ]
        },
        {
          "output_type": "stream",
          "name": "stderr",
          "text": [
            "\r 94%|█████████▍| 799/852 [46:52<02:33,  2.89s/it]"
          ]
        },
        {
          "output_type": "stream",
          "name": "stdout",
          "text": [
            "\n",
            "input_text :  [] 기타 카페마르\n",
            "output_result :  양식\n"
          ]
        },
        {
          "output_type": "stream",
          "name": "stderr",
          "text": [
            "\r 94%|█████████▍| 800/852 [46:56<02:54,  3.35s/it]"
          ]
        },
        {
          "output_type": "stream",
          "name": "stdout",
          "text": [
            "\n",
            "input_text :  ['로스카츠', '치즈카츠', '반반카츠'] 경양식 애막골상회\n",
            "output_result :  고기/구이\n"
          ]
        },
        {
          "output_type": "stream",
          "name": "stderr",
          "text": [
            "\r 94%|█████████▍| 801/852 [47:00<02:57,  3.49s/it]"
          ]
        },
        {
          "output_type": "stream",
          "name": "stdout",
          "text": [
            "\n",
            "input_text :  ['차돌쌀국수', '양지쌀국수', '차돌양지쌀국수'] 정종/대포집/소주방 월미당강원대점\n",
            "output_result :  국수\n"
          ]
        },
        {
          "output_type": "stream",
          "name": "stderr",
          "text": [
            "\r 94%|█████████▍| 802/852 [47:04<02:59,  3.58s/it]"
          ]
        },
        {
          "output_type": "stream",
          "name": "stdout",
          "text": [
            "\n",
            "input_text :  ['얼큰이국밥', '돼지국밥', '병천순대국밥'] 한식 마선생마약국밥춘천점\n",
            "output_result :  찜/탕/찌개\n"
          ]
        },
        {
          "output_type": "stream",
          "name": "stderr",
          "text": [
            "\r 94%|█████████▍| 803/852 [47:07<02:55,  3.58s/it]"
          ]
        },
        {
          "output_type": "stream",
          "name": "stdout",
          "text": [
            "\n",
            "input_text :  ['사케동', '스테키동', '텐동'] 일식 온해\n",
            "output_result :  일식\n"
          ]
        },
        {
          "output_type": "stream",
          "name": "stderr",
          "text": [
            "\r 94%|█████████▍| 804/852 [47:10<02:42,  3.39s/it]"
          ]
        },
        {
          "output_type": "stream",
          "name": "stdout",
          "text": [
            "\n",
            "input_text :  [] 기타 아시안피자석사점\n",
            "output_result :  양식\n"
          ]
        },
        {
          "output_type": "stream",
          "name": "stderr",
          "text": [
            "\r 94%|█████████▍| 805/852 [47:13<02:36,  3.33s/it]"
          ]
        },
        {
          "output_type": "stream",
          "name": "stdout",
          "text": [
            "\n",
            "input_text :  ['아메리카노', '카페라떼', '연유라떼'] 경양식 29페이지\n",
            "output_result :  분식\n"
          ]
        },
        {
          "output_type": "stream",
          "name": "stderr",
          "text": [
            "\r 95%|█████████▍| 806/852 [47:17<02:40,  3.50s/it]"
          ]
        },
        {
          "output_type": "stream",
          "name": "stdout",
          "text": [
            "\n",
            "input_text :  ['KFC추천팩', 'KFC시그니처팩', '온가족모두팩'] 기타 케이에프씨춘천석사\n",
            "output_result :  중식\n"
          ]
        },
        {
          "output_type": "stream",
          "name": "stderr",
          "text": [
            "\r 95%|█████████▍| 807/852 [47:21<02:34,  3.44s/it]"
          ]
        },
        {
          "output_type": "stream",
          "name": "stdout",
          "text": [
            "\n",
            "input_text :  [] 정종/대포집/소주방 아재불닭발\n",
            "output_result :  양식\n"
          ]
        },
        {
          "output_type": "stream",
          "name": "stderr",
          "text": [
            "\r 95%|█████████▍| 808/852 [47:24<02:35,  3.52s/it]"
          ]
        },
        {
          "output_type": "stream",
          "name": "stdout",
          "text": [
            "\n",
            "input_text :  ['찰순대', '우엉김밥', '옛날떡볶이'] 분식 심가당\n",
            "output_result :  분식\n"
          ]
        },
        {
          "output_type": "stream",
          "name": "stderr",
          "text": [
            "\r 95%|█████████▍| 809/852 [47:27<02:16,  3.16s/it]"
          ]
        },
        {
          "output_type": "stream",
          "name": "stdout",
          "text": [
            "\n",
            "input_text :  [] 횟집 용수산\n",
            "output_result :  백반\n"
          ]
        },
        {
          "output_type": "stream",
          "name": "stderr",
          "text": [
            "\r 95%|█████████▌| 810/852 [47:29<02:03,  2.95s/it]"
          ]
        },
        {
          "output_type": "stream",
          "name": "stdout",
          "text": [
            "\n",
            "input_text :  [] 통닭(치킨) 모꼬지\n",
            "output_result :  치킨\n"
          ]
        },
        {
          "output_type": "stream",
          "name": "stderr",
          "text": [
            "\r 95%|█████████▌| 811/852 [47:33<02:07,  3.10s/it]"
          ]
        },
        {
          "output_type": "stream",
          "name": "stdout",
          "text": [
            "\n",
            "input_text :  ['S set', 'M set', '기본 오므라이스'] 분식 오믈하우스\n",
            "output_result :  분식\n"
          ]
        },
        {
          "output_type": "stream",
          "name": "stderr",
          "text": [
            "\r 95%|█████████▌| 812/852 [47:37<02:16,  3.40s/it]"
          ]
        },
        {
          "output_type": "stream",
          "name": "stdout",
          "text": [
            "\n",
            "input_text :  ['콩짜장', '신 매운짜장', '간짜장'] 중국식 신짱깨집\n",
            "output_result :  중식\n"
          ]
        },
        {
          "output_type": "stream",
          "name": "stderr",
          "text": [
            "\r 95%|█████████▌| 813/852 [47:39<02:04,  3.18s/it]"
          ]
        },
        {
          "output_type": "stream",
          "name": "stdout",
          "text": [
            "\n",
            "input_text :  [] 횟집 호반송어회배달전문점\n",
            "output_result :  양식\n"
          ]
        },
        {
          "output_type": "stream",
          "name": "stderr",
          "text": [
            "\r 96%|█████████▌| 814/852 [47:43<02:07,  3.36s/it]"
          ]
        },
        {
          "output_type": "stream",
          "name": "stdout",
          "text": [
            "\n",
            "input_text :  ['돈까스카레', '스페셜카레', '고로케카레'] 한식 고씨네카레강원대본점\n",
            "output_result :  돈까스\n"
          ]
        },
        {
          "output_type": "stream",
          "name": "stderr",
          "text": [
            "\r 96%|█████████▌| 815/852 [47:47<02:14,  3.64s/it]"
          ]
        },
        {
          "output_type": "stream",
          "name": "stdout",
          "text": [
            "\n",
            "input_text :  ['모듬고로케', '명란계란탕', '소고기 해물나베'] 일식 강빠\n",
            "output_result :  찜/탕/찌개\n"
          ]
        },
        {
          "output_type": "stream",
          "name": "stderr",
          "text": [
            "\r 96%|█████████▌| 816/852 [47:52<02:19,  3.88s/it]"
          ]
        },
        {
          "output_type": "stream",
          "name": "stdout",
          "text": [
            "\n",
            "input_text :  ['이베리코 아바니꼬 베요타(200g)', '양 등심(200g)', '양 갈비(250g)'] 한식 춘양화로\n",
            "output_result :  고기/구이\n"
          ]
        },
        {
          "output_type": "stream",
          "name": "stderr",
          "text": [
            "\r 96%|█████████▌| 817/852 [47:56<02:21,  4.04s/it]"
          ]
        },
        {
          "output_type": "stream",
          "name": "stdout",
          "text": [
            "\n",
            "input_text :  ['얼큰짬뽕탕', '꼬지오뎅', '얼큰해물오뎅탕'] 정종/대포집/소주방 까투리 강대점\n",
            "output_result :  찜/탕/찌개\n"
          ]
        },
        {
          "output_type": "stream",
          "name": "stderr",
          "text": [
            "\r 96%|█████████▌| 818/852 [48:00<02:16,  4.01s/it]"
          ]
        },
        {
          "output_type": "stream",
          "name": "stdout",
          "text": [
            "\n",
            "input_text :  [] 경양식 아름다운식당(춘천시니어클럽)\n",
            "output_result :  양식\n"
          ]
        },
        {
          "output_type": "stream",
          "name": "stderr",
          "text": [
            "\r 96%|█████████▌| 819/852 [48:03<01:58,  3.59s/it]"
          ]
        },
        {
          "output_type": "stream",
          "name": "stdout",
          "text": [
            "\n",
            "input_text :  [] 분식 신미방마라탕\n",
            "output_result :  분식\n"
          ]
        },
        {
          "output_type": "stream",
          "name": "stderr",
          "text": [
            "\r 96%|█████████▌| 820/852 [48:05<01:43,  3.24s/it]"
          ]
        },
        {
          "output_type": "stream",
          "name": "stdout",
          "text": [
            "\n",
            "input_text :  [] 분식 노모어피자춘천점\n",
            "output_result :  양식\n"
          ]
        },
        {
          "output_type": "stream",
          "name": "stderr",
          "text": [
            "\r 96%|█████████▋| 821/852 [48:09<01:42,  3.30s/it]"
          ]
        },
        {
          "output_type": "stream",
          "name": "stdout",
          "text": [
            "\n",
            "input_text :  ['리얼통닭한마리', '리얼바비큐', '똥집볶음'] 호프/통닭 카우보이\n",
            "output_result :  고기/구이\n"
          ]
        },
        {
          "output_type": "stream",
          "name": "stderr",
          "text": [
            "\r 96%|█████████▋| 822/852 [48:13<01:50,  3.70s/it]"
          ]
        },
        {
          "output_type": "stream",
          "name": "stdout",
          "text": [
            "\n",
            "input_text :  ['아이스황도', '기본안주', '마른안주'] 정종/대포집/소주방 사랑관강원대점\n",
            "output_result :  양식\n"
          ]
        },
        {
          "output_type": "stream",
          "name": "stderr",
          "text": [
            "\r 97%|█████████▋| 823/852 [48:16<01:39,  3.42s/it]"
          ]
        },
        {
          "output_type": "stream",
          "name": "stdout",
          "text": [
            "\n",
            "input_text :  [] 정종/대포집/소주방 미빠2\n",
            "output_result :  양식\n"
          ]
        },
        {
          "output_type": "stream",
          "name": "stderr",
          "text": [
            "\r 97%|█████████▋| 824/852 [48:18<01:26,  3.10s/it]"
          ]
        },
        {
          "output_type": "stream",
          "name": "stdout",
          "text": [
            "\n",
            "input_text :  [] 한식 만남의집\n",
            "output_result :  양식\n"
          ]
        },
        {
          "output_type": "stream",
          "name": "stderr",
          "text": [
            "\r 97%|█████████▋| 825/852 [48:21<01:22,  3.06s/it]"
          ]
        },
        {
          "output_type": "stream",
          "name": "stdout",
          "text": [
            "\n",
            "input_text :  ['모듬전', '어묵탕', '두부찌개'] 한식 주전자\n",
            "output_result :  찜/탕/찌개\n"
          ]
        },
        {
          "output_type": "stream",
          "name": "stderr",
          "text": [
            "\r 97%|█████████▋| 826/852 [48:24<01:17,  2.99s/it]"
          ]
        },
        {
          "output_type": "stream",
          "name": "stdout",
          "text": [
            "\n",
            "input_text :  [] 정종/대포집/소주방 남부전집\n",
            "output_result :  회\n"
          ]
        },
        {
          "output_type": "stream",
          "name": "stderr",
          "text": [
            "\r 97%|█████████▋| 827/852 [48:29<01:26,  3.45s/it]"
          ]
        },
        {
          "output_type": "stream",
          "name": "stdout",
          "text": [
            "\n",
            "input_text :  ['소막창', '가브리살', '삼겹살(200g)'] 식육(숯불구이) 꼴두바우강대점\n",
            "output_result :  고기/구이\n"
          ]
        },
        {
          "output_type": "stream",
          "name": "stderr",
          "text": [
            "\r 97%|█████████▋| 828/852 [48:31<01:17,  3.21s/it]"
          ]
        },
        {
          "output_type": "stream",
          "name": "stdout",
          "text": [
            "\n",
            "input_text :  [] 식육(숯불구이) 5감족발\n",
            "output_result :  고기/구이\n"
          ]
        },
        {
          "output_type": "stream",
          "name": "stderr",
          "text": [
            "\r 97%|█████████▋| 829/852 [48:35<01:19,  3.46s/it]"
          ]
        },
        {
          "output_type": "stream",
          "name": "stdout",
          "text": [
            "\n",
            "input_text :  ['한우곱창', '한우막창', '한우대창'] 식육(숯불구이) 착한곱한우곱창춘천2호석사점\n",
            "output_result :  고기/구이\n"
          ]
        },
        {
          "output_type": "stream",
          "name": "stderr",
          "text": [
            "\r 97%|█████████▋| 830/852 [48:39<01:17,  3.51s/it]"
          ]
        },
        {
          "output_type": "stream",
          "name": "stdout",
          "text": [
            "\n",
            "input_text :  [] 호프/통닭 수옛날통닭애막골점\n",
            "output_result :  치킨\n"
          ]
        },
        {
          "output_type": "stream",
          "name": "stderr",
          "text": [
            "\r 98%|█████████▊| 831/852 [48:43<01:14,  3.54s/it]"
          ]
        },
        {
          "output_type": "stream",
          "name": "stdout",
          "text": [
            "\n",
            "input_text :  ['전천후 스페셜', '해산물 모듬회', '전천후 모듬회 (S)'] 일식 전천후횟집\n",
            "output_result :  회\n"
          ]
        },
        {
          "output_type": "stream",
          "name": "stderr",
          "text": [
            "\r 98%|█████████▊| 832/852 [48:46<01:08,  3.43s/it]"
          ]
        },
        {
          "output_type": "stream",
          "name": "stdout",
          "text": [
            "\n",
            "input_text :  ['야채김밥', '땡초김밥', '치즈김밥'] 일식 오니\n",
            "output_result :  일식\n"
          ]
        },
        {
          "output_type": "stream",
          "name": "stderr",
          "text": [
            "\r 98%|█████████▊| 833/852 [48:49<01:04,  3.41s/it]"
          ]
        },
        {
          "output_type": "stream",
          "name": "stdout",
          "text": [
            "\n",
            "input_text :  ['계란찜', '떡볶이', '얼음황도'] 호프/통닭 불난닭발앤강정\n",
            "output_result :  찜/탕/찌개\n"
          ]
        },
        {
          "output_type": "stream",
          "name": "stderr",
          "text": [
            "\r 98%|█████████▊| 834/852 [48:53<01:06,  3.67s/it]"
          ]
        },
        {
          "output_type": "stream",
          "name": "stdout",
          "text": [
            "\n",
            "input_text :  ['양념치킨', '수제버거와 감자튀김', '후라이드 치킨'] 한식 술집\n",
            "output_result :  백반\n"
          ]
        },
        {
          "output_type": "stream",
          "name": "stderr",
          "text": [
            "\r 98%|█████████▊| 835/852 [48:56<00:55,  3.26s/it]"
          ]
        },
        {
          "output_type": "stream",
          "name": "stdout",
          "text": [
            "\n",
            "input_text :  [] 기타 미미카츠\n",
            "output_result :  회\n"
          ]
        },
        {
          "output_type": "stream",
          "name": "stderr",
          "text": [
            "\r 98%|█████████▊| 836/852 [48:59<00:52,  3.27s/it]"
          ]
        },
        {
          "output_type": "stream",
          "name": "stdout",
          "text": [
            "\n",
            "input_text :  ['아메리카노', '더블초코라테', '시나몬 메이플 크로플'] 기타 웨어커피\n",
            "output_result :  양식\n"
          ]
        },
        {
          "output_type": "stream",
          "name": "stderr",
          "text": [
            "\r 98%|█████████▊| 837/852 [49:03<00:53,  3.55s/it]"
          ]
        },
        {
          "output_type": "stream",
          "name": "stdout",
          "text": [
            "\n",
            "input_text :  ['쭈꾸미세트', '쭈삼겹세트', '만쭈삼겹세트'] 호프/통닭 바보형제쭈꾸미효자점\n",
            "output_result :  고기/구이\n"
          ]
        },
        {
          "output_type": "stream",
          "name": "stderr",
          "text": [
            "\r 98%|█████████▊| 838/852 [49:07<00:51,  3.70s/it]"
          ]
        },
        {
          "output_type": "stream",
          "name": "stdout",
          "text": [
            "\n",
            "input_text :  ['황도', '모듬과일', '먹태'] 정종/대포집/소주방 서락\n",
            "output_result :  양식\n"
          ]
        },
        {
          "output_type": "stream",
          "name": "stderr",
          "text": [
            "\r 98%|█████████▊| 839/852 [49:10<00:43,  3.38s/it]"
          ]
        },
        {
          "output_type": "stream",
          "name": "stdout",
          "text": [
            "\n",
            "input_text :  [] 정종/대포집/소주방 열정국밥\n",
            "output_result :  양식\n"
          ]
        },
        {
          "output_type": "stream",
          "name": "stderr",
          "text": [
            "\r 99%|█████████▊| 840/852 [49:13<00:37,  3.15s/it]"
          ]
        },
        {
          "output_type": "stream",
          "name": "stdout",
          "text": [
            "\n",
            "input_text :  [] 호프/통닭 고래맥주창고효자점\n",
            "output_result :  고기/구이\n"
          ]
        },
        {
          "output_type": "stream",
          "name": "stderr",
          "text": [
            "\r 99%|█████████▊| 841/852 [49:17<00:37,  3.43s/it]"
          ]
        },
        {
          "output_type": "stream",
          "name": "stdout",
          "text": [
            "\n",
            "input_text :  ['아메리카노', '카페라떼', '카푸치노'] 기타 유캔두잇춘천효자점\n",
            "output_result :  중식\n"
          ]
        },
        {
          "output_type": "stream",
          "name": "stderr",
          "text": [
            "\r 99%|█████████▉| 842/852 [49:19<00:32,  3.24s/it]"
          ]
        },
        {
          "output_type": "stream",
          "name": "stdout",
          "text": [
            "\n",
            "input_text :  [] 한식 형제오뎅\n",
            "output_result :  분식\n"
          ]
        },
        {
          "output_type": "stream",
          "name": "stderr",
          "text": [
            "\r 99%|█████████▉| 843/852 [49:24<00:33,  3.75s/it]"
          ]
        },
        {
          "output_type": "stream",
          "name": "stdout",
          "text": [
            "\n",
            "input_text :  ['어반벨리 버거', '어반벨리 치즈 버거', '어반벨리 더블치즈 버거'] 분식 어반벨리(Urban Belly)\n",
            "output_result :  분식\n"
          ]
        },
        {
          "output_type": "stream",
          "name": "stderr",
          "text": [
            "\r 99%|█████████▉| 844/852 [49:27<00:26,  3.35s/it]"
          ]
        },
        {
          "output_type": "stream",
          "name": "stdout",
          "text": [
            "\n",
            "input_text :  [] 분식 난김밥넌국수\n",
            "output_result :  양식\n"
          ]
        },
        {
          "output_type": "stream",
          "name": "stderr",
          "text": [
            "\r 99%|█████████▉| 845/852 [49:30<00:23,  3.34s/it]"
          ]
        },
        {
          "output_type": "stream",
          "name": "stdout",
          "text": [
            "\n",
            "input_text :  [] 기타 쌈촌CGV석사점\n",
            "output_result :  회\n"
          ]
        },
        {
          "output_type": "stream",
          "name": "stderr",
          "text": [
            "\r 99%|█████████▉| 846/852 [49:34<00:20,  3.41s/it]"
          ]
        },
        {
          "output_type": "stream",
          "name": "stdout",
          "text": [
            "\n",
            "input_text :  ['후라이드', '양념치킨', '반반치킨'] 기타 페리카나석사점\n",
            "output_result :  치킨\n"
          ]
        },
        {
          "output_type": "stream",
          "name": "stderr",
          "text": [
            "\r 99%|█████████▉| 847/852 [49:37<00:16,  3.38s/it]"
          ]
        },
        {
          "output_type": "stream",
          "name": "stdout",
          "text": [
            "\n",
            "input_text :  ['알리오 올리오', '명란파스타', '감베리 파스타'] 기타 파스따남\n",
            "output_result :  양식\n"
          ]
        },
        {
          "output_type": "stream",
          "name": "stderr",
          "text": [
            "\r100%|█████████▉| 848/852 [49:41<00:13,  3.46s/it]"
          ]
        },
        {
          "output_type": "stream",
          "name": "stdout",
          "text": [
            "\n",
            "input_text :  ['야채곱창', '흑미순대볶음', '흑미순대곱창'] 기타 돌다리야채곱창\n",
            "output_result :  분식\n"
          ]
        },
        {
          "output_type": "stream",
          "name": "stderr",
          "text": [
            "\r100%|█████████▉| 849/852 [49:45<00:11,  3.76s/it]"
          ]
        },
        {
          "output_type": "stream",
          "name": "stdout",
          "text": [
            "\n",
            "input_text :  ['특목살', '생삼겹살', '가브리살'] 식육(숯불구이) 유명한맛돼지\n",
            "output_result :  고기/구이\n"
          ]
        },
        {
          "output_type": "stream",
          "name": "stderr",
          "text": [
            "\r100%|█████████▉| 850/852 [49:48<00:06,  3.40s/it]"
          ]
        },
        {
          "output_type": "stream",
          "name": "stdout",
          "text": [
            "\n",
            "input_text :  [] 호프/통닭 남부옛날통닭\n",
            "output_result :  치킨\n"
          ]
        },
        {
          "output_type": "stream",
          "name": "stderr",
          "text": [
            "\r100%|█████████▉| 851/852 [49:52<00:03,  3.67s/it]"
          ]
        },
        {
          "output_type": "stream",
          "name": "stdout",
          "text": [
            "\n",
            "input_text :  ['닭다리 순살만 4가지맛 세트', '페퍼로니 피자&치킨 세트', '치파포 V5'] 호프/통닭 순살만공격춘천점\n",
            "output_result :  고기/구이\n"
          ]
        },
        {
          "output_type": "stream",
          "name": "stderr",
          "text": [
            "100%|██████████| 852/852 [49:57<00:00,  3.52s/it]"
          ]
        },
        {
          "output_type": "stream",
          "name": "stdout",
          "text": [
            "\n",
            "input_text :  ['콩나물국밥', '황태콩나물국밥', '콩나물비빔밥'] 한식 한방전주콩나물국밥효자점\n",
            "output_result :  국밥\n"
          ]
        },
        {
          "output_type": "stream",
          "name": "stderr",
          "text": [
            "\n"
          ]
        }
      ],
      "source": [
        "# tqdm을 사용하여 진행률 표시\n",
        "for i in tqdm(range(len(df))):\n",
        "  try:\n",
        "      text = df['menu_name'][i]+\" \"+df['업태구분명'][i]+\" \"+df['cafeteria_name'][i]\n",
        "      label = getLabel(text)\n",
        "      print(\"\\ninput_text : \", text)\n",
        "      print(\"output_result : \", label)\n",
        "  except Exception as e:\n",
        "      print(\"Error:\", e)\n",
        "      label = -1  # 또는 적절한 기본값\n",
        "  labels.append(label)"
      ]
    },
    {
      "cell_type": "code",
      "source": [
        "# 새로운 열 추가\n",
        "df['label'] = labels\n",
        "\n",
        "# 결과를 새로운 CSV 파일로 저장\n",
        "df.to_csv('/content/c4_general_cafeteria_chuncheon_opened_SS-HJ_addLatiLongti_menu-price_addedLabel_v3.csv', index=False, encoding='utf-8')"
      ],
      "metadata": {
        "id": "vNlRjp51X2WZ"
      },
      "execution_count": 22,
      "outputs": []
    },
    {
      "cell_type": "code",
      "source": [
        " 결과를 새로운 CSV 파일로 저장\n",
        "df.to_csv('/content/c4_general_cafeteria_chuncheon_opened_SS-HJ_addLatiLongti_menu-price_addedLabel_v3.csv', index=False, encoding='utf-8')"
      ],
      "metadata": {
        "id": "owGs2_pNEmj0"
      },
      "execution_count": null,
      "outputs": []
    }
  ],
  "metadata": {
    "colab": {
      "provenance": []
    },
    "kernelspec": {
      "display_name": "Python 3 (ipykernel)",
      "language": "python",
      "name": "python3"
    },
    "language_info": {
      "codemirror_mode": {
        "name": "ipython",
        "version": 3
      },
      "file_extension": ".py",
      "mimetype": "text/x-python",
      "name": "python",
      "nbconvert_exporter": "python",
      "pygments_lexer": "ipython3",
      "version": "3.9.6"
    },
    "widgets": {
      "application/vnd.jupyter.widget-state+json": {
        "9b32927329c44adca592c0fa153a8b72": {
          "model_module": "@jupyter-widgets/controls",
          "model_name": "HBoxModel",
          "model_module_version": "1.5.0",
          "state": {
            "_dom_classes": [],
            "_model_module": "@jupyter-widgets/controls",
            "_model_module_version": "1.5.0",
            "_model_name": "HBoxModel",
            "_view_count": null,
            "_view_module": "@jupyter-widgets/controls",
            "_view_module_version": "1.5.0",
            "_view_name": "HBoxView",
            "box_style": "",
            "children": [
              "IPY_MODEL_83e4fad5db8141adb5bd0f5840139945",
              "IPY_MODEL_5e88ff41b37742fc85719785d7245855",
              "IPY_MODEL_1330c7d48778482ca931c2abeb7cb98f"
            ],
            "layout": "IPY_MODEL_22d2529f854145d7b96db96bdb5ab6e7"
          }
        },
        "83e4fad5db8141adb5bd0f5840139945": {
          "model_module": "@jupyter-widgets/controls",
          "model_name": "HTMLModel",
          "model_module_version": "1.5.0",
          "state": {
            "_dom_classes": [],
            "_model_module": "@jupyter-widgets/controls",
            "_model_module_version": "1.5.0",
            "_model_name": "HTMLModel",
            "_view_count": null,
            "_view_module": "@jupyter-widgets/controls",
            "_view_module_version": "1.5.0",
            "_view_name": "HTMLView",
            "description": "",
            "description_tooltip": null,
            "layout": "IPY_MODEL_ea82796e5136413b9ec02f32f9ebcb40",
            "placeholder": "​",
            "style": "IPY_MODEL_4a71ca1f582a41c689b9f5f22733b9f0",
            "value": "config.json: 100%"
          }
        },
        "5e88ff41b37742fc85719785d7245855": {
          "model_module": "@jupyter-widgets/controls",
          "model_name": "FloatProgressModel",
          "model_module_version": "1.5.0",
          "state": {
            "_dom_classes": [],
            "_model_module": "@jupyter-widgets/controls",
            "_model_module_version": "1.5.0",
            "_model_name": "FloatProgressModel",
            "_view_count": null,
            "_view_module": "@jupyter-widgets/controls",
            "_view_module_version": "1.5.0",
            "_view_name": "ProgressView",
            "bar_style": "success",
            "description": "",
            "description_tooltip": null,
            "layout": "IPY_MODEL_87f7c0357ffa4d1088debc27b3e5b06d",
            "max": 985,
            "min": 0,
            "orientation": "horizontal",
            "style": "IPY_MODEL_a1759f1036a54a34bef63ef7aee455a0",
            "value": 985
          }
        },
        "1330c7d48778482ca931c2abeb7cb98f": {
          "model_module": "@jupyter-widgets/controls",
          "model_name": "HTMLModel",
          "model_module_version": "1.5.0",
          "state": {
            "_dom_classes": [],
            "_model_module": "@jupyter-widgets/controls",
            "_model_module_version": "1.5.0",
            "_model_name": "HTMLModel",
            "_view_count": null,
            "_view_module": "@jupyter-widgets/controls",
            "_view_module_version": "1.5.0",
            "_view_name": "HTMLView",
            "description": "",
            "description_tooltip": null,
            "layout": "IPY_MODEL_e4e0c28d82d4409690127f7606d86250",
            "placeholder": "​",
            "style": "IPY_MODEL_263c71e4d8cb4c8cb8c4aca80f239957",
            "value": " 985/985 [00:00&lt;00:00, 21.2kB/s]"
          }
        },
        "22d2529f854145d7b96db96bdb5ab6e7": {
          "model_module": "@jupyter-widgets/base",
          "model_name": "LayoutModel",
          "model_module_version": "1.2.0",
          "state": {
            "_model_module": "@jupyter-widgets/base",
            "_model_module_version": "1.2.0",
            "_model_name": "LayoutModel",
            "_view_count": null,
            "_view_module": "@jupyter-widgets/base",
            "_view_module_version": "1.2.0",
            "_view_name": "LayoutView",
            "align_content": null,
            "align_items": null,
            "align_self": null,
            "border": null,
            "bottom": null,
            "display": null,
            "flex": null,
            "flex_flow": null,
            "grid_area": null,
            "grid_auto_columns": null,
            "grid_auto_flow": null,
            "grid_auto_rows": null,
            "grid_column": null,
            "grid_gap": null,
            "grid_row": null,
            "grid_template_areas": null,
            "grid_template_columns": null,
            "grid_template_rows": null,
            "height": null,
            "justify_content": null,
            "justify_items": null,
            "left": null,
            "margin": null,
            "max_height": null,
            "max_width": null,
            "min_height": null,
            "min_width": null,
            "object_fit": null,
            "object_position": null,
            "order": null,
            "overflow": null,
            "overflow_x": null,
            "overflow_y": null,
            "padding": null,
            "right": null,
            "top": null,
            "visibility": null,
            "width": null
          }
        },
        "ea82796e5136413b9ec02f32f9ebcb40": {
          "model_module": "@jupyter-widgets/base",
          "model_name": "LayoutModel",
          "model_module_version": "1.2.0",
          "state": {
            "_model_module": "@jupyter-widgets/base",
            "_model_module_version": "1.2.0",
            "_model_name": "LayoutModel",
            "_view_count": null,
            "_view_module": "@jupyter-widgets/base",
            "_view_module_version": "1.2.0",
            "_view_name": "LayoutView",
            "align_content": null,
            "align_items": null,
            "align_self": null,
            "border": null,
            "bottom": null,
            "display": null,
            "flex": null,
            "flex_flow": null,
            "grid_area": null,
            "grid_auto_columns": null,
            "grid_auto_flow": null,
            "grid_auto_rows": null,
            "grid_column": null,
            "grid_gap": null,
            "grid_row": null,
            "grid_template_areas": null,
            "grid_template_columns": null,
            "grid_template_rows": null,
            "height": null,
            "justify_content": null,
            "justify_items": null,
            "left": null,
            "margin": null,
            "max_height": null,
            "max_width": null,
            "min_height": null,
            "min_width": null,
            "object_fit": null,
            "object_position": null,
            "order": null,
            "overflow": null,
            "overflow_x": null,
            "overflow_y": null,
            "padding": null,
            "right": null,
            "top": null,
            "visibility": null,
            "width": null
          }
        },
        "4a71ca1f582a41c689b9f5f22733b9f0": {
          "model_module": "@jupyter-widgets/controls",
          "model_name": "DescriptionStyleModel",
          "model_module_version": "1.5.0",
          "state": {
            "_model_module": "@jupyter-widgets/controls",
            "_model_module_version": "1.5.0",
            "_model_name": "DescriptionStyleModel",
            "_view_count": null,
            "_view_module": "@jupyter-widgets/base",
            "_view_module_version": "1.2.0",
            "_view_name": "StyleView",
            "description_width": ""
          }
        },
        "87f7c0357ffa4d1088debc27b3e5b06d": {
          "model_module": "@jupyter-widgets/base",
          "model_name": "LayoutModel",
          "model_module_version": "1.2.0",
          "state": {
            "_model_module": "@jupyter-widgets/base",
            "_model_module_version": "1.2.0",
            "_model_name": "LayoutModel",
            "_view_count": null,
            "_view_module": "@jupyter-widgets/base",
            "_view_module_version": "1.2.0",
            "_view_name": "LayoutView",
            "align_content": null,
            "align_items": null,
            "align_self": null,
            "border": null,
            "bottom": null,
            "display": null,
            "flex": null,
            "flex_flow": null,
            "grid_area": null,
            "grid_auto_columns": null,
            "grid_auto_flow": null,
            "grid_auto_rows": null,
            "grid_column": null,
            "grid_gap": null,
            "grid_row": null,
            "grid_template_areas": null,
            "grid_template_columns": null,
            "grid_template_rows": null,
            "height": null,
            "justify_content": null,
            "justify_items": null,
            "left": null,
            "margin": null,
            "max_height": null,
            "max_width": null,
            "min_height": null,
            "min_width": null,
            "object_fit": null,
            "object_position": null,
            "order": null,
            "overflow": null,
            "overflow_x": null,
            "overflow_y": null,
            "padding": null,
            "right": null,
            "top": null,
            "visibility": null,
            "width": null
          }
        },
        "a1759f1036a54a34bef63ef7aee455a0": {
          "model_module": "@jupyter-widgets/controls",
          "model_name": "ProgressStyleModel",
          "model_module_version": "1.5.0",
          "state": {
            "_model_module": "@jupyter-widgets/controls",
            "_model_module_version": "1.5.0",
            "_model_name": "ProgressStyleModel",
            "_view_count": null,
            "_view_module": "@jupyter-widgets/base",
            "_view_module_version": "1.2.0",
            "_view_name": "StyleView",
            "bar_color": null,
            "description_width": ""
          }
        },
        "e4e0c28d82d4409690127f7606d86250": {
          "model_module": "@jupyter-widgets/base",
          "model_name": "LayoutModel",
          "model_module_version": "1.2.0",
          "state": {
            "_model_module": "@jupyter-widgets/base",
            "_model_module_version": "1.2.0",
            "_model_name": "LayoutModel",
            "_view_count": null,
            "_view_module": "@jupyter-widgets/base",
            "_view_module_version": "1.2.0",
            "_view_name": "LayoutView",
            "align_content": null,
            "align_items": null,
            "align_self": null,
            "border": null,
            "bottom": null,
            "display": null,
            "flex": null,
            "flex_flow": null,
            "grid_area": null,
            "grid_auto_columns": null,
            "grid_auto_flow": null,
            "grid_auto_rows": null,
            "grid_column": null,
            "grid_gap": null,
            "grid_row": null,
            "grid_template_areas": null,
            "grid_template_columns": null,
            "grid_template_rows": null,
            "height": null,
            "justify_content": null,
            "justify_items": null,
            "left": null,
            "margin": null,
            "max_height": null,
            "max_width": null,
            "min_height": null,
            "min_width": null,
            "object_fit": null,
            "object_position": null,
            "order": null,
            "overflow": null,
            "overflow_x": null,
            "overflow_y": null,
            "padding": null,
            "right": null,
            "top": null,
            "visibility": null,
            "width": null
          }
        },
        "263c71e4d8cb4c8cb8c4aca80f239957": {
          "model_module": "@jupyter-widgets/controls",
          "model_name": "DescriptionStyleModel",
          "model_module_version": "1.5.0",
          "state": {
            "_model_module": "@jupyter-widgets/controls",
            "_model_module_version": "1.5.0",
            "_model_name": "DescriptionStyleModel",
            "_view_count": null,
            "_view_module": "@jupyter-widgets/base",
            "_view_module_version": "1.2.0",
            "_view_name": "StyleView",
            "description_width": ""
          }
        },
        "26b0c89e9f814fd89a4c115725dcee3a": {
          "model_module": "@jupyter-widgets/controls",
          "model_name": "HBoxModel",
          "model_module_version": "1.5.0",
          "state": {
            "_dom_classes": [],
            "_model_module": "@jupyter-widgets/controls",
            "_model_module_version": "1.5.0",
            "_model_name": "HBoxModel",
            "_view_count": null,
            "_view_module": "@jupyter-widgets/controls",
            "_view_module_version": "1.5.0",
            "_view_name": "HBoxView",
            "box_style": "",
            "children": [
              "IPY_MODEL_ce3d75b813564816aebd6454023a47b4",
              "IPY_MODEL_ba95ae46da5240c88330f3f60e3075b3",
              "IPY_MODEL_95cadf6d099848008c00cc0c9195232e"
            ],
            "layout": "IPY_MODEL_0d45896d0b654d37aa00dfe1e202b0ec"
          }
        },
        "ce3d75b813564816aebd6454023a47b4": {
          "model_module": "@jupyter-widgets/controls",
          "model_name": "HTMLModel",
          "model_module_version": "1.5.0",
          "state": {
            "_dom_classes": [],
            "_model_module": "@jupyter-widgets/controls",
            "_model_module_version": "1.5.0",
            "_model_name": "HTMLModel",
            "_view_count": null,
            "_view_module": "@jupyter-widgets/controls",
            "_view_module_version": "1.5.0",
            "_view_name": "HTMLView",
            "description": "",
            "description_tooltip": null,
            "layout": "IPY_MODEL_4e63cace242e4a05b1357f91127a1fe5",
            "placeholder": "​",
            "style": "IPY_MODEL_b09b9fe074324036b432e5c1c299cd3b",
            "value": "pytorch_model.bin: 100%"
          }
        },
        "ba95ae46da5240c88330f3f60e3075b3": {
          "model_module": "@jupyter-widgets/controls",
          "model_name": "FloatProgressModel",
          "model_module_version": "1.5.0",
          "state": {
            "_dom_classes": [],
            "_model_module": "@jupyter-widgets/controls",
            "_model_module_version": "1.5.0",
            "_model_name": "FloatProgressModel",
            "_view_count": null,
            "_view_module": "@jupyter-widgets/controls",
            "_view_module_version": "1.5.0",
            "_view_name": "ProgressView",
            "bar_style": "success",
            "description": "",
            "description_tooltip": null,
            "layout": "IPY_MODEL_c147466d4e3f45619d13b680d07d8cc9",
            "max": 442555061,
            "min": 0,
            "orientation": "horizontal",
            "style": "IPY_MODEL_bc2607938bcc472dbd4838d8f487b554",
            "value": 442555061
          }
        },
        "95cadf6d099848008c00cc0c9195232e": {
          "model_module": "@jupyter-widgets/controls",
          "model_name": "HTMLModel",
          "model_module_version": "1.5.0",
          "state": {
            "_dom_classes": [],
            "_model_module": "@jupyter-widgets/controls",
            "_model_module_version": "1.5.0",
            "_model_name": "HTMLModel",
            "_view_count": null,
            "_view_module": "@jupyter-widgets/controls",
            "_view_module_version": "1.5.0",
            "_view_name": "HTMLView",
            "description": "",
            "description_tooltip": null,
            "layout": "IPY_MODEL_eb9f52cf4d854cc5ade6222ddf051c36",
            "placeholder": "​",
            "style": "IPY_MODEL_64480997d4384c99aa51b3dab3700567",
            "value": " 443M/443M [00:11&lt;00:00, 39.1MB/s]"
          }
        },
        "0d45896d0b654d37aa00dfe1e202b0ec": {
          "model_module": "@jupyter-widgets/base",
          "model_name": "LayoutModel",
          "model_module_version": "1.2.0",
          "state": {
            "_model_module": "@jupyter-widgets/base",
            "_model_module_version": "1.2.0",
            "_model_name": "LayoutModel",
            "_view_count": null,
            "_view_module": "@jupyter-widgets/base",
            "_view_module_version": "1.2.0",
            "_view_name": "LayoutView",
            "align_content": null,
            "align_items": null,
            "align_self": null,
            "border": null,
            "bottom": null,
            "display": null,
            "flex": null,
            "flex_flow": null,
            "grid_area": null,
            "grid_auto_columns": null,
            "grid_auto_flow": null,
            "grid_auto_rows": null,
            "grid_column": null,
            "grid_gap": null,
            "grid_row": null,
            "grid_template_areas": null,
            "grid_template_columns": null,
            "grid_template_rows": null,
            "height": null,
            "justify_content": null,
            "justify_items": null,
            "left": null,
            "margin": null,
            "max_height": null,
            "max_width": null,
            "min_height": null,
            "min_width": null,
            "object_fit": null,
            "object_position": null,
            "order": null,
            "overflow": null,
            "overflow_x": null,
            "overflow_y": null,
            "padding": null,
            "right": null,
            "top": null,
            "visibility": null,
            "width": null
          }
        },
        "4e63cace242e4a05b1357f91127a1fe5": {
          "model_module": "@jupyter-widgets/base",
          "model_name": "LayoutModel",
          "model_module_version": "1.2.0",
          "state": {
            "_model_module": "@jupyter-widgets/base",
            "_model_module_version": "1.2.0",
            "_model_name": "LayoutModel",
            "_view_count": null,
            "_view_module": "@jupyter-widgets/base",
            "_view_module_version": "1.2.0",
            "_view_name": "LayoutView",
            "align_content": null,
            "align_items": null,
            "align_self": null,
            "border": null,
            "bottom": null,
            "display": null,
            "flex": null,
            "flex_flow": null,
            "grid_area": null,
            "grid_auto_columns": null,
            "grid_auto_flow": null,
            "grid_auto_rows": null,
            "grid_column": null,
            "grid_gap": null,
            "grid_row": null,
            "grid_template_areas": null,
            "grid_template_columns": null,
            "grid_template_rows": null,
            "height": null,
            "justify_content": null,
            "justify_items": null,
            "left": null,
            "margin": null,
            "max_height": null,
            "max_width": null,
            "min_height": null,
            "min_width": null,
            "object_fit": null,
            "object_position": null,
            "order": null,
            "overflow": null,
            "overflow_x": null,
            "overflow_y": null,
            "padding": null,
            "right": null,
            "top": null,
            "visibility": null,
            "width": null
          }
        },
        "b09b9fe074324036b432e5c1c299cd3b": {
          "model_module": "@jupyter-widgets/controls",
          "model_name": "DescriptionStyleModel",
          "model_module_version": "1.5.0",
          "state": {
            "_model_module": "@jupyter-widgets/controls",
            "_model_module_version": "1.5.0",
            "_model_name": "DescriptionStyleModel",
            "_view_count": null,
            "_view_module": "@jupyter-widgets/base",
            "_view_module_version": "1.2.0",
            "_view_name": "StyleView",
            "description_width": ""
          }
        },
        "c147466d4e3f45619d13b680d07d8cc9": {
          "model_module": "@jupyter-widgets/base",
          "model_name": "LayoutModel",
          "model_module_version": "1.2.0",
          "state": {
            "_model_module": "@jupyter-widgets/base",
            "_model_module_version": "1.2.0",
            "_model_name": "LayoutModel",
            "_view_count": null,
            "_view_module": "@jupyter-widgets/base",
            "_view_module_version": "1.2.0",
            "_view_name": "LayoutView",
            "align_content": null,
            "align_items": null,
            "align_self": null,
            "border": null,
            "bottom": null,
            "display": null,
            "flex": null,
            "flex_flow": null,
            "grid_area": null,
            "grid_auto_columns": null,
            "grid_auto_flow": null,
            "grid_auto_rows": null,
            "grid_column": null,
            "grid_gap": null,
            "grid_row": null,
            "grid_template_areas": null,
            "grid_template_columns": null,
            "grid_template_rows": null,
            "height": null,
            "justify_content": null,
            "justify_items": null,
            "left": null,
            "margin": null,
            "max_height": null,
            "max_width": null,
            "min_height": null,
            "min_width": null,
            "object_fit": null,
            "object_position": null,
            "order": null,
            "overflow": null,
            "overflow_x": null,
            "overflow_y": null,
            "padding": null,
            "right": null,
            "top": null,
            "visibility": null,
            "width": null
          }
        },
        "bc2607938bcc472dbd4838d8f487b554": {
          "model_module": "@jupyter-widgets/controls",
          "model_name": "ProgressStyleModel",
          "model_module_version": "1.5.0",
          "state": {
            "_model_module": "@jupyter-widgets/controls",
            "_model_module_version": "1.5.0",
            "_model_name": "ProgressStyleModel",
            "_view_count": null,
            "_view_module": "@jupyter-widgets/base",
            "_view_module_version": "1.2.0",
            "_view_name": "StyleView",
            "bar_color": null,
            "description_width": ""
          }
        },
        "eb9f52cf4d854cc5ade6222ddf051c36": {
          "model_module": "@jupyter-widgets/base",
          "model_name": "LayoutModel",
          "model_module_version": "1.2.0",
          "state": {
            "_model_module": "@jupyter-widgets/base",
            "_model_module_version": "1.2.0",
            "_model_name": "LayoutModel",
            "_view_count": null,
            "_view_module": "@jupyter-widgets/base",
            "_view_module_version": "1.2.0",
            "_view_name": "LayoutView",
            "align_content": null,
            "align_items": null,
            "align_self": null,
            "border": null,
            "bottom": null,
            "display": null,
            "flex": null,
            "flex_flow": null,
            "grid_area": null,
            "grid_auto_columns": null,
            "grid_auto_flow": null,
            "grid_auto_rows": null,
            "grid_column": null,
            "grid_gap": null,
            "grid_row": null,
            "grid_template_areas": null,
            "grid_template_columns": null,
            "grid_template_rows": null,
            "height": null,
            "justify_content": null,
            "justify_items": null,
            "left": null,
            "margin": null,
            "max_height": null,
            "max_width": null,
            "min_height": null,
            "min_width": null,
            "object_fit": null,
            "object_position": null,
            "order": null,
            "overflow": null,
            "overflow_x": null,
            "overflow_y": null,
            "padding": null,
            "right": null,
            "top": null,
            "visibility": null,
            "width": null
          }
        },
        "64480997d4384c99aa51b3dab3700567": {
          "model_module": "@jupyter-widgets/controls",
          "model_name": "DescriptionStyleModel",
          "model_module_version": "1.5.0",
          "state": {
            "_model_module": "@jupyter-widgets/controls",
            "_model_module_version": "1.5.0",
            "_model_name": "DescriptionStyleModel",
            "_view_count": null,
            "_view_module": "@jupyter-widgets/base",
            "_view_module_version": "1.2.0",
            "_view_name": "StyleView",
            "description_width": ""
          }
        },
        "a7e0a504be814262a5f184965c8d24c7": {
          "model_module": "@jupyter-widgets/controls",
          "model_name": "HBoxModel",
          "model_module_version": "1.5.0",
          "state": {
            "_dom_classes": [],
            "_model_module": "@jupyter-widgets/controls",
            "_model_module_version": "1.5.0",
            "_model_name": "HBoxModel",
            "_view_count": null,
            "_view_module": "@jupyter-widgets/controls",
            "_view_module_version": "1.5.0",
            "_view_name": "HBoxView",
            "box_style": "",
            "children": [
              "IPY_MODEL_1a6ed244906c43028307f22476ff4dc0",
              "IPY_MODEL_24ef1fc10a0c4148ab7db8be5e7f95cf",
              "IPY_MODEL_4b286d17c0a84bb99f97c32000fbdb4b"
            ],
            "layout": "IPY_MODEL_871f260239174ff6a7458509dacccc9f"
          }
        },
        "1a6ed244906c43028307f22476ff4dc0": {
          "model_module": "@jupyter-widgets/controls",
          "model_name": "HTMLModel",
          "model_module_version": "1.5.0",
          "state": {
            "_dom_classes": [],
            "_model_module": "@jupyter-widgets/controls",
            "_model_module_version": "1.5.0",
            "_model_name": "HTMLModel",
            "_view_count": null,
            "_view_module": "@jupyter-widgets/controls",
            "_view_module_version": "1.5.0",
            "_view_name": "HTMLView",
            "description": "",
            "description_tooltip": null,
            "layout": "IPY_MODEL_cd5814f4bc5241e3b50a82a27da1c7ba",
            "placeholder": "​",
            "style": "IPY_MODEL_908a65c5ccbc478a81ebae9b45d61435",
            "value": "tokenizer_config.json: 100%"
          }
        },
        "24ef1fc10a0c4148ab7db8be5e7f95cf": {
          "model_module": "@jupyter-widgets/controls",
          "model_name": "FloatProgressModel",
          "model_module_version": "1.5.0",
          "state": {
            "_dom_classes": [],
            "_model_module": "@jupyter-widgets/controls",
            "_model_module_version": "1.5.0",
            "_model_name": "FloatProgressModel",
            "_view_count": null,
            "_view_module": "@jupyter-widgets/controls",
            "_view_module_version": "1.5.0",
            "_view_name": "ProgressView",
            "bar_style": "success",
            "description": "",
            "description_tooltip": null,
            "layout": "IPY_MODEL_a850074b3c1b4922b094370e6b7a43ff",
            "max": 415,
            "min": 0,
            "orientation": "horizontal",
            "style": "IPY_MODEL_d9ecb3d69fec48b8ace82d77b5f0b1b4",
            "value": 415
          }
        },
        "4b286d17c0a84bb99f97c32000fbdb4b": {
          "model_module": "@jupyter-widgets/controls",
          "model_name": "HTMLModel",
          "model_module_version": "1.5.0",
          "state": {
            "_dom_classes": [],
            "_model_module": "@jupyter-widgets/controls",
            "_model_module_version": "1.5.0",
            "_model_name": "HTMLModel",
            "_view_count": null,
            "_view_module": "@jupyter-widgets/controls",
            "_view_module_version": "1.5.0",
            "_view_name": "HTMLView",
            "description": "",
            "description_tooltip": null,
            "layout": "IPY_MODEL_2e38a1c5d99d48b88ad05444bfd49e94",
            "placeholder": "​",
            "style": "IPY_MODEL_580881ff5e6c4e4185d2d92897c909a3",
            "value": " 415/415 [00:00&lt;00:00, 18.8kB/s]"
          }
        },
        "871f260239174ff6a7458509dacccc9f": {
          "model_module": "@jupyter-widgets/base",
          "model_name": "LayoutModel",
          "model_module_version": "1.2.0",
          "state": {
            "_model_module": "@jupyter-widgets/base",
            "_model_module_version": "1.2.0",
            "_model_name": "LayoutModel",
            "_view_count": null,
            "_view_module": "@jupyter-widgets/base",
            "_view_module_version": "1.2.0",
            "_view_name": "LayoutView",
            "align_content": null,
            "align_items": null,
            "align_self": null,
            "border": null,
            "bottom": null,
            "display": null,
            "flex": null,
            "flex_flow": null,
            "grid_area": null,
            "grid_auto_columns": null,
            "grid_auto_flow": null,
            "grid_auto_rows": null,
            "grid_column": null,
            "grid_gap": null,
            "grid_row": null,
            "grid_template_areas": null,
            "grid_template_columns": null,
            "grid_template_rows": null,
            "height": null,
            "justify_content": null,
            "justify_items": null,
            "left": null,
            "margin": null,
            "max_height": null,
            "max_width": null,
            "min_height": null,
            "min_width": null,
            "object_fit": null,
            "object_position": null,
            "order": null,
            "overflow": null,
            "overflow_x": null,
            "overflow_y": null,
            "padding": null,
            "right": null,
            "top": null,
            "visibility": null,
            "width": null
          }
        },
        "cd5814f4bc5241e3b50a82a27da1c7ba": {
          "model_module": "@jupyter-widgets/base",
          "model_name": "LayoutModel",
          "model_module_version": "1.2.0",
          "state": {
            "_model_module": "@jupyter-widgets/base",
            "_model_module_version": "1.2.0",
            "_model_name": "LayoutModel",
            "_view_count": null,
            "_view_module": "@jupyter-widgets/base",
            "_view_module_version": "1.2.0",
            "_view_name": "LayoutView",
            "align_content": null,
            "align_items": null,
            "align_self": null,
            "border": null,
            "bottom": null,
            "display": null,
            "flex": null,
            "flex_flow": null,
            "grid_area": null,
            "grid_auto_columns": null,
            "grid_auto_flow": null,
            "grid_auto_rows": null,
            "grid_column": null,
            "grid_gap": null,
            "grid_row": null,
            "grid_template_areas": null,
            "grid_template_columns": null,
            "grid_template_rows": null,
            "height": null,
            "justify_content": null,
            "justify_items": null,
            "left": null,
            "margin": null,
            "max_height": null,
            "max_width": null,
            "min_height": null,
            "min_width": null,
            "object_fit": null,
            "object_position": null,
            "order": null,
            "overflow": null,
            "overflow_x": null,
            "overflow_y": null,
            "padding": null,
            "right": null,
            "top": null,
            "visibility": null,
            "width": null
          }
        },
        "908a65c5ccbc478a81ebae9b45d61435": {
          "model_module": "@jupyter-widgets/controls",
          "model_name": "DescriptionStyleModel",
          "model_module_version": "1.5.0",
          "state": {
            "_model_module": "@jupyter-widgets/controls",
            "_model_module_version": "1.5.0",
            "_model_name": "DescriptionStyleModel",
            "_view_count": null,
            "_view_module": "@jupyter-widgets/base",
            "_view_module_version": "1.2.0",
            "_view_name": "StyleView",
            "description_width": ""
          }
        },
        "a850074b3c1b4922b094370e6b7a43ff": {
          "model_module": "@jupyter-widgets/base",
          "model_name": "LayoutModel",
          "model_module_version": "1.2.0",
          "state": {
            "_model_module": "@jupyter-widgets/base",
            "_model_module_version": "1.2.0",
            "_model_name": "LayoutModel",
            "_view_count": null,
            "_view_module": "@jupyter-widgets/base",
            "_view_module_version": "1.2.0",
            "_view_name": "LayoutView",
            "align_content": null,
            "align_items": null,
            "align_self": null,
            "border": null,
            "bottom": null,
            "display": null,
            "flex": null,
            "flex_flow": null,
            "grid_area": null,
            "grid_auto_columns": null,
            "grid_auto_flow": null,
            "grid_auto_rows": null,
            "grid_column": null,
            "grid_gap": null,
            "grid_row": null,
            "grid_template_areas": null,
            "grid_template_columns": null,
            "grid_template_rows": null,
            "height": null,
            "justify_content": null,
            "justify_items": null,
            "left": null,
            "margin": null,
            "max_height": null,
            "max_width": null,
            "min_height": null,
            "min_width": null,
            "object_fit": null,
            "object_position": null,
            "order": null,
            "overflow": null,
            "overflow_x": null,
            "overflow_y": null,
            "padding": null,
            "right": null,
            "top": null,
            "visibility": null,
            "width": null
          }
        },
        "d9ecb3d69fec48b8ace82d77b5f0b1b4": {
          "model_module": "@jupyter-widgets/controls",
          "model_name": "ProgressStyleModel",
          "model_module_version": "1.5.0",
          "state": {
            "_model_module": "@jupyter-widgets/controls",
            "_model_module_version": "1.5.0",
            "_model_name": "ProgressStyleModel",
            "_view_count": null,
            "_view_module": "@jupyter-widgets/base",
            "_view_module_version": "1.2.0",
            "_view_name": "StyleView",
            "bar_color": null,
            "description_width": ""
          }
        },
        "2e38a1c5d99d48b88ad05444bfd49e94": {
          "model_module": "@jupyter-widgets/base",
          "model_name": "LayoutModel",
          "model_module_version": "1.2.0",
          "state": {
            "_model_module": "@jupyter-widgets/base",
            "_model_module_version": "1.2.0",
            "_model_name": "LayoutModel",
            "_view_count": null,
            "_view_module": "@jupyter-widgets/base",
            "_view_module_version": "1.2.0",
            "_view_name": "LayoutView",
            "align_content": null,
            "align_items": null,
            "align_self": null,
            "border": null,
            "bottom": null,
            "display": null,
            "flex": null,
            "flex_flow": null,
            "grid_area": null,
            "grid_auto_columns": null,
            "grid_auto_flow": null,
            "grid_auto_rows": null,
            "grid_column": null,
            "grid_gap": null,
            "grid_row": null,
            "grid_template_areas": null,
            "grid_template_columns": null,
            "grid_template_rows": null,
            "height": null,
            "justify_content": null,
            "justify_items": null,
            "left": null,
            "margin": null,
            "max_height": null,
            "max_width": null,
            "min_height": null,
            "min_width": null,
            "object_fit": null,
            "object_position": null,
            "order": null,
            "overflow": null,
            "overflow_x": null,
            "overflow_y": null,
            "padding": null,
            "right": null,
            "top": null,
            "visibility": null,
            "width": null
          }
        },
        "580881ff5e6c4e4185d2d92897c909a3": {
          "model_module": "@jupyter-widgets/controls",
          "model_name": "DescriptionStyleModel",
          "model_module_version": "1.5.0",
          "state": {
            "_model_module": "@jupyter-widgets/controls",
            "_model_module_version": "1.5.0",
            "_model_name": "DescriptionStyleModel",
            "_view_count": null,
            "_view_module": "@jupyter-widgets/base",
            "_view_module_version": "1.2.0",
            "_view_name": "StyleView",
            "description_width": ""
          }
        },
        "458c95a38d074d28a80d31ee3c0700c0": {
          "model_module": "@jupyter-widgets/controls",
          "model_name": "HBoxModel",
          "model_module_version": "1.5.0",
          "state": {
            "_dom_classes": [],
            "_model_module": "@jupyter-widgets/controls",
            "_model_module_version": "1.5.0",
            "_model_name": "HBoxModel",
            "_view_count": null,
            "_view_module": "@jupyter-widgets/controls",
            "_view_module_version": "1.5.0",
            "_view_name": "HBoxView",
            "box_style": "",
            "children": [
              "IPY_MODEL_3a2bd2fbf8224e73a4668767f44e14f1",
              "IPY_MODEL_fa08b69ea51c427cad818896df13a13e",
              "IPY_MODEL_c87c05551c53463dba724b1a93665e9c"
            ],
            "layout": "IPY_MODEL_aa18a003a7de4761ba434554b3db71ef"
          }
        },
        "3a2bd2fbf8224e73a4668767f44e14f1": {
          "model_module": "@jupyter-widgets/controls",
          "model_name": "HTMLModel",
          "model_module_version": "1.5.0",
          "state": {
            "_dom_classes": [],
            "_model_module": "@jupyter-widgets/controls",
            "_model_module_version": "1.5.0",
            "_model_name": "HTMLModel",
            "_view_count": null,
            "_view_module": "@jupyter-widgets/controls",
            "_view_module_version": "1.5.0",
            "_view_name": "HTMLView",
            "description": "",
            "description_tooltip": null,
            "layout": "IPY_MODEL_cae9650d6f4c4152b84490b253bec469",
            "placeholder": "​",
            "style": "IPY_MODEL_664ddb38d8964a26be0f6de092d00ca3",
            "value": "vocab.txt: 100%"
          }
        },
        "fa08b69ea51c427cad818896df13a13e": {
          "model_module": "@jupyter-widgets/controls",
          "model_name": "FloatProgressModel",
          "model_module_version": "1.5.0",
          "state": {
            "_dom_classes": [],
            "_model_module": "@jupyter-widgets/controls",
            "_model_module_version": "1.5.0",
            "_model_name": "FloatProgressModel",
            "_view_count": null,
            "_view_module": "@jupyter-widgets/controls",
            "_view_module_version": "1.5.0",
            "_view_name": "ProgressView",
            "bar_style": "success",
            "description": "",
            "description_tooltip": null,
            "layout": "IPY_MODEL_ed945c27272540e28a190ceb20fc37a5",
            "max": 248477,
            "min": 0,
            "orientation": "horizontal",
            "style": "IPY_MODEL_e0d2e052f6db45ccbcb27208bc0153b6",
            "value": 248477
          }
        },
        "c87c05551c53463dba724b1a93665e9c": {
          "model_module": "@jupyter-widgets/controls",
          "model_name": "HTMLModel",
          "model_module_version": "1.5.0",
          "state": {
            "_dom_classes": [],
            "_model_module": "@jupyter-widgets/controls",
            "_model_module_version": "1.5.0",
            "_model_name": "HTMLModel",
            "_view_count": null,
            "_view_module": "@jupyter-widgets/controls",
            "_view_module_version": "1.5.0",
            "_view_name": "HTMLView",
            "description": "",
            "description_tooltip": null,
            "layout": "IPY_MODEL_f02c0e35d853423bb33601e28417369f",
            "placeholder": "​",
            "style": "IPY_MODEL_4fb7078f7c4248c991895876ef23844f",
            "value": " 248k/248k [00:00&lt;00:00, 1.64MB/s]"
          }
        },
        "aa18a003a7de4761ba434554b3db71ef": {
          "model_module": "@jupyter-widgets/base",
          "model_name": "LayoutModel",
          "model_module_version": "1.2.0",
          "state": {
            "_model_module": "@jupyter-widgets/base",
            "_model_module_version": "1.2.0",
            "_model_name": "LayoutModel",
            "_view_count": null,
            "_view_module": "@jupyter-widgets/base",
            "_view_module_version": "1.2.0",
            "_view_name": "LayoutView",
            "align_content": null,
            "align_items": null,
            "align_self": null,
            "border": null,
            "bottom": null,
            "display": null,
            "flex": null,
            "flex_flow": null,
            "grid_area": null,
            "grid_auto_columns": null,
            "grid_auto_flow": null,
            "grid_auto_rows": null,
            "grid_column": null,
            "grid_gap": null,
            "grid_row": null,
            "grid_template_areas": null,
            "grid_template_columns": null,
            "grid_template_rows": null,
            "height": null,
            "justify_content": null,
            "justify_items": null,
            "left": null,
            "margin": null,
            "max_height": null,
            "max_width": null,
            "min_height": null,
            "min_width": null,
            "object_fit": null,
            "object_position": null,
            "order": null,
            "overflow": null,
            "overflow_x": null,
            "overflow_y": null,
            "padding": null,
            "right": null,
            "top": null,
            "visibility": null,
            "width": null
          }
        },
        "cae9650d6f4c4152b84490b253bec469": {
          "model_module": "@jupyter-widgets/base",
          "model_name": "LayoutModel",
          "model_module_version": "1.2.0",
          "state": {
            "_model_module": "@jupyter-widgets/base",
            "_model_module_version": "1.2.0",
            "_model_name": "LayoutModel",
            "_view_count": null,
            "_view_module": "@jupyter-widgets/base",
            "_view_module_version": "1.2.0",
            "_view_name": "LayoutView",
            "align_content": null,
            "align_items": null,
            "align_self": null,
            "border": null,
            "bottom": null,
            "display": null,
            "flex": null,
            "flex_flow": null,
            "grid_area": null,
            "grid_auto_columns": null,
            "grid_auto_flow": null,
            "grid_auto_rows": null,
            "grid_column": null,
            "grid_gap": null,
            "grid_row": null,
            "grid_template_areas": null,
            "grid_template_columns": null,
            "grid_template_rows": null,
            "height": null,
            "justify_content": null,
            "justify_items": null,
            "left": null,
            "margin": null,
            "max_height": null,
            "max_width": null,
            "min_height": null,
            "min_width": null,
            "object_fit": null,
            "object_position": null,
            "order": null,
            "overflow": null,
            "overflow_x": null,
            "overflow_y": null,
            "padding": null,
            "right": null,
            "top": null,
            "visibility": null,
            "width": null
          }
        },
        "664ddb38d8964a26be0f6de092d00ca3": {
          "model_module": "@jupyter-widgets/controls",
          "model_name": "DescriptionStyleModel",
          "model_module_version": "1.5.0",
          "state": {
            "_model_module": "@jupyter-widgets/controls",
            "_model_module_version": "1.5.0",
            "_model_name": "DescriptionStyleModel",
            "_view_count": null,
            "_view_module": "@jupyter-widgets/base",
            "_view_module_version": "1.2.0",
            "_view_name": "StyleView",
            "description_width": ""
          }
        },
        "ed945c27272540e28a190ceb20fc37a5": {
          "model_module": "@jupyter-widgets/base",
          "model_name": "LayoutModel",
          "model_module_version": "1.2.0",
          "state": {
            "_model_module": "@jupyter-widgets/base",
            "_model_module_version": "1.2.0",
            "_model_name": "LayoutModel",
            "_view_count": null,
            "_view_module": "@jupyter-widgets/base",
            "_view_module_version": "1.2.0",
            "_view_name": "LayoutView",
            "align_content": null,
            "align_items": null,
            "align_self": null,
            "border": null,
            "bottom": null,
            "display": null,
            "flex": null,
            "flex_flow": null,
            "grid_area": null,
            "grid_auto_columns": null,
            "grid_auto_flow": null,
            "grid_auto_rows": null,
            "grid_column": null,
            "grid_gap": null,
            "grid_row": null,
            "grid_template_areas": null,
            "grid_template_columns": null,
            "grid_template_rows": null,
            "height": null,
            "justify_content": null,
            "justify_items": null,
            "left": null,
            "margin": null,
            "max_height": null,
            "max_width": null,
            "min_height": null,
            "min_width": null,
            "object_fit": null,
            "object_position": null,
            "order": null,
            "overflow": null,
            "overflow_x": null,
            "overflow_y": null,
            "padding": null,
            "right": null,
            "top": null,
            "visibility": null,
            "width": null
          }
        },
        "e0d2e052f6db45ccbcb27208bc0153b6": {
          "model_module": "@jupyter-widgets/controls",
          "model_name": "ProgressStyleModel",
          "model_module_version": "1.5.0",
          "state": {
            "_model_module": "@jupyter-widgets/controls",
            "_model_module_version": "1.5.0",
            "_model_name": "ProgressStyleModel",
            "_view_count": null,
            "_view_module": "@jupyter-widgets/base",
            "_view_module_version": "1.2.0",
            "_view_name": "StyleView",
            "bar_color": null,
            "description_width": ""
          }
        },
        "f02c0e35d853423bb33601e28417369f": {
          "model_module": "@jupyter-widgets/base",
          "model_name": "LayoutModel",
          "model_module_version": "1.2.0",
          "state": {
            "_model_module": "@jupyter-widgets/base",
            "_model_module_version": "1.2.0",
            "_model_name": "LayoutModel",
            "_view_count": null,
            "_view_module": "@jupyter-widgets/base",
            "_view_module_version": "1.2.0",
            "_view_name": "LayoutView",
            "align_content": null,
            "align_items": null,
            "align_self": null,
            "border": null,
            "bottom": null,
            "display": null,
            "flex": null,
            "flex_flow": null,
            "grid_area": null,
            "grid_auto_columns": null,
            "grid_auto_flow": null,
            "grid_auto_rows": null,
            "grid_column": null,
            "grid_gap": null,
            "grid_row": null,
            "grid_template_areas": null,
            "grid_template_columns": null,
            "grid_template_rows": null,
            "height": null,
            "justify_content": null,
            "justify_items": null,
            "left": null,
            "margin": null,
            "max_height": null,
            "max_width": null,
            "min_height": null,
            "min_width": null,
            "object_fit": null,
            "object_position": null,
            "order": null,
            "overflow": null,
            "overflow_x": null,
            "overflow_y": null,
            "padding": null,
            "right": null,
            "top": null,
            "visibility": null,
            "width": null
          }
        },
        "4fb7078f7c4248c991895876ef23844f": {
          "model_module": "@jupyter-widgets/controls",
          "model_name": "DescriptionStyleModel",
          "model_module_version": "1.5.0",
          "state": {
            "_model_module": "@jupyter-widgets/controls",
            "_model_module_version": "1.5.0",
            "_model_name": "DescriptionStyleModel",
            "_view_count": null,
            "_view_module": "@jupyter-widgets/base",
            "_view_module_version": "1.2.0",
            "_view_name": "StyleView",
            "description_width": ""
          }
        },
        "11c00e6683f74e16b95fa6772b0a7b83": {
          "model_module": "@jupyter-widgets/controls",
          "model_name": "HBoxModel",
          "model_module_version": "1.5.0",
          "state": {
            "_dom_classes": [],
            "_model_module": "@jupyter-widgets/controls",
            "_model_module_version": "1.5.0",
            "_model_name": "HBoxModel",
            "_view_count": null,
            "_view_module": "@jupyter-widgets/controls",
            "_view_module_version": "1.5.0",
            "_view_name": "HBoxView",
            "box_style": "",
            "children": [
              "IPY_MODEL_ba4ea6abb4ef469483e1e968bc88612f",
              "IPY_MODEL_986f12aa5e594db48555e41d9137388c",
              "IPY_MODEL_998ff50bdc414e36a2b44df6b1faf808"
            ],
            "layout": "IPY_MODEL_86e629fb44c2415995f534d825669ec0"
          }
        },
        "ba4ea6abb4ef469483e1e968bc88612f": {
          "model_module": "@jupyter-widgets/controls",
          "model_name": "HTMLModel",
          "model_module_version": "1.5.0",
          "state": {
            "_dom_classes": [],
            "_model_module": "@jupyter-widgets/controls",
            "_model_module_version": "1.5.0",
            "_model_name": "HTMLModel",
            "_view_count": null,
            "_view_module": "@jupyter-widgets/controls",
            "_view_module_version": "1.5.0",
            "_view_name": "HTMLView",
            "description": "",
            "description_tooltip": null,
            "layout": "IPY_MODEL_8a3bd061de4e4f3ba3404ce375738ecf",
            "placeholder": "​",
            "style": "IPY_MODEL_25afc8ca3e014358939010e98d7250fc",
            "value": "tokenizer.json: 100%"
          }
        },
        "986f12aa5e594db48555e41d9137388c": {
          "model_module": "@jupyter-widgets/controls",
          "model_name": "FloatProgressModel",
          "model_module_version": "1.5.0",
          "state": {
            "_dom_classes": [],
            "_model_module": "@jupyter-widgets/controls",
            "_model_module_version": "1.5.0",
            "_model_name": "FloatProgressModel",
            "_view_count": null,
            "_view_module": "@jupyter-widgets/controls",
            "_view_module_version": "1.5.0",
            "_view_name": "ProgressView",
            "bar_style": "success",
            "description": "",
            "description_tooltip": null,
            "layout": "IPY_MODEL_e5db38b475a4484abeb0b0f91b1132e6",
            "max": 752097,
            "min": 0,
            "orientation": "horizontal",
            "style": "IPY_MODEL_a60db52a6ed4445e849a85bbcd978dea",
            "value": 752097
          }
        },
        "998ff50bdc414e36a2b44df6b1faf808": {
          "model_module": "@jupyter-widgets/controls",
          "model_name": "HTMLModel",
          "model_module_version": "1.5.0",
          "state": {
            "_dom_classes": [],
            "_model_module": "@jupyter-widgets/controls",
            "_model_module_version": "1.5.0",
            "_model_name": "HTMLModel",
            "_view_count": null,
            "_view_module": "@jupyter-widgets/controls",
            "_view_module_version": "1.5.0",
            "_view_name": "HTMLView",
            "description": "",
            "description_tooltip": null,
            "layout": "IPY_MODEL_ad7112b403d94a64bdc87fa5484ad415",
            "placeholder": "​",
            "style": "IPY_MODEL_c118f470a8f2490a8172134ce8497d9f",
            "value": " 752k/752k [00:00&lt;00:00, 5.28MB/s]"
          }
        },
        "86e629fb44c2415995f534d825669ec0": {
          "model_module": "@jupyter-widgets/base",
          "model_name": "LayoutModel",
          "model_module_version": "1.2.0",
          "state": {
            "_model_module": "@jupyter-widgets/base",
            "_model_module_version": "1.2.0",
            "_model_name": "LayoutModel",
            "_view_count": null,
            "_view_module": "@jupyter-widgets/base",
            "_view_module_version": "1.2.0",
            "_view_name": "LayoutView",
            "align_content": null,
            "align_items": null,
            "align_self": null,
            "border": null,
            "bottom": null,
            "display": null,
            "flex": null,
            "flex_flow": null,
            "grid_area": null,
            "grid_auto_columns": null,
            "grid_auto_flow": null,
            "grid_auto_rows": null,
            "grid_column": null,
            "grid_gap": null,
            "grid_row": null,
            "grid_template_areas": null,
            "grid_template_columns": null,
            "grid_template_rows": null,
            "height": null,
            "justify_content": null,
            "justify_items": null,
            "left": null,
            "margin": null,
            "max_height": null,
            "max_width": null,
            "min_height": null,
            "min_width": null,
            "object_fit": null,
            "object_position": null,
            "order": null,
            "overflow": null,
            "overflow_x": null,
            "overflow_y": null,
            "padding": null,
            "right": null,
            "top": null,
            "visibility": null,
            "width": null
          }
        },
        "8a3bd061de4e4f3ba3404ce375738ecf": {
          "model_module": "@jupyter-widgets/base",
          "model_name": "LayoutModel",
          "model_module_version": "1.2.0",
          "state": {
            "_model_module": "@jupyter-widgets/base",
            "_model_module_version": "1.2.0",
            "_model_name": "LayoutModel",
            "_view_count": null,
            "_view_module": "@jupyter-widgets/base",
            "_view_module_version": "1.2.0",
            "_view_name": "LayoutView",
            "align_content": null,
            "align_items": null,
            "align_self": null,
            "border": null,
            "bottom": null,
            "display": null,
            "flex": null,
            "flex_flow": null,
            "grid_area": null,
            "grid_auto_columns": null,
            "grid_auto_flow": null,
            "grid_auto_rows": null,
            "grid_column": null,
            "grid_gap": null,
            "grid_row": null,
            "grid_template_areas": null,
            "grid_template_columns": null,
            "grid_template_rows": null,
            "height": null,
            "justify_content": null,
            "justify_items": null,
            "left": null,
            "margin": null,
            "max_height": null,
            "max_width": null,
            "min_height": null,
            "min_width": null,
            "object_fit": null,
            "object_position": null,
            "order": null,
            "overflow": null,
            "overflow_x": null,
            "overflow_y": null,
            "padding": null,
            "right": null,
            "top": null,
            "visibility": null,
            "width": null
          }
        },
        "25afc8ca3e014358939010e98d7250fc": {
          "model_module": "@jupyter-widgets/controls",
          "model_name": "DescriptionStyleModel",
          "model_module_version": "1.5.0",
          "state": {
            "_model_module": "@jupyter-widgets/controls",
            "_model_module_version": "1.5.0",
            "_model_name": "DescriptionStyleModel",
            "_view_count": null,
            "_view_module": "@jupyter-widgets/base",
            "_view_module_version": "1.2.0",
            "_view_name": "StyleView",
            "description_width": ""
          }
        },
        "e5db38b475a4484abeb0b0f91b1132e6": {
          "model_module": "@jupyter-widgets/base",
          "model_name": "LayoutModel",
          "model_module_version": "1.2.0",
          "state": {
            "_model_module": "@jupyter-widgets/base",
            "_model_module_version": "1.2.0",
            "_model_name": "LayoutModel",
            "_view_count": null,
            "_view_module": "@jupyter-widgets/base",
            "_view_module_version": "1.2.0",
            "_view_name": "LayoutView",
            "align_content": null,
            "align_items": null,
            "align_self": null,
            "border": null,
            "bottom": null,
            "display": null,
            "flex": null,
            "flex_flow": null,
            "grid_area": null,
            "grid_auto_columns": null,
            "grid_auto_flow": null,
            "grid_auto_rows": null,
            "grid_column": null,
            "grid_gap": null,
            "grid_row": null,
            "grid_template_areas": null,
            "grid_template_columns": null,
            "grid_template_rows": null,
            "height": null,
            "justify_content": null,
            "justify_items": null,
            "left": null,
            "margin": null,
            "max_height": null,
            "max_width": null,
            "min_height": null,
            "min_width": null,
            "object_fit": null,
            "object_position": null,
            "order": null,
            "overflow": null,
            "overflow_x": null,
            "overflow_y": null,
            "padding": null,
            "right": null,
            "top": null,
            "visibility": null,
            "width": null
          }
        },
        "a60db52a6ed4445e849a85bbcd978dea": {
          "model_module": "@jupyter-widgets/controls",
          "model_name": "ProgressStyleModel",
          "model_module_version": "1.5.0",
          "state": {
            "_model_module": "@jupyter-widgets/controls",
            "_model_module_version": "1.5.0",
            "_model_name": "ProgressStyleModel",
            "_view_count": null,
            "_view_module": "@jupyter-widgets/base",
            "_view_module_version": "1.2.0",
            "_view_name": "StyleView",
            "bar_color": null,
            "description_width": ""
          }
        },
        "ad7112b403d94a64bdc87fa5484ad415": {
          "model_module": "@jupyter-widgets/base",
          "model_name": "LayoutModel",
          "model_module_version": "1.2.0",
          "state": {
            "_model_module": "@jupyter-widgets/base",
            "_model_module_version": "1.2.0",
            "_model_name": "LayoutModel",
            "_view_count": null,
            "_view_module": "@jupyter-widgets/base",
            "_view_module_version": "1.2.0",
            "_view_name": "LayoutView",
            "align_content": null,
            "align_items": null,
            "align_self": null,
            "border": null,
            "bottom": null,
            "display": null,
            "flex": null,
            "flex_flow": null,
            "grid_area": null,
            "grid_auto_columns": null,
            "grid_auto_flow": null,
            "grid_auto_rows": null,
            "grid_column": null,
            "grid_gap": null,
            "grid_row": null,
            "grid_template_areas": null,
            "grid_template_columns": null,
            "grid_template_rows": null,
            "height": null,
            "justify_content": null,
            "justify_items": null,
            "left": null,
            "margin": null,
            "max_height": null,
            "max_width": null,
            "min_height": null,
            "min_width": null,
            "object_fit": null,
            "object_position": null,
            "order": null,
            "overflow": null,
            "overflow_x": null,
            "overflow_y": null,
            "padding": null,
            "right": null,
            "top": null,
            "visibility": null,
            "width": null
          }
        },
        "c118f470a8f2490a8172134ce8497d9f": {
          "model_module": "@jupyter-widgets/controls",
          "model_name": "DescriptionStyleModel",
          "model_module_version": "1.5.0",
          "state": {
            "_model_module": "@jupyter-widgets/controls",
            "_model_module_version": "1.5.0",
            "_model_name": "DescriptionStyleModel",
            "_view_count": null,
            "_view_module": "@jupyter-widgets/base",
            "_view_module_version": "1.2.0",
            "_view_name": "StyleView",
            "description_width": ""
          }
        },
        "680cc4684bf14b8f99c91132003d1fa9": {
          "model_module": "@jupyter-widgets/controls",
          "model_name": "HBoxModel",
          "model_module_version": "1.5.0",
          "state": {
            "_dom_classes": [],
            "_model_module": "@jupyter-widgets/controls",
            "_model_module_version": "1.5.0",
            "_model_name": "HBoxModel",
            "_view_count": null,
            "_view_module": "@jupyter-widgets/controls",
            "_view_module_version": "1.5.0",
            "_view_name": "HBoxView",
            "box_style": "",
            "children": [
              "IPY_MODEL_7225caf2ebb142dc85d7bca2539d776f",
              "IPY_MODEL_f697dfabe71c4d66bfc9af4838645510",
              "IPY_MODEL_4a89f99a63164ba68590404b557342cf"
            ],
            "layout": "IPY_MODEL_8c434478e8934eafb81c4138e2b9705d"
          }
        },
        "7225caf2ebb142dc85d7bca2539d776f": {
          "model_module": "@jupyter-widgets/controls",
          "model_name": "HTMLModel",
          "model_module_version": "1.5.0",
          "state": {
            "_dom_classes": [],
            "_model_module": "@jupyter-widgets/controls",
            "_model_module_version": "1.5.0",
            "_model_name": "HTMLModel",
            "_view_count": null,
            "_view_module": "@jupyter-widgets/controls",
            "_view_module_version": "1.5.0",
            "_view_name": "HTMLView",
            "description": "",
            "description_tooltip": null,
            "layout": "IPY_MODEL_95925537f5014d53a1fc30a4dac74eda",
            "placeholder": "​",
            "style": "IPY_MODEL_5ea3159474a14f7a95fcb5869266c52a",
            "value": "special_tokens_map.json: 100%"
          }
        },
        "f697dfabe71c4d66bfc9af4838645510": {
          "model_module": "@jupyter-widgets/controls",
          "model_name": "FloatProgressModel",
          "model_module_version": "1.5.0",
          "state": {
            "_dom_classes": [],
            "_model_module": "@jupyter-widgets/controls",
            "_model_module_version": "1.5.0",
            "_model_name": "FloatProgressModel",
            "_view_count": null,
            "_view_module": "@jupyter-widgets/controls",
            "_view_module_version": "1.5.0",
            "_view_name": "ProgressView",
            "bar_style": "success",
            "description": "",
            "description_tooltip": null,
            "layout": "IPY_MODEL_bd14069a47a741809479790e8d246933",
            "max": 173,
            "min": 0,
            "orientation": "horizontal",
            "style": "IPY_MODEL_ac6d881dac04453c8fb12edd34bb0bf2",
            "value": 173
          }
        },
        "4a89f99a63164ba68590404b557342cf": {
          "model_module": "@jupyter-widgets/controls",
          "model_name": "HTMLModel",
          "model_module_version": "1.5.0",
          "state": {
            "_dom_classes": [],
            "_model_module": "@jupyter-widgets/controls",
            "_model_module_version": "1.5.0",
            "_model_name": "HTMLModel",
            "_view_count": null,
            "_view_module": "@jupyter-widgets/controls",
            "_view_module_version": "1.5.0",
            "_view_name": "HTMLView",
            "description": "",
            "description_tooltip": null,
            "layout": "IPY_MODEL_c146cde4d01444a0b2684f7ab8d64584",
            "placeholder": "​",
            "style": "IPY_MODEL_d02727cd4755448aa4b0eb324a3af5a1",
            "value": " 173/173 [00:00&lt;00:00, 7.26kB/s]"
          }
        },
        "8c434478e8934eafb81c4138e2b9705d": {
          "model_module": "@jupyter-widgets/base",
          "model_name": "LayoutModel",
          "model_module_version": "1.2.0",
          "state": {
            "_model_module": "@jupyter-widgets/base",
            "_model_module_version": "1.2.0",
            "_model_name": "LayoutModel",
            "_view_count": null,
            "_view_module": "@jupyter-widgets/base",
            "_view_module_version": "1.2.0",
            "_view_name": "LayoutView",
            "align_content": null,
            "align_items": null,
            "align_self": null,
            "border": null,
            "bottom": null,
            "display": null,
            "flex": null,
            "flex_flow": null,
            "grid_area": null,
            "grid_auto_columns": null,
            "grid_auto_flow": null,
            "grid_auto_rows": null,
            "grid_column": null,
            "grid_gap": null,
            "grid_row": null,
            "grid_template_areas": null,
            "grid_template_columns": null,
            "grid_template_rows": null,
            "height": null,
            "justify_content": null,
            "justify_items": null,
            "left": null,
            "margin": null,
            "max_height": null,
            "max_width": null,
            "min_height": null,
            "min_width": null,
            "object_fit": null,
            "object_position": null,
            "order": null,
            "overflow": null,
            "overflow_x": null,
            "overflow_y": null,
            "padding": null,
            "right": null,
            "top": null,
            "visibility": null,
            "width": null
          }
        },
        "95925537f5014d53a1fc30a4dac74eda": {
          "model_module": "@jupyter-widgets/base",
          "model_name": "LayoutModel",
          "model_module_version": "1.2.0",
          "state": {
            "_model_module": "@jupyter-widgets/base",
            "_model_module_version": "1.2.0",
            "_model_name": "LayoutModel",
            "_view_count": null,
            "_view_module": "@jupyter-widgets/base",
            "_view_module_version": "1.2.0",
            "_view_name": "LayoutView",
            "align_content": null,
            "align_items": null,
            "align_self": null,
            "border": null,
            "bottom": null,
            "display": null,
            "flex": null,
            "flex_flow": null,
            "grid_area": null,
            "grid_auto_columns": null,
            "grid_auto_flow": null,
            "grid_auto_rows": null,
            "grid_column": null,
            "grid_gap": null,
            "grid_row": null,
            "grid_template_areas": null,
            "grid_template_columns": null,
            "grid_template_rows": null,
            "height": null,
            "justify_content": null,
            "justify_items": null,
            "left": null,
            "margin": null,
            "max_height": null,
            "max_width": null,
            "min_height": null,
            "min_width": null,
            "object_fit": null,
            "object_position": null,
            "order": null,
            "overflow": null,
            "overflow_x": null,
            "overflow_y": null,
            "padding": null,
            "right": null,
            "top": null,
            "visibility": null,
            "width": null
          }
        },
        "5ea3159474a14f7a95fcb5869266c52a": {
          "model_module": "@jupyter-widgets/controls",
          "model_name": "DescriptionStyleModel",
          "model_module_version": "1.5.0",
          "state": {
            "_model_module": "@jupyter-widgets/controls",
            "_model_module_version": "1.5.0",
            "_model_name": "DescriptionStyleModel",
            "_view_count": null,
            "_view_module": "@jupyter-widgets/base",
            "_view_module_version": "1.2.0",
            "_view_name": "StyleView",
            "description_width": ""
          }
        },
        "bd14069a47a741809479790e8d246933": {
          "model_module": "@jupyter-widgets/base",
          "model_name": "LayoutModel",
          "model_module_version": "1.2.0",
          "state": {
            "_model_module": "@jupyter-widgets/base",
            "_model_module_version": "1.2.0",
            "_model_name": "LayoutModel",
            "_view_count": null,
            "_view_module": "@jupyter-widgets/base",
            "_view_module_version": "1.2.0",
            "_view_name": "LayoutView",
            "align_content": null,
            "align_items": null,
            "align_self": null,
            "border": null,
            "bottom": null,
            "display": null,
            "flex": null,
            "flex_flow": null,
            "grid_area": null,
            "grid_auto_columns": null,
            "grid_auto_flow": null,
            "grid_auto_rows": null,
            "grid_column": null,
            "grid_gap": null,
            "grid_row": null,
            "grid_template_areas": null,
            "grid_template_columns": null,
            "grid_template_rows": null,
            "height": null,
            "justify_content": null,
            "justify_items": null,
            "left": null,
            "margin": null,
            "max_height": null,
            "max_width": null,
            "min_height": null,
            "min_width": null,
            "object_fit": null,
            "object_position": null,
            "order": null,
            "overflow": null,
            "overflow_x": null,
            "overflow_y": null,
            "padding": null,
            "right": null,
            "top": null,
            "visibility": null,
            "width": null
          }
        },
        "ac6d881dac04453c8fb12edd34bb0bf2": {
          "model_module": "@jupyter-widgets/controls",
          "model_name": "ProgressStyleModel",
          "model_module_version": "1.5.0",
          "state": {
            "_model_module": "@jupyter-widgets/controls",
            "_model_module_version": "1.5.0",
            "_model_name": "ProgressStyleModel",
            "_view_count": null,
            "_view_module": "@jupyter-widgets/base",
            "_view_module_version": "1.2.0",
            "_view_name": "StyleView",
            "bar_color": null,
            "description_width": ""
          }
        },
        "c146cde4d01444a0b2684f7ab8d64584": {
          "model_module": "@jupyter-widgets/base",
          "model_name": "LayoutModel",
          "model_module_version": "1.2.0",
          "state": {
            "_model_module": "@jupyter-widgets/base",
            "_model_module_version": "1.2.0",
            "_model_name": "LayoutModel",
            "_view_count": null,
            "_view_module": "@jupyter-widgets/base",
            "_view_module_version": "1.2.0",
            "_view_name": "LayoutView",
            "align_content": null,
            "align_items": null,
            "align_self": null,
            "border": null,
            "bottom": null,
            "display": null,
            "flex": null,
            "flex_flow": null,
            "grid_area": null,
            "grid_auto_columns": null,
            "grid_auto_flow": null,
            "grid_auto_rows": null,
            "grid_column": null,
            "grid_gap": null,
            "grid_row": null,
            "grid_template_areas": null,
            "grid_template_columns": null,
            "grid_template_rows": null,
            "height": null,
            "justify_content": null,
            "justify_items": null,
            "left": null,
            "margin": null,
            "max_height": null,
            "max_width": null,
            "min_height": null,
            "min_width": null,
            "object_fit": null,
            "object_position": null,
            "order": null,
            "overflow": null,
            "overflow_x": null,
            "overflow_y": null,
            "padding": null,
            "right": null,
            "top": null,
            "visibility": null,
            "width": null
          }
        },
        "d02727cd4755448aa4b0eb324a3af5a1": {
          "model_module": "@jupyter-widgets/controls",
          "model_name": "DescriptionStyleModel",
          "model_module_version": "1.5.0",
          "state": {
            "_model_module": "@jupyter-widgets/controls",
            "_model_module_version": "1.5.0",
            "_model_name": "DescriptionStyleModel",
            "_view_count": null,
            "_view_module": "@jupyter-widgets/base",
            "_view_module_version": "1.2.0",
            "_view_name": "StyleView",
            "description_width": ""
          }
        }
      }
    }
  },
  "nbformat": 4,
  "nbformat_minor": 0
}