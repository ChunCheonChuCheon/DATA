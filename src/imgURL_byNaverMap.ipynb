{
 "cells": [
  {
   "cell_type": "markdown",
   "id": "a13ccc7d",
   "metadata": {},
   "source": [
    "# 수정중인 코드입니다\n",
    "# 최종추정일 : 2023.12.12"
   ]
  },
  {
   "cell_type": "code",
   "execution_count": null,
   "id": "b5fb0fe0",
   "metadata": {},
   "outputs": [],
   "source": [
    "import pandas as pd\n",
    "from selenium import webdriver\n",
    "from selenium.webdriver.common.keys import Keys\n",
    "from selenium.webdriver.common.by import By\n",
    "from selenium.common.exceptions import NoSuchElementException, TimeoutException\n",
    "from selenium.webdriver.support.ui import WebDriverWait\n",
    "from selenium.webdriver.support import expected_conditions as EC\n",
    "import time\n",
    "\n",
    "# Selenium 설정\n",
    "options = webdriver.ChromeOptions()\n",
    "options.add_argument('lang=ko_KR')\n",
    "driver = webdriver.Chrome(options=options)\n",
    "\n",
    "def menu(data):\n",
    "    try:\n",
    "        driver.get(\"https://map.naver.com/v5/search/\" + data)\n",
    "        WebDriverWait(driver, 10).until(EC.frame_to_be_available_and_switch_to_it((By.CSS_SELECTOR, 'iframe#searchIframe')))\n",
    "        \n",
    "        temp = WebDriverWait(driver, 10).until(EC.presence_of_element_located((By.XPATH, '//*[@id=\"_pcmap_list_scroll_container\"]/ul')))\n",
    "        buttons = temp.find_elements(By.TAG_NAME, 'a')\n",
    "        \n",
    "        if '이미지수' in buttons[0].text or buttons[0].text == '':\n",
    "            buttons[1].send_keys(Keys.ENTER)\n",
    "        else:\n",
    "            buttons[0].send_keys(Keys.ENTER)\n",
    "\n",
    "        WebDriverWait(driver, 10).until(EC.default_content())\n",
    "        WebDriverWait(driver, 10).until(EC.frame_to_be_available_and_switch_to_it((By.CSS_SELECTOR, 'iframe#entryIframe')))\n",
    "\n",
    "        div_elements = driver.find_elements(By.XPATH, '//*[@id=\"ibu_1\"]')\n",
    "        img_url = None\n",
    "        for div_element in div_elements:\n",
    "            img_url = div_element.get_attribute('style')[80:-3]\n",
    "        return img_url\n",
    "    except (NoSuchElementException, TimeoutException):\n",
    "        print(f\"Error processing {data}\")\n",
    "        return None\n",
    "\n",
    "# CSV 파일 읽기\n",
    "df = pd.read_csv('../asset/c4_general_cafeteria_chuncheon_opened_SS-HJ_addLatiLongti_menu-price_addedLabel_v2.csv', encoding='utf-8-sig')\n",
    "\n",
    "# 새로운 컬럼 추가\n",
    "df['ImageURL'] = None\n",
    "\n",
    "# 데이터프레임을 순회하며 이미지 URL 업데이트\n",
    "for index, row in df.iterrows():\n",
    "    img_url = menu(row['cafeteria_name'])\n",
    "    if img_url:\n",
    "        df.at[index, 'ImageURL'] = img_url\n",
    "    print(f\"Processed: {row['cafeteria_name']} - {img_url}\")\n",
    "\n",
    "# 결과 저장\n",
    "df.to_csv('imgurl.csv', index=False)\n",
    "\n",
    "# 드라이버 종료\n",
    "driver.quit()\n"
   ]
  }
 ],
 "metadata": {
  "kernelspec": {
   "display_name": "Python 3 (ipykernel)",
   "language": "python",
   "name": "python3"
  },
  "language_info": {
   "codemirror_mode": {
    "name": "ipython",
    "version": 3
   },
   "file_extension": ".py",
   "mimetype": "text/x-python",
   "name": "python",
   "nbconvert_exporter": "python",
   "pygments_lexer": "ipython3",
   "version": "3.9.6"
  }
 },
 "nbformat": 4,
 "nbformat_minor": 5
}
